{
  "cells": [
    {
      "cell_type": "markdown",
      "metadata": {
        "id": "neXBmk_ZoCD6"
      },
      "source": [
        "# i - Import Libraries\n",
        "> Cell pertama pada notebook harus berisi dan hanya berisi semua library yang digunakan dalam project."
      ]
    },
    {
      "cell_type": "code",
      "execution_count": 1,
      "metadata": {
        "id": "SBXZmyrioFm-"
      },
      "outputs": [],
      "source": [
        "# Buat memproses data\n",
        "import pandas as pd\n",
        "import numpy as np\n",
        "\n",
        "# Buat memproses grafik\n",
        "import seaborn as sns\n",
        "import matplotlib.pyplot as plt\n",
        "\n",
        "# Buat feature engineering\n",
        "from sklearn.model_selection import train_test_split\n",
        "from sklearn.preprocessing import MinMaxScaler\n",
        "from sklearn.preprocessing import OrdinalEncoder\n",
        "\n",
        "# Buat definisi model\n",
        "from sklearn.linear_model import LinearRegression\n",
        "\n",
        "# Buat evaluasi model\n",
        "from sklearn.metrics import mean_absolute_error\n",
        "\n",
        "# Buat import hasil model\n",
        "import json\n",
        "import pickle"
      ]
    },
    {
      "cell_type": "markdown",
      "metadata": {
        "id": "E7ztH1Z5okTk"
      },
      "source": [
        "# ii - Data Loading\n",
        "> Bagian ini berisi proses penyiapan data sebelum dilakukan eksplorasi data lebih lanjut. Proses Data Loading dapat berupa memberi nama baru untuk setiap kolom, mengecek ukuran dataset, dll."
      ]
    },
    {
      "cell_type": "code",
      "execution_count": 2,
      "metadata": {
        "colab": {
          "base_uri": "https://localhost:8080/",
          "height": 424
        },
        "id": "rzDY0YRrozBD",
        "outputId": "ac9eaa77-e423-4084-d599-8dca8d7fbb27"
      },
      "outputs": [
        {
          "data": {
            "text/html": [
              "<div>\n",
              "<style scoped>\n",
              "    .dataframe tbody tr th:only-of-type {\n",
              "        vertical-align: middle;\n",
              "    }\n",
              "\n",
              "    .dataframe tbody tr th {\n",
              "        vertical-align: top;\n",
              "    }\n",
              "\n",
              "    .dataframe thead th {\n",
              "        text-align: right;\n",
              "    }\n",
              "</style>\n",
              "<table border=\"1\" class=\"dataframe\">\n",
              "  <thead>\n",
              "    <tr style=\"text-align: right;\">\n",
              "      <th></th>\n",
              "      <th>brand</th>\n",
              "      <th>model</th>\n",
              "      <th>year</th>\n",
              "      <th>price</th>\n",
              "      <th>transmission</th>\n",
              "      <th>mileage</th>\n",
              "      <th>fuelType</th>\n",
              "      <th>tax</th>\n",
              "      <th>mpg</th>\n",
              "      <th>engineSize</th>\n",
              "    </tr>\n",
              "  </thead>\n",
              "  <tbody>\n",
              "    <tr>\n",
              "      <th>0</th>\n",
              "      <td>Audi</td>\n",
              "      <td>A4</td>\n",
              "      <td>2019</td>\n",
              "      <td>26695</td>\n",
              "      <td>Semi-Auto</td>\n",
              "      <td>5000</td>\n",
              "      <td>Diesel</td>\n",
              "      <td>145</td>\n",
              "      <td>51.4</td>\n",
              "      <td>2.0</td>\n",
              "    </tr>\n",
              "    <tr>\n",
              "      <th>1</th>\n",
              "      <td>Mercedez</td>\n",
              "      <td>C Class</td>\n",
              "      <td>2010</td>\n",
              "      <td>5999</td>\n",
              "      <td>Manual</td>\n",
              "      <td>68000</td>\n",
              "      <td>Diesel</td>\n",
              "      <td>145</td>\n",
              "      <td>56.5</td>\n",
              "      <td>2.1</td>\n",
              "    </tr>\n",
              "    <tr>\n",
              "      <th>2</th>\n",
              "      <td>Vauxhall</td>\n",
              "      <td>Meriva</td>\n",
              "      <td>2016</td>\n",
              "      <td>6790</td>\n",
              "      <td>Manual</td>\n",
              "      <td>27772</td>\n",
              "      <td>Petrol</td>\n",
              "      <td>145</td>\n",
              "      <td>47.1</td>\n",
              "      <td>1.4</td>\n",
              "    </tr>\n",
              "    <tr>\n",
              "      <th>3</th>\n",
              "      <td>VW</td>\n",
              "      <td>Shuttle</td>\n",
              "      <td>2019</td>\n",
              "      <td>28000</td>\n",
              "      <td>Semi-Auto</td>\n",
              "      <td>10074</td>\n",
              "      <td>Diesel</td>\n",
              "      <td>145</td>\n",
              "      <td>32.8</td>\n",
              "      <td>2.0</td>\n",
              "    </tr>\n",
              "    <tr>\n",
              "      <th>4</th>\n",
              "      <td>Vauxhall</td>\n",
              "      <td>Corsa</td>\n",
              "      <td>2017</td>\n",
              "      <td>7999</td>\n",
              "      <td>Manual</td>\n",
              "      <td>22322</td>\n",
              "      <td>Petrol</td>\n",
              "      <td>30</td>\n",
              "      <td>54.3</td>\n",
              "      <td>1.4</td>\n",
              "    </tr>\n",
              "    <tr>\n",
              "      <th>...</th>\n",
              "      <td>...</td>\n",
              "      <td>...</td>\n",
              "      <td>...</td>\n",
              "      <td>...</td>\n",
              "      <td>...</td>\n",
              "      <td>...</td>\n",
              "      <td>...</td>\n",
              "      <td>...</td>\n",
              "      <td>...</td>\n",
              "      <td>...</td>\n",
              "    </tr>\n",
              "    <tr>\n",
              "      <th>23995</th>\n",
              "      <td>BMW</td>\n",
              "      <td>X3</td>\n",
              "      <td>2019</td>\n",
              "      <td>31950</td>\n",
              "      <td>Semi-Auto</td>\n",
              "      <td>7721</td>\n",
              "      <td>Diesel</td>\n",
              "      <td>145</td>\n",
              "      <td>54.3</td>\n",
              "      <td>2.0</td>\n",
              "    </tr>\n",
              "    <tr>\n",
              "      <th>23996</th>\n",
              "      <td>Audi</td>\n",
              "      <td>Q2</td>\n",
              "      <td>2018</td>\n",
              "      <td>20500</td>\n",
              "      <td>Automatic</td>\n",
              "      <td>6734</td>\n",
              "      <td>Diesel</td>\n",
              "      <td>145</td>\n",
              "      <td>46.3</td>\n",
              "      <td>1.6</td>\n",
              "    </tr>\n",
              "    <tr>\n",
              "      <th>23997</th>\n",
              "      <td>Hyundai</td>\n",
              "      <td>Tucson</td>\n",
              "      <td>2019</td>\n",
              "      <td>17490</td>\n",
              "      <td>Manual</td>\n",
              "      <td>8009</td>\n",
              "      <td>Petrol</td>\n",
              "      <td>145</td>\n",
              "      <td>34.9</td>\n",
              "      <td>1.6</td>\n",
              "    </tr>\n",
              "    <tr>\n",
              "      <th>23998</th>\n",
              "      <td>Vauxhall</td>\n",
              "      <td>Corsa</td>\n",
              "      <td>2013</td>\n",
              "      <td>3998</td>\n",
              "      <td>Manual</td>\n",
              "      <td>58350</td>\n",
              "      <td>Petrol</td>\n",
              "      <td>125</td>\n",
              "      <td>51.4</td>\n",
              "      <td>1.2</td>\n",
              "    </tr>\n",
              "    <tr>\n",
              "      <th>23999</th>\n",
              "      <td>Audi</td>\n",
              "      <td>Q5</td>\n",
              "      <td>2019</td>\n",
              "      <td>31995</td>\n",
              "      <td>Semi-Auto</td>\n",
              "      <td>12413</td>\n",
              "      <td>Diesel</td>\n",
              "      <td>150</td>\n",
              "      <td>38.2</td>\n",
              "      <td>2.0</td>\n",
              "    </tr>\n",
              "  </tbody>\n",
              "</table>\n",
              "<p>24000 rows × 10 columns</p>\n",
              "</div>"
            ],
            "text/plain": [
              "          brand     model  year  price transmission  mileage fuelType  tax  \\\n",
              "0          Audi        A4  2019  26695    Semi-Auto     5000   Diesel  145   \n",
              "1      Mercedez   C Class  2010   5999       Manual    68000   Diesel  145   \n",
              "2      Vauxhall    Meriva  2016   6790       Manual    27772   Petrol  145   \n",
              "3            VW   Shuttle  2019  28000    Semi-Auto    10074   Diesel  145   \n",
              "4      Vauxhall     Corsa  2017   7999       Manual    22322   Petrol   30   \n",
              "...         ...       ...   ...    ...          ...      ...      ...  ...   \n",
              "23995       BMW        X3  2019  31950    Semi-Auto     7721   Diesel  145   \n",
              "23996      Audi        Q2  2018  20500    Automatic     6734   Diesel  145   \n",
              "23997   Hyundai    Tucson  2019  17490       Manual     8009   Petrol  145   \n",
              "23998  Vauxhall     Corsa  2013   3998       Manual    58350   Petrol  125   \n",
              "23999      Audi        Q5  2019  31995    Semi-Auto    12413   Diesel  150   \n",
              "\n",
              "        mpg  engineSize  \n",
              "0      51.4         2.0  \n",
              "1      56.5         2.1  \n",
              "2      47.1         1.4  \n",
              "3      32.8         2.0  \n",
              "4      54.3         1.4  \n",
              "...     ...         ...  \n",
              "23995  54.3         2.0  \n",
              "23996  46.3         1.6  \n",
              "23997  34.9         1.6  \n",
              "23998  51.4         1.2  \n",
              "23999  38.2         2.0  \n",
              "\n",
              "[24000 rows x 10 columns]"
            ]
          },
          "execution_count": 2,
          "metadata": {},
          "output_type": "execute_result"
        }
      ],
      "source": [
        "# Load Dataset\n",
        "\n",
        "data = pd.read_csv (\"Car Price.csv\")\n",
        "data"
      ]
    },
    {
      "cell_type": "code",
      "execution_count": 367,
      "metadata": {
        "colab": {
          "base_uri": "https://localhost:8080/"
        },
        "id": "oAvjX6_Ko-UY",
        "outputId": "70b434c5-b149-425f-875e-b7c2055fa8f7"
      },
      "outputs": [
        {
          "name": "stdout",
          "output_type": "stream",
          "text": [
            "<class 'pandas.core.frame.DataFrame'>\n",
            "RangeIndex: 24000 entries, 0 to 23999\n",
            "Data columns (total 10 columns):\n",
            " #   Column        Non-Null Count  Dtype  \n",
            "---  ------        --------------  -----  \n",
            " 0   brand         24000 non-null  object \n",
            " 1   model         24000 non-null  object \n",
            " 2   year          24000 non-null  int64  \n",
            " 3   price         24000 non-null  int64  \n",
            " 4   transmission  24000 non-null  object \n",
            " 5   mileage       24000 non-null  int64  \n",
            " 6   fuelType      24000 non-null  object \n",
            " 7   tax           24000 non-null  int64  \n",
            " 8   mpg           24000 non-null  float64\n",
            " 9   engineSize    24000 non-null  float64\n",
            "dtypes: float64(2), int64(4), object(4)\n",
            "memory usage: 1.8+ MB\n"
          ]
        }
      ],
      "source": [
        "# Mengecek data - 1\n",
        "\n",
        "data.info()"
      ]
    },
    {
      "cell_type": "code",
      "execution_count": 368,
      "metadata": {
        "colab": {
          "base_uri": "https://localhost:8080/",
          "height": 300
        },
        "id": "DiA42-VEpAt-",
        "outputId": "1071ec3a-009b-47d9-b803-8d5db2bea194"
      },
      "outputs": [
        {
          "data": {
            "text/html": [
              "\n",
              "  <div id=\"df-f1940f95-37b8-4017-a80d-864544ec849e\">\n",
              "    <div class=\"colab-df-container\">\n",
              "      <div>\n",
              "<style scoped>\n",
              "    .dataframe tbody tr th:only-of-type {\n",
              "        vertical-align: middle;\n",
              "    }\n",
              "\n",
              "    .dataframe tbody tr th {\n",
              "        vertical-align: top;\n",
              "    }\n",
              "\n",
              "    .dataframe thead th {\n",
              "        text-align: right;\n",
              "    }\n",
              "</style>\n",
              "<table border=\"1\" class=\"dataframe\">\n",
              "  <thead>\n",
              "    <tr style=\"text-align: right;\">\n",
              "      <th></th>\n",
              "      <th>year</th>\n",
              "      <th>price</th>\n",
              "      <th>mileage</th>\n",
              "      <th>tax</th>\n",
              "      <th>mpg</th>\n",
              "      <th>engineSize</th>\n",
              "    </tr>\n",
              "  </thead>\n",
              "  <tbody>\n",
              "    <tr>\n",
              "      <th>count</th>\n",
              "      <td>24000.000000</td>\n",
              "      <td>24000.000000</td>\n",
              "      <td>24000.000000</td>\n",
              "      <td>24000.000000</td>\n",
              "      <td>24000.000000</td>\n",
              "      <td>24000.000000</td>\n",
              "    </tr>\n",
              "    <tr>\n",
              "      <th>mean</th>\n",
              "      <td>2017.172000</td>\n",
              "      <td>17154.666208</td>\n",
              "      <td>22677.318208</td>\n",
              "      <td>122.455625</td>\n",
              "      <td>54.513126</td>\n",
              "      <td>1.676517</td>\n",
              "    </tr>\n",
              "    <tr>\n",
              "      <th>std</th>\n",
              "      <td>2.072139</td>\n",
              "      <td>9904.741481</td>\n",
              "      <td>20898.280371</td>\n",
              "      <td>60.220629</td>\n",
              "      <td>16.420648</td>\n",
              "      <td>0.552661</td>\n",
              "    </tr>\n",
              "    <tr>\n",
              "      <th>min</th>\n",
              "      <td>1970.000000</td>\n",
              "      <td>495.000000</td>\n",
              "      <td>1.000000</td>\n",
              "      <td>0.000000</td>\n",
              "      <td>1.100000</td>\n",
              "      <td>0.000000</td>\n",
              "    </tr>\n",
              "    <tr>\n",
              "      <th>25%</th>\n",
              "      <td>2016.000000</td>\n",
              "      <td>10390.000000</td>\n",
              "      <td>6981.250000</td>\n",
              "      <td>125.000000</td>\n",
              "      <td>45.600000</td>\n",
              "      <td>1.400000</td>\n",
              "    </tr>\n",
              "    <tr>\n",
              "      <th>50%</th>\n",
              "      <td>2017.000000</td>\n",
              "      <td>14995.000000</td>\n",
              "      <td>17155.000000</td>\n",
              "      <td>145.000000</td>\n",
              "      <td>54.300000</td>\n",
              "      <td>1.600000</td>\n",
              "    </tr>\n",
              "    <tr>\n",
              "      <th>75%</th>\n",
              "      <td>2019.000000</td>\n",
              "      <td>21286.250000</td>\n",
              "      <td>32093.500000</td>\n",
              "      <td>145.000000</td>\n",
              "      <td>61.400000</td>\n",
              "      <td>2.000000</td>\n",
              "    </tr>\n",
              "    <tr>\n",
              "      <th>max</th>\n",
              "      <td>2060.000000</td>\n",
              "      <td>140319.000000</td>\n",
              "      <td>300000.000000</td>\n",
              "      <td>580.000000</td>\n",
              "      <td>470.800000</td>\n",
              "      <td>6.200000</td>\n",
              "    </tr>\n",
              "  </tbody>\n",
              "</table>\n",
              "</div>\n",
              "      <button class=\"colab-df-convert\" onclick=\"convertToInteractive('df-f1940f95-37b8-4017-a80d-864544ec849e')\"\n",
              "              title=\"Convert this dataframe to an interactive table.\"\n",
              "              style=\"display:none;\">\n",
              "        \n",
              "  <svg xmlns=\"http://www.w3.org/2000/svg\" height=\"24px\"viewBox=\"0 0 24 24\"\n",
              "       width=\"24px\">\n",
              "    <path d=\"M0 0h24v24H0V0z\" fill=\"none\"/>\n",
              "    <path d=\"M18.56 5.44l.94 2.06.94-2.06 2.06-.94-2.06-.94-.94-2.06-.94 2.06-2.06.94zm-11 1L8.5 8.5l.94-2.06 2.06-.94-2.06-.94L8.5 2.5l-.94 2.06-2.06.94zm10 10l.94 2.06.94-2.06 2.06-.94-2.06-.94-.94-2.06-.94 2.06-2.06.94z\"/><path d=\"M17.41 7.96l-1.37-1.37c-.4-.4-.92-.59-1.43-.59-.52 0-1.04.2-1.43.59L10.3 9.45l-7.72 7.72c-.78.78-.78 2.05 0 2.83L4 21.41c.39.39.9.59 1.41.59.51 0 1.02-.2 1.41-.59l7.78-7.78 2.81-2.81c.8-.78.8-2.07 0-2.86zM5.41 20L4 18.59l7.72-7.72 1.47 1.35L5.41 20z\"/>\n",
              "  </svg>\n",
              "      </button>\n",
              "      \n",
              "  <style>\n",
              "    .colab-df-container {\n",
              "      display:flex;\n",
              "      flex-wrap:wrap;\n",
              "      gap: 12px;\n",
              "    }\n",
              "\n",
              "    .colab-df-convert {\n",
              "      background-color: #E8F0FE;\n",
              "      border: none;\n",
              "      border-radius: 50%;\n",
              "      cursor: pointer;\n",
              "      display: none;\n",
              "      fill: #1967D2;\n",
              "      height: 32px;\n",
              "      padding: 0 0 0 0;\n",
              "      width: 32px;\n",
              "    }\n",
              "\n",
              "    .colab-df-convert:hover {\n",
              "      background-color: #E2EBFA;\n",
              "      box-shadow: 0px 1px 2px rgba(60, 64, 67, 0.3), 0px 1px 3px 1px rgba(60, 64, 67, 0.15);\n",
              "      fill: #174EA6;\n",
              "    }\n",
              "\n",
              "    [theme=dark] .colab-df-convert {\n",
              "      background-color: #3B4455;\n",
              "      fill: #D2E3FC;\n",
              "    }\n",
              "\n",
              "    [theme=dark] .colab-df-convert:hover {\n",
              "      background-color: #434B5C;\n",
              "      box-shadow: 0px 1px 3px 1px rgba(0, 0, 0, 0.15);\n",
              "      filter: drop-shadow(0px 1px 2px rgba(0, 0, 0, 0.3));\n",
              "      fill: #FFFFFF;\n",
              "    }\n",
              "  </style>\n",
              "\n",
              "      <script>\n",
              "        const buttonEl =\n",
              "          document.querySelector('#df-f1940f95-37b8-4017-a80d-864544ec849e button.colab-df-convert');\n",
              "        buttonEl.style.display =\n",
              "          google.colab.kernel.accessAllowed ? 'block' : 'none';\n",
              "\n",
              "        async function convertToInteractive(key) {\n",
              "          const element = document.querySelector('#df-f1940f95-37b8-4017-a80d-864544ec849e');\n",
              "          const dataTable =\n",
              "            await google.colab.kernel.invokeFunction('convertToInteractive',\n",
              "                                                     [key], {});\n",
              "          if (!dataTable) return;\n",
              "\n",
              "          const docLinkHtml = 'Like what you see? Visit the ' +\n",
              "            '<a target=\"_blank\" href=https://colab.research.google.com/notebooks/data_table.ipynb>data table notebook</a>'\n",
              "            + ' to learn more about interactive tables.';\n",
              "          element.innerHTML = '';\n",
              "          dataTable['output_type'] = 'display_data';\n",
              "          await google.colab.output.renderOutput(dataTable, element);\n",
              "          const docLink = document.createElement('div');\n",
              "          docLink.innerHTML = docLinkHtml;\n",
              "          element.appendChild(docLink);\n",
              "        }\n",
              "      </script>\n",
              "    </div>\n",
              "  </div>\n",
              "  "
            ],
            "text/plain": [
              "               year          price        mileage           tax           mpg  \\\n",
              "count  24000.000000   24000.000000   24000.000000  24000.000000  24000.000000   \n",
              "mean    2017.172000   17154.666208   22677.318208    122.455625     54.513126   \n",
              "std        2.072139    9904.741481   20898.280371     60.220629     16.420648   \n",
              "min     1970.000000     495.000000       1.000000      0.000000      1.100000   \n",
              "25%     2016.000000   10390.000000    6981.250000    125.000000     45.600000   \n",
              "50%     2017.000000   14995.000000   17155.000000    145.000000     54.300000   \n",
              "75%     2019.000000   21286.250000   32093.500000    145.000000     61.400000   \n",
              "max     2060.000000  140319.000000  300000.000000    580.000000    470.800000   \n",
              "\n",
              "         engineSize  \n",
              "count  24000.000000  \n",
              "mean       1.676517  \n",
              "std        0.552661  \n",
              "min        0.000000  \n",
              "25%        1.400000  \n",
              "50%        1.600000  \n",
              "75%        2.000000  \n",
              "max        6.200000  "
            ]
          },
          "execution_count": 368,
          "metadata": {},
          "output_type": "execute_result"
        }
      ],
      "source": [
        "# Mengecek data - 2\n",
        "\n",
        "data.describe()"
      ]
    },
    {
      "cell_type": "markdown",
      "metadata": {
        "id": "UAV9D0LSpID_"
      },
      "source": [
        "# iii - Exploratory Data Analysis (EDA)\n",
        "> Bagian ini berisi eksplorasi data pada dataset diatas dengan menggunakan query, grouping, visualisasi sederhana, dan lain sebagainya."
      ]
    },
    {
      "cell_type": "markdown",
      "metadata": {
        "id": "2oV1nPvipQvb"
      },
      "source": [
        "## Nomor 1\n",
        "> Informasi yang diberikan dibawah ini adalah jenis mobil bekas berdasarkan konsumsi bahan bakar berbanding dengan jarak. Urutkan dari jumlah jenis terbanyak hingga terkecil.\n",
        "\n"
      ]
    },
    {
      "cell_type": "code",
      "execution_count": 369,
      "metadata": {
        "colab": {
          "base_uri": "https://localhost:8080/"
        },
        "id": "AMqnb45eqyVd",
        "outputId": "d1142903-27aa-4712-cfc6-2c5e2ed41698"
      },
      "outputs": [
        {
          "name": "stdout",
          "output_type": "stream",
          "text": [
            "super efficient berjumlah : 8091\n",
            "decent berjumlah : 7677\n",
            "efficient berjumlah : 7048\n",
            "standard berjumlah : 1122\n",
            "not_efficient berjumlah : 62\n"
          ]
        }
      ],
      "source": [
        "super_efficient = data.query (\"mpg >= 60\")\n",
        "efficient = data.query (\"50 <= mpg < 60\")\n",
        "decent = data.query (\"35 <= mpg <50\")\n",
        "standard = data.query (\"25 <= mpg <35\")\n",
        "not_efficient = data.query (\"mpg < 25\")\n",
        "\n",
        "jumlah_super_efficient = len(super_efficient)\n",
        "jumlah_efficient = len(efficient)\n",
        "jumlah_decent = len(decent)\n",
        "jumlah_standard = len(standard)\n",
        "jumlah_not_efficient = len(not_efficient)\n",
        "\n",
        "Hasil = {\n",
        "    'super efficient' : jumlah_super_efficient,\n",
        "    'efficient' : jumlah_efficient,\n",
        "    'decent' : jumlah_decent,\n",
        "    'standard' : jumlah_standard,\n",
        "    'not_efficient' : jumlah_not_efficient\n",
        "}\n",
        "\n",
        "Jumlah_Jenis = sorted(Hasil.items(), key=lambda x:x[1], reverse=True)\n",
        "\n",
        "\n",
        "for Kategori, count in Jumlah_Jenis:\n",
        "  print(Kategori, 'berjumlah :', count)"
      ]
    },
    {
      "cell_type": "code",
      "execution_count": 370,
      "metadata": {
        "colab": {
          "base_uri": "https://localhost:8080/",
          "height": 469
        },
        "id": "tpXOC8CCt9v9",
        "outputId": "220000f9-874a-40b6-814d-3e690c282770"
      },
      "outputs": [
        {
          "data": {
            "text/plain": [
              "Text(0.5, 1.0, 'Kategori berdasarkan mpg')"
            ]
          },
          "execution_count": 370,
          "metadata": {},
          "output_type": "execute_result"
        },
        {
          "data": {
            "image/png": "[encoded data removed]",
            "text/plain": [
              "<Figure size 640x480 with 1 Axes>"
            ]
          },
          "metadata": {},
          "output_type": "display_data"
        }
      ],
      "source": [
        "sns.barplot(x=['Super Efficient', 'Decent', 'Efficient', 'Standard', 'Not Efficient'],\n",
        "            y=[jumlah_super_efficient, jumlah_decent, jumlah_efficient, jumlah_standard, jumlah_not_efficient])\n",
        "plt.title ('Kategori berdasarkan mpg')"
      ]
    },
    {
      "cell_type": "markdown",
      "metadata": {
        "id": "Ez7xzUwirJDa"
      },
      "source": [
        "## Nomor 2\n",
        "> harga mobil bekas (price) akan berpengaruh terhadap jarak tempuhnya (mileage) terlepas apapun jenis bahan bakar (fuelType) mobil tersebut\n",
        "\n",
        "> Periksa apakah statement tersebut berlaku pada kasus ini atau tidak dengan visualisasi yang menunjukkan keterkaitan tiga hal ini pada satu plot yang sama ! Narasikan dengan bahasa Anda sendiri"
      ]
    },
    {
      "cell_type": "code",
      "execution_count": 371,
      "metadata": {
        "colab": {
          "base_uri": "https://localhost:8080/",
          "height": 306
        },
        "id": "B9u52VmqqNHW",
        "outputId": "e949b486-e468-4a44-8790-e9d958d0663c"
      },
      "outputs": [
        {
          "data": {
            "text/plain": [
              "<function matplotlib.pyplot.show(close=None, block=None)>"
            ]
          },
          "execution_count": 371,
          "metadata": {},
          "output_type": "execute_result"
        },
        {
          "data": {
            "image/png": "[encoded data removed]",
            "text/plain": [
              "<Figure size 1600x500 with 1 Axes>"
            ]
          },
          "metadata": {},
          "output_type": "display_data"
        }
      ],
      "source": [
        "plt.figure(figsize=(16,5))\n",
        "sns.scatterplot(x='price', y='mileage', data=data, hue='fuelType')\n",
        "plt.show"
      ]
    },
    {
      "cell_type": "markdown",
      "metadata": {
        "id": "AJ7UaN6avHkm"
      },
      "source": [
        "Berdasarkan visualisasi diatas, hubungan antara `price`, `mileage`, dan `fueltype` tidak berhubungan, pada `fueltype` yang sama dan `mileage` yang sama memiliki `price` yang berbeda-beda, berlaku dengan yang lainnya, sehingga dapat disimpulkan bahwa dari ketiga data tersebut tidak memiliki korelasi"
      ]
    },
    {
      "cell_type": "markdown",
      "metadata": {
        "id": "qs17CXWSvg9I"
      },
      "source": [
        "# iv - Feature Engineering\n",
        ">Bagian ini berisi proses penyiapan data untuk proses pelatihan model, seperti pembagian data menjadi train-test, transformasi data (normalisasi, encoding, dll.), dan proses-proses lain yang dibutuhkan."
      ]
    },
    {
      "cell_type": "markdown",
      "metadata": {
        "id": "V4_popETvnNJ"
      },
      "source": [
        "## Membagi antara X (features) dengan y (Target)"
      ]
    },
    {
      "cell_type": "code",
      "execution_count": 372,
      "metadata": {
        "colab": {
          "base_uri": "https://localhost:8080/"
        },
        "id": "C5tNR69RvgKb",
        "outputId": "9c7ab1ec-7ac1-49bf-ad4e-4fe5566c8ec0"
      },
      "outputs": [
        {
          "name": "stdout",
          "output_type": "stream",
          "text": [
            "(24000, 9)\n",
            "(24000,)\n"
          ]
        }
      ],
      "source": [
        "X = data.drop (['price'], axis=1)\n",
        "y = data ['price']\n",
        "\n",
        "print (X.shape)\n",
        "print (y.shape)"
      ]
    },
    {
      "cell_type": "markdown",
      "metadata": {
        "id": "_cndlax8v43W"
      },
      "source": [
        "## Membagi antara Train-set dan Test-Set"
      ]
    },
    {
      "cell_type": "code",
      "execution_count": 373,
      "metadata": {
        "colab": {
          "base_uri": "https://localhost:8080/",
          "height": 458
        },
        "id": "I7ltSpl_v7G7",
        "outputId": "aa2c15e9-c0e0-4a2e-ea73-e7d95365347e"
      },
      "outputs": [
        {
          "name": "stdout",
          "output_type": "stream",
          "text": [
            "Train Size:  (19200, 9)\n",
            "Test Size : (4800, 9)\n"
          ]
        },
        {
          "data": {
            "text/html": [
              "\n",
              "  <div id=\"df-0450cf04-5b93-433a-999d-55e949a0009e\">\n",
              "    <div class=\"colab-df-container\">\n",
              "      <div>\n",
              "<style scoped>\n",
              "    .dataframe tbody tr th:only-of-type {\n",
              "        vertical-align: middle;\n",
              "    }\n",
              "\n",
              "    .dataframe tbody tr th {\n",
              "        vertical-align: top;\n",
              "    }\n",
              "\n",
              "    .dataframe thead th {\n",
              "        text-align: right;\n",
              "    }\n",
              "</style>\n",
              "<table border=\"1\" class=\"dataframe\">\n",
              "  <thead>\n",
              "    <tr style=\"text-align: right;\">\n",
              "      <th></th>\n",
              "      <th>brand</th>\n",
              "      <th>model</th>\n",
              "      <th>year</th>\n",
              "      <th>transmission</th>\n",
              "      <th>mileage</th>\n",
              "      <th>fuelType</th>\n",
              "      <th>tax</th>\n",
              "      <th>mpg</th>\n",
              "      <th>engineSize</th>\n",
              "    </tr>\n",
              "  </thead>\n",
              "  <tbody>\n",
              "    <tr>\n",
              "      <th>6922</th>\n",
              "      <td>Audi</td>\n",
              "      <td>Q5</td>\n",
              "      <td>2020</td>\n",
              "      <td>Semi-Auto</td>\n",
              "      <td>6500</td>\n",
              "      <td>Petrol</td>\n",
              "      <td>145</td>\n",
              "      <td>32.1</td>\n",
              "      <td>2.0</td>\n",
              "    </tr>\n",
              "    <tr>\n",
              "      <th>15656</th>\n",
              "      <td>Ford</td>\n",
              "      <td>Fiesta</td>\n",
              "      <td>2013</td>\n",
              "      <td>Manual</td>\n",
              "      <td>52484</td>\n",
              "      <td>Petrol</td>\n",
              "      <td>30</td>\n",
              "      <td>54.3</td>\n",
              "      <td>1.2</td>\n",
              "    </tr>\n",
              "    <tr>\n",
              "      <th>14771</th>\n",
              "      <td>Audi</td>\n",
              "      <td>A3</td>\n",
              "      <td>2015</td>\n",
              "      <td>Manual</td>\n",
              "      <td>84000</td>\n",
              "      <td>Diesel</td>\n",
              "      <td>20</td>\n",
              "      <td>68.9</td>\n",
              "      <td>2.0</td>\n",
              "    </tr>\n",
              "    <tr>\n",
              "      <th>20168</th>\n",
              "      <td>Hyundai</td>\n",
              "      <td>I10</td>\n",
              "      <td>2015</td>\n",
              "      <td>Manual</td>\n",
              "      <td>19645</td>\n",
              "      <td>Petrol</td>\n",
              "      <td>30</td>\n",
              "      <td>57.6</td>\n",
              "      <td>1.2</td>\n",
              "    </tr>\n",
              "    <tr>\n",
              "      <th>21439</th>\n",
              "      <td>BMW</td>\n",
              "      <td>3 Series</td>\n",
              "      <td>2018</td>\n",
              "      <td>Manual</td>\n",
              "      <td>19041</td>\n",
              "      <td>Diesel</td>\n",
              "      <td>145</td>\n",
              "      <td>67.3</td>\n",
              "      <td>2.0</td>\n",
              "    </tr>\n",
              "    <tr>\n",
              "      <th>...</th>\n",
              "      <td>...</td>\n",
              "      <td>...</td>\n",
              "      <td>...</td>\n",
              "      <td>...</td>\n",
              "      <td>...</td>\n",
              "      <td>...</td>\n",
              "      <td>...</td>\n",
              "      <td>...</td>\n",
              "      <td>...</td>\n",
              "    </tr>\n",
              "    <tr>\n",
              "      <th>6400</th>\n",
              "      <td>Audi</td>\n",
              "      <td>Q5</td>\n",
              "      <td>2016</td>\n",
              "      <td>Automatic</td>\n",
              "      <td>74896</td>\n",
              "      <td>Diesel</td>\n",
              "      <td>235</td>\n",
              "      <td>42.2</td>\n",
              "      <td>3.0</td>\n",
              "    </tr>\n",
              "    <tr>\n",
              "      <th>15288</th>\n",
              "      <td>BMW</td>\n",
              "      <td>2 Series</td>\n",
              "      <td>2017</td>\n",
              "      <td>Manual</td>\n",
              "      <td>15926</td>\n",
              "      <td>Diesel</td>\n",
              "      <td>150</td>\n",
              "      <td>62.8</td>\n",
              "      <td>1.5</td>\n",
              "    </tr>\n",
              "    <tr>\n",
              "      <th>11513</th>\n",
              "      <td>Audi</td>\n",
              "      <td>Q5</td>\n",
              "      <td>2020</td>\n",
              "      <td>Semi-Auto</td>\n",
              "      <td>6000</td>\n",
              "      <td>Diesel</td>\n",
              "      <td>150</td>\n",
              "      <td>38.2</td>\n",
              "      <td>2.0</td>\n",
              "    </tr>\n",
              "    <tr>\n",
              "      <th>1688</th>\n",
              "      <td>Skoda</td>\n",
              "      <td>Kodiaq</td>\n",
              "      <td>2018</td>\n",
              "      <td>Automatic</td>\n",
              "      <td>15218</td>\n",
              "      <td>Petrol</td>\n",
              "      <td>145</td>\n",
              "      <td>38.2</td>\n",
              "      <td>2.0</td>\n",
              "    </tr>\n",
              "    <tr>\n",
              "      <th>5994</th>\n",
              "      <td>Skoda</td>\n",
              "      <td>Octavia</td>\n",
              "      <td>2015</td>\n",
              "      <td>Manual</td>\n",
              "      <td>40771</td>\n",
              "      <td>Diesel</td>\n",
              "      <td>30</td>\n",
              "      <td>61.4</td>\n",
              "      <td>2.0</td>\n",
              "    </tr>\n",
              "  </tbody>\n",
              "</table>\n",
              "<p>19200 rows × 9 columns</p>\n",
              "</div>\n",
              "      <button class=\"colab-df-convert\" onclick=\"convertToInteractive('df-0450cf04-5b93-433a-999d-55e949a0009e')\"\n",
              "              title=\"Convert this dataframe to an interactive table.\"\n",
              "              style=\"display:none;\">\n",
              "        \n",
              "  <svg xmlns=\"http://www.w3.org/2000/svg\" height=\"24px\"viewBox=\"0 0 24 24\"\n",
              "       width=\"24px\">\n",
              "    <path d=\"M0 0h24v24H0V0z\" fill=\"none\"/>\n",
              "    <path d=\"M18.56 5.44l.94 2.06.94-2.06 2.06-.94-2.06-.94-.94-2.06-.94 2.06-2.06.94zm-11 1L8.5 8.5l.94-2.06 2.06-.94-2.06-.94L8.5 2.5l-.94 2.06-2.06.94zm10 10l.94 2.06.94-2.06 2.06-.94-2.06-.94-.94-2.06-.94 2.06-2.06.94z\"/><path d=\"M17.41 7.96l-1.37-1.37c-.4-.4-.92-.59-1.43-.59-.52 0-1.04.2-1.43.59L10.3 9.45l-7.72 7.72c-.78.78-.78 2.05 0 2.83L4 21.41c.39.39.9.59 1.41.59.51 0 1.02-.2 1.41-.59l7.78-7.78 2.81-2.81c.8-.78.8-2.07 0-2.86zM5.41 20L4 18.59l7.72-7.72 1.47 1.35L5.41 20z\"/>\n",
              "  </svg>\n",
              "      </button>\n",
              "      \n",
              "  <style>\n",
              "    .colab-df-container {\n",
              "      display:flex;\n",
              "      flex-wrap:wrap;\n",
              "      gap: 12px;\n",
              "    }\n",
              "\n",
              "    .colab-df-convert {\n",
              "      background-color: #E8F0FE;\n",
              "      border: none;\n",
              "      border-radius: 50%;\n",
              "      cursor: pointer;\n",
              "      display: none;\n",
              "      fill: #1967D2;\n",
              "      height: 32px;\n",
              "      padding: 0 0 0 0;\n",
              "      width: 32px;\n",
              "    }\n",
              "\n",
              "    .colab-df-convert:hover {\n",
              "      background-color: #E2EBFA;\n",
              "      box-shadow: 0px 1px 2px rgba(60, 64, 67, 0.3), 0px 1px 3px 1px rgba(60, 64, 67, 0.15);\n",
              "      fill: #174EA6;\n",
              "    }\n",
              "\n",
              "    [theme=dark] .colab-df-convert {\n",
              "      background-color: #3B4455;\n",
              "      fill: #D2E3FC;\n",
              "    }\n",
              "\n",
              "    [theme=dark] .colab-df-convert:hover {\n",
              "      background-color: #434B5C;\n",
              "      box-shadow: 0px 1px 3px 1px rgba(0, 0, 0, 0.15);\n",
              "      filter: drop-shadow(0px 1px 2px rgba(0, 0, 0, 0.3));\n",
              "      fill: #FFFFFF;\n",
              "    }\n",
              "  </style>\n",
              "\n",
              "      <script>\n",
              "        const buttonEl =\n",
              "          document.querySelector('#df-0450cf04-5b93-433a-999d-55e949a0009e button.colab-df-convert');\n",
              "        buttonEl.style.display =\n",
              "          google.colab.kernel.accessAllowed ? 'block' : 'none';\n",
              "\n",
              "        async function convertToInteractive(key) {\n",
              "          const element = document.querySelector('#df-0450cf04-5b93-433a-999d-55e949a0009e');\n",
              "          const dataTable =\n",
              "            await google.colab.kernel.invokeFunction('convertToInteractive',\n",
              "                                                     [key], {});\n",
              "          if (!dataTable) return;\n",
              "\n",
              "          const docLinkHtml = 'Like what you see? Visit the ' +\n",
              "            '<a target=\"_blank\" href=https://colab.research.google.com/notebooks/data_table.ipynb>data table notebook</a>'\n",
              "            + ' to learn more about interactive tables.';\n",
              "          element.innerHTML = '';\n",
              "          dataTable['output_type'] = 'display_data';\n",
              "          await google.colab.output.renderOutput(dataTable, element);\n",
              "          const docLink = document.createElement('div');\n",
              "          docLink.innerHTML = docLinkHtml;\n",
              "          element.appendChild(docLink);\n",
              "        }\n",
              "      </script>\n",
              "    </div>\n",
              "  </div>\n",
              "  "
            ],
            "text/plain": [
              "         brand      model  year transmission  mileage fuelType  tax   mpg  \\\n",
              "6922      Audi         Q5  2020    Semi-Auto     6500   Petrol  145  32.1   \n",
              "15656     Ford     Fiesta  2013       Manual    52484   Petrol   30  54.3   \n",
              "14771     Audi         A3  2015       Manual    84000   Diesel   20  68.9   \n",
              "20168  Hyundai        I10  2015       Manual    19645   Petrol   30  57.6   \n",
              "21439      BMW   3 Series  2018       Manual    19041   Diesel  145  67.3   \n",
              "...        ...        ...   ...          ...      ...      ...  ...   ...   \n",
              "6400      Audi         Q5  2016    Automatic    74896   Diesel  235  42.2   \n",
              "15288      BMW   2 Series  2017       Manual    15926   Diesel  150  62.8   \n",
              "11513     Audi         Q5  2020    Semi-Auto     6000   Diesel  150  38.2   \n",
              "1688     Skoda     Kodiaq  2018    Automatic    15218   Petrol  145  38.2   \n",
              "5994     Skoda    Octavia  2015       Manual    40771   Diesel   30  61.4   \n",
              "\n",
              "       engineSize  \n",
              "6922          2.0  \n",
              "15656         1.2  \n",
              "14771         2.0  \n",
              "20168         1.2  \n",
              "21439         2.0  \n",
              "...           ...  \n",
              "6400          3.0  \n",
              "15288         1.5  \n",
              "11513         2.0  \n",
              "1688          2.0  \n",
              "5994          2.0  \n",
              "\n",
              "[19200 rows x 9 columns]"
            ]
          },
          "execution_count": 373,
          "metadata": {},
          "output_type": "execute_result"
        }
      ],
      "source": [
        "X_train, X_test, y_train, y_test = train_test_split (X, y, test_size=0.2, random_state=3)\n",
        "\n",
        "print ('Train Size: ', X_train.shape)\n",
        "print ('Test Size :', X_test.shape)\n",
        "\n",
        "X_train"
      ]
    },
    {
      "cell_type": "markdown",
      "metadata": {
        "id": "vPKK3udsxqsC"
      },
      "source": [
        "## Handle Missing Values\n",
        "\n",
        "Mengecek adanya missing values pada setiap data"
      ]
    },
    {
      "cell_type": "markdown",
      "metadata": {
        "id": "IgnJwza85ijw"
      },
      "source": [
        "### X_train"
      ]
    },
    {
      "cell_type": "code",
      "execution_count": 374,
      "metadata": {
        "colab": {
          "base_uri": "https://localhost:8080/"
        },
        "id": "1V_I-DTuxss1",
        "outputId": "6be3ba22-5587-4e19-fcde-5c4de4f0489d"
      },
      "outputs": [
        {
          "data": {
            "text/plain": [
              "brand           0\n",
              "model           0\n",
              "year            0\n",
              "transmission    0\n",
              "mileage         0\n",
              "fuelType        0\n",
              "tax             0\n",
              "mpg             0\n",
              "engineSize      0\n",
              "dtype: int64"
            ]
          },
          "execution_count": 374,
          "metadata": {},
          "output_type": "execute_result"
        }
      ],
      "source": [
        "X_train.isnull().sum()"
      ]
    },
    {
      "cell_type": "markdown",
      "metadata": {
        "id": "Lws-vDvS5kSQ"
      },
      "source": [
        "### X_test"
      ]
    },
    {
      "cell_type": "code",
      "execution_count": 375,
      "metadata": {
        "colab": {
          "base_uri": "https://localhost:8080/"
        },
        "id": "PSFDyybkxvcJ",
        "outputId": "f37d317b-039e-4f7b-e762-b7169a272282"
      },
      "outputs": [
        {
          "data": {
            "text/plain": [
              "brand           0\n",
              "model           0\n",
              "year            0\n",
              "transmission    0\n",
              "mileage         0\n",
              "fuelType        0\n",
              "tax             0\n",
              "mpg             0\n",
              "engineSize      0\n",
              "dtype: int64"
            ]
          },
          "execution_count": 375,
          "metadata": {},
          "output_type": "execute_result"
        }
      ],
      "source": [
        "X_test.isnull().sum()"
      ]
    },
    {
      "cell_type": "markdown",
      "metadata": {
        "id": "ImVSa-9J5mWK"
      },
      "source": [
        "### y_train"
      ]
    },
    {
      "cell_type": "code",
      "execution_count": 376,
      "metadata": {
        "colab": {
          "base_uri": "https://localhost:8080/"
        },
        "id": "cfA4KGqVxxJr",
        "outputId": "856666d9-b266-48d2-95c5-9ffd3fdf64be"
      },
      "outputs": [
        {
          "data": {
            "text/plain": [
              "0"
            ]
          },
          "execution_count": 376,
          "metadata": {},
          "output_type": "execute_result"
        }
      ],
      "source": [
        "y_train.isnull().sum()"
      ]
    },
    {
      "cell_type": "markdown",
      "metadata": {
        "id": "Hhbt48285o77"
      },
      "source": [
        "### y_test"
      ]
    },
    {
      "cell_type": "code",
      "execution_count": 377,
      "metadata": {
        "colab": {
          "base_uri": "https://localhost:8080/"
        },
        "id": "bSJReok6xyCW",
        "outputId": "d18856b3-fb17-46ed-d512-26869f2e263f"
      },
      "outputs": [
        {
          "data": {
            "text/plain": [
              "0"
            ]
          },
          "execution_count": 377,
          "metadata": {},
          "output_type": "execute_result"
        }
      ],
      "source": [
        "y_test.isnull().sum()"
      ]
    },
    {
      "cell_type": "markdown",
      "metadata": {
        "id": "6t_y-k29x-46"
      },
      "source": [
        "Berdasarkan hasil diatas, tidak ditemukannya data missing values"
      ]
    },
    {
      "cell_type": "markdown",
      "metadata": {
        "id": "bjiirkz9wZn-"
      },
      "source": [
        "## Handle Outlier"
      ]
    },
    {
      "cell_type": "code",
      "execution_count": 378,
      "metadata": {
        "colab": {
          "base_uri": "https://localhost:8080/",
          "height": 275
        },
        "id": "zsaPDiMIwcxc",
        "outputId": "27717073-fe34-4743-89f7-2b1461d73b66"
      },
      "outputs": [
        {
          "name": "stdout",
          "output_type": "stream",
          "text": [
            "skewness Value:  2.29\n"
          ]
        },
        {
          "data": {
            "image/png": "[encoded data removed]",
            "text/plain": [
              "<Figure size 1600x400 with 2 Axes>"
            ]
          },
          "metadata": {},
          "output_type": "display_data"
        }
      ],
      "source": [
        "print ('skewness Value: ', data['price'].skew().round(decimals=2))\n",
        "\n",
        "plt.figure(figsize=(16, 4))\n",
        "\n",
        "# Histogram\n",
        "plt.subplot(1, 2, 1)\n",
        "sns.histplot(data['price'], bins=30)\n",
        "plt.title('Histogram dari price')\n",
        "\n",
        "# Boxplot\n",
        "plt.subplot(1, 2, 2)\n",
        "sns.boxplot(data['price'])\n",
        "plt.title('Boxplot dari price')\n",
        "\n",
        "plt.show()"
      ]
    },
    {
      "cell_type": "markdown",
      "metadata": {
        "id": "9llXcGg--6we"
      },
      "source": [
        "Terlihat bahwa nilai skewnessnya tinggi, mencerminkan bahwa data tersebut merupakan highly skewed."
      ]
    },
    {
      "cell_type": "markdown",
      "metadata": {
        "id": "pS4rhTPFwzK6"
      },
      "source": [
        "### Membuat outlier"
      ]
    },
    {
      "cell_type": "code",
      "execution_count": 379,
      "metadata": {
        "colab": {
          "base_uri": "https://localhost:8080/"
        },
        "id": "MD4mQcoPw09L",
        "outputId": "a029ade8-229c-46eb-c6dc-f273d0cac33c"
      },
      "outputs": [
        {
          "data": {
            "text/plain": [
              "(32011.778429158723, 2297.553987507943)"
            ]
          },
          "execution_count": 379,
          "metadata": {},
          "output_type": "execute_result"
        }
      ],
      "source": [
        "# Membuat batas atas dan bawah outlier\n",
        "upper_boundary = data['price'].mean() + 1.5 * data['price'].std()\n",
        "lower_boundary = data['price'].mean() - 1.5 * data['price'].std()\n",
        "\n",
        "upper_boundary, lower_boundary"
      ]
    },
    {
      "cell_type": "code",
      "execution_count": 380,
      "metadata": {
        "colab": {
          "base_uri": "https://localhost:8080/"
        },
        "id": "r6Urhck3xEvu",
        "outputId": "387751a8-e9a2-4dfc-8e6b-e463c5ac2f1c"
      },
      "outputs": [
        {
          "name": "stdout",
          "output_type": "stream",
          "text": [
            "Total price         : 24000\n",
            "price didalam boundary : 22367\n",
            "price diluar boundary : 1633\n",
            "\n",
            "% price diluar boundary : 6.804166666666667\n"
          ]
        }
      ],
      "source": [
        "# Melihat data\n",
        "print('Total price         : {}'.format(len(data['price'])))\n",
        "print('price didalam boundary : {}'.format(len(data[(data['price'] > lower_boundary) & (data['price'] < upper_boundary)])))\n",
        "print('price diluar boundary : {}'.format(len(data[(data['price'] > upper_boundary) | (data['price'] < lower_boundary)])))\n",
        "print('')\n",
        "print('% price diluar boundary : {}'.format(len(data[(data['price'] > upper_boundary) | (data['price'] < lower_boundary)]) / len(data) * 100))"
      ]
    },
    {
      "cell_type": "markdown",
      "metadata": {
        "id": "fmEwSVOsxV22"
      },
      "source": [
        "### Trimming"
      ]
    },
    {
      "cell_type": "code",
      "execution_count": 381,
      "metadata": {
        "colab": {
          "base_uri": "https://localhost:8080/"
        },
        "id": "xWcTNfecxJvl",
        "outputId": "f7710ee7-7ae9-4087-fdfe-9d03f579074f"
      },
      "outputs": [
        {
          "name": "stdout",
          "output_type": "stream",
          "text": [
            "(17894,)\n"
          ]
        }
      ],
      "source": [
        "# Mengambil nilai didalam outlier\n",
        "y_train = y_train[(y_train > lower_boundary) & (y_train < upper_boundary)]\n",
        "print(y_train.shape)"
      ]
    },
    {
      "cell_type": "code",
      "execution_count": 382,
      "metadata": {
        "colab": {
          "base_uri": "https://localhost:8080/",
          "height": 507
        },
        "id": "LVfy--QkyHiv",
        "outputId": "bd33bec1-0fd1-40fd-e235-8e1c2c7c92cd"
      },
      "outputs": [
        {
          "name": "stdout",
          "output_type": "stream",
          "text": [
            "skewness Value:  0.56\n"
          ]
        },
        {
          "data": {
            "text/plain": [
              "Text(0.5, 1.0, 'Histogram dari price')"
            ]
          },
          "execution_count": 382,
          "metadata": {},
          "output_type": "execute_result"
        },
        {
          "data": {
            "image/png": "[encoded data removed]",
            "text/plain": [
              "<Figure size 640x480 with 1 Axes>"
            ]
          },
          "metadata": {},
          "output_type": "display_data"
        }
      ],
      "source": [
        "print ('skewness Value: ', y_train.skew().round(decimals=2))\n",
        "\n",
        "sns.histplot(data['price'], bins=30)\n",
        "plt.title('Histogram dari price')"
      ]
    },
    {
      "cell_type": "markdown",
      "metadata": {
        "id": "enrR9ibf_DAT"
      },
      "source": [
        "Setelah dilakukannya outlier, nilai skewnessnya mengecil, tetapi masih tergolong skew sedang."
      ]
    },
    {
      "cell_type": "markdown",
      "metadata": {
        "id": "ZftSgwadxkdu"
      },
      "source": [
        "## Feature Selection"
      ]
    },
    {
      "cell_type": "markdown",
      "metadata": {
        "id": "E0k8iCLG57MN"
      },
      "source": [
        "### Membuang data outlier\n",
        "Membuang data outlier seperti pada data y_train"
      ]
    },
    {
      "cell_type": "code",
      "execution_count": 383,
      "metadata": {
        "colab": {
          "base_uri": "https://localhost:8080/"
        },
        "id": "QDcyE7nd2Bhf",
        "outputId": "6f72bd30-ff06-4d1a-8917-2dee2b66e164"
      },
      "outputs": [
        {
          "name": "stdout",
          "output_type": "stream",
          "text": [
            "(17894, 9)\n"
          ]
        }
      ],
      "source": [
        "X_train = X_train.filter(items=y_train.index,axis=0)\n",
        "\n",
        "print(X_train.shape)"
      ]
    },
    {
      "cell_type": "markdown",
      "metadata": {
        "id": "rVW4CFj35-5z"
      },
      "source": [
        "### Drop kolom model\n",
        "Anggapan penulis adalah tidak ada kaitannya antara `model` dengan `price`\n"
      ]
    },
    {
      "cell_type": "code",
      "execution_count": 384,
      "metadata": {
        "colab": {
          "base_uri": "https://localhost:8080/",
          "height": 424
        },
        "id": "WOqnhr5iy3pD",
        "outputId": "432b3b73-624d-4b09-882d-4a0c37a2e176"
      },
      "outputs": [
        {
          "data": {
            "text/html": [
              "\n",
              "  <div id=\"df-c0ade27a-21c8-4d30-868f-abb80bc8f892\">\n",
              "    <div class=\"colab-df-container\">\n",
              "      <div>\n",
              "<style scoped>\n",
              "    .dataframe tbody tr th:only-of-type {\n",
              "        vertical-align: middle;\n",
              "    }\n",
              "\n",
              "    .dataframe tbody tr th {\n",
              "        vertical-align: top;\n",
              "    }\n",
              "\n",
              "    .dataframe thead th {\n",
              "        text-align: right;\n",
              "    }\n",
              "</style>\n",
              "<table border=\"1\" class=\"dataframe\">\n",
              "  <thead>\n",
              "    <tr style=\"text-align: right;\">\n",
              "      <th></th>\n",
              "      <th>brand</th>\n",
              "      <th>year</th>\n",
              "      <th>transmission</th>\n",
              "      <th>mileage</th>\n",
              "      <th>fuelType</th>\n",
              "      <th>tax</th>\n",
              "      <th>mpg</th>\n",
              "      <th>engineSize</th>\n",
              "    </tr>\n",
              "  </thead>\n",
              "  <tbody>\n",
              "    <tr>\n",
              "      <th>15656</th>\n",
              "      <td>Ford</td>\n",
              "      <td>2013</td>\n",
              "      <td>Manual</td>\n",
              "      <td>52484</td>\n",
              "      <td>Petrol</td>\n",
              "      <td>30</td>\n",
              "      <td>54.3</td>\n",
              "      <td>1.2</td>\n",
              "    </tr>\n",
              "    <tr>\n",
              "      <th>14771</th>\n",
              "      <td>Audi</td>\n",
              "      <td>2015</td>\n",
              "      <td>Manual</td>\n",
              "      <td>84000</td>\n",
              "      <td>Diesel</td>\n",
              "      <td>20</td>\n",
              "      <td>68.9</td>\n",
              "      <td>2.0</td>\n",
              "    </tr>\n",
              "    <tr>\n",
              "      <th>20168</th>\n",
              "      <td>Hyundai</td>\n",
              "      <td>2015</td>\n",
              "      <td>Manual</td>\n",
              "      <td>19645</td>\n",
              "      <td>Petrol</td>\n",
              "      <td>30</td>\n",
              "      <td>57.6</td>\n",
              "      <td>1.2</td>\n",
              "    </tr>\n",
              "    <tr>\n",
              "      <th>21439</th>\n",
              "      <td>BMW</td>\n",
              "      <td>2018</td>\n",
              "      <td>Manual</td>\n",
              "      <td>19041</td>\n",
              "      <td>Diesel</td>\n",
              "      <td>145</td>\n",
              "      <td>67.3</td>\n",
              "      <td>2.0</td>\n",
              "    </tr>\n",
              "    <tr>\n",
              "      <th>9918</th>\n",
              "      <td>Hyundai</td>\n",
              "      <td>2019</td>\n",
              "      <td>Manual</td>\n",
              "      <td>9893</td>\n",
              "      <td>Petrol</td>\n",
              "      <td>145</td>\n",
              "      <td>44.1</td>\n",
              "      <td>1.0</td>\n",
              "    </tr>\n",
              "    <tr>\n",
              "      <th>...</th>\n",
              "      <td>...</td>\n",
              "      <td>...</td>\n",
              "      <td>...</td>\n",
              "      <td>...</td>\n",
              "      <td>...</td>\n",
              "      <td>...</td>\n",
              "      <td>...</td>\n",
              "      <td>...</td>\n",
              "    </tr>\n",
              "    <tr>\n",
              "      <th>19091</th>\n",
              "      <td>Vauxhall</td>\n",
              "      <td>2017</td>\n",
              "      <td>Manual</td>\n",
              "      <td>20597</td>\n",
              "      <td>Diesel</td>\n",
              "      <td>145</td>\n",
              "      <td>54.3</td>\n",
              "      <td>2.0</td>\n",
              "    </tr>\n",
              "    <tr>\n",
              "      <th>6400</th>\n",
              "      <td>Audi</td>\n",
              "      <td>2016</td>\n",
              "      <td>Automatic</td>\n",
              "      <td>74896</td>\n",
              "      <td>Diesel</td>\n",
              "      <td>235</td>\n",
              "      <td>42.2</td>\n",
              "      <td>3.0</td>\n",
              "    </tr>\n",
              "    <tr>\n",
              "      <th>15288</th>\n",
              "      <td>BMW</td>\n",
              "      <td>2017</td>\n",
              "      <td>Manual</td>\n",
              "      <td>15926</td>\n",
              "      <td>Diesel</td>\n",
              "      <td>150</td>\n",
              "      <td>62.8</td>\n",
              "      <td>1.5</td>\n",
              "    </tr>\n",
              "    <tr>\n",
              "      <th>1688</th>\n",
              "      <td>Skoda</td>\n",
              "      <td>2018</td>\n",
              "      <td>Automatic</td>\n",
              "      <td>15218</td>\n",
              "      <td>Petrol</td>\n",
              "      <td>145</td>\n",
              "      <td>38.2</td>\n",
              "      <td>2.0</td>\n",
              "    </tr>\n",
              "    <tr>\n",
              "      <th>5994</th>\n",
              "      <td>Skoda</td>\n",
              "      <td>2015</td>\n",
              "      <td>Manual</td>\n",
              "      <td>40771</td>\n",
              "      <td>Diesel</td>\n",
              "      <td>30</td>\n",
              "      <td>61.4</td>\n",
              "      <td>2.0</td>\n",
              "    </tr>\n",
              "  </tbody>\n",
              "</table>\n",
              "<p>17894 rows × 8 columns</p>\n",
              "</div>\n",
              "      <button class=\"colab-df-convert\" onclick=\"convertToInteractive('df-c0ade27a-21c8-4d30-868f-abb80bc8f892')\"\n",
              "              title=\"Convert this dataframe to an interactive table.\"\n",
              "              style=\"display:none;\">\n",
              "        \n",
              "  <svg xmlns=\"http://www.w3.org/2000/svg\" height=\"24px\"viewBox=\"0 0 24 24\"\n",
              "       width=\"24px\">\n",
              "    <path d=\"M0 0h24v24H0V0z\" fill=\"none\"/>\n",
              "    <path d=\"M18.56 5.44l.94 2.06.94-2.06 2.06-.94-2.06-.94-.94-2.06-.94 2.06-2.06.94zm-11 1L8.5 8.5l.94-2.06 2.06-.94-2.06-.94L8.5 2.5l-.94 2.06-2.06.94zm10 10l.94 2.06.94-2.06 2.06-.94-2.06-.94-.94-2.06-.94 2.06-2.06.94z\"/><path d=\"M17.41 7.96l-1.37-1.37c-.4-.4-.92-.59-1.43-.59-.52 0-1.04.2-1.43.59L10.3 9.45l-7.72 7.72c-.78.78-.78 2.05 0 2.83L4 21.41c.39.39.9.59 1.41.59.51 0 1.02-.2 1.41-.59l7.78-7.78 2.81-2.81c.8-.78.8-2.07 0-2.86zM5.41 20L4 18.59l7.72-7.72 1.47 1.35L5.41 20z\"/>\n",
              "  </svg>\n",
              "      </button>\n",
              "      \n",
              "  <style>\n",
              "    .colab-df-container {\n",
              "      display:flex;\n",
              "      flex-wrap:wrap;\n",
              "      gap: 12px;\n",
              "    }\n",
              "\n",
              "    .colab-df-convert {\n",
              "      background-color: #E8F0FE;\n",
              "      border: none;\n",
              "      border-radius: 50%;\n",
              "      cursor: pointer;\n",
              "      display: none;\n",
              "      fill: #1967D2;\n",
              "      height: 32px;\n",
              "      padding: 0 0 0 0;\n",
              "      width: 32px;\n",
              "    }\n",
              "\n",
              "    .colab-df-convert:hover {\n",
              "      background-color: #E2EBFA;\n",
              "      box-shadow: 0px 1px 2px rgba(60, 64, 67, 0.3), 0px 1px 3px 1px rgba(60, 64, 67, 0.15);\n",
              "      fill: #174EA6;\n",
              "    }\n",
              "\n",
              "    [theme=dark] .colab-df-convert {\n",
              "      background-color: #3B4455;\n",
              "      fill: #D2E3FC;\n",
              "    }\n",
              "\n",
              "    [theme=dark] .colab-df-convert:hover {\n",
              "      background-color: #434B5C;\n",
              "      box-shadow: 0px 1px 3px 1px rgba(0, 0, 0, 0.15);\n",
              "      filter: drop-shadow(0px 1px 2px rgba(0, 0, 0, 0.3));\n",
              "      fill: #FFFFFF;\n",
              "    }\n",
              "  </style>\n",
              "\n",
              "      <script>\n",
              "        const buttonEl =\n",
              "          document.querySelector('#df-c0ade27a-21c8-4d30-868f-abb80bc8f892 button.colab-df-convert');\n",
              "        buttonEl.style.display =\n",
              "          google.colab.kernel.accessAllowed ? 'block' : 'none';\n",
              "\n",
              "        async function convertToInteractive(key) {\n",
              "          const element = document.querySelector('#df-c0ade27a-21c8-4d30-868f-abb80bc8f892');\n",
              "          const dataTable =\n",
              "            await google.colab.kernel.invokeFunction('convertToInteractive',\n",
              "                                                     [key], {});\n",
              "          if (!dataTable) return;\n",
              "\n",
              "          const docLinkHtml = 'Like what you see? Visit the ' +\n",
              "            '<a target=\"_blank\" href=https://colab.research.google.com/notebooks/data_table.ipynb>data table notebook</a>'\n",
              "            + ' to learn more about interactive tables.';\n",
              "          element.innerHTML = '';\n",
              "          dataTable['output_type'] = 'display_data';\n",
              "          await google.colab.output.renderOutput(dataTable, element);\n",
              "          const docLink = document.createElement('div');\n",
              "          docLink.innerHTML = docLinkHtml;\n",
              "          element.appendChild(docLink);\n",
              "        }\n",
              "      </script>\n",
              "    </div>\n",
              "  </div>\n",
              "  "
            ],
            "text/plain": [
              "          brand  year transmission  mileage fuelType  tax   mpg  engineSize\n",
              "15656      Ford  2013       Manual    52484   Petrol   30  54.3         1.2\n",
              "14771      Audi  2015       Manual    84000   Diesel   20  68.9         2.0\n",
              "20168   Hyundai  2015       Manual    19645   Petrol   30  57.6         1.2\n",
              "21439       BMW  2018       Manual    19041   Diesel  145  67.3         2.0\n",
              "9918    Hyundai  2019       Manual     9893   Petrol  145  44.1         1.0\n",
              "...         ...   ...          ...      ...      ...  ...   ...         ...\n",
              "19091  Vauxhall  2017       Manual    20597   Diesel  145  54.3         2.0\n",
              "6400       Audi  2016    Automatic    74896   Diesel  235  42.2         3.0\n",
              "15288       BMW  2017       Manual    15926   Diesel  150  62.8         1.5\n",
              "1688      Skoda  2018    Automatic    15218   Petrol  145  38.2         2.0\n",
              "5994      Skoda  2015       Manual    40771   Diesel   30  61.4         2.0\n",
              "\n",
              "[17894 rows x 8 columns]"
            ]
          },
          "execution_count": 384,
          "metadata": {},
          "output_type": "execute_result"
        }
      ],
      "source": [
        "X_train.drop ('model', axis=1, inplace=True)\n",
        "X_test.drop('model', axis=1, inplace=True)\n",
        "\n",
        "X_train"
      ]
    },
    {
      "cell_type": "markdown",
      "metadata": {
        "id": "4e0aRAmMzMNV"
      },
      "source": [
        "## Memisahkan kolom numeric dengan category"
      ]
    },
    {
      "cell_type": "code",
      "execution_count": 385,
      "metadata": {
        "colab": {
          "base_uri": "https://localhost:8080/"
        },
        "id": "gWwKH0PZzQZ5",
        "outputId": "bcc10637-7c0e-4be2-f9f6-2c5a9f194888"
      },
      "outputs": [
        {
          "name": "stdout",
          "output_type": "stream",
          "text": [
            "Num Columns :  ['year', 'mileage', 'tax', 'mpg', 'engineSize']\n",
            "Cat Columns :  ['brand', 'transmission', 'fuelType']\n"
          ]
        }
      ],
      "source": [
        "num_columns = X_train.select_dtypes(include=np.number).columns.tolist()\n",
        "cat_columns = X_train.select_dtypes(exclude=np.number).columns.tolist()\n",
        "\n",
        "print('Num Columns : ', num_columns)\n",
        "print('Cat Columns : ', cat_columns)"
      ]
    },
    {
      "cell_type": "markdown",
      "metadata": {
        "id": "_k3upnMV6KgK"
      },
      "source": [
        "### Memisahkan pada X_train dan X_test\n",
        "\n"
      ]
    },
    {
      "cell_type": "code",
      "execution_count": 386,
      "metadata": {
        "id": "fto_yx7fz12U"
      },
      "outputs": [],
      "source": [
        "X_train_num = X_train[num_columns]\n",
        "X_train_cat = X_train[cat_columns]\n",
        "\n",
        "X_test_num = X_test[num_columns]\n",
        "X_test_cat = X_test[cat_columns]"
      ]
    },
    {
      "cell_type": "code",
      "execution_count": 387,
      "metadata": {
        "colab": {
          "base_uri": "https://localhost:8080/",
          "height": 424
        },
        "id": "dqPvh3bM4v_E",
        "outputId": "2c1707de-4344-43be-c3f8-b878b83deb77"
      },
      "outputs": [
        {
          "data": {
            "text/html": [
              "\n",
              "  <div id=\"df-857f4a96-42c7-44bd-ac29-d83c533db1e5\">\n",
              "    <div class=\"colab-df-container\">\n",
              "      <div>\n",
              "<style scoped>\n",
              "    .dataframe tbody tr th:only-of-type {\n",
              "        vertical-align: middle;\n",
              "    }\n",
              "\n",
              "    .dataframe tbody tr th {\n",
              "        vertical-align: top;\n",
              "    }\n",
              "\n",
              "    .dataframe thead th {\n",
              "        text-align: right;\n",
              "    }\n",
              "</style>\n",
              "<table border=\"1\" class=\"dataframe\">\n",
              "  <thead>\n",
              "    <tr style=\"text-align: right;\">\n",
              "      <th></th>\n",
              "      <th>year</th>\n",
              "      <th>mileage</th>\n",
              "      <th>tax</th>\n",
              "      <th>mpg</th>\n",
              "      <th>engineSize</th>\n",
              "    </tr>\n",
              "  </thead>\n",
              "  <tbody>\n",
              "    <tr>\n",
              "      <th>15656</th>\n",
              "      <td>2013</td>\n",
              "      <td>52484</td>\n",
              "      <td>30</td>\n",
              "      <td>54.3</td>\n",
              "      <td>1.2</td>\n",
              "    </tr>\n",
              "    <tr>\n",
              "      <th>14771</th>\n",
              "      <td>2015</td>\n",
              "      <td>84000</td>\n",
              "      <td>20</td>\n",
              "      <td>68.9</td>\n",
              "      <td>2.0</td>\n",
              "    </tr>\n",
              "    <tr>\n",
              "      <th>20168</th>\n",
              "      <td>2015</td>\n",
              "      <td>19645</td>\n",
              "      <td>30</td>\n",
              "      <td>57.6</td>\n",
              "      <td>1.2</td>\n",
              "    </tr>\n",
              "    <tr>\n",
              "      <th>21439</th>\n",
              "      <td>2018</td>\n",
              "      <td>19041</td>\n",
              "      <td>145</td>\n",
              "      <td>67.3</td>\n",
              "      <td>2.0</td>\n",
              "    </tr>\n",
              "    <tr>\n",
              "      <th>9918</th>\n",
              "      <td>2019</td>\n",
              "      <td>9893</td>\n",
              "      <td>145</td>\n",
              "      <td>44.1</td>\n",
              "      <td>1.0</td>\n",
              "    </tr>\n",
              "    <tr>\n",
              "      <th>...</th>\n",
              "      <td>...</td>\n",
              "      <td>...</td>\n",
              "      <td>...</td>\n",
              "      <td>...</td>\n",
              "      <td>...</td>\n",
              "    </tr>\n",
              "    <tr>\n",
              "      <th>19091</th>\n",
              "      <td>2017</td>\n",
              "      <td>20597</td>\n",
              "      <td>145</td>\n",
              "      <td>54.3</td>\n",
              "      <td>2.0</td>\n",
              "    </tr>\n",
              "    <tr>\n",
              "      <th>6400</th>\n",
              "      <td>2016</td>\n",
              "      <td>74896</td>\n",
              "      <td>235</td>\n",
              "      <td>42.2</td>\n",
              "      <td>3.0</td>\n",
              "    </tr>\n",
              "    <tr>\n",
              "      <th>15288</th>\n",
              "      <td>2017</td>\n",
              "      <td>15926</td>\n",
              "      <td>150</td>\n",
              "      <td>62.8</td>\n",
              "      <td>1.5</td>\n",
              "    </tr>\n",
              "    <tr>\n",
              "      <th>1688</th>\n",
              "      <td>2018</td>\n",
              "      <td>15218</td>\n",
              "      <td>145</td>\n",
              "      <td>38.2</td>\n",
              "      <td>2.0</td>\n",
              "    </tr>\n",
              "    <tr>\n",
              "      <th>5994</th>\n",
              "      <td>2015</td>\n",
              "      <td>40771</td>\n",
              "      <td>30</td>\n",
              "      <td>61.4</td>\n",
              "      <td>2.0</td>\n",
              "    </tr>\n",
              "  </tbody>\n",
              "</table>\n",
              "<p>17894 rows × 5 columns</p>\n",
              "</div>\n",
              "      <button class=\"colab-df-convert\" onclick=\"convertToInteractive('df-857f4a96-42c7-44bd-ac29-d83c533db1e5')\"\n",
              "              title=\"Convert this dataframe to an interactive table.\"\n",
              "              style=\"display:none;\">\n",
              "        \n",
              "  <svg xmlns=\"http://www.w3.org/2000/svg\" height=\"24px\"viewBox=\"0 0 24 24\"\n",
              "       width=\"24px\">\n",
              "    <path d=\"M0 0h24v24H0V0z\" fill=\"none\"/>\n",
              "    <path d=\"M18.56 5.44l.94 2.06.94-2.06 2.06-.94-2.06-.94-.94-2.06-.94 2.06-2.06.94zm-11 1L8.5 8.5l.94-2.06 2.06-.94-2.06-.94L8.5 2.5l-.94 2.06-2.06.94zm10 10l.94 2.06.94-2.06 2.06-.94-2.06-.94-.94-2.06-.94 2.06-2.06.94z\"/><path d=\"M17.41 7.96l-1.37-1.37c-.4-.4-.92-.59-1.43-.59-.52 0-1.04.2-1.43.59L10.3 9.45l-7.72 7.72c-.78.78-.78 2.05 0 2.83L4 21.41c.39.39.9.59 1.41.59.51 0 1.02-.2 1.41-.59l7.78-7.78 2.81-2.81c.8-.78.8-2.07 0-2.86zM5.41 20L4 18.59l7.72-7.72 1.47 1.35L5.41 20z\"/>\n",
              "  </svg>\n",
              "      </button>\n",
              "      \n",
              "  <style>\n",
              "    .colab-df-container {\n",
              "      display:flex;\n",
              "      flex-wrap:wrap;\n",
              "      gap: 12px;\n",
              "    }\n",
              "\n",
              "    .colab-df-convert {\n",
              "      background-color: #E8F0FE;\n",
              "      border: none;\n",
              "      border-radius: 50%;\n",
              "      cursor: pointer;\n",
              "      display: none;\n",
              "      fill: #1967D2;\n",
              "      height: 32px;\n",
              "      padding: 0 0 0 0;\n",
              "      width: 32px;\n",
              "    }\n",
              "\n",
              "    .colab-df-convert:hover {\n",
              "      background-color: #E2EBFA;\n",
              "      box-shadow: 0px 1px 2px rgba(60, 64, 67, 0.3), 0px 1px 3px 1px rgba(60, 64, 67, 0.15);\n",
              "      fill: #174EA6;\n",
              "    }\n",
              "\n",
              "    [theme=dark] .colab-df-convert {\n",
              "      background-color: #3B4455;\n",
              "      fill: #D2E3FC;\n",
              "    }\n",
              "\n",
              "    [theme=dark] .colab-df-convert:hover {\n",
              "      background-color: #434B5C;\n",
              "      box-shadow: 0px 1px 3px 1px rgba(0, 0, 0, 0.15);\n",
              "      filter: drop-shadow(0px 1px 2px rgba(0, 0, 0, 0.3));\n",
              "      fill: #FFFFFF;\n",
              "    }\n",
              "  </style>\n",
              "\n",
              "      <script>\n",
              "        const buttonEl =\n",
              "          document.querySelector('#df-857f4a96-42c7-44bd-ac29-d83c533db1e5 button.colab-df-convert');\n",
              "        buttonEl.style.display =\n",
              "          google.colab.kernel.accessAllowed ? 'block' : 'none';\n",
              "\n",
              "        async function convertToInteractive(key) {\n",
              "          const element = document.querySelector('#df-857f4a96-42c7-44bd-ac29-d83c533db1e5');\n",
              "          const dataTable =\n",
              "            await google.colab.kernel.invokeFunction('convertToInteractive',\n",
              "                                                     [key], {});\n",
              "          if (!dataTable) return;\n",
              "\n",
              "          const docLinkHtml = 'Like what you see? Visit the ' +\n",
              "            '<a target=\"_blank\" href=https://colab.research.google.com/notebooks/data_table.ipynb>data table notebook</a>'\n",
              "            + ' to learn more about interactive tables.';\n",
              "          element.innerHTML = '';\n",
              "          dataTable['output_type'] = 'display_data';\n",
              "          await google.colab.output.renderOutput(dataTable, element);\n",
              "          const docLink = document.createElement('div');\n",
              "          docLink.innerHTML = docLinkHtml;\n",
              "          element.appendChild(docLink);\n",
              "        }\n",
              "      </script>\n",
              "    </div>\n",
              "  </div>\n",
              "  "
            ],
            "text/plain": [
              "       year  mileage  tax   mpg  engineSize\n",
              "15656  2013    52484   30  54.3         1.2\n",
              "14771  2015    84000   20  68.9         2.0\n",
              "20168  2015    19645   30  57.6         1.2\n",
              "21439  2018    19041  145  67.3         2.0\n",
              "9918   2019     9893  145  44.1         1.0\n",
              "...     ...      ...  ...   ...         ...\n",
              "19091  2017    20597  145  54.3         2.0\n",
              "6400   2016    74896  235  42.2         3.0\n",
              "15288  2017    15926  150  62.8         1.5\n",
              "1688   2018    15218  145  38.2         2.0\n",
              "5994   2015    40771   30  61.4         2.0\n",
              "\n",
              "[17894 rows x 5 columns]"
            ]
          },
          "execution_count": 387,
          "metadata": {},
          "output_type": "execute_result"
        }
      ],
      "source": [
        "X_train_num"
      ]
    },
    {
      "cell_type": "code",
      "execution_count": 388,
      "metadata": {
        "colab": {
          "base_uri": "https://localhost:8080/",
          "height": 424
        },
        "id": "K2Gya4bf4wif",
        "outputId": "e16b57e7-06cf-49f4-88b2-ef91a844ee23"
      },
      "outputs": [
        {
          "data": {
            "text/html": [
              "\n",
              "  <div id=\"df-fb4e07e4-0397-4e75-9e67-c22dd54f0725\">\n",
              "    <div class=\"colab-df-container\">\n",
              "      <div>\n",
              "<style scoped>\n",
              "    .dataframe tbody tr th:only-of-type {\n",
              "        vertical-align: middle;\n",
              "    }\n",
              "\n",
              "    .dataframe tbody tr th {\n",
              "        vertical-align: top;\n",
              "    }\n",
              "\n",
              "    .dataframe thead th {\n",
              "        text-align: right;\n",
              "    }\n",
              "</style>\n",
              "<table border=\"1\" class=\"dataframe\">\n",
              "  <thead>\n",
              "    <tr style=\"text-align: right;\">\n",
              "      <th></th>\n",
              "      <th>brand</th>\n",
              "      <th>transmission</th>\n",
              "      <th>fuelType</th>\n",
              "    </tr>\n",
              "  </thead>\n",
              "  <tbody>\n",
              "    <tr>\n",
              "      <th>18233</th>\n",
              "      <td>BMW</td>\n",
              "      <td>Automatic</td>\n",
              "      <td>Diesel</td>\n",
              "    </tr>\n",
              "    <tr>\n",
              "      <th>8844</th>\n",
              "      <td>Audi</td>\n",
              "      <td>Automatic</td>\n",
              "      <td>Petrol</td>\n",
              "    </tr>\n",
              "    <tr>\n",
              "      <th>18415</th>\n",
              "      <td>Mercedez</td>\n",
              "      <td>Semi-Auto</td>\n",
              "      <td>Petrol</td>\n",
              "    </tr>\n",
              "    <tr>\n",
              "      <th>4324</th>\n",
              "      <td>Hyundai</td>\n",
              "      <td>Manual</td>\n",
              "      <td>Diesel</td>\n",
              "    </tr>\n",
              "    <tr>\n",
              "      <th>11210</th>\n",
              "      <td>Ford</td>\n",
              "      <td>Manual</td>\n",
              "      <td>Diesel</td>\n",
              "    </tr>\n",
              "    <tr>\n",
              "      <th>...</th>\n",
              "      <td>...</td>\n",
              "      <td>...</td>\n",
              "      <td>...</td>\n",
              "    </tr>\n",
              "    <tr>\n",
              "      <th>15573</th>\n",
              "      <td>Ford</td>\n",
              "      <td>Manual</td>\n",
              "      <td>Diesel</td>\n",
              "    </tr>\n",
              "    <tr>\n",
              "      <th>19261</th>\n",
              "      <td>Mercedez</td>\n",
              "      <td>Automatic</td>\n",
              "      <td>Diesel</td>\n",
              "    </tr>\n",
              "    <tr>\n",
              "      <th>2505</th>\n",
              "      <td>Vauxhall</td>\n",
              "      <td>Manual</td>\n",
              "      <td>Petrol</td>\n",
              "    </tr>\n",
              "    <tr>\n",
              "      <th>12018</th>\n",
              "      <td>Mercedez</td>\n",
              "      <td>Automatic</td>\n",
              "      <td>Diesel</td>\n",
              "    </tr>\n",
              "    <tr>\n",
              "      <th>5577</th>\n",
              "      <td>Audi</td>\n",
              "      <td>Manual</td>\n",
              "      <td>Diesel</td>\n",
              "    </tr>\n",
              "  </tbody>\n",
              "</table>\n",
              "<p>4800 rows × 3 columns</p>\n",
              "</div>\n",
              "      <button class=\"colab-df-convert\" onclick=\"convertToInteractive('df-fb4e07e4-0397-4e75-9e67-c22dd54f0725')\"\n",
              "              title=\"Convert this dataframe to an interactive table.\"\n",
              "              style=\"display:none;\">\n",
              "        \n",
              "  <svg xmlns=\"http://www.w3.org/2000/svg\" height=\"24px\"viewBox=\"0 0 24 24\"\n",
              "       width=\"24px\">\n",
              "    <path d=\"M0 0h24v24H0V0z\" fill=\"none\"/>\n",
              "    <path d=\"M18.56 5.44l.94 2.06.94-2.06 2.06-.94-2.06-.94-.94-2.06-.94 2.06-2.06.94zm-11 1L8.5 8.5l.94-2.06 2.06-.94-2.06-.94L8.5 2.5l-.94 2.06-2.06.94zm10 10l.94 2.06.94-2.06 2.06-.94-2.06-.94-.94-2.06-.94 2.06-2.06.94z\"/><path d=\"M17.41 7.96l-1.37-1.37c-.4-.4-.92-.59-1.43-.59-.52 0-1.04.2-1.43.59L10.3 9.45l-7.72 7.72c-.78.78-.78 2.05 0 2.83L4 21.41c.39.39.9.59 1.41.59.51 0 1.02-.2 1.41-.59l7.78-7.78 2.81-2.81c.8-.78.8-2.07 0-2.86zM5.41 20L4 18.59l7.72-7.72 1.47 1.35L5.41 20z\"/>\n",
              "  </svg>\n",
              "      </button>\n",
              "      \n",
              "  <style>\n",
              "    .colab-df-container {\n",
              "      display:flex;\n",
              "      flex-wrap:wrap;\n",
              "      gap: 12px;\n",
              "    }\n",
              "\n",
              "    .colab-df-convert {\n",
              "      background-color: #E8F0FE;\n",
              "      border: none;\n",
              "      border-radius: 50%;\n",
              "      cursor: pointer;\n",
              "      display: none;\n",
              "      fill: #1967D2;\n",
              "      height: 32px;\n",
              "      padding: 0 0 0 0;\n",
              "      width: 32px;\n",
              "    }\n",
              "\n",
              "    .colab-df-convert:hover {\n",
              "      background-color: #E2EBFA;\n",
              "      box-shadow: 0px 1px 2px rgba(60, 64, 67, 0.3), 0px 1px 3px 1px rgba(60, 64, 67, 0.15);\n",
              "      fill: #174EA6;\n",
              "    }\n",
              "\n",
              "    [theme=dark] .colab-df-convert {\n",
              "      background-color: #3B4455;\n",
              "      fill: #D2E3FC;\n",
              "    }\n",
              "\n",
              "    [theme=dark] .colab-df-convert:hover {\n",
              "      background-color: #434B5C;\n",
              "      box-shadow: 0px 1px 3px 1px rgba(0, 0, 0, 0.15);\n",
              "      filter: drop-shadow(0px 1px 2px rgba(0, 0, 0, 0.3));\n",
              "      fill: #FFFFFF;\n",
              "    }\n",
              "  </style>\n",
              "\n",
              "      <script>\n",
              "        const buttonEl =\n",
              "          document.querySelector('#df-fb4e07e4-0397-4e75-9e67-c22dd54f0725 button.colab-df-convert');\n",
              "        buttonEl.style.display =\n",
              "          google.colab.kernel.accessAllowed ? 'block' : 'none';\n",
              "\n",
              "        async function convertToInteractive(key) {\n",
              "          const element = document.querySelector('#df-fb4e07e4-0397-4e75-9e67-c22dd54f0725');\n",
              "          const dataTable =\n",
              "            await google.colab.kernel.invokeFunction('convertToInteractive',\n",
              "                                                     [key], {});\n",
              "          if (!dataTable) return;\n",
              "\n",
              "          const docLinkHtml = 'Like what you see? Visit the ' +\n",
              "            '<a target=\"_blank\" href=https://colab.research.google.com/notebooks/data_table.ipynb>data table notebook</a>'\n",
              "            + ' to learn more about interactive tables.';\n",
              "          element.innerHTML = '';\n",
              "          dataTable['output_type'] = 'display_data';\n",
              "          await google.colab.output.renderOutput(dataTable, element);\n",
              "          const docLink = document.createElement('div');\n",
              "          docLink.innerHTML = docLinkHtml;\n",
              "          element.appendChild(docLink);\n",
              "        }\n",
              "      </script>\n",
              "    </div>\n",
              "  </div>\n",
              "  "
            ],
            "text/plain": [
              "          brand transmission fuelType\n",
              "18233       BMW    Automatic   Diesel\n",
              "8844       Audi    Automatic   Petrol\n",
              "18415  Mercedez    Semi-Auto   Petrol\n",
              "4324    Hyundai       Manual   Diesel\n",
              "11210      Ford       Manual   Diesel\n",
              "...         ...          ...      ...\n",
              "15573      Ford       Manual   Diesel\n",
              "19261  Mercedez    Automatic   Diesel\n",
              "2505   Vauxhall       Manual   Petrol\n",
              "12018  Mercedez    Automatic   Diesel\n",
              "5577       Audi       Manual   Diesel\n",
              "\n",
              "[4800 rows x 3 columns]"
            ]
          },
          "execution_count": 388,
          "metadata": {},
          "output_type": "execute_result"
        }
      ],
      "source": [
        "X_test_cat"
      ]
    },
    {
      "cell_type": "markdown",
      "metadata": {
        "id": "hli4yQu3zy9Q"
      },
      "source": [
        "## Feature Scaling"
      ]
    },
    {
      "cell_type": "markdown",
      "metadata": {
        "id": "3SGsR-yC6MeE"
      },
      "source": [
        "### Scaling menggunakan MinMaxScaler\n",
        "\n"
      ]
    },
    {
      "cell_type": "code",
      "execution_count": 389,
      "metadata": {
        "colab": {
          "base_uri": "https://localhost:8080/"
        },
        "id": "AyihKp0P0AKo",
        "outputId": "b86494bd-ec02-46aa-8505-b87606f7c129"
      },
      "outputs": [
        {
          "data": {
            "text/plain": [
              "array([[0.47777778, 0.21823088, 0.05172414, 0.11326379, 0.19354839],\n",
              "       [0.5       , 0.34927836, 0.03448276, 0.14434746, 0.32258065],\n",
              "       [0.5       , 0.08168221, 0.05172414, 0.12028955, 0.19354839],\n",
              "       ...,\n",
              "       [0.52222222, 0.06621814, 0.25862069, 0.13136044, 0.24193548],\n",
              "       [0.53333333, 0.06327419, 0.25      , 0.07898659, 0.32258065],\n",
              "       [0.5       , 0.16952676, 0.05172414, 0.12837982, 0.32258065]])"
            ]
          },
          "execution_count": 389,
          "metadata": {},
          "output_type": "execute_result"
        }
      ],
      "source": [
        "scaler = MinMaxScaler()\n",
        "scaler.fit(X_train_num)\n",
        "\n",
        "X_train_num_scaled = scaler.transform(X_train_num)\n",
        "X_test_num_scaled = scaler.transform(X_test_num)\n",
        "X_train_num_scaled"
      ]
    },
    {
      "cell_type": "markdown",
      "metadata": {
        "id": "tZBiLukn0GM1"
      },
      "source": [
        "## Feature Encoding"
      ]
    },
    {
      "cell_type": "code",
      "execution_count": 390,
      "metadata": {
        "colab": {
          "base_uri": "https://localhost:8080/"
        },
        "id": "RSHAIaRJ6Y26",
        "outputId": "402b4079-d86a-41bb-f723-57442596d994"
      },
      "outputs": [
        {
          "data": {
            "text/plain": [
              "array([[0., 0., 0.],\n",
              "       [1., 0., 1.],\n",
              "       [2., 0., 0.],\n",
              "       ...,\n",
              "       [3., 0., 1.],\n",
              "       [7., 1., 0.],\n",
              "       [7., 0., 1.]])"
            ]
          },
          "execution_count": 390,
          "metadata": {},
          "output_type": "execute_result"
        }
      ],
      "source": [
        "# Membuat encoder menggunakan OrdinalEncoder\n",
        "encoder = OrdinalEncoder(categories=[['Ford', 'Audi', 'Hyundai', 'BMW', 'Vauxhall','VW', 'Mercedez', 'Skoda'], # brand\n",
        "                                     ['Manual', 'Automatic', 'Other', 'Semi-Auto'],                            # transmission\n",
        "                                     ['Petrol', 'Diesel', 'Other', 'Hybrid', 'Electric']])                     # fuelType\n",
        "encoder.fit(X_train_cat)\n",
        "\n",
        "X_train_cat_encoded = encoder.transform(X_train_cat)\n",
        "X_test_cat_encoded = encoder.transform(X_test_cat)\n",
        "\n",
        "X_train_cat_encoded"
      ]
    },
    {
      "cell_type": "markdown",
      "metadata": {
        "id": "Mo_UamMo0m70"
      },
      "source": [
        "## Menggabung antara numeric dengan category"
      ]
    },
    {
      "cell_type": "code",
      "execution_count": 391,
      "metadata": {
        "colab": {
          "base_uri": "https://localhost:8080/"
        },
        "id": "ctxTEHYg0qNW",
        "outputId": "c173af6c-15cc-4c13-9761-f96c685de3c1"
      },
      "outputs": [
        {
          "data": {
            "text/plain": [
              "array([[0.47777778, 0.21823088, 0.05172414, ..., 0.        , 0.        ,\n",
              "        0.        ],\n",
              "       [0.5       , 0.34927836, 0.03448276, ..., 1.        , 0.        ,\n",
              "        1.        ],\n",
              "       [0.5       , 0.08168221, 0.05172414, ..., 2.        , 0.        ,\n",
              "        0.        ],\n",
              "       ...,\n",
              "       [0.52222222, 0.06621814, 0.25862069, ..., 3.        , 0.        ,\n",
              "        1.        ],\n",
              "       [0.53333333, 0.06327419, 0.25      , ..., 7.        , 1.        ,\n",
              "        0.        ],\n",
              "       [0.5       , 0.16952676, 0.05172414, ..., 7.        , 0.        ,\n",
              "        1.        ]])"
            ]
          },
          "execution_count": 391,
          "metadata": {},
          "output_type": "execute_result"
        }
      ],
      "source": [
        "X_train_final = np.concatenate([X_train_num_scaled, X_train_cat_encoded], axis=1) # Gabung pada X_train\n",
        "X_test_final = np.concatenate([X_test_num_scaled, X_test_cat_encoded], axis=1)    # Gabung pada X_test\n",
        "X_train_final"
      ]
    },
    {
      "cell_type": "code",
      "execution_count": 392,
      "metadata": {
        "colab": {
          "base_uri": "https://localhost:8080/",
          "height": 424
        },
        "id": "PrRDawU20t1O",
        "outputId": "6212a7d4-e1e6-4b8f-c659-a7f778a127e3"
      },
      "outputs": [
        {
          "data": {
            "text/html": [
              "\n",
              "  <div id=\"df-740400e7-aafa-4d4c-9ab3-d585dd8be7e9\">\n",
              "    <div class=\"colab-df-container\">\n",
              "      <div>\n",
              "<style scoped>\n",
              "    .dataframe tbody tr th:only-of-type {\n",
              "        vertical-align: middle;\n",
              "    }\n",
              "\n",
              "    .dataframe tbody tr th {\n",
              "        vertical-align: top;\n",
              "    }\n",
              "\n",
              "    .dataframe thead tr th {\n",
              "        text-align: left;\n",
              "    }\n",
              "</style>\n",
              "<table border=\"1\" class=\"dataframe\">\n",
              "  <thead>\n",
              "    <tr>\n",
              "      <th></th>\n",
              "      <th>year</th>\n",
              "      <th>mileage</th>\n",
              "      <th>tax</th>\n",
              "      <th>mpg</th>\n",
              "      <th>engineSize</th>\n",
              "      <th>brand</th>\n",
              "      <th>transmission</th>\n",
              "      <th>fuelType</th>\n",
              "    </tr>\n",
              "  </thead>\n",
              "  <tbody>\n",
              "    <tr>\n",
              "      <th>0</th>\n",
              "      <td>0.477778</td>\n",
              "      <td>0.218231</td>\n",
              "      <td>0.051724</td>\n",
              "      <td>0.113264</td>\n",
              "      <td>0.193548</td>\n",
              "      <td>0.0</td>\n",
              "      <td>0.0</td>\n",
              "      <td>0.0</td>\n",
              "    </tr>\n",
              "    <tr>\n",
              "      <th>1</th>\n",
              "      <td>0.500000</td>\n",
              "      <td>0.349278</td>\n",
              "      <td>0.034483</td>\n",
              "      <td>0.144347</td>\n",
              "      <td>0.322581</td>\n",
              "      <td>1.0</td>\n",
              "      <td>0.0</td>\n",
              "      <td>1.0</td>\n",
              "    </tr>\n",
              "    <tr>\n",
              "      <th>2</th>\n",
              "      <td>0.500000</td>\n",
              "      <td>0.081682</td>\n",
              "      <td>0.051724</td>\n",
              "      <td>0.120290</td>\n",
              "      <td>0.193548</td>\n",
              "      <td>2.0</td>\n",
              "      <td>0.0</td>\n",
              "      <td>0.0</td>\n",
              "    </tr>\n",
              "    <tr>\n",
              "      <th>3</th>\n",
              "      <td>0.533333</td>\n",
              "      <td>0.079171</td>\n",
              "      <td>0.250000</td>\n",
              "      <td>0.140941</td>\n",
              "      <td>0.322581</td>\n",
              "      <td>3.0</td>\n",
              "      <td>0.0</td>\n",
              "      <td>1.0</td>\n",
              "    </tr>\n",
              "    <tr>\n",
              "      <th>4</th>\n",
              "      <td>0.544444</td>\n",
              "      <td>0.041132</td>\n",
              "      <td>0.250000</td>\n",
              "      <td>0.091548</td>\n",
              "      <td>0.161290</td>\n",
              "      <td>2.0</td>\n",
              "      <td>0.0</td>\n",
              "      <td>0.0</td>\n",
              "    </tr>\n",
              "    <tr>\n",
              "      <th>...</th>\n",
              "      <td>...</td>\n",
              "      <td>...</td>\n",
              "      <td>...</td>\n",
              "      <td>...</td>\n",
              "      <td>...</td>\n",
              "      <td>...</td>\n",
              "      <td>...</td>\n",
              "      <td>...</td>\n",
              "    </tr>\n",
              "    <tr>\n",
              "      <th>17889</th>\n",
              "      <td>0.522222</td>\n",
              "      <td>0.085641</td>\n",
              "      <td>0.250000</td>\n",
              "      <td>0.113264</td>\n",
              "      <td>0.322581</td>\n",
              "      <td>4.0</td>\n",
              "      <td>0.0</td>\n",
              "      <td>1.0</td>\n",
              "    </tr>\n",
              "    <tr>\n",
              "      <th>17890</th>\n",
              "      <td>0.511111</td>\n",
              "      <td>0.311423</td>\n",
              "      <td>0.405172</td>\n",
              "      <td>0.087503</td>\n",
              "      <td>0.483871</td>\n",
              "      <td>1.0</td>\n",
              "      <td>1.0</td>\n",
              "      <td>1.0</td>\n",
              "    </tr>\n",
              "    <tr>\n",
              "      <th>17891</th>\n",
              "      <td>0.522222</td>\n",
              "      <td>0.066218</td>\n",
              "      <td>0.258621</td>\n",
              "      <td>0.131360</td>\n",
              "      <td>0.241935</td>\n",
              "      <td>3.0</td>\n",
              "      <td>0.0</td>\n",
              "      <td>1.0</td>\n",
              "    </tr>\n",
              "    <tr>\n",
              "      <th>17892</th>\n",
              "      <td>0.533333</td>\n",
              "      <td>0.063274</td>\n",
              "      <td>0.250000</td>\n",
              "      <td>0.078987</td>\n",
              "      <td>0.322581</td>\n",
              "      <td>7.0</td>\n",
              "      <td>1.0</td>\n",
              "      <td>0.0</td>\n",
              "    </tr>\n",
              "    <tr>\n",
              "      <th>17893</th>\n",
              "      <td>0.500000</td>\n",
              "      <td>0.169527</td>\n",
              "      <td>0.051724</td>\n",
              "      <td>0.128380</td>\n",
              "      <td>0.322581</td>\n",
              "      <td>7.0</td>\n",
              "      <td>0.0</td>\n",
              "      <td>1.0</td>\n",
              "    </tr>\n",
              "  </tbody>\n",
              "</table>\n",
              "<p>17894 rows × 8 columns</p>\n",
              "</div>\n",
              "      <button class=\"colab-df-convert\" onclick=\"convertToInteractive('df-740400e7-aafa-4d4c-9ab3-d585dd8be7e9')\"\n",
              "              title=\"Convert this dataframe to an interactive table.\"\n",
              "              style=\"display:none;\">\n",
              "        \n",
              "  <svg xmlns=\"http://www.w3.org/2000/svg\" height=\"24px\"viewBox=\"0 0 24 24\"\n",
              "       width=\"24px\">\n",
              "    <path d=\"M0 0h24v24H0V0z\" fill=\"none\"/>\n",
              "    <path d=\"M18.56 5.44l.94 2.06.94-2.06 2.06-.94-2.06-.94-.94-2.06-.94 2.06-2.06.94zm-11 1L8.5 8.5l.94-2.06 2.06-.94-2.06-.94L8.5 2.5l-.94 2.06-2.06.94zm10 10l.94 2.06.94-2.06 2.06-.94-2.06-.94-.94-2.06-.94 2.06-2.06.94z\"/><path d=\"M17.41 7.96l-1.37-1.37c-.4-.4-.92-.59-1.43-.59-.52 0-1.04.2-1.43.59L10.3 9.45l-7.72 7.72c-.78.78-.78 2.05 0 2.83L4 21.41c.39.39.9.59 1.41.59.51 0 1.02-.2 1.41-.59l7.78-7.78 2.81-2.81c.8-.78.8-2.07 0-2.86zM5.41 20L4 18.59l7.72-7.72 1.47 1.35L5.41 20z\"/>\n",
              "  </svg>\n",
              "      </button>\n",
              "      \n",
              "  <style>\n",
              "    .colab-df-container {\n",
              "      display:flex;\n",
              "      flex-wrap:wrap;\n",
              "      gap: 12px;\n",
              "    }\n",
              "\n",
              "    .colab-df-convert {\n",
              "      background-color: #E8F0FE;\n",
              "      border: none;\n",
              "      border-radius: 50%;\n",
              "      cursor: pointer;\n",
              "      display: none;\n",
              "      fill: #1967D2;\n",
              "      height: 32px;\n",
              "      padding: 0 0 0 0;\n",
              "      width: 32px;\n",
              "    }\n",
              "\n",
              "    .colab-df-convert:hover {\n",
              "      background-color: #E2EBFA;\n",
              "      box-shadow: 0px 1px 2px rgba(60, 64, 67, 0.3), 0px 1px 3px 1px rgba(60, 64, 67, 0.15);\n",
              "      fill: #174EA6;\n",
              "    }\n",
              "\n",
              "    [theme=dark] .colab-df-convert {\n",
              "      background-color: #3B4455;\n",
              "      fill: #D2E3FC;\n",
              "    }\n",
              "\n",
              "    [theme=dark] .colab-df-convert:hover {\n",
              "      background-color: #434B5C;\n",
              "      box-shadow: 0px 1px 3px 1px rgba(0, 0, 0, 0.15);\n",
              "      filter: drop-shadow(0px 1px 2px rgba(0, 0, 0, 0.3));\n",
              "      fill: #FFFFFF;\n",
              "    }\n",
              "  </style>\n",
              "\n",
              "      <script>\n",
              "        const buttonEl =\n",
              "          document.querySelector('#df-740400e7-aafa-4d4c-9ab3-d585dd8be7e9 button.colab-df-convert');\n",
              "        buttonEl.style.display =\n",
              "          google.colab.kernel.accessAllowed ? 'block' : 'none';\n",
              "\n",
              "        async function convertToInteractive(key) {\n",
              "          const element = document.querySelector('#df-740400e7-aafa-4d4c-9ab3-d585dd8be7e9');\n",
              "          const dataTable =\n",
              "            await google.colab.kernel.invokeFunction('convertToInteractive',\n",
              "                                                     [key], {});\n",
              "          if (!dataTable) return;\n",
              "\n",
              "          const docLinkHtml = 'Like what you see? Visit the ' +\n",
              "            '<a target=\"_blank\" href=https://colab.research.google.com/notebooks/data_table.ipynb>data table notebook</a>'\n",
              "            + ' to learn more about interactive tables.';\n",
              "          element.innerHTML = '';\n",
              "          dataTable['output_type'] = 'display_data';\n",
              "          await google.colab.output.renderOutput(dataTable, element);\n",
              "          const docLink = document.createElement('div');\n",
              "          docLink.innerHTML = docLinkHtml;\n",
              "          element.appendChild(docLink);\n",
              "        }\n",
              "      </script>\n",
              "    </div>\n",
              "  </div>\n",
              "  "
            ],
            "text/plain": [
              "           year   mileage       tax       mpg engineSize brand transmission  \\\n",
              "0      0.477778  0.218231  0.051724  0.113264   0.193548   0.0          0.0   \n",
              "1      0.500000  0.349278  0.034483  0.144347   0.322581   1.0          0.0   \n",
              "2      0.500000  0.081682  0.051724  0.120290   0.193548   2.0          0.0   \n",
              "3      0.533333  0.079171  0.250000  0.140941   0.322581   3.0          0.0   \n",
              "4      0.544444  0.041132  0.250000  0.091548   0.161290   2.0          0.0   \n",
              "...         ...       ...       ...       ...        ...   ...          ...   \n",
              "17889  0.522222  0.085641  0.250000  0.113264   0.322581   4.0          0.0   \n",
              "17890  0.511111  0.311423  0.405172  0.087503   0.483871   1.0          1.0   \n",
              "17891  0.522222  0.066218  0.258621  0.131360   0.241935   3.0          0.0   \n",
              "17892  0.533333  0.063274  0.250000  0.078987   0.322581   7.0          1.0   \n",
              "17893  0.500000  0.169527  0.051724  0.128380   0.322581   7.0          0.0   \n",
              "\n",
              "      fuelType  \n",
              "0          0.0  \n",
              "1          1.0  \n",
              "2          0.0  \n",
              "3          1.0  \n",
              "4          0.0  \n",
              "...        ...  \n",
              "17889      1.0  \n",
              "17890      1.0  \n",
              "17891      1.0  \n",
              "17892      0.0  \n",
              "17893      1.0  \n",
              "\n",
              "[17894 rows x 8 columns]"
            ]
          },
          "execution_count": 392,
          "metadata": {},
          "output_type": "execute_result"
        }
      ],
      "source": [
        "# Membuat dataframe `X_train_final`\n",
        "X_train_final_df = pd.DataFrame(X_train_final, columns=[num_columns + cat_columns])\n",
        "X_train_final_df"
      ]
    },
    {
      "cell_type": "markdown",
      "metadata": {
        "id": "Hzgutquo1coz"
      },
      "source": [
        "# v - Model Definition\n",
        "> Bagian ini berisi cell untuk mendefinisikan model. Jelaskan alasan menggunakan suatu algoritma/model, hyperparameter yang dipakai, jenis penggunaan metrics yang dipakai, dan hal lain yang terkait dengan model."
      ]
    },
    {
      "cell_type": "code",
      "execution_count": 393,
      "metadata": {
        "id": "-XHnqfMV1gQ5"
      },
      "outputs": [],
      "source": [
        "model_lin_reg = LinearRegression() # Membuat fungsi dari LinearRegression"
      ]
    },
    {
      "cell_type": "markdown",
      "metadata": {
        "id": "DLLk_BC8A-qQ"
      },
      "source": [
        "* Menggunakan Linear Regression karena berdasarkan grafik Nomor 2, `price` akan\n",
        " tinggi apabila `mileage` rendah, sehingga dapat digunakan linear\n",
        "* Menggunakan Mean Absolute Error (MAE) karena mengukur rata-rata dari selisih absolut antara nilai train dengan test"
      ]
    },
    {
      "cell_type": "markdown",
      "metadata": {
        "id": "fjsSAYUF1jkI"
      },
      "source": [
        "# vi - Model Training\n",
        "> Cell pada bagian ini hanya berisi code untuk melatih model dan output yang dihasilkan. Lakukan beberapa kali proses training dengan hyperparameter yang berbeda untuk melihat hasil yang didapatkan. Analisis dan narasikan hasil ini pada bagian Model Evaluation."
      ]
    },
    {
      "cell_type": "code",
      "execution_count": 394,
      "metadata": {
        "colab": {
          "base_uri": "https://localhost:8080/",
          "height": 75
        },
        "id": "MOzkms7Q1pY4",
        "outputId": "e8832870-3f20-41bb-82de-6fd0e219bd41"
      },
      "outputs": [
        {
          "data": {
            "text/html": [
              "<style>#sk-container-id-6 {color: black;background-color: white;}#sk-container-id-6 pre{padding: 0;}#sk-container-id-6 div.sk-toggleable {background-color: white;}#sk-container-id-6 label.sk-toggleable__label {cursor: pointer;display: block;width: 100%;margin-bottom: 0;padding: 0.3em;box-sizing: border-box;text-align: center;}#sk-container-id-6 label.sk-toggleable__label-arrow:before {content: \"▸\";float: left;margin-right: 0.25em;color: #696969;}#sk-container-id-6 label.sk-toggleable__label-arrow:hover:before {color: black;}#sk-container-id-6 div.sk-estimator:hover label.sk-toggleable__label-arrow:before {color: black;}#sk-container-id-6 div.sk-toggleable__content {max-height: 0;max-width: 0;overflow: hidden;text-align: left;background-color: #f0f8ff;}#sk-container-id-6 div.sk-toggleable__content pre {margin: 0.2em;color: black;border-radius: 0.25em;background-color: #f0f8ff;}#sk-container-id-6 input.sk-toggleable__control:checked~div.sk-toggleable__content {max-height: 200px;max-width: 100%;overflow: auto;}#sk-container-id-6 input.sk-toggleable__control:checked~label.sk-toggleable__label-arrow:before {content: \"▾\";}#sk-container-id-6 div.sk-estimator input.sk-toggleable__control:checked~label.sk-toggleable__label {background-color: #d4ebff;}#sk-container-id-6 div.sk-label input.sk-toggleable__control:checked~label.sk-toggleable__label {background-color: #d4ebff;}#sk-container-id-6 input.sk-hidden--visually {border: 0;clip: rect(1px 1px 1px 1px);clip: rect(1px, 1px, 1px, 1px);height: 1px;margin: -1px;overflow: hidden;padding: 0;position: absolute;width: 1px;}#sk-container-id-6 div.sk-estimator {font-family: monospace;background-color: #f0f8ff;border: 1px dotted black;border-radius: 0.25em;box-sizing: border-box;margin-bottom: 0.5em;}#sk-container-id-6 div.sk-estimator:hover {background-color: #d4ebff;}#sk-container-id-6 div.sk-parallel-item::after {content: \"\";width: 100%;border-bottom: 1px solid gray;flex-grow: 1;}#sk-container-id-6 div.sk-label:hover label.sk-toggleable__label {background-color: #d4ebff;}#sk-container-id-6 div.sk-serial::before {content: \"\";position: absolute;border-left: 1px solid gray;box-sizing: border-box;top: 0;bottom: 0;left: 50%;z-index: 0;}#sk-container-id-6 div.sk-serial {display: flex;flex-direction: column;align-items: center;background-color: white;padding-right: 0.2em;padding-left: 0.2em;position: relative;}#sk-container-id-6 div.sk-item {position: relative;z-index: 1;}#sk-container-id-6 div.sk-parallel {display: flex;align-items: stretch;justify-content: center;background-color: white;position: relative;}#sk-container-id-6 div.sk-item::before, #sk-container-id-6 div.sk-parallel-item::before {content: \"\";position: absolute;border-left: 1px solid gray;box-sizing: border-box;top: 0;bottom: 0;left: 50%;z-index: -1;}#sk-container-id-6 div.sk-parallel-item {display: flex;flex-direction: column;z-index: 1;position: relative;background-color: white;}#sk-container-id-6 div.sk-parallel-item:first-child::after {align-self: flex-end;width: 50%;}#sk-container-id-6 div.sk-parallel-item:last-child::after {align-self: flex-start;width: 50%;}#sk-container-id-6 div.sk-parallel-item:only-child::after {width: 0;}#sk-container-id-6 div.sk-dashed-wrapped {border: 1px dashed gray;margin: 0 0.4em 0.5em 0.4em;box-sizing: border-box;padding-bottom: 0.4em;background-color: white;}#sk-container-id-6 div.sk-label label {font-family: monospace;font-weight: bold;display: inline-block;line-height: 1.2em;}#sk-container-id-6 div.sk-label-container {text-align: center;}#sk-container-id-6 div.sk-container {/* jupyter's `normalize.less` sets `[hidden] { display: none; }` but bootstrap.min.css set `[hidden] { display: none !important; }` so we also need the `!important` here to be able to override the default hidden behavior on the sphinx rendered scikit-learn.org. See: https://github.com/scikit-learn/scikit-learn/issues/21755 */display: inline-block !important;position: relative;}#sk-container-id-6 div.sk-text-repr-fallback {display: none;}</style><div id=\"sk-container-id-6\" class=\"sk-top-container\"><div class=\"sk-text-repr-fallback\"><pre>LinearRegression()</pre><b>In a Jupyter environment, please rerun this cell to show the HTML representation or trust the notebook. <br />On GitHub, the HTML representation is unable to render, please try loading this page with nbviewer.org.</b></div><div class=\"sk-container\" hidden><div class=\"sk-item\"><div class=\"sk-estimator sk-toggleable\"><input class=\"sk-toggleable__control sk-hidden--visually\" id=\"sk-estimator-id-6\" type=\"checkbox\" checked><label for=\"sk-estimator-id-6\" class=\"sk-toggleable__label sk-toggleable__label-arrow\">LinearRegression</label><div class=\"sk-toggleable__content\"><pre>LinearRegression()</pre></div></div></div></div></div>"
            ],
            "text/plain": [
              "LinearRegression()"
            ]
          },
          "execution_count": 394,
          "metadata": {},
          "output_type": "execute_result"
        }
      ],
      "source": [
        "model_lin_reg.fit(X_train_final, y_train) # Membuat model"
      ]
    },
    {
      "cell_type": "markdown",
      "metadata": {
        "id": "Q0v327sk2pYB"
      },
      "source": [
        "# vii - Model Evaluation\n",
        ">Pada bagian ini, dilakukan evaluasi model yang harus menunjukkan bagaimana performa model berdasarkan metrics yang dipilih. Hal ini harus dibuktikan dengan visualisasi tren performa dan/atau tingkat kesalahan model. Lakukan analisis terkait dengan hasil pada model dan tuliskan hasil analisisnya."
      ]
    },
    {
      "cell_type": "code",
      "execution_count": 395,
      "metadata": {
        "colab": {
          "base_uri": "https://localhost:8080/"
        },
        "id": "zWmZR5GC2tz3",
        "outputId": "92e89486-33c7-4ead-c60a-8c22098e0a79"
      },
      "outputs": [
        {
          "data": {
            "text/plain": [
              "array([ 3431.64757277,  9180.95245812,  8389.78405905, ...,\n",
              "       14584.63504368, 19812.10028192, 12556.89570007])"
            ]
          },
          "execution_count": 395,
          "metadata": {},
          "output_type": "execute_result"
        }
      ],
      "source": [
        "# Predict Train-Set and Test-Set\n",
        "\n",
        "y_pred_train = model_lin_reg.predict(X_train_final)\n",
        "y_pred_test = model_lin_reg.predict(X_test_final)\n",
        "y_pred_train"
      ]
    },
    {
      "cell_type": "code",
      "execution_count": 396,
      "metadata": {
        "colab": {
          "base_uri": "https://localhost:8080/"
        },
        "id": "N-rGFQUv2uth",
        "outputId": "dae1bbe2-80a3-4384-8083-bf8cd156da37"
      },
      "outputs": [
        {
          "name": "stdout",
          "output_type": "stream",
          "text": [
            "Error - Train Set :  2716.7141057416343\n",
            "Error - Test Set :  3532.607721024851\n"
          ]
        }
      ],
      "source": [
        "# Model Evaluation using MAE\n",
        "\n",
        "from sklearn.metrics import mean_absolute_error\n",
        "\n",
        "print('Error - Train Set : ', mean_absolute_error(y_train, y_pred_train))\n",
        "print('Error - Test Set : ', mean_absolute_error(y_test, y_pred_test))"
      ]
    },
    {
      "cell_type": "markdown",
      "metadata": {
        "id": "H64zmyVSCQmG"
      },
      "source": [
        "Model tersebut tergolong under-fit, karena nilai Train yang lebih rendah dibandingkan nilai Test\n",
        "\n",
        "\n"
      ]
    },
    {
      "cell_type": "markdown",
      "metadata": {
        "id": "N7YqSO6V21x_"
      },
      "source": [
        "# viii - Model Saving\n",
        ">Pada bagian ini, dilakukan proses penyimpanan model dan file-file lain yang terkait dengan hasil proses pembuatan model."
      ]
    },
    {
      "cell_type": "code",
      "execution_count": 397,
      "metadata": {
        "id": "GJogclAs28R1"
      },
      "outputs": [],
      "source": [
        "# Save the Files\n",
        "\n",
        "with open('list_num_cols.txt', 'w') as file_1:\n",
        "  json.dump(num_columns, file_1)\n",
        "\n",
        "with open('list_cat_cols.txt', 'w') as file_2:\n",
        "  json.dump(cat_columns, file_2)\n",
        "\n",
        "with open('model_scaler.pkl', 'wb') as file_3:\n",
        "  pickle.dump(scaler, file_3)\n",
        "\n",
        "with open('model_encoder.pkl', 'wb') as file_4:\n",
        "  pickle.dump(encoder, file_4)\n",
        "\n",
        "with open('model_lin_reg.pkl', 'wb') as file_5:\n",
        "  pickle.dump(model_lin_reg, file_5)"
      ]
    },
    {
      "cell_type": "markdown",
      "metadata": {
        "id": "gJA2C4Il2-wU"
      },
      "source": [
        "# ix - Model Inference\n",
        "> Model yang sudah dilatih akan dicoba pada data yang bukan termasuk ke dalam train-set ataupun test-set. Data ini harus dalam format yang asli, bukan data yang sudah di-scaled."
      ]
    },
    {
      "cell_type": "code",
      "execution_count": 398,
      "metadata": {
        "id": "cnqvehku72ZO"
      },
      "outputs": [],
      "source": [
        "# Load All Files\n",
        "\n",
        "with open('model_lin_reg.pkl', 'rb') as file_1:\n",
        "  model_lin_reg = pickle.load(file_1)\n",
        "\n",
        "with open('model_scaler.pkl', 'rb') as file_2:\n",
        "  model_scaler = pickle.load(file_2)\n",
        "\n",
        "with open('model_encoder.pkl','rb') as file_3:\n",
        "  model_encoder = pickle.load(file_3)\n",
        "\n",
        "with open('list_num_cols.txt', 'r') as file_4:\n",
        "  list_num_cols = json.load(file_4)\n",
        "\n",
        "with open('list_cat_cols.txt', 'r') as file_5:\n",
        "  list_cat_cols = json.load(file_5)"
      ]
    },
    {
      "cell_type": "code",
      "execution_count": 399,
      "metadata": {
        "colab": {
          "base_uri": "https://localhost:8080/",
          "height": 81
        },
        "id": "v3BbKHXh8Bxp",
        "outputId": "86ea09a4-7599-4e90-a5f4-0aff70379ec1"
      },
      "outputs": [
        {
          "data": {
            "text/html": [
              "\n",
              "  <div id=\"df-f29bcf4f-a147-4c9c-9c85-ab7698340bbd\">\n",
              "    <div class=\"colab-df-container\">\n",
              "      <div>\n",
              "<style scoped>\n",
              "    .dataframe tbody tr th:only-of-type {\n",
              "        vertical-align: middle;\n",
              "    }\n",
              "\n",
              "    .dataframe tbody tr th {\n",
              "        vertical-align: top;\n",
              "    }\n",
              "\n",
              "    .dataframe thead th {\n",
              "        text-align: right;\n",
              "    }\n",
              "</style>\n",
              "<table border=\"1\" class=\"dataframe\">\n",
              "  <thead>\n",
              "    <tr style=\"text-align: right;\">\n",
              "      <th></th>\n",
              "      <th>brand</th>\n",
              "      <th>model</th>\n",
              "      <th>year</th>\n",
              "      <th>transmission</th>\n",
              "      <th>mileage</th>\n",
              "      <th>fuelType</th>\n",
              "      <th>tax</th>\n",
              "      <th>mpg</th>\n",
              "      <th>engineSize</th>\n",
              "    </tr>\n",
              "  </thead>\n",
              "  <tbody>\n",
              "    <tr>\n",
              "      <th>0</th>\n",
              "      <td>Audi</td>\n",
              "      <td>Q5</td>\n",
              "      <td>2020</td>\n",
              "      <td>Automatic</td>\n",
              "      <td>15000</td>\n",
              "      <td>Electric</td>\n",
              "      <td>0</td>\n",
              "      <td>70</td>\n",
              "      <td>2.0</td>\n",
              "    </tr>\n",
              "  </tbody>\n",
              "</table>\n",
              "</div>\n",
              "      <button class=\"colab-df-convert\" onclick=\"convertToInteractive('df-f29bcf4f-a147-4c9c-9c85-ab7698340bbd')\"\n",
              "              title=\"Convert this dataframe to an interactive table.\"\n",
              "              style=\"display:none;\">\n",
              "        \n",
              "  <svg xmlns=\"http://www.w3.org/2000/svg\" height=\"24px\"viewBox=\"0 0 24 24\"\n",
              "       width=\"24px\">\n",
              "    <path d=\"M0 0h24v24H0V0z\" fill=\"none\"/>\n",
              "    <path d=\"M18.56 5.44l.94 2.06.94-2.06 2.06-.94-2.06-.94-.94-2.06-.94 2.06-2.06.94zm-11 1L8.5 8.5l.94-2.06 2.06-.94-2.06-.94L8.5 2.5l-.94 2.06-2.06.94zm10 10l.94 2.06.94-2.06 2.06-.94-2.06-.94-.94-2.06-.94 2.06-2.06.94z\"/><path d=\"M17.41 7.96l-1.37-1.37c-.4-.4-.92-.59-1.43-.59-.52 0-1.04.2-1.43.59L10.3 9.45l-7.72 7.72c-.78.78-.78 2.05 0 2.83L4 21.41c.39.39.9.59 1.41.59.51 0 1.02-.2 1.41-.59l7.78-7.78 2.81-2.81c.8-.78.8-2.07 0-2.86zM5.41 20L4 18.59l7.72-7.72 1.47 1.35L5.41 20z\"/>\n",
              "  </svg>\n",
              "      </button>\n",
              "      \n",
              "  <style>\n",
              "    .colab-df-container {\n",
              "      display:flex;\n",
              "      flex-wrap:wrap;\n",
              "      gap: 12px;\n",
              "    }\n",
              "\n",
              "    .colab-df-convert {\n",
              "      background-color: #E8F0FE;\n",
              "      border: none;\n",
              "      border-radius: 50%;\n",
              "      cursor: pointer;\n",
              "      display: none;\n",
              "      fill: #1967D2;\n",
              "      height: 32px;\n",
              "      padding: 0 0 0 0;\n",
              "      width: 32px;\n",
              "    }\n",
              "\n",
              "    .colab-df-convert:hover {\n",
              "      background-color: #E2EBFA;\n",
              "      box-shadow: 0px 1px 2px rgba(60, 64, 67, 0.3), 0px 1px 3px 1px rgba(60, 64, 67, 0.15);\n",
              "      fill: #174EA6;\n",
              "    }\n",
              "\n",
              "    [theme=dark] .colab-df-convert {\n",
              "      background-color: #3B4455;\n",
              "      fill: #D2E3FC;\n",
              "    }\n",
              "\n",
              "    [theme=dark] .colab-df-convert:hover {\n",
              "      background-color: #434B5C;\n",
              "      box-shadow: 0px 1px 3px 1px rgba(0, 0, 0, 0.15);\n",
              "      filter: drop-shadow(0px 1px 2px rgba(0, 0, 0, 0.3));\n",
              "      fill: #FFFFFF;\n",
              "    }\n",
              "  </style>\n",
              "\n",
              "      <script>\n",
              "        const buttonEl =\n",
              "          document.querySelector('#df-f29bcf4f-a147-4c9c-9c85-ab7698340bbd button.colab-df-convert');\n",
              "        buttonEl.style.display =\n",
              "          google.colab.kernel.accessAllowed ? 'block' : 'none';\n",
              "\n",
              "        async function convertToInteractive(key) {\n",
              "          const element = document.querySelector('#df-f29bcf4f-a147-4c9c-9c85-ab7698340bbd');\n",
              "          const dataTable =\n",
              "            await google.colab.kernel.invokeFunction('convertToInteractive',\n",
              "                                                     [key], {});\n",
              "          if (!dataTable) return;\n",
              "\n",
              "          const docLinkHtml = 'Like what you see? Visit the ' +\n",
              "            '<a target=\"_blank\" href=https://colab.research.google.com/notebooks/data_table.ipynb>data table notebook</a>'\n",
              "            + ' to learn more about interactive tables.';\n",
              "          element.innerHTML = '';\n",
              "          dataTable['output_type'] = 'display_data';\n",
              "          await google.colab.output.renderOutput(dataTable, element);\n",
              "          const docLink = document.createElement('div');\n",
              "          docLink.innerHTML = docLinkHtml;\n",
              "          element.appendChild(docLink);\n",
              "        }\n",
              "      </script>\n",
              "    </div>\n",
              "  </div>\n",
              "  "
            ],
            "text/plain": [
              "  brand model  year transmission  mileage  fuelType  tax  mpg  engineSize\n",
              "0  Audi    Q5  2020    Automatic    15000  Electric    0   70         2.0"
            ]
          },
          "execution_count": 399,
          "metadata": {},
          "output_type": "execute_result"
        }
      ],
      "source": [
        "data_inf = {\n",
        "    'brand'        : 'Audi',\n",
        "    'model'        : 'Q5',\n",
        "    'year'         : 2020,\n",
        "    'transmission' : 'Automatic',\n",
        "    'mileage'      : 15000,\n",
        "    'fuelType'     : 'Electric',\n",
        "    'tax'          : 0,\n",
        "    'mpg'          : 70,\n",
        "    'engineSize'   : 2.0\n",
        "}\n",
        "\n",
        "data_inf = pd.DataFrame([data_inf])\n",
        "data_inf"
      ]
    },
    {
      "cell_type": "code",
      "execution_count": 400,
      "metadata": {
        "colab": {
          "base_uri": "https://localhost:8080/",
          "height": 81
        },
        "id": "oKsJJwsL9T3i",
        "outputId": "277211b5-33b1-4bf2-ec4f-b7391a389bec"
      },
      "outputs": [
        {
          "data": {
            "text/html": [
              "\n",
              "  <div id=\"df-e9f6bb33-1135-424a-8f0d-ea7bd4af4aa5\">\n",
              "    <div class=\"colab-df-container\">\n",
              "      <div>\n",
              "<style scoped>\n",
              "    .dataframe tbody tr th:only-of-type {\n",
              "        vertical-align: middle;\n",
              "    }\n",
              "\n",
              "    .dataframe tbody tr th {\n",
              "        vertical-align: top;\n",
              "    }\n",
              "\n",
              "    .dataframe thead th {\n",
              "        text-align: right;\n",
              "    }\n",
              "</style>\n",
              "<table border=\"1\" class=\"dataframe\">\n",
              "  <thead>\n",
              "    <tr style=\"text-align: right;\">\n",
              "      <th></th>\n",
              "      <th>year</th>\n",
              "      <th>mileage</th>\n",
              "      <th>tax</th>\n",
              "      <th>mpg</th>\n",
              "      <th>engineSize</th>\n",
              "    </tr>\n",
              "  </thead>\n",
              "  <tbody>\n",
              "    <tr>\n",
              "      <th>0</th>\n",
              "      <td>2020</td>\n",
              "      <td>15000</td>\n",
              "      <td>0</td>\n",
              "      <td>70</td>\n",
              "      <td>2.0</td>\n",
              "    </tr>\n",
              "  </tbody>\n",
              "</table>\n",
              "</div>\n",
              "      <button class=\"colab-df-convert\" onclick=\"convertToInteractive('df-e9f6bb33-1135-424a-8f0d-ea7bd4af4aa5')\"\n",
              "              title=\"Convert this dataframe to an interactive table.\"\n",
              "              style=\"display:none;\">\n",
              "        \n",
              "  <svg xmlns=\"http://www.w3.org/2000/svg\" height=\"24px\"viewBox=\"0 0 24 24\"\n",
              "       width=\"24px\">\n",
              "    <path d=\"M0 0h24v24H0V0z\" fill=\"none\"/>\n",
              "    <path d=\"M18.56 5.44l.94 2.06.94-2.06 2.06-.94-2.06-.94-.94-2.06-.94 2.06-2.06.94zm-11 1L8.5 8.5l.94-2.06 2.06-.94-2.06-.94L8.5 2.5l-.94 2.06-2.06.94zm10 10l.94 2.06.94-2.06 2.06-.94-2.06-.94-.94-2.06-.94 2.06-2.06.94z\"/><path d=\"M17.41 7.96l-1.37-1.37c-.4-.4-.92-.59-1.43-.59-.52 0-1.04.2-1.43.59L10.3 9.45l-7.72 7.72c-.78.78-.78 2.05 0 2.83L4 21.41c.39.39.9.59 1.41.59.51 0 1.02-.2 1.41-.59l7.78-7.78 2.81-2.81c.8-.78.8-2.07 0-2.86zM5.41 20L4 18.59l7.72-7.72 1.47 1.35L5.41 20z\"/>\n",
              "  </svg>\n",
              "      </button>\n",
              "      \n",
              "  <style>\n",
              "    .colab-df-container {\n",
              "      display:flex;\n",
              "      flex-wrap:wrap;\n",
              "      gap: 12px;\n",
              "    }\n",
              "\n",
              "    .colab-df-convert {\n",
              "      background-color: #E8F0FE;\n",
              "      border: none;\n",
              "      border-radius: 50%;\n",
              "      cursor: pointer;\n",
              "      display: none;\n",
              "      fill: #1967D2;\n",
              "      height: 32px;\n",
              "      padding: 0 0 0 0;\n",
              "      width: 32px;\n",
              "    }\n",
              "\n",
              "    .colab-df-convert:hover {\n",
              "      background-color: #E2EBFA;\n",
              "      box-shadow: 0px 1px 2px rgba(60, 64, 67, 0.3), 0px 1px 3px 1px rgba(60, 64, 67, 0.15);\n",
              "      fill: #174EA6;\n",
              "    }\n",
              "\n",
              "    [theme=dark] .colab-df-convert {\n",
              "      background-color: #3B4455;\n",
              "      fill: #D2E3FC;\n",
              "    }\n",
              "\n",
              "    [theme=dark] .colab-df-convert:hover {\n",
              "      background-color: #434B5C;\n",
              "      box-shadow: 0px 1px 3px 1px rgba(0, 0, 0, 0.15);\n",
              "      filter: drop-shadow(0px 1px 2px rgba(0, 0, 0, 0.3));\n",
              "      fill: #FFFFFF;\n",
              "    }\n",
              "  </style>\n",
              "\n",
              "      <script>\n",
              "        const buttonEl =\n",
              "          document.querySelector('#df-e9f6bb33-1135-424a-8f0d-ea7bd4af4aa5 button.colab-df-convert');\n",
              "        buttonEl.style.display =\n",
              "          google.colab.kernel.accessAllowed ? 'block' : 'none';\n",
              "\n",
              "        async function convertToInteractive(key) {\n",
              "          const element = document.querySelector('#df-e9f6bb33-1135-424a-8f0d-ea7bd4af4aa5');\n",
              "          const dataTable =\n",
              "            await google.colab.kernel.invokeFunction('convertToInteractive',\n",
              "                                                     [key], {});\n",
              "          if (!dataTable) return;\n",
              "\n",
              "          const docLinkHtml = 'Like what you see? Visit the ' +\n",
              "            '<a target=\"_blank\" href=https://colab.research.google.com/notebooks/data_table.ipynb>data table notebook</a>'\n",
              "            + ' to learn more about interactive tables.';\n",
              "          element.innerHTML = '';\n",
              "          dataTable['output_type'] = 'display_data';\n",
              "          await google.colab.output.renderOutput(dataTable, element);\n",
              "          const docLink = document.createElement('div');\n",
              "          docLink.innerHTML = docLinkHtml;\n",
              "          element.appendChild(docLink);\n",
              "        }\n",
              "      </script>\n",
              "    </div>\n",
              "  </div>\n",
              "  "
            ],
            "text/plain": [
              "   year  mileage  tax  mpg  engineSize\n",
              "0  2020    15000    0   70         2.0"
            ]
          },
          "execution_count": 400,
          "metadata": {},
          "output_type": "execute_result"
        }
      ],
      "source": [
        "# Split between Numerical Columns and Categorical Columns\n",
        "\n",
        "data_inf_num = data_inf[list_num_cols]\n",
        "data_inf_cat = data_inf[list_cat_cols]\n",
        "data_inf_num"
      ]
    },
    {
      "cell_type": "code",
      "execution_count": 401,
      "metadata": {
        "id": "2JOfyCnY9X1B"
      },
      "outputs": [],
      "source": [
        "# Feature Scaling and Feature Encoding\n",
        "\n",
        "data_inf_num_scaled = model_scaler.transform(data_inf_num)\n",
        "data_inf_cat_encoded = model_encoder.transform(data_inf_cat)\n",
        "data_inf_final = np.concatenate([data_inf_num_scaled, data_inf_cat_encoded], axis=1)"
      ]
    },
    {
      "cell_type": "code",
      "execution_count": 402,
      "metadata": {
        "colab": {
          "base_uri": "https://localhost:8080/"
        },
        "id": "F8AdpO-W9Ymm",
        "outputId": "85c881e2-b12d-46ae-bd0d-d5e869b49430"
      },
      "outputs": [
        {
          "data": {
            "text/plain": [
              "array([25069.78573115])"
            ]
          },
          "execution_count": 402,
          "metadata": {},
          "output_type": "execute_result"
        }
      ],
      "source": [
        "# Predict using Linear Regression\n",
        "\n",
        "y_pred_inf = model_lin_reg.predict(data_inf_final)\n",
        "y_pred_inf"
      ]
    },
    {
      "cell_type": "markdown",
      "metadata": {
        "id": "NjySKlUO3DOo"
      },
      "source": [
        "# x - Pengambilan Kesimpulan\n",
        "> Pada bagian terakhir ini, harus berisi kesimpulan yang mencerminkan hasil yang didapat dengan objective yang sudah ditulis di bagian pengenalan."
      ]
    },
    {
      "cell_type": "markdown",
      "metadata": {
        "id": "13_mw-6bC4WY"
      },
      "source": [
        "Berdasarkan hasil pengerjaan, dapat disimpulkan bahwa:\n",
        "1. Dari EDA terlihat bahwa kategori mpg yang terbanyak adalah `supper efficient` dan paling sedikit adalah `not efficient`, sedangkan pada hubungan antara `price`, `mileage`, dan `fueltype` tidak memiliki korelasi.\n",
        "2. Dari Model Evaluation bahwa model tersebut tergolong under-fit, karena nilai Train yang lebih rendah dibandingkan nilai Test\n",
        "3. Saat menggunakan data inferencing, memiliki hasil prediksi harga mobil `25069.78`\n",
        "\n",
        "\n"
      ]
    }
  ],
  "metadata": {
    "colab": {
      "provenance": [],
      "toc_visible": true
    },
    "kernelspec": {
      "display_name": "Python 3",
      "name": "python3"
    },
    "language_info": {
      "codemirror_mode": {
        "name": "ipython",
        "version": 3
      },
      "file_extension": ".py",
      "mimetype": "text/x-python",
      "name": "python",
      "nbconvert_exporter": "python",
      "pygments_lexer": "ipython3",
      "version": "3.9.16"
    }
  },
  "nbformat": 4,
  "nbformat_minor": 0
}
