{
  "cells": [
    {
      "attachments": {},
      "cell_type": "markdown",
      "metadata": {
        "id": "aPPuxRfjOoum"
      },
      "source": [
        "# i - Query SQL\n",
        "> Tulis query yang telah dibuat untuk mengambil data dari Google Cloud Platform di bagian ini.\n",
        "\n",
        "```\n",
        "SELECT\n",
        "      limit_balance,\n",
        "      CAST (sex AS INT64) AS sex,\n",
        "      CAST (education_level AS INT64) AS education_level,\n",
        "      CAST (marital_status AS INT64) AS marital_status, age,\n",
        "      pay_0, pay_2, pay_3, pay_4,\n",
        "      CAST (pay_5 AS FLOAT64) AS pay_5,\n",
        "      CAST (pay_6 AS FLOAT64) AS pay_6,\n",
        "      bill_amt_1, bill_amt_2, bill_amt_3, bill_amt_4, bill_amt_5, bill_amt_6,\n",
        "      pay_amt_1, pay_amt_2, pay_amt_3, pay_amt_4, pay_amt_5, pay_amt_6,\n",
        "      CAST (default_payment_next_month AS INT64) AS default_payment_next_month\n",
        "FROM\n",
        "      bigquery-public-data.ml_datasets.credit_card_default\n",
        "Limit\n",
        "      39960       # 20 (Batch) x 1998 (Tahun Lahir)\n",
        "```"
      ]
    },
    {
      "attachments": {},
      "cell_type": "markdown",
      "metadata": {
        "id": "nEUOy0olOsht"
      },
      "source": [
        "# ii - Import Libraries\n",
        "> *Cell* pertama pada *notebook* **harus berisi dan hanya** berisi semua *library* yang digunakan dalam project."
      ]
    },
    {
      "cell_type": "code",
      "execution_count": 1,
      "metadata": {
        "id": "FOoo5b8KoDxP"
      },
      "outputs": [],
      "source": [
        "# Import Libraries\n",
        "\n",
        "# Buat memproses data\n",
        "import pandas as pd\n",
        "import numpy as np\n",
        "\n",
        "# Buat memproses grafik\n",
        "import seaborn as sns\n",
        "import matplotlib.pyplot as plt\n",
        "from matplotlib.lines import Line2D\n",
        "\n",
        "# Buat Feature Engineering\n",
        "from sklearn.model_selection import train_test_split\n",
        "from sklearn.preprocessing import MinMaxScaler\n",
        "from sklearn.pipeline import Pipeline, make_pipeline\n",
        "from sklearn.compose import ColumnTransformer\n",
        "\n",
        "# Buat definisi model\n",
        "from sklearn.linear_model import LogisticRegression\n",
        "from sklearn.svm import SVC\n",
        "from sklearn.tree import DecisionTreeClassifier\n",
        "from sklearn.ensemble import RandomForestClassifier\n",
        "from sklearn.neighbors import NearestNeighbors, KNeighborsClassifier\n",
        "from sklearn.naive_bayes import GaussianNB\n",
        "\n",
        "# Buat evaluasi model\n",
        "from sklearn.metrics import confusion_matrix, ConfusionMatrixDisplay, classification_report, precision_score, recall_score, accuracy_score, f1_score\n",
        "from sklearn.model_selection import GridSearchCV\n",
        "\n",
        "# Buat cross validation\n",
        "from sklearn.model_selection import cross_val_score\n",
        "\n",
        "# Buat import hasil model saving\n",
        "import joblib"
      ]
    },
    {
      "attachments": {},
      "cell_type": "markdown",
      "metadata": {
        "id": "3BuZf1ffOzl1"
      },
      "source": [
        "# iii - Data Loading\n",
        "> Bagian ini berisi proses penyiapan data sebelum dilakukan eksplorasi data lebih lanjut. Proses Data Loading dapat berupa memberi nama baru untuk setiap kolom, mengecek ukuran dataset, dll."
      ]
    },
    {
      "cell_type": "code",
      "execution_count": 2,
      "metadata": {},
      "outputs": [],
      "source": [
        "df = pd.read_csv (\"Credit Card Default.csv\")"
      ]
    },
    {
      "cell_type": "code",
      "execution_count": 3,
      "metadata": {
        "colab": {
          "base_uri": "https://localhost:8080/",
          "height": 456
        },
        "id": "DSGQa9AkoW3s",
        "outputId": "63ac3a35-282c-4f72-c501-aa8543f09a82"
      },
      "outputs": [
        {
          "data": {
            "text/html": [
              "<div>\n",
              "<style scoped>\n",
              "    .dataframe tbody tr th:only-of-type {\n",
              "        vertical-align: middle;\n",
              "    }\n",
              "\n",
              "    .dataframe tbody tr th {\n",
              "        vertical-align: top;\n",
              "    }\n",
              "\n",
              "    .dataframe thead th {\n",
              "        text-align: right;\n",
              "    }\n",
              "</style>\n",
              "<table border=\"1\" class=\"dataframe\">\n",
              "  <thead>\n",
              "    <tr style=\"text-align: right;\">\n",
              "      <th></th>\n",
              "      <th>limit_balance</th>\n",
              "      <th>sex</th>\n",
              "      <th>education_level</th>\n",
              "      <th>marital_status</th>\n",
              "      <th>age</th>\n",
              "      <th>pay_0</th>\n",
              "      <th>pay_2</th>\n",
              "      <th>pay_3</th>\n",
              "      <th>pay_4</th>\n",
              "      <th>pay_5</th>\n",
              "      <th>...</th>\n",
              "      <th>bill_amt_4</th>\n",
              "      <th>bill_amt_5</th>\n",
              "      <th>bill_amt_6</th>\n",
              "      <th>pay_amt_1</th>\n",
              "      <th>pay_amt_2</th>\n",
              "      <th>pay_amt_3</th>\n",
              "      <th>pay_amt_4</th>\n",
              "      <th>pay_amt_5</th>\n",
              "      <th>pay_amt_6</th>\n",
              "      <th>default_payment_next_month</th>\n",
              "    </tr>\n",
              "  </thead>\n",
              "  <tbody>\n",
              "    <tr>\n",
              "      <th>0</th>\n",
              "      <td>80000</td>\n",
              "      <td>1</td>\n",
              "      <td>6</td>\n",
              "      <td>1</td>\n",
              "      <td>54</td>\n",
              "      <td>0</td>\n",
              "      <td>0</td>\n",
              "      <td>0</td>\n",
              "      <td>0</td>\n",
              "      <td>0</td>\n",
              "      <td>...</td>\n",
              "      <td>29296</td>\n",
              "      <td>26210</td>\n",
              "      <td>17643</td>\n",
              "      <td>2545</td>\n",
              "      <td>2208</td>\n",
              "      <td>1336</td>\n",
              "      <td>2232</td>\n",
              "      <td>542</td>\n",
              "      <td>348</td>\n",
              "      <td>1</td>\n",
              "    </tr>\n",
              "    <tr>\n",
              "      <th>1</th>\n",
              "      <td>200000</td>\n",
              "      <td>1</td>\n",
              "      <td>4</td>\n",
              "      <td>1</td>\n",
              "      <td>49</td>\n",
              "      <td>0</td>\n",
              "      <td>0</td>\n",
              "      <td>0</td>\n",
              "      <td>0</td>\n",
              "      <td>0</td>\n",
              "      <td>...</td>\n",
              "      <td>50146</td>\n",
              "      <td>50235</td>\n",
              "      <td>48984</td>\n",
              "      <td>1689</td>\n",
              "      <td>2164</td>\n",
              "      <td>2500</td>\n",
              "      <td>3480</td>\n",
              "      <td>2500</td>\n",
              "      <td>3000</td>\n",
              "      <td>0</td>\n",
              "    </tr>\n",
              "    <tr>\n",
              "      <th>2</th>\n",
              "      <td>20000</td>\n",
              "      <td>2</td>\n",
              "      <td>6</td>\n",
              "      <td>2</td>\n",
              "      <td>22</td>\n",
              "      <td>0</td>\n",
              "      <td>0</td>\n",
              "      <td>0</td>\n",
              "      <td>0</td>\n",
              "      <td>0</td>\n",
              "      <td>...</td>\n",
              "      <td>1434</td>\n",
              "      <td>500</td>\n",
              "      <td>0</td>\n",
              "      <td>4641</td>\n",
              "      <td>1019</td>\n",
              "      <td>900</td>\n",
              "      <td>0</td>\n",
              "      <td>1500</td>\n",
              "      <td>0</td>\n",
              "      <td>1</td>\n",
              "    </tr>\n",
              "    <tr>\n",
              "      <th>3</th>\n",
              "      <td>260000</td>\n",
              "      <td>2</td>\n",
              "      <td>4</td>\n",
              "      <td>2</td>\n",
              "      <td>33</td>\n",
              "      <td>0</td>\n",
              "      <td>0</td>\n",
              "      <td>0</td>\n",
              "      <td>0</td>\n",
              "      <td>0</td>\n",
              "      <td>...</td>\n",
              "      <td>27821</td>\n",
              "      <td>30767</td>\n",
              "      <td>29890</td>\n",
              "      <td>5000</td>\n",
              "      <td>5000</td>\n",
              "      <td>1137</td>\n",
              "      <td>5000</td>\n",
              "      <td>1085</td>\n",
              "      <td>5000</td>\n",
              "      <td>0</td>\n",
              "    </tr>\n",
              "    <tr>\n",
              "      <th>4</th>\n",
              "      <td>150000</td>\n",
              "      <td>1</td>\n",
              "      <td>4</td>\n",
              "      <td>2</td>\n",
              "      <td>32</td>\n",
              "      <td>0</td>\n",
              "      <td>0</td>\n",
              "      <td>0</td>\n",
              "      <td>-1</td>\n",
              "      <td>0</td>\n",
              "      <td>...</td>\n",
              "      <td>150464</td>\n",
              "      <td>143375</td>\n",
              "      <td>146411</td>\n",
              "      <td>4019</td>\n",
              "      <td>146896</td>\n",
              "      <td>157436</td>\n",
              "      <td>4600</td>\n",
              "      <td>4709</td>\n",
              "      <td>5600</td>\n",
              "      <td>0</td>\n",
              "    </tr>\n",
              "    <tr>\n",
              "      <th>5</th>\n",
              "      <td>300000</td>\n",
              "      <td>2</td>\n",
              "      <td>4</td>\n",
              "      <td>2</td>\n",
              "      <td>32</td>\n",
              "      <td>0</td>\n",
              "      <td>0</td>\n",
              "      <td>0</td>\n",
              "      <td>0</td>\n",
              "      <td>0</td>\n",
              "      <td>...</td>\n",
              "      <td>65150</td>\n",
              "      <td>-450</td>\n",
              "      <td>700</td>\n",
              "      <td>15235</td>\n",
              "      <td>1491</td>\n",
              "      <td>1303</td>\n",
              "      <td>0</td>\n",
              "      <td>2000</td>\n",
              "      <td>1400</td>\n",
              "      <td>0</td>\n",
              "    </tr>\n",
              "    <tr>\n",
              "      <th>6</th>\n",
              "      <td>130000</td>\n",
              "      <td>1</td>\n",
              "      <td>1</td>\n",
              "      <td>1</td>\n",
              "      <td>45</td>\n",
              "      <td>0</td>\n",
              "      <td>0</td>\n",
              "      <td>0</td>\n",
              "      <td>0</td>\n",
              "      <td>0</td>\n",
              "      <td>...</td>\n",
              "      <td>62377</td>\n",
              "      <td>63832</td>\n",
              "      <td>65099</td>\n",
              "      <td>2886</td>\n",
              "      <td>2908</td>\n",
              "      <td>2129</td>\n",
              "      <td>2354</td>\n",
              "      <td>2366</td>\n",
              "      <td>2291</td>\n",
              "      <td>0</td>\n",
              "    </tr>\n",
              "    <tr>\n",
              "      <th>7</th>\n",
              "      <td>200000</td>\n",
              "      <td>1</td>\n",
              "      <td>1</td>\n",
              "      <td>1</td>\n",
              "      <td>58</td>\n",
              "      <td>0</td>\n",
              "      <td>0</td>\n",
              "      <td>0</td>\n",
              "      <td>0</td>\n",
              "      <td>0</td>\n",
              "      <td>...</td>\n",
              "      <td>124647</td>\n",
              "      <td>126921</td>\n",
              "      <td>129167</td>\n",
              "      <td>7822</td>\n",
              "      <td>4417</td>\n",
              "      <td>4446</td>\n",
              "      <td>4597</td>\n",
              "      <td>4677</td>\n",
              "      <td>4698</td>\n",
              "      <td>0</td>\n",
              "    </tr>\n",
              "    <tr>\n",
              "      <th>8</th>\n",
              "      <td>500000</td>\n",
              "      <td>1</td>\n",
              "      <td>1</td>\n",
              "      <td>1</td>\n",
              "      <td>39</td>\n",
              "      <td>0</td>\n",
              "      <td>0</td>\n",
              "      <td>0</td>\n",
              "      <td>0</td>\n",
              "      <td>0</td>\n",
              "      <td>...</td>\n",
              "      <td>174500</td>\n",
              "      <td>137406</td>\n",
              "      <td>204975</td>\n",
              "      <td>54209</td>\n",
              "      <td>4607</td>\n",
              "      <td>4603</td>\n",
              "      <td>5224</td>\n",
              "      <td>207440</td>\n",
              "      <td>7509</td>\n",
              "      <td>0</td>\n",
              "    </tr>\n",
              "    <tr>\n",
              "      <th>9</th>\n",
              "      <td>230000</td>\n",
              "      <td>1</td>\n",
              "      <td>1</td>\n",
              "      <td>1</td>\n",
              "      <td>48</td>\n",
              "      <td>0</td>\n",
              "      <td>0</td>\n",
              "      <td>0</td>\n",
              "      <td>0</td>\n",
              "      <td>0</td>\n",
              "      <td>...</td>\n",
              "      <td>105508</td>\n",
              "      <td>108101</td>\n",
              "      <td>110094</td>\n",
              "      <td>7000</td>\n",
              "      <td>6607</td>\n",
              "      <td>3773</td>\n",
              "      <td>4290</td>\n",
              "      <td>4164</td>\n",
              "      <td>2000</td>\n",
              "      <td>0</td>\n",
              "    </tr>\n",
              "  </tbody>\n",
              "</table>\n",
              "<p>10 rows × 24 columns</p>\n",
              "</div>"
            ],
            "text/plain": [
              "   limit_balance  sex  education_level  marital_status  age  pay_0  pay_2  \\\n",
              "0          80000    1                6               1   54      0      0   \n",
              "1         200000    1                4               1   49      0      0   \n",
              "2          20000    2                6               2   22      0      0   \n",
              "3         260000    2                4               2   33      0      0   \n",
              "4         150000    1                4               2   32      0      0   \n",
              "5         300000    2                4               2   32      0      0   \n",
              "6         130000    1                1               1   45      0      0   \n",
              "7         200000    1                1               1   58      0      0   \n",
              "8         500000    1                1               1   39      0      0   \n",
              "9         230000    1                1               1   48      0      0   \n",
              "\n",
              "   pay_3  pay_4  pay_5  ...  bill_amt_4  bill_amt_5  bill_amt_6  pay_amt_1  \\\n",
              "0      0      0      0  ...       29296       26210       17643       2545   \n",
              "1      0      0      0  ...       50146       50235       48984       1689   \n",
              "2      0      0      0  ...        1434         500           0       4641   \n",
              "3      0      0      0  ...       27821       30767       29890       5000   \n",
              "4      0     -1      0  ...      150464      143375      146411       4019   \n",
              "5      0      0      0  ...       65150        -450         700      15235   \n",
              "6      0      0      0  ...       62377       63832       65099       2886   \n",
              "7      0      0      0  ...      124647      126921      129167       7822   \n",
              "8      0      0      0  ...      174500      137406      204975      54209   \n",
              "9      0      0      0  ...      105508      108101      110094       7000   \n",
              "\n",
              "   pay_amt_2  pay_amt_3  pay_amt_4  pay_amt_5  pay_amt_6  \\\n",
              "0       2208       1336       2232        542        348   \n",
              "1       2164       2500       3480       2500       3000   \n",
              "2       1019        900          0       1500          0   \n",
              "3       5000       1137       5000       1085       5000   \n",
              "4     146896     157436       4600       4709       5600   \n",
              "5       1491       1303          0       2000       1400   \n",
              "6       2908       2129       2354       2366       2291   \n",
              "7       4417       4446       4597       4677       4698   \n",
              "8       4607       4603       5224     207440       7509   \n",
              "9       6607       3773       4290       4164       2000   \n",
              "\n",
              "   default_payment_next_month  \n",
              "0                           1  \n",
              "1                           0  \n",
              "2                           1  \n",
              "3                           0  \n",
              "4                           0  \n",
              "5                           0  \n",
              "6                           0  \n",
              "7                           0  \n",
              "8                           0  \n",
              "9                           0  \n",
              "\n",
              "[10 rows x 24 columns]"
            ]
          },
          "execution_count": 3,
          "metadata": {},
          "output_type": "execute_result"
        }
      ],
      "source": [
        "# Menampilkan 10 data pertama\n",
        "df.head(10)"
      ]
    },
    {
      "cell_type": "code",
      "execution_count": 4,
      "metadata": {
        "colab": {
          "base_uri": "https://localhost:8080/",
          "height": 456
        },
        "id": "saRQM16uR3pk",
        "outputId": "7be48a91-4c58-46d3-aad2-9c7087b6205d"
      },
      "outputs": [
        {
          "data": {
            "text/html": [
              "<div>\n",
              "<style scoped>\n",
              "    .dataframe tbody tr th:only-of-type {\n",
              "        vertical-align: middle;\n",
              "    }\n",
              "\n",
              "    .dataframe tbody tr th {\n",
              "        vertical-align: top;\n",
              "    }\n",
              "\n",
              "    .dataframe thead th {\n",
              "        text-align: right;\n",
              "    }\n",
              "</style>\n",
              "<table border=\"1\" class=\"dataframe\">\n",
              "  <thead>\n",
              "    <tr style=\"text-align: right;\">\n",
              "      <th></th>\n",
              "      <th>limit_balance</th>\n",
              "      <th>sex</th>\n",
              "      <th>education_level</th>\n",
              "      <th>marital_status</th>\n",
              "      <th>age</th>\n",
              "      <th>pay_0</th>\n",
              "      <th>pay_2</th>\n",
              "      <th>pay_3</th>\n",
              "      <th>pay_4</th>\n",
              "      <th>pay_5</th>\n",
              "      <th>...</th>\n",
              "      <th>bill_amt_4</th>\n",
              "      <th>bill_amt_5</th>\n",
              "      <th>bill_amt_6</th>\n",
              "      <th>pay_amt_1</th>\n",
              "      <th>pay_amt_2</th>\n",
              "      <th>pay_amt_3</th>\n",
              "      <th>pay_amt_4</th>\n",
              "      <th>pay_amt_5</th>\n",
              "      <th>pay_amt_6</th>\n",
              "      <th>default_payment_next_month</th>\n",
              "    </tr>\n",
              "  </thead>\n",
              "  <tbody>\n",
              "    <tr>\n",
              "      <th>2955</th>\n",
              "      <td>360000</td>\n",
              "      <td>2</td>\n",
              "      <td>2</td>\n",
              "      <td>2</td>\n",
              "      <td>26</td>\n",
              "      <td>-1</td>\n",
              "      <td>-1</td>\n",
              "      <td>-1</td>\n",
              "      <td>-1</td>\n",
              "      <td>-2</td>\n",
              "      <td>...</td>\n",
              "      <td>0</td>\n",
              "      <td>0</td>\n",
              "      <td>0</td>\n",
              "      <td>463</td>\n",
              "      <td>2500</td>\n",
              "      <td>0</td>\n",
              "      <td>0</td>\n",
              "      <td>0</td>\n",
              "      <td>0</td>\n",
              "      <td>0</td>\n",
              "    </tr>\n",
              "    <tr>\n",
              "      <th>2956</th>\n",
              "      <td>100000</td>\n",
              "      <td>1</td>\n",
              "      <td>3</td>\n",
              "      <td>1</td>\n",
              "      <td>40</td>\n",
              "      <td>0</td>\n",
              "      <td>0</td>\n",
              "      <td>-1</td>\n",
              "      <td>-1</td>\n",
              "      <td>-2</td>\n",
              "      <td>...</td>\n",
              "      <td>0</td>\n",
              "      <td>0</td>\n",
              "      <td>0</td>\n",
              "      <td>2000</td>\n",
              "      <td>2377</td>\n",
              "      <td>40000</td>\n",
              "      <td>0</td>\n",
              "      <td>0</td>\n",
              "      <td>0</td>\n",
              "      <td>0</td>\n",
              "    </tr>\n",
              "    <tr>\n",
              "      <th>2957</th>\n",
              "      <td>30000</td>\n",
              "      <td>2</td>\n",
              "      <td>3</td>\n",
              "      <td>1</td>\n",
              "      <td>48</td>\n",
              "      <td>1</td>\n",
              "      <td>-1</td>\n",
              "      <td>-1</td>\n",
              "      <td>-2</td>\n",
              "      <td>-2</td>\n",
              "      <td>...</td>\n",
              "      <td>0</td>\n",
              "      <td>0</td>\n",
              "      <td>0</td>\n",
              "      <td>200</td>\n",
              "      <td>0</td>\n",
              "      <td>0</td>\n",
              "      <td>0</td>\n",
              "      <td>0</td>\n",
              "      <td>0</td>\n",
              "      <td>0</td>\n",
              "    </tr>\n",
              "    <tr>\n",
              "      <th>2958</th>\n",
              "      <td>80000</td>\n",
              "      <td>2</td>\n",
              "      <td>3</td>\n",
              "      <td>1</td>\n",
              "      <td>39</td>\n",
              "      <td>-1</td>\n",
              "      <td>-1</td>\n",
              "      <td>-1</td>\n",
              "      <td>-1</td>\n",
              "      <td>-2</td>\n",
              "      <td>...</td>\n",
              "      <td>0</td>\n",
              "      <td>0</td>\n",
              "      <td>5000</td>\n",
              "      <td>5000</td>\n",
              "      <td>5000</td>\n",
              "      <td>0</td>\n",
              "      <td>5000</td>\n",
              "      <td>5000</td>\n",
              "      <td>470</td>\n",
              "      <td>0</td>\n",
              "    </tr>\n",
              "    <tr>\n",
              "      <th>2959</th>\n",
              "      <td>20000</td>\n",
              "      <td>1</td>\n",
              "      <td>3</td>\n",
              "      <td>2</td>\n",
              "      <td>26</td>\n",
              "      <td>-1</td>\n",
              "      <td>-1</td>\n",
              "      <td>-1</td>\n",
              "      <td>-2</td>\n",
              "      <td>-2</td>\n",
              "      <td>...</td>\n",
              "      <td>0</td>\n",
              "      <td>0</td>\n",
              "      <td>0</td>\n",
              "      <td>1560</td>\n",
              "      <td>0</td>\n",
              "      <td>0</td>\n",
              "      <td>0</td>\n",
              "      <td>0</td>\n",
              "      <td>0</td>\n",
              "      <td>0</td>\n",
              "    </tr>\n",
              "    <tr>\n",
              "      <th>2960</th>\n",
              "      <td>80000</td>\n",
              "      <td>2</td>\n",
              "      <td>3</td>\n",
              "      <td>2</td>\n",
              "      <td>28</td>\n",
              "      <td>-1</td>\n",
              "      <td>-1</td>\n",
              "      <td>-1</td>\n",
              "      <td>-2</td>\n",
              "      <td>-2</td>\n",
              "      <td>...</td>\n",
              "      <td>0</td>\n",
              "      <td>0</td>\n",
              "      <td>0</td>\n",
              "      <td>2800</td>\n",
              "      <td>0</td>\n",
              "      <td>0</td>\n",
              "      <td>0</td>\n",
              "      <td>0</td>\n",
              "      <td>0</td>\n",
              "      <td>0</td>\n",
              "    </tr>\n",
              "    <tr>\n",
              "      <th>2961</th>\n",
              "      <td>50000</td>\n",
              "      <td>2</td>\n",
              "      <td>3</td>\n",
              "      <td>1</td>\n",
              "      <td>51</td>\n",
              "      <td>-1</td>\n",
              "      <td>-1</td>\n",
              "      <td>-1</td>\n",
              "      <td>-1</td>\n",
              "      <td>-2</td>\n",
              "      <td>...</td>\n",
              "      <td>0</td>\n",
              "      <td>0</td>\n",
              "      <td>0</td>\n",
              "      <td>300</td>\n",
              "      <td>5880</td>\n",
              "      <td>0</td>\n",
              "      <td>0</td>\n",
              "      <td>0</td>\n",
              "      <td>0</td>\n",
              "      <td>1</td>\n",
              "    </tr>\n",
              "    <tr>\n",
              "      <th>2962</th>\n",
              "      <td>450000</td>\n",
              "      <td>2</td>\n",
              "      <td>2</td>\n",
              "      <td>1</td>\n",
              "      <td>38</td>\n",
              "      <td>-2</td>\n",
              "      <td>-2</td>\n",
              "      <td>-2</td>\n",
              "      <td>-2</td>\n",
              "      <td>-2</td>\n",
              "      <td>...</td>\n",
              "      <td>390</td>\n",
              "      <td>390</td>\n",
              "      <td>390</td>\n",
              "      <td>390</td>\n",
              "      <td>780</td>\n",
              "      <td>390</td>\n",
              "      <td>390</td>\n",
              "      <td>390</td>\n",
              "      <td>390</td>\n",
              "      <td>1</td>\n",
              "    </tr>\n",
              "    <tr>\n",
              "      <th>2963</th>\n",
              "      <td>50000</td>\n",
              "      <td>2</td>\n",
              "      <td>2</td>\n",
              "      <td>1</td>\n",
              "      <td>44</td>\n",
              "      <td>-2</td>\n",
              "      <td>-2</td>\n",
              "      <td>-2</td>\n",
              "      <td>-2</td>\n",
              "      <td>-2</td>\n",
              "      <td>...</td>\n",
              "      <td>390</td>\n",
              "      <td>390</td>\n",
              "      <td>0</td>\n",
              "      <td>390</td>\n",
              "      <td>390</td>\n",
              "      <td>390</td>\n",
              "      <td>390</td>\n",
              "      <td>0</td>\n",
              "      <td>780</td>\n",
              "      <td>0</td>\n",
              "    </tr>\n",
              "    <tr>\n",
              "      <th>2964</th>\n",
              "      <td>290000</td>\n",
              "      <td>2</td>\n",
              "      <td>2</td>\n",
              "      <td>1</td>\n",
              "      <td>39</td>\n",
              "      <td>1</td>\n",
              "      <td>-2</td>\n",
              "      <td>-2</td>\n",
              "      <td>-2</td>\n",
              "      <td>-2</td>\n",
              "      <td>...</td>\n",
              "      <td>3184</td>\n",
              "      <td>390</td>\n",
              "      <td>390</td>\n",
              "      <td>10000</td>\n",
              "      <td>800</td>\n",
              "      <td>3184</td>\n",
              "      <td>390</td>\n",
              "      <td>390</td>\n",
              "      <td>6617</td>\n",
              "      <td>0</td>\n",
              "    </tr>\n",
              "  </tbody>\n",
              "</table>\n",
              "<p>10 rows × 24 columns</p>\n",
              "</div>"
            ],
            "text/plain": [
              "      limit_balance  sex  education_level  marital_status  age  pay_0  pay_2  \\\n",
              "2955         360000    2                2               2   26     -1     -1   \n",
              "2956         100000    1                3               1   40      0      0   \n",
              "2957          30000    2                3               1   48      1     -1   \n",
              "2958          80000    2                3               1   39     -1     -1   \n",
              "2959          20000    1                3               2   26     -1     -1   \n",
              "2960          80000    2                3               2   28     -1     -1   \n",
              "2961          50000    2                3               1   51     -1     -1   \n",
              "2962         450000    2                2               1   38     -2     -2   \n",
              "2963          50000    2                2               1   44     -2     -2   \n",
              "2964         290000    2                2               1   39      1     -2   \n",
              "\n",
              "      pay_3  pay_4  pay_5  ...  bill_amt_4  bill_amt_5  bill_amt_6  pay_amt_1  \\\n",
              "2955     -1     -1     -2  ...           0           0           0        463   \n",
              "2956     -1     -1     -2  ...           0           0           0       2000   \n",
              "2957     -1     -2     -2  ...           0           0           0        200   \n",
              "2958     -1     -1     -2  ...           0           0        5000       5000   \n",
              "2959     -1     -2     -2  ...           0           0           0       1560   \n",
              "2960     -1     -2     -2  ...           0           0           0       2800   \n",
              "2961     -1     -1     -2  ...           0           0           0        300   \n",
              "2962     -2     -2     -2  ...         390         390         390        390   \n",
              "2963     -2     -2     -2  ...         390         390           0        390   \n",
              "2964     -2     -2     -2  ...        3184         390         390      10000   \n",
              "\n",
              "      pay_amt_2  pay_amt_3  pay_amt_4  pay_amt_5  pay_amt_6  \\\n",
              "2955       2500          0          0          0          0   \n",
              "2956       2377      40000          0          0          0   \n",
              "2957          0          0          0          0          0   \n",
              "2958       5000          0       5000       5000        470   \n",
              "2959          0          0          0          0          0   \n",
              "2960          0          0          0          0          0   \n",
              "2961       5880          0          0          0          0   \n",
              "2962        780        390        390        390        390   \n",
              "2963        390        390        390          0        780   \n",
              "2964        800       3184        390        390       6617   \n",
              "\n",
              "      default_payment_next_month  \n",
              "2955                           0  \n",
              "2956                           0  \n",
              "2957                           0  \n",
              "2958                           0  \n",
              "2959                           0  \n",
              "2960                           0  \n",
              "2961                           1  \n",
              "2962                           1  \n",
              "2963                           0  \n",
              "2964                           0  \n",
              "\n",
              "[10 rows x 24 columns]"
            ]
          },
          "execution_count": 4,
          "metadata": {},
          "output_type": "execute_result"
        }
      ],
      "source": [
        "# Menampilkan 10 data terakhir\n",
        "df.tail(10)"
      ]
    },
    {
      "cell_type": "code",
      "execution_count": 5,
      "metadata": {
        "colab": {
          "base_uri": "https://localhost:8080/",
          "height": 488
        },
        "id": "C4Jd3is3TxPQ",
        "outputId": "a97523b7-f241-4205-8394-065569160122"
      },
      "outputs": [
        {
          "data": {
            "text/html": [
              "<div>\n",
              "<style scoped>\n",
              "    .dataframe tbody tr th:only-of-type {\n",
              "        vertical-align: middle;\n",
              "    }\n",
              "\n",
              "    .dataframe tbody tr th {\n",
              "        vertical-align: top;\n",
              "    }\n",
              "\n",
              "    .dataframe thead th {\n",
              "        text-align: right;\n",
              "    }\n",
              "</style>\n",
              "<table border=\"1\" class=\"dataframe\">\n",
              "  <thead>\n",
              "    <tr style=\"text-align: right;\">\n",
              "      <th></th>\n",
              "      <th>limit_balance</th>\n",
              "      <th>sex</th>\n",
              "      <th>education_level</th>\n",
              "      <th>marital_status</th>\n",
              "      <th>age</th>\n",
              "      <th>pay_0</th>\n",
              "      <th>pay_2</th>\n",
              "      <th>pay_3</th>\n",
              "      <th>pay_4</th>\n",
              "      <th>pay_5</th>\n",
              "      <th>...</th>\n",
              "      <th>bill_amt_4</th>\n",
              "      <th>bill_amt_5</th>\n",
              "      <th>bill_amt_6</th>\n",
              "      <th>pay_amt_1</th>\n",
              "      <th>pay_amt_2</th>\n",
              "      <th>pay_amt_3</th>\n",
              "      <th>pay_amt_4</th>\n",
              "      <th>pay_amt_5</th>\n",
              "      <th>pay_amt_6</th>\n",
              "      <th>default_payment_next_month</th>\n",
              "    </tr>\n",
              "  </thead>\n",
              "  <tbody>\n",
              "    <tr>\n",
              "      <th>0</th>\n",
              "      <td>80000</td>\n",
              "      <td>1</td>\n",
              "      <td>6</td>\n",
              "      <td>1</td>\n",
              "      <td>54</td>\n",
              "      <td>0</td>\n",
              "      <td>0</td>\n",
              "      <td>0</td>\n",
              "      <td>0</td>\n",
              "      <td>0</td>\n",
              "      <td>...</td>\n",
              "      <td>29296</td>\n",
              "      <td>26210</td>\n",
              "      <td>17643</td>\n",
              "      <td>2545</td>\n",
              "      <td>2208</td>\n",
              "      <td>1336</td>\n",
              "      <td>2232</td>\n",
              "      <td>542</td>\n",
              "      <td>348</td>\n",
              "      <td>1</td>\n",
              "    </tr>\n",
              "    <tr>\n",
              "      <th>1</th>\n",
              "      <td>200000</td>\n",
              "      <td>1</td>\n",
              "      <td>4</td>\n",
              "      <td>1</td>\n",
              "      <td>49</td>\n",
              "      <td>0</td>\n",
              "      <td>0</td>\n",
              "      <td>0</td>\n",
              "      <td>0</td>\n",
              "      <td>0</td>\n",
              "      <td>...</td>\n",
              "      <td>50146</td>\n",
              "      <td>50235</td>\n",
              "      <td>48984</td>\n",
              "      <td>1689</td>\n",
              "      <td>2164</td>\n",
              "      <td>2500</td>\n",
              "      <td>3480</td>\n",
              "      <td>2500</td>\n",
              "      <td>3000</td>\n",
              "      <td>0</td>\n",
              "    </tr>\n",
              "    <tr>\n",
              "      <th>2</th>\n",
              "      <td>20000</td>\n",
              "      <td>2</td>\n",
              "      <td>6</td>\n",
              "      <td>2</td>\n",
              "      <td>22</td>\n",
              "      <td>0</td>\n",
              "      <td>0</td>\n",
              "      <td>0</td>\n",
              "      <td>0</td>\n",
              "      <td>0</td>\n",
              "      <td>...</td>\n",
              "      <td>1434</td>\n",
              "      <td>500</td>\n",
              "      <td>0</td>\n",
              "      <td>4641</td>\n",
              "      <td>1019</td>\n",
              "      <td>900</td>\n",
              "      <td>0</td>\n",
              "      <td>1500</td>\n",
              "      <td>0</td>\n",
              "      <td>1</td>\n",
              "    </tr>\n",
              "    <tr>\n",
              "      <th>3</th>\n",
              "      <td>260000</td>\n",
              "      <td>2</td>\n",
              "      <td>4</td>\n",
              "      <td>2</td>\n",
              "      <td>33</td>\n",
              "      <td>0</td>\n",
              "      <td>0</td>\n",
              "      <td>0</td>\n",
              "      <td>0</td>\n",
              "      <td>0</td>\n",
              "      <td>...</td>\n",
              "      <td>27821</td>\n",
              "      <td>30767</td>\n",
              "      <td>29890</td>\n",
              "      <td>5000</td>\n",
              "      <td>5000</td>\n",
              "      <td>1137</td>\n",
              "      <td>5000</td>\n",
              "      <td>1085</td>\n",
              "      <td>5000</td>\n",
              "      <td>0</td>\n",
              "    </tr>\n",
              "    <tr>\n",
              "      <th>4</th>\n",
              "      <td>150000</td>\n",
              "      <td>1</td>\n",
              "      <td>4</td>\n",
              "      <td>2</td>\n",
              "      <td>32</td>\n",
              "      <td>0</td>\n",
              "      <td>0</td>\n",
              "      <td>0</td>\n",
              "      <td>-1</td>\n",
              "      <td>0</td>\n",
              "      <td>...</td>\n",
              "      <td>150464</td>\n",
              "      <td>143375</td>\n",
              "      <td>146411</td>\n",
              "      <td>4019</td>\n",
              "      <td>146896</td>\n",
              "      <td>157436</td>\n",
              "      <td>4600</td>\n",
              "      <td>4709</td>\n",
              "      <td>5600</td>\n",
              "      <td>0</td>\n",
              "    </tr>\n",
              "    <tr>\n",
              "      <th>...</th>\n",
              "      <td>...</td>\n",
              "      <td>...</td>\n",
              "      <td>...</td>\n",
              "      <td>...</td>\n",
              "      <td>...</td>\n",
              "      <td>...</td>\n",
              "      <td>...</td>\n",
              "      <td>...</td>\n",
              "      <td>...</td>\n",
              "      <td>...</td>\n",
              "      <td>...</td>\n",
              "      <td>...</td>\n",
              "      <td>...</td>\n",
              "      <td>...</td>\n",
              "      <td>...</td>\n",
              "      <td>...</td>\n",
              "      <td>...</td>\n",
              "      <td>...</td>\n",
              "      <td>...</td>\n",
              "      <td>...</td>\n",
              "      <td>...</td>\n",
              "    </tr>\n",
              "    <tr>\n",
              "      <th>2960</th>\n",
              "      <td>80000</td>\n",
              "      <td>2</td>\n",
              "      <td>3</td>\n",
              "      <td>2</td>\n",
              "      <td>28</td>\n",
              "      <td>-1</td>\n",
              "      <td>-1</td>\n",
              "      <td>-1</td>\n",
              "      <td>-2</td>\n",
              "      <td>-2</td>\n",
              "      <td>...</td>\n",
              "      <td>0</td>\n",
              "      <td>0</td>\n",
              "      <td>0</td>\n",
              "      <td>2800</td>\n",
              "      <td>0</td>\n",
              "      <td>0</td>\n",
              "      <td>0</td>\n",
              "      <td>0</td>\n",
              "      <td>0</td>\n",
              "      <td>0</td>\n",
              "    </tr>\n",
              "    <tr>\n",
              "      <th>2961</th>\n",
              "      <td>50000</td>\n",
              "      <td>2</td>\n",
              "      <td>3</td>\n",
              "      <td>1</td>\n",
              "      <td>51</td>\n",
              "      <td>-1</td>\n",
              "      <td>-1</td>\n",
              "      <td>-1</td>\n",
              "      <td>-1</td>\n",
              "      <td>-2</td>\n",
              "      <td>...</td>\n",
              "      <td>0</td>\n",
              "      <td>0</td>\n",
              "      <td>0</td>\n",
              "      <td>300</td>\n",
              "      <td>5880</td>\n",
              "      <td>0</td>\n",
              "      <td>0</td>\n",
              "      <td>0</td>\n",
              "      <td>0</td>\n",
              "      <td>1</td>\n",
              "    </tr>\n",
              "    <tr>\n",
              "      <th>2962</th>\n",
              "      <td>450000</td>\n",
              "      <td>2</td>\n",
              "      <td>2</td>\n",
              "      <td>1</td>\n",
              "      <td>38</td>\n",
              "      <td>-2</td>\n",
              "      <td>-2</td>\n",
              "      <td>-2</td>\n",
              "      <td>-2</td>\n",
              "      <td>-2</td>\n",
              "      <td>...</td>\n",
              "      <td>390</td>\n",
              "      <td>390</td>\n",
              "      <td>390</td>\n",
              "      <td>390</td>\n",
              "      <td>780</td>\n",
              "      <td>390</td>\n",
              "      <td>390</td>\n",
              "      <td>390</td>\n",
              "      <td>390</td>\n",
              "      <td>1</td>\n",
              "    </tr>\n",
              "    <tr>\n",
              "      <th>2963</th>\n",
              "      <td>50000</td>\n",
              "      <td>2</td>\n",
              "      <td>2</td>\n",
              "      <td>1</td>\n",
              "      <td>44</td>\n",
              "      <td>-2</td>\n",
              "      <td>-2</td>\n",
              "      <td>-2</td>\n",
              "      <td>-2</td>\n",
              "      <td>-2</td>\n",
              "      <td>...</td>\n",
              "      <td>390</td>\n",
              "      <td>390</td>\n",
              "      <td>0</td>\n",
              "      <td>390</td>\n",
              "      <td>390</td>\n",
              "      <td>390</td>\n",
              "      <td>390</td>\n",
              "      <td>0</td>\n",
              "      <td>780</td>\n",
              "      <td>0</td>\n",
              "    </tr>\n",
              "    <tr>\n",
              "      <th>2964</th>\n",
              "      <td>290000</td>\n",
              "      <td>2</td>\n",
              "      <td>2</td>\n",
              "      <td>1</td>\n",
              "      <td>39</td>\n",
              "      <td>1</td>\n",
              "      <td>-2</td>\n",
              "      <td>-2</td>\n",
              "      <td>-2</td>\n",
              "      <td>-2</td>\n",
              "      <td>...</td>\n",
              "      <td>3184</td>\n",
              "      <td>390</td>\n",
              "      <td>390</td>\n",
              "      <td>10000</td>\n",
              "      <td>800</td>\n",
              "      <td>3184</td>\n",
              "      <td>390</td>\n",
              "      <td>390</td>\n",
              "      <td>6617</td>\n",
              "      <td>0</td>\n",
              "    </tr>\n",
              "  </tbody>\n",
              "</table>\n",
              "<p>2965 rows × 24 columns</p>\n",
              "</div>"
            ],
            "text/plain": [
              "      limit_balance  sex  education_level  marital_status  age  pay_0  pay_2  \\\n",
              "0             80000    1                6               1   54      0      0   \n",
              "1            200000    1                4               1   49      0      0   \n",
              "2             20000    2                6               2   22      0      0   \n",
              "3            260000    2                4               2   33      0      0   \n",
              "4            150000    1                4               2   32      0      0   \n",
              "...             ...  ...              ...             ...  ...    ...    ...   \n",
              "2960          80000    2                3               2   28     -1     -1   \n",
              "2961          50000    2                3               1   51     -1     -1   \n",
              "2962         450000    2                2               1   38     -2     -2   \n",
              "2963          50000    2                2               1   44     -2     -2   \n",
              "2964         290000    2                2               1   39      1     -2   \n",
              "\n",
              "      pay_3  pay_4  pay_5  ...  bill_amt_4  bill_amt_5  bill_amt_6  pay_amt_1  \\\n",
              "0         0      0      0  ...       29296       26210       17643       2545   \n",
              "1         0      0      0  ...       50146       50235       48984       1689   \n",
              "2         0      0      0  ...        1434         500           0       4641   \n",
              "3         0      0      0  ...       27821       30767       29890       5000   \n",
              "4         0     -1      0  ...      150464      143375      146411       4019   \n",
              "...     ...    ...    ...  ...         ...         ...         ...        ...   \n",
              "2960     -1     -2     -2  ...           0           0           0       2800   \n",
              "2961     -1     -1     -2  ...           0           0           0        300   \n",
              "2962     -2     -2     -2  ...         390         390         390        390   \n",
              "2963     -2     -2     -2  ...         390         390           0        390   \n",
              "2964     -2     -2     -2  ...        3184         390         390      10000   \n",
              "\n",
              "      pay_amt_2  pay_amt_3  pay_amt_4  pay_amt_5  pay_amt_6  \\\n",
              "0          2208       1336       2232        542        348   \n",
              "1          2164       2500       3480       2500       3000   \n",
              "2          1019        900          0       1500          0   \n",
              "3          5000       1137       5000       1085       5000   \n",
              "4        146896     157436       4600       4709       5600   \n",
              "...         ...        ...        ...        ...        ...   \n",
              "2960          0          0          0          0          0   \n",
              "2961       5880          0          0          0          0   \n",
              "2962        780        390        390        390        390   \n",
              "2963        390        390        390          0        780   \n",
              "2964        800       3184        390        390       6617   \n",
              "\n",
              "      default_payment_next_month  \n",
              "0                              1  \n",
              "1                              0  \n",
              "2                              1  \n",
              "3                              0  \n",
              "4                              0  \n",
              "...                          ...  \n",
              "2960                           0  \n",
              "2961                           1  \n",
              "2962                           1  \n",
              "2963                           0  \n",
              "2964                           0  \n",
              "\n",
              "[2965 rows x 24 columns]"
            ]
          },
          "execution_count": 5,
          "metadata": {},
          "output_type": "execute_result"
        }
      ],
      "source": [
        "# Menampilkan dataFrame\n",
        "df"
      ]
    },
    {
      "attachments": {},
      "cell_type": "markdown",
      "metadata": {
        "id": "q3kVQ43NvUNR"
      },
      "source": [
        "Penjelasan tiap kolom:\n",
        "\n",
        "| Kolom      | Penjelasan |\n",
        "| :-----------: | ----------- |\n",
        "|`limit_balance`| Amount of given credit in NT dollars (includes individual and family/supplementary credit)|\n",
        "|`sex` | Gender (1=male, 2=female) |\n",
        "|`education_level` | Education Level (1=graduate school, 2=university, 3=high school, 4=others, 5=unknown, 6=unknown) |\n",
        "|`marital_status` | Marital status (1=married, 2=single, 3=others) |\n",
        "|`age` | Age in years |\n",
        "|`pay_0` | Repayment status in September, 2005 (-1=pay duly, 1=payment delay for one month, 2=payment delay for two months, ... 8=payment delay for eight months, 9=payment delay for nine months and above) |\n",
        "|`pay_2` | Repayment status in August, 2005 (scale same as above) |\n",
        "|`pay_3` | Repayment status in July, 2005 (scale same as above)  |\n",
        "|`pay_4` | Repayment status in June, 2005 (scale same as above) |\n",
        "|`pay_5` | Repayment status in May, 2005 (scale same as above)  |\n",
        "|`pay_6` | Repayment status in April, 2005 (scale same as above)  |\n",
        "|`bill_amt_1` | Amount of bill statement in September, 2005 (NT dollar)   |\n",
        "|`bill_amt_2` | Amount of bill statement in August, 2005 (NT dollar) |\n",
        "|`bill_amt_3` | Amount of bill statement in July, 2005 (NT dollar) |\n",
        "|`bill_amt_4` | Amount of bill statement in June, 2005 (NT dollar) |\n",
        "|`bill_amt_5` | Amount of bill statement in May, 2005 (NT dollar) |\n",
        "|`bill_amt_6` | Amount of bill statement in April, 2005 (NT dollar) |\n",
        "|`pay_amt_1` | Amount of previous payment in September, 2005 (NT dollar) |\n",
        "|`pay_amt_2` | Amount of previous payment in August, 2005 (NT dollar) |\n",
        "|`pay_amt_3` | Amount of previous payment in July, 2005 (NT dollar) |\n",
        "|`pay_amt_4` | Amount of previous payment in June, 2005 (NT dollar) |\n",
        "|`pay_amt_5` | Amount of previous payment in May, 2005 (NT dollar) |\n",
        "|`pay_amt_6` | Amount of previous payment in April, 2005 (NT dollar)  |\n",
        "|`default_payment_next_month` | Default payment (1=yes, 0=no) |\n"
      ]
    },
    {
      "attachments": {},
      "cell_type": "markdown",
      "metadata": {
        "id": "ksXFrmzfO3SF"
      },
      "source": [
        "# iv - Exploratory Data Analysis (EDA)\n",
        "> Bagian ini berisi eksplorasi data pada dataset diatas dengan menggunakan query, grouping, visualisasi sederhana, dan lain sebagainya."
      ]
    },
    {
      "attachments": {},
      "cell_type": "markdown",
      "metadata": {},
      "source": [
        "## Melihat data statistik pada data frame"
      ]
    },
    {
      "cell_type": "code",
      "execution_count": 6,
      "metadata": {},
      "outputs": [
        {
          "data": {
            "text/html": [
              "<div>\n",
              "<style scoped>\n",
              "    .dataframe tbody tr th:only-of-type {\n",
              "        vertical-align: middle;\n",
              "    }\n",
              "\n",
              "    .dataframe tbody tr th {\n",
              "        vertical-align: top;\n",
              "    }\n",
              "\n",
              "    .dataframe thead th {\n",
              "        text-align: right;\n",
              "    }\n",
              "</style>\n",
              "<table border=\"1\" class=\"dataframe\">\n",
              "  <thead>\n",
              "    <tr style=\"text-align: right;\">\n",
              "      <th></th>\n",
              "      <th>count</th>\n",
              "      <th>mean</th>\n",
              "      <th>std</th>\n",
              "      <th>min</th>\n",
              "      <th>25%</th>\n",
              "      <th>50%</th>\n",
              "      <th>75%</th>\n",
              "      <th>max</th>\n",
              "    </tr>\n",
              "  </thead>\n",
              "  <tbody>\n",
              "    <tr>\n",
              "      <th>limit_balance</th>\n",
              "      <td>2965.0</td>\n",
              "      <td>163369.308600</td>\n",
              "      <td>125030.415472</td>\n",
              "      <td>10000.0</td>\n",
              "      <td>50000.0</td>\n",
              "      <td>140000.0</td>\n",
              "      <td>230000.0</td>\n",
              "      <td>800000.0</td>\n",
              "    </tr>\n",
              "    <tr>\n",
              "      <th>sex</th>\n",
              "      <td>2965.0</td>\n",
              "      <td>1.607757</td>\n",
              "      <td>0.488333</td>\n",
              "      <td>1.0</td>\n",
              "      <td>1.0</td>\n",
              "      <td>2.0</td>\n",
              "      <td>2.0</td>\n",
              "      <td>2.0</td>\n",
              "    </tr>\n",
              "    <tr>\n",
              "      <th>education_level</th>\n",
              "      <td>2965.0</td>\n",
              "      <td>1.849578</td>\n",
              "      <td>0.778184</td>\n",
              "      <td>0.0</td>\n",
              "      <td>1.0</td>\n",
              "      <td>2.0</td>\n",
              "      <td>2.0</td>\n",
              "      <td>6.0</td>\n",
              "    </tr>\n",
              "    <tr>\n",
              "      <th>marital_status</th>\n",
              "      <td>2965.0</td>\n",
              "      <td>1.559865</td>\n",
              "      <td>0.522317</td>\n",
              "      <td>0.0</td>\n",
              "      <td>1.0</td>\n",
              "      <td>2.0</td>\n",
              "      <td>2.0</td>\n",
              "      <td>3.0</td>\n",
              "    </tr>\n",
              "    <tr>\n",
              "      <th>age</th>\n",
              "      <td>2965.0</td>\n",
              "      <td>35.193255</td>\n",
              "      <td>9.109439</td>\n",
              "      <td>21.0</td>\n",
              "      <td>28.0</td>\n",
              "      <td>34.0</td>\n",
              "      <td>41.0</td>\n",
              "      <td>69.0</td>\n",
              "    </tr>\n",
              "    <tr>\n",
              "      <th>pay_0</th>\n",
              "      <td>2965.0</td>\n",
              "      <td>0.005059</td>\n",
              "      <td>1.114395</td>\n",
              "      <td>-2.0</td>\n",
              "      <td>-1.0</td>\n",
              "      <td>0.0</td>\n",
              "      <td>0.0</td>\n",
              "      <td>8.0</td>\n",
              "    </tr>\n",
              "    <tr>\n",
              "      <th>pay_2</th>\n",
              "      <td>2965.0</td>\n",
              "      <td>-0.122428</td>\n",
              "      <td>1.180784</td>\n",
              "      <td>-2.0</td>\n",
              "      <td>-1.0</td>\n",
              "      <td>0.0</td>\n",
              "      <td>0.0</td>\n",
              "      <td>7.0</td>\n",
              "    </tr>\n",
              "    <tr>\n",
              "      <th>pay_3</th>\n",
              "      <td>2965.0</td>\n",
              "      <td>-0.141653</td>\n",
              "      <td>1.183630</td>\n",
              "      <td>-2.0</td>\n",
              "      <td>-1.0</td>\n",
              "      <td>0.0</td>\n",
              "      <td>0.0</td>\n",
              "      <td>7.0</td>\n",
              "    </tr>\n",
              "    <tr>\n",
              "      <th>pay_4</th>\n",
              "      <td>2965.0</td>\n",
              "      <td>-0.185160</td>\n",
              "      <td>1.178322</td>\n",
              "      <td>-2.0</td>\n",
              "      <td>-1.0</td>\n",
              "      <td>0.0</td>\n",
              "      <td>0.0</td>\n",
              "      <td>8.0</td>\n",
              "    </tr>\n",
              "    <tr>\n",
              "      <th>pay_5</th>\n",
              "      <td>2965.0</td>\n",
              "      <td>-0.225295</td>\n",
              "      <td>1.159003</td>\n",
              "      <td>-2.0</td>\n",
              "      <td>-1.0</td>\n",
              "      <td>0.0</td>\n",
              "      <td>0.0</td>\n",
              "      <td>7.0</td>\n",
              "    </tr>\n",
              "    <tr>\n",
              "      <th>pay_6</th>\n",
              "      <td>2965.0</td>\n",
              "      <td>-0.254637</td>\n",
              "      <td>1.167305</td>\n",
              "      <td>-2.0</td>\n",
              "      <td>-1.0</td>\n",
              "      <td>0.0</td>\n",
              "      <td>0.0</td>\n",
              "      <td>7.0</td>\n",
              "    </tr>\n",
              "    <tr>\n",
              "      <th>bill_amt_1</th>\n",
              "      <td>2965.0</td>\n",
              "      <td>52118.305228</td>\n",
              "      <td>72328.670541</td>\n",
              "      <td>-11545.0</td>\n",
              "      <td>3958.0</td>\n",
              "      <td>24257.0</td>\n",
              "      <td>69852.0</td>\n",
              "      <td>613860.0</td>\n",
              "    </tr>\n",
              "    <tr>\n",
              "      <th>bill_amt_2</th>\n",
              "      <td>2965.0</td>\n",
              "      <td>50649.153120</td>\n",
              "      <td>70785.001588</td>\n",
              "      <td>-67526.0</td>\n",
              "      <td>3390.0</td>\n",
              "      <td>23111.0</td>\n",
              "      <td>67827.0</td>\n",
              "      <td>512650.0</td>\n",
              "    </tr>\n",
              "    <tr>\n",
              "      <th>bill_amt_3</th>\n",
              "      <td>2965.0</td>\n",
              "      <td>48239.757504</td>\n",
              "      <td>68145.710745</td>\n",
              "      <td>-25443.0</td>\n",
              "      <td>3302.0</td>\n",
              "      <td>21520.0</td>\n",
              "      <td>63023.0</td>\n",
              "      <td>578971.0</td>\n",
              "    </tr>\n",
              "    <tr>\n",
              "      <th>bill_amt_4</th>\n",
              "      <td>2965.0</td>\n",
              "      <td>44089.683305</td>\n",
              "      <td>61907.454056</td>\n",
              "      <td>-46627.0</td>\n",
              "      <td>2582.0</td>\n",
              "      <td>19894.0</td>\n",
              "      <td>58622.0</td>\n",
              "      <td>488808.0</td>\n",
              "    </tr>\n",
              "    <tr>\n",
              "      <th>bill_amt_5</th>\n",
              "      <td>2965.0</td>\n",
              "      <td>40956.080607</td>\n",
              "      <td>58271.904751</td>\n",
              "      <td>-46627.0</td>\n",
              "      <td>1958.0</td>\n",
              "      <td>18814.0</td>\n",
              "      <td>53373.0</td>\n",
              "      <td>441981.0</td>\n",
              "    </tr>\n",
              "    <tr>\n",
              "      <th>bill_amt_6</th>\n",
              "      <td>2965.0</td>\n",
              "      <td>39773.072513</td>\n",
              "      <td>57303.488981</td>\n",
              "      <td>-73895.0</td>\n",
              "      <td>1430.0</td>\n",
              "      <td>18508.0</td>\n",
              "      <td>52287.0</td>\n",
              "      <td>436172.0</td>\n",
              "    </tr>\n",
              "    <tr>\n",
              "      <th>pay_amt_1</th>\n",
              "      <td>2965.0</td>\n",
              "      <td>6348.902867</td>\n",
              "      <td>20885.735336</td>\n",
              "      <td>0.0</td>\n",
              "      <td>1013.0</td>\n",
              "      <td>2234.0</td>\n",
              "      <td>5087.0</td>\n",
              "      <td>493358.0</td>\n",
              "    </tr>\n",
              "    <tr>\n",
              "      <th>pay_amt_2</th>\n",
              "      <td>2965.0</td>\n",
              "      <td>6272.494435</td>\n",
              "      <td>28879.674534</td>\n",
              "      <td>0.0</td>\n",
              "      <td>990.0</td>\n",
              "      <td>2175.0</td>\n",
              "      <td>5000.0</td>\n",
              "      <td>1227082.0</td>\n",
              "    </tr>\n",
              "    <tr>\n",
              "      <th>pay_amt_3</th>\n",
              "      <td>2965.0</td>\n",
              "      <td>5150.497133</td>\n",
              "      <td>14287.079982</td>\n",
              "      <td>0.0</td>\n",
              "      <td>477.0</td>\n",
              "      <td>1994.0</td>\n",
              "      <td>4500.0</td>\n",
              "      <td>199209.0</td>\n",
              "    </tr>\n",
              "    <tr>\n",
              "      <th>pay_amt_4</th>\n",
              "      <td>2965.0</td>\n",
              "      <td>4561.376054</td>\n",
              "      <td>13281.499599</td>\n",
              "      <td>0.0</td>\n",
              "      <td>313.0</td>\n",
              "      <td>1600.0</td>\n",
              "      <td>4000.0</td>\n",
              "      <td>202076.0</td>\n",
              "    </tr>\n",
              "    <tr>\n",
              "      <th>pay_amt_5</th>\n",
              "      <td>2965.0</td>\n",
              "      <td>4913.286678</td>\n",
              "      <td>16734.340778</td>\n",
              "      <td>0.0</td>\n",
              "      <td>323.0</td>\n",
              "      <td>1646.0</td>\n",
              "      <td>4021.0</td>\n",
              "      <td>388071.0</td>\n",
              "    </tr>\n",
              "    <tr>\n",
              "      <th>pay_amt_6</th>\n",
              "      <td>2965.0</td>\n",
              "      <td>5382.701518</td>\n",
              "      <td>17275.953029</td>\n",
              "      <td>0.0</td>\n",
              "      <td>173.0</td>\n",
              "      <td>1615.0</td>\n",
              "      <td>4081.0</td>\n",
              "      <td>403500.0</td>\n",
              "    </tr>\n",
              "    <tr>\n",
              "      <th>default_payment_next_month</th>\n",
              "      <td>2965.0</td>\n",
              "      <td>0.214165</td>\n",
              "      <td>0.410311</td>\n",
              "      <td>0.0</td>\n",
              "      <td>0.0</td>\n",
              "      <td>0.0</td>\n",
              "      <td>0.0</td>\n",
              "      <td>1.0</td>\n",
              "    </tr>\n",
              "  </tbody>\n",
              "</table>\n",
              "</div>"
            ],
            "text/plain": [
              "                             count           mean            std      min  \\\n",
              "limit_balance               2965.0  163369.308600  125030.415472  10000.0   \n",
              "sex                         2965.0       1.607757       0.488333      1.0   \n",
              "education_level             2965.0       1.849578       0.778184      0.0   \n",
              "marital_status              2965.0       1.559865       0.522317      0.0   \n",
              "age                         2965.0      35.193255       9.109439     21.0   \n",
              "pay_0                       2965.0       0.005059       1.114395     -2.0   \n",
              "pay_2                       2965.0      -0.122428       1.180784     -2.0   \n",
              "pay_3                       2965.0      -0.141653       1.183630     -2.0   \n",
              "pay_4                       2965.0      -0.185160       1.178322     -2.0   \n",
              "pay_5                       2965.0      -0.225295       1.159003     -2.0   \n",
              "pay_6                       2965.0      -0.254637       1.167305     -2.0   \n",
              "bill_amt_1                  2965.0   52118.305228   72328.670541 -11545.0   \n",
              "bill_amt_2                  2965.0   50649.153120   70785.001588 -67526.0   \n",
              "bill_amt_3                  2965.0   48239.757504   68145.710745 -25443.0   \n",
              "bill_amt_4                  2965.0   44089.683305   61907.454056 -46627.0   \n",
              "bill_amt_5                  2965.0   40956.080607   58271.904751 -46627.0   \n",
              "bill_amt_6                  2965.0   39773.072513   57303.488981 -73895.0   \n",
              "pay_amt_1                   2965.0    6348.902867   20885.735336      0.0   \n",
              "pay_amt_2                   2965.0    6272.494435   28879.674534      0.0   \n",
              "pay_amt_3                   2965.0    5150.497133   14287.079982      0.0   \n",
              "pay_amt_4                   2965.0    4561.376054   13281.499599      0.0   \n",
              "pay_amt_5                   2965.0    4913.286678   16734.340778      0.0   \n",
              "pay_amt_6                   2965.0    5382.701518   17275.953029      0.0   \n",
              "default_payment_next_month  2965.0       0.214165       0.410311      0.0   \n",
              "\n",
              "                                25%       50%       75%        max  \n",
              "limit_balance               50000.0  140000.0  230000.0   800000.0  \n",
              "sex                             1.0       2.0       2.0        2.0  \n",
              "education_level                 1.0       2.0       2.0        6.0  \n",
              "marital_status                  1.0       2.0       2.0        3.0  \n",
              "age                            28.0      34.0      41.0       69.0  \n",
              "pay_0                          -1.0       0.0       0.0        8.0  \n",
              "pay_2                          -1.0       0.0       0.0        7.0  \n",
              "pay_3                          -1.0       0.0       0.0        7.0  \n",
              "pay_4                          -1.0       0.0       0.0        8.0  \n",
              "pay_5                          -1.0       0.0       0.0        7.0  \n",
              "pay_6                          -1.0       0.0       0.0        7.0  \n",
              "bill_amt_1                   3958.0   24257.0   69852.0   613860.0  \n",
              "bill_amt_2                   3390.0   23111.0   67827.0   512650.0  \n",
              "bill_amt_3                   3302.0   21520.0   63023.0   578971.0  \n",
              "bill_amt_4                   2582.0   19894.0   58622.0   488808.0  \n",
              "bill_amt_5                   1958.0   18814.0   53373.0   441981.0  \n",
              "bill_amt_6                   1430.0   18508.0   52287.0   436172.0  \n",
              "pay_amt_1                    1013.0    2234.0    5087.0   493358.0  \n",
              "pay_amt_2                     990.0    2175.0    5000.0  1227082.0  \n",
              "pay_amt_3                     477.0    1994.0    4500.0   199209.0  \n",
              "pay_amt_4                     313.0    1600.0    4000.0   202076.0  \n",
              "pay_amt_5                     323.0    1646.0    4021.0   388071.0  \n",
              "pay_amt_6                     173.0    1615.0    4081.0   403500.0  \n",
              "default_payment_next_month      0.0       0.0       0.0        1.0  "
            ]
          },
          "execution_count": 6,
          "metadata": {},
          "output_type": "execute_result"
        }
      ],
      "source": [
        "df.describe().T"
      ]
    },
    {
      "attachments": {},
      "cell_type": "markdown",
      "metadata": {},
      "source": [
        "## Mengubah nilai pada `education_level`\n",
        "> Karena terdapat nilai 0, 5, 6 yang artinya unknown, jadi digabung agar tidak terlalu banyak variable"
      ]
    },
    {
      "cell_type": "code",
      "execution_count": 7,
      "metadata": {},
      "outputs": [
        {
          "data": {
            "text/html": [
              "<div>\n",
              "<style scoped>\n",
              "    .dataframe tbody tr th:only-of-type {\n",
              "        vertical-align: middle;\n",
              "    }\n",
              "\n",
              "    .dataframe tbody tr th {\n",
              "        vertical-align: top;\n",
              "    }\n",
              "\n",
              "    .dataframe thead th {\n",
              "        text-align: right;\n",
              "    }\n",
              "</style>\n",
              "<table border=\"1\" class=\"dataframe\">\n",
              "  <thead>\n",
              "    <tr style=\"text-align: right;\">\n",
              "      <th></th>\n",
              "      <th>limit_balance</th>\n",
              "      <th>sex</th>\n",
              "      <th>marital_status</th>\n",
              "      <th>age</th>\n",
              "      <th>pay_0</th>\n",
              "      <th>pay_2</th>\n",
              "      <th>pay_3</th>\n",
              "      <th>pay_4</th>\n",
              "      <th>pay_5</th>\n",
              "      <th>pay_6</th>\n",
              "      <th>...</th>\n",
              "      <th>bill_amt_4</th>\n",
              "      <th>bill_amt_5</th>\n",
              "      <th>bill_amt_6</th>\n",
              "      <th>pay_amt_1</th>\n",
              "      <th>pay_amt_2</th>\n",
              "      <th>pay_amt_3</th>\n",
              "      <th>pay_amt_4</th>\n",
              "      <th>pay_amt_5</th>\n",
              "      <th>pay_amt_6</th>\n",
              "      <th>default_payment_next_month</th>\n",
              "    </tr>\n",
              "    <tr>\n",
              "      <th>education_level</th>\n",
              "      <th></th>\n",
              "      <th></th>\n",
              "      <th></th>\n",
              "      <th></th>\n",
              "      <th></th>\n",
              "      <th></th>\n",
              "      <th></th>\n",
              "      <th></th>\n",
              "      <th></th>\n",
              "      <th></th>\n",
              "      <th></th>\n",
              "      <th></th>\n",
              "      <th></th>\n",
              "      <th></th>\n",
              "      <th></th>\n",
              "      <th></th>\n",
              "      <th></th>\n",
              "      <th></th>\n",
              "      <th></th>\n",
              "      <th></th>\n",
              "      <th></th>\n",
              "    </tr>\n",
              "  </thead>\n",
              "  <tbody>\n",
              "    <tr>\n",
              "      <th>1</th>\n",
              "      <td>1039</td>\n",
              "      <td>1039</td>\n",
              "      <td>1039</td>\n",
              "      <td>1039</td>\n",
              "      <td>1039</td>\n",
              "      <td>1039</td>\n",
              "      <td>1039</td>\n",
              "      <td>1039</td>\n",
              "      <td>1039</td>\n",
              "      <td>1039</td>\n",
              "      <td>...</td>\n",
              "      <td>1039</td>\n",
              "      <td>1039</td>\n",
              "      <td>1039</td>\n",
              "      <td>1039</td>\n",
              "      <td>1039</td>\n",
              "      <td>1039</td>\n",
              "      <td>1039</td>\n",
              "      <td>1039</td>\n",
              "      <td>1039</td>\n",
              "      <td>1039</td>\n",
              "    </tr>\n",
              "    <tr>\n",
              "      <th>2</th>\n",
              "      <td>1400</td>\n",
              "      <td>1400</td>\n",
              "      <td>1400</td>\n",
              "      <td>1400</td>\n",
              "      <td>1400</td>\n",
              "      <td>1400</td>\n",
              "      <td>1400</td>\n",
              "      <td>1400</td>\n",
              "      <td>1400</td>\n",
              "      <td>1400</td>\n",
              "      <td>...</td>\n",
              "      <td>1400</td>\n",
              "      <td>1400</td>\n",
              "      <td>1400</td>\n",
              "      <td>1400</td>\n",
              "      <td>1400</td>\n",
              "      <td>1400</td>\n",
              "      <td>1400</td>\n",
              "      <td>1400</td>\n",
              "      <td>1400</td>\n",
              "      <td>1400</td>\n",
              "    </tr>\n",
              "    <tr>\n",
              "      <th>3</th>\n",
              "      <td>483</td>\n",
              "      <td>483</td>\n",
              "      <td>483</td>\n",
              "      <td>483</td>\n",
              "      <td>483</td>\n",
              "      <td>483</td>\n",
              "      <td>483</td>\n",
              "      <td>483</td>\n",
              "      <td>483</td>\n",
              "      <td>483</td>\n",
              "      <td>...</td>\n",
              "      <td>483</td>\n",
              "      <td>483</td>\n",
              "      <td>483</td>\n",
              "      <td>483</td>\n",
              "      <td>483</td>\n",
              "      <td>483</td>\n",
              "      <td>483</td>\n",
              "      <td>483</td>\n",
              "      <td>483</td>\n",
              "      <td>483</td>\n",
              "    </tr>\n",
              "    <tr>\n",
              "      <th>4</th>\n",
              "      <td>13</td>\n",
              "      <td>13</td>\n",
              "      <td>13</td>\n",
              "      <td>13</td>\n",
              "      <td>13</td>\n",
              "      <td>13</td>\n",
              "      <td>13</td>\n",
              "      <td>13</td>\n",
              "      <td>13</td>\n",
              "      <td>13</td>\n",
              "      <td>...</td>\n",
              "      <td>13</td>\n",
              "      <td>13</td>\n",
              "      <td>13</td>\n",
              "      <td>13</td>\n",
              "      <td>13</td>\n",
              "      <td>13</td>\n",
              "      <td>13</td>\n",
              "      <td>13</td>\n",
              "      <td>13</td>\n",
              "      <td>13</td>\n",
              "    </tr>\n",
              "    <tr>\n",
              "      <th>5</th>\n",
              "      <td>30</td>\n",
              "      <td>30</td>\n",
              "      <td>30</td>\n",
              "      <td>30</td>\n",
              "      <td>30</td>\n",
              "      <td>30</td>\n",
              "      <td>30</td>\n",
              "      <td>30</td>\n",
              "      <td>30</td>\n",
              "      <td>30</td>\n",
              "      <td>...</td>\n",
              "      <td>30</td>\n",
              "      <td>30</td>\n",
              "      <td>30</td>\n",
              "      <td>30</td>\n",
              "      <td>30</td>\n",
              "      <td>30</td>\n",
              "      <td>30</td>\n",
              "      <td>30</td>\n",
              "      <td>30</td>\n",
              "      <td>30</td>\n",
              "    </tr>\n",
              "  </tbody>\n",
              "</table>\n",
              "<p>5 rows × 23 columns</p>\n",
              "</div>"
            ],
            "text/plain": [
              "                 limit_balance   sex  marital_status   age  pay_0  pay_2  \\\n",
              "education_level                                                            \n",
              "1                         1039  1039            1039  1039   1039   1039   \n",
              "2                         1400  1400            1400  1400   1400   1400   \n",
              "3                          483   483             483   483    483    483   \n",
              "4                           13    13              13    13     13     13   \n",
              "5                           30    30              30    30     30     30   \n",
              "\n",
              "                 pay_3  pay_4  pay_5  pay_6  ...  bill_amt_4  bill_amt_5  \\\n",
              "education_level                              ...                           \n",
              "1                 1039   1039   1039   1039  ...        1039        1039   \n",
              "2                 1400   1400   1400   1400  ...        1400        1400   \n",
              "3                  483    483    483    483  ...         483         483   \n",
              "4                   13     13     13     13  ...          13          13   \n",
              "5                   30     30     30     30  ...          30          30   \n",
              "\n",
              "                 bill_amt_6  pay_amt_1  pay_amt_2  pay_amt_3  pay_amt_4  \\\n",
              "education_level                                                           \n",
              "1                      1039       1039       1039       1039       1039   \n",
              "2                      1400       1400       1400       1400       1400   \n",
              "3                       483        483        483        483        483   \n",
              "4                        13         13         13         13         13   \n",
              "5                        30         30         30         30         30   \n",
              "\n",
              "                 pay_amt_5  pay_amt_6  default_payment_next_month  \n",
              "education_level                                                    \n",
              "1                     1039       1039                        1039  \n",
              "2                     1400       1400                        1400  \n",
              "3                      483        483                         483  \n",
              "4                       13         13                          13  \n",
              "5                       30         30                          30  \n",
              "\n",
              "[5 rows x 23 columns]"
            ]
          },
          "execution_count": 7,
          "metadata": {},
          "output_type": "execute_result"
        }
      ],
      "source": [
        "df['education_level'] = df['education_level'].replace([0, 6], 5)\n",
        "df.groupby(['education_level']).count()"
      ]
    },
    {
      "attachments": {},
      "cell_type": "markdown",
      "metadata": {},
      "source": [
        "## Melihat korelasi antara `age` dengan `limit_balance`"
      ]
    },
    {
      "cell_type": "code",
      "execution_count": 8,
      "metadata": {},
      "outputs": [
        {
          "data": {
            "image/png": "[encoded data removed]",
            "text/plain": [
              "<Figure size 1600x500 with 1 Axes>"
            ]
          },
          "metadata": {},
          "output_type": "display_data"
        }
      ],
      "source": [
        "plt.figure(figsize = (16, 5))\n",
        "sns.scatterplot(x='age', y='limit_balance', data=df, hue=\"education_level\", style ='sex', palette='bright')\n",
        "plt.title ('Perbandingan age dengan limit balance')\n",
        "\n",
        "education_level_mapping = {1: 'Graduate School', 2: 'University', 3: 'High School', 4: 'Others', 5: 'Unknown'}\n",
        "sex_mapping = {1: 'Male', 2: 'Female'}\n",
        "\n",
        "education_legend_labels = [education_level_mapping[i] for i in df['education_level'].unique()]\n",
        "education_legend = plt.legend(education_legend_labels, loc='upper right', ncol=3, fontsize=8, title='Education Level')\n",
        "\n",
        "sex_legend_labels = [sex_mapping[i] for i in df['sex'].unique()]\n",
        "sex_legend_elements = [Line2D([0], [0], marker='o', color='gray', label='Male', linestyle='None'),\n",
        "                       Line2D([0], [0], marker='x', color='gray', label='Female', linestyle='None')]\n",
        "sex_legend = plt.legend(handles=sex_legend_elements, loc='right', fontsize=8, title='Sex')\n",
        "\n",
        "plt.gca().add_artist(education_legend)\n",
        "plt.gca().add_artist(sex_legend)\n",
        "\n",
        "plt.show()"
      ]
    },
    {
      "attachments": {},
      "cell_type": "markdown",
      "metadata": {},
      "source": [
        "- Dapat dilihat bahwa pada grafik nilai `age` < 30 semakin tinggi `age` maka semakin tinggi `limit_balance` dan setelah itu rata\n",
        "- Tetapi terlihat juga pada `limit_balance` > 500000, hanya ada `education_level` bertipe 'Graduate School' dan 'University', tidak memandang `sex`"
      ]
    },
    {
      "attachments": {},
      "cell_type": "markdown",
      "metadata": {
        "id": "-0xf4PGaITwa"
      },
      "source": [
        "## Visualisasi korelasi antar kolom\n",
        "> - Menunjukkan korelasi pada antar kolom-kolom yang ada\n",
        "> - Semakin tinggi angkanya atau semakin putih warnanya, maka sangat berkorelasi"
      ]
    },
    {
      "cell_type": "code",
      "execution_count": 9,
      "metadata": {
        "colab": {
          "base_uri": "https://localhost:8080/",
          "height": 437
        },
        "id": "k8xce4P-IVIO",
        "outputId": "30b941a9-9733-4852-dbe5-eb0a9cece061"
      },
      "outputs": [
        {
          "data": {
            "text/plain": [
              "<Axes: >"
            ]
          },
          "execution_count": 9,
          "metadata": {},
          "output_type": "execute_result"
        },
        {
          "data": {
            "image/png": "[encoded data removed]",
            "text/plain": [
              "<Figure size 640x480 with 2 Axes>"
            ]
          },
          "metadata": {},
          "output_type": "display_data"
        }
      ],
      "source": [
        "sns.heatmap(df.corr())"
      ]
    },
    {
      "cell_type": "markdown",
      "metadata": {},
      "source": [
        "Dapat dilihat bahwa pada `pay_0 `sampai `pay_6` dan `bill_amt_1` sampai `bill_amt_6` sangat berkorelasi."
      ]
    },
    {
      "cell_type": "markdown",
      "metadata": {},
      "source": [
        "## Melihat perbandingan pada kategori"
      ]
    },
    {
      "cell_type": "code",
      "execution_count": 10,
      "metadata": {},
      "outputs": [
        {
          "data": {
            "image/png": "[encoded data removed]",
            "text/plain": [
              "<Figure size 1600x500 with 3 Axes>"
            ]
          },
          "metadata": {},
          "output_type": "display_data"
        }
      ],
      "source": [
        "palette_color = sns.color_palette('muted')\n",
        "plt.figure(figsize = (16, 5))\n",
        "\n",
        "ax1 = plt.subplot(1, 3, 1)\n",
        "plt.pie(df['sex'].value_counts(), colors=palette_color, autopct='%.0f%%', startangle=270, labels=['Male', 'Female'])\n",
        "ax1 = plt.title ('Distribusi Gender')\n",
        "\n",
        "ax2 = plt.subplot(1, 3, 2)\n",
        "plt.pie(df['education_level'].value_counts(), colors=palette_color, autopct='%.0f%%', labels=['Graduate School', 'University', 'High School', 'Others', 'Unknown'])\n",
        "ax2 = plt.title ('Distribusi Education Level')\n",
        "\n",
        "ax3 = plt.subplot(1, 3, 3)\n",
        "plt.pie(df['marital_status'].value_counts(), colors=palette_color, autopct='%.0f%%', startangle=270, labels=['Single', 'Married', 'Others', 'Unknown'])\n",
        "ax3 = plt.title ('Distribusi Marital Status')"
      ]
    },
    {
      "cell_type": "markdown",
      "metadata": {},
      "source": [
        "Dapat dilihat bahwa didominasi oleh 'Male', 'Graduate School', dan 'Single', kemungkinan para 'male' itu menggunakan credit untuk sekolah ke jenjang berikutnya ataupun membuka usaha."
      ]
    },
    {
      "cell_type": "markdown",
      "metadata": {},
      "source": [
        "## Melihat persebaran data pada `age`"
      ]
    },
    {
      "cell_type": "code",
      "execution_count": 11,
      "metadata": {},
      "outputs": [
        {
          "data": {
            "text/plain": [
              "Text(0.5, 1.0, 'Histogram dari age')"
            ]
          },
          "execution_count": 11,
          "metadata": {},
          "output_type": "execute_result"
        },
        {
          "data": {
            "image/png": "[encoded data removed]",
            "text/plain": [
              "<Figure size 1600x400 with 1 Axes>"
            ]
          },
          "metadata": {},
          "output_type": "display_data"
        }
      ],
      "source": [
        "plt.figure(figsize=(16, 4))\n",
        "\n",
        "sns.histplot(df['age'], bins=30)\n",
        "plt.title('Histogram dari age')"
      ]
    },
    {
      "cell_type": "markdown",
      "metadata": {},
      "source": [
        "Dapat dilihat bahwa pengguna credit didominasi oleh berumur 30 dan cenderung berkurang saat umurnya bertambah."
      ]
    },
    {
      "attachments": {},
      "cell_type": "markdown",
      "metadata": {
        "id": "sz1HLqoCO8F6"
      },
      "source": [
        "# v - Feature Engineering\n",
        "> Bagian ini berisi proses penyiapan data untuk proses pelatihan model, seperti pembagian data menjadi train-test, transformasi data (normalisasi, encoding, dll.), dan proses-proses lain yang dibutuhkan."
      ]
    },
    {
      "attachments": {},
      "cell_type": "markdown",
      "metadata": {
        "id": "FEFkAy5NiblS"
      },
      "source": [
        "## Split X (Features) dan y (Target)"
      ]
    },
    {
      "cell_type": "code",
      "execution_count": 12,
      "metadata": {
        "colab": {
          "base_uri": "https://localhost:8080/"
        },
        "id": "caGMaDXrijG7",
        "outputId": "edad322d-22de-49b1-d0b4-29aa65c66767"
      },
      "outputs": [
        {
          "name": "stdout",
          "output_type": "stream",
          "text": [
            "(2965, 23)\n",
            "(2965,)\n"
          ]
        }
      ],
      "source": [
        "X = df.drop(['default_payment_next_month'], axis=1)\n",
        "y = df['default_payment_next_month']\n",
        "\n",
        "print (X.shape)\n",
        "print (y.shape)"
      ]
    },
    {
      "attachments": {},
      "cell_type": "markdown",
      "metadata": {
        "id": "42eizV0zjN9z"
      },
      "source": [
        "## Split Train-Set dan Test-Set"
      ]
    },
    {
      "cell_type": "code",
      "execution_count": 13,
      "metadata": {
        "colab": {
          "base_uri": "https://localhost:8080/"
        },
        "id": "o4Ecsf96jQ1O",
        "outputId": "c9c13640-ed60-4c1c-bafe-8e2f40a843c2"
      },
      "outputs": [
        {
          "name": "stdout",
          "output_type": "stream",
          "text": [
            "X Train Size (2372, 23)\n",
            "X Test Size: (593, 23)\n",
            "\n",
            "y Train Size (2372,)\n",
            "y Test Size: (593,)\n"
          ]
        }
      ],
      "source": [
        "X_train, X_test, y_train, y_test = train_test_split (X, y, test_size = 0.2, random_state = 1509)\n",
        "\n",
        "print ('X Train Size', X_train.shape)\n",
        "print ('X Test Size:', X_test.shape)\n",
        "print ()\n",
        "print ('y Train Size', y_train.shape)\n",
        "print ('y Test Size:', y_test.shape)"
      ]
    },
    {
      "attachments": {},
      "cell_type": "markdown",
      "metadata": {
        "id": "r4ClmxY4jaNQ"
      },
      "source": [
        "## Handle Missing Value"
      ]
    },
    {
      "attachments": {},
      "cell_type": "markdown",
      "metadata": {
        "id": "v64miUjTjerI"
      },
      "source": [
        "### X_train\n",
        "> Tidak adanya data null pada X_train"
      ]
    },
    {
      "cell_type": "code",
      "execution_count": 14,
      "metadata": {
        "colab": {
          "base_uri": "https://localhost:8080/"
        },
        "id": "1NBizohUjbhC",
        "outputId": "c07a1ed4-4a18-4596-8edc-3103db39218f"
      },
      "outputs": [
        {
          "data": {
            "text/plain": [
              "limit_balance      0\n",
              "sex                0\n",
              "education_level    0\n",
              "marital_status     0\n",
              "age                0\n",
              "pay_0              0\n",
              "pay_2              0\n",
              "pay_3              0\n",
              "pay_4              0\n",
              "pay_5              0\n",
              "pay_6              0\n",
              "bill_amt_1         0\n",
              "bill_amt_2         0\n",
              "bill_amt_3         0\n",
              "bill_amt_4         0\n",
              "bill_amt_5         0\n",
              "bill_amt_6         0\n",
              "pay_amt_1          0\n",
              "pay_amt_2          0\n",
              "pay_amt_3          0\n",
              "pay_amt_4          0\n",
              "pay_amt_5          0\n",
              "pay_amt_6          0\n",
              "dtype: int64"
            ]
          },
          "execution_count": 14,
          "metadata": {},
          "output_type": "execute_result"
        }
      ],
      "source": [
        "X_train.isnull().sum()"
      ]
    },
    {
      "attachments": {},
      "cell_type": "markdown",
      "metadata": {
        "id": "zAxqpDi9jtxf"
      },
      "source": [
        "### X_test\n",
        "> Tidak adanya data null pada X_test"
      ]
    },
    {
      "cell_type": "code",
      "execution_count": 15,
      "metadata": {
        "colab": {
          "base_uri": "https://localhost:8080/"
        },
        "id": "Yy-763OBjtlB",
        "outputId": "59515e88-f5e9-461e-b286-fb514a382731"
      },
      "outputs": [
        {
          "data": {
            "text/plain": [
              "limit_balance      0\n",
              "sex                0\n",
              "education_level    0\n",
              "marital_status     0\n",
              "age                0\n",
              "pay_0              0\n",
              "pay_2              0\n",
              "pay_3              0\n",
              "pay_4              0\n",
              "pay_5              0\n",
              "pay_6              0\n",
              "bill_amt_1         0\n",
              "bill_amt_2         0\n",
              "bill_amt_3         0\n",
              "bill_amt_4         0\n",
              "bill_amt_5         0\n",
              "bill_amt_6         0\n",
              "pay_amt_1          0\n",
              "pay_amt_2          0\n",
              "pay_amt_3          0\n",
              "pay_amt_4          0\n",
              "pay_amt_5          0\n",
              "pay_amt_6          0\n",
              "dtype: int64"
            ]
          },
          "execution_count": 15,
          "metadata": {},
          "output_type": "execute_result"
        }
      ],
      "source": [
        "X_test.isnull().sum()       "
      ]
    },
    {
      "attachments": {},
      "cell_type": "markdown",
      "metadata": {
        "id": "0aEEhwUaj096"
      },
      "source": [
        "### y_train\n",
        "> Tidak adanya data null pada y_train"
      ]
    },
    {
      "cell_type": "code",
      "execution_count": 16,
      "metadata": {
        "colab": {
          "base_uri": "https://localhost:8080/"
        },
        "id": "N4J4S7LAj2aJ",
        "outputId": "ad34d93f-265a-4fae-ab89-a8415879c791"
      },
      "outputs": [
        {
          "data": {
            "text/plain": [
              "0"
            ]
          },
          "execution_count": 16,
          "metadata": {},
          "output_type": "execute_result"
        }
      ],
      "source": [
        "y_train.isnull().sum()"
      ]
    },
    {
      "attachments": {},
      "cell_type": "markdown",
      "metadata": {
        "id": "-wW6lVHzj-Jm"
      },
      "source": [
        "### y_test\n",
        "> Tidak adanya data null pada y_test"
      ]
    },
    {
      "cell_type": "code",
      "execution_count": 17,
      "metadata": {
        "colab": {
          "base_uri": "https://localhost:8080/"
        },
        "id": "2oGS61RekAEL",
        "outputId": "aa955b32-ab73-404b-ffc7-ff93c7cd4702"
      },
      "outputs": [
        {
          "data": {
            "text/plain": [
              "0"
            ]
          },
          "execution_count": 17,
          "metadata": {},
          "output_type": "execute_result"
        }
      ],
      "source": [
        "y_test.isnull().sum()"
      ]
    },
    {
      "attachments": {},
      "cell_type": "markdown",
      "metadata": {
        "id": "udNGc3ebktgB"
      },
      "source": [
        "## Handle Outlier"
      ]
    },
    {
      "attachments": {},
      "cell_type": "markdown",
      "metadata": {
        "id": "s4A-5DzQm59S"
      },
      "source": [
        "### Mengecek outlier pada `limit_balance`"
      ]
    },
    {
      "cell_type": "code",
      "execution_count": 18,
      "metadata": {
        "colab": {
          "base_uri": "https://localhost:8080/",
          "height": 427
        },
        "id": "WCRgdqrCk48t",
        "outputId": "087c698e-0833-49f7-be48-1430388c48cb"
      },
      "outputs": [
        {
          "name": "stdout",
          "output_type": "stream",
          "text": [
            "Skewness Value age X_train:  1.04\n"
          ]
        },
        {
          "data": {
            "image/png": "[encoded data removed]",
            "text/plain": [
              "<Figure size 1600x400 with 2 Axes>"
            ]
          },
          "metadata": {},
          "output_type": "display_data"
        }
      ],
      "source": [
        "print('Skewness Value age X_train: ', X_train['limit_balance'].skew().round(decimals=2));\n",
        "plt.figure(figsize=(16, 4));\n",
        "\n",
        "# Histogram\n",
        "plt.subplot(1, 2, 1)\n",
        "sns.histplot(df['limit_balance'].astype(float), bins=30)\n",
        "plt.title('Histogram dari limit_balance')\n",
        "\n",
        "# Boxplot\n",
        "plt.subplot(1, 2, 2)\n",
        "sns.boxplot(df['limit_balance'].astype(float))\n",
        "plt.title('Boxplot dari limit_balance')\n",
        "\n",
        "plt.show();"
      ]
    },
    {
      "cell_type": "code",
      "execution_count": 19,
      "metadata": {
        "colab": {
          "base_uri": "https://localhost:8080/"
        },
        "id": "2S3wniI34Hrs",
        "outputId": "1ce274a3-d689-45d6-b286-4d050f026588"
      },
      "outputs": [
        {
          "name": "stdout",
          "output_type": "stream",
          "text": [
            "Nilai Q1:  50000.0\n",
            "Nilai Q3:  230000.0\n",
            "Nilai IQR:  180000.0\n",
            "Nilai Batas Bawah:  -220000.0\n",
            "Nilai Batas Atas:  500000.0\n",
            "Nilai sebelum:  2372\n",
            "Nilai setelah:  2315\n",
            "\n",
            "Skewness Value train limit_balance:  0.76\n"
          ]
        }
      ],
      "source": [
        "X_train_awal = X_train.copy()\n",
        "\n",
        "# Membuat nilai 25 quantil yang disebut Q1 dan 75 quantil yang disebut Q3\n",
        "Q1 = X_train['limit_balance'].quantile(0.25)\n",
        "Q3 = X_train['limit_balance'].quantile(0.75)\n",
        "print ('Nilai Q1: ', Q1)\n",
        "print ('Nilai Q3: ', Q3)\n",
        "\n",
        "# Membuat nilai IQR, dari Q3 - Q1\n",
        "IQR = Q3 - Q1\n",
        "print ('Nilai IQR: ', IQR)\n",
        "\n",
        "# Membuat nilai batas bawah dengan rumus Q1 - (IQR * 1.5)\n",
        "BatasBawah = Q1 - (IQR * 1.5)\n",
        "\n",
        "# Membuat nilai batas atas dengan rumus Q3 + (IQR * 1.5)\n",
        "BatasAtas = Q3 + (IQR * 1.5)\n",
        "\n",
        "print ('Nilai Batas Bawah: ', BatasBawah)\n",
        "print ('Nilai Batas Atas: ', BatasAtas)\n",
        "\n",
        "# Menghilangkan angka-angka yang berada diluar batas bawah maupun batas atas\n",
        "X_train = X_train[(X_train['limit_balance'] > BatasBawah) & (X_train['limit_balance'] < BatasAtas)]\n",
        "\n",
        "# Menampilkan jumlah nilai, sebelum dan sesudah dihilangkan datanya\n",
        "print (\"Nilai sebelum: \", X_train_awal.shape[0])\n",
        "print (\"Nilai setelah: \", X_train.shape[0])\n",
        "print()\n",
        "\n",
        "print('Skewness Value train limit_balance: ', X_train['limit_balance'].skew().round(decimals=2))"
      ]
    },
    {
      "attachments": {},
      "cell_type": "markdown",
      "metadata": {
        "id": "IKtE8d6xm8aU"
      },
      "source": [
        "### Mengecek outlier pada `age`"
      ]
    },
    {
      "cell_type": "code",
      "execution_count": 20,
      "metadata": {
        "colab": {
          "base_uri": "https://localhost:8080/",
          "height": 427
        },
        "id": "wHcRP5HwnKvB",
        "outputId": "60a9943b-1b30-4d64-875a-be359985e6f3"
      },
      "outputs": [
        {
          "name": "stdout",
          "output_type": "stream",
          "text": [
            "Skewness Value hours_per_week:  0.78\n"
          ]
        },
        {
          "data": {
            "image/png": "[encoded data removed]",
            "text/plain": [
              "<Figure size 1600x400 with 2 Axes>"
            ]
          },
          "metadata": {},
          "output_type": "display_data"
        }
      ],
      "source": [
        "print('Skewness Value hours_per_week: ', X_train['age'].skew().round(decimals=2));\n",
        "\n",
        "plt.figure(figsize=(16, 4));\n",
        "\n",
        "# Histogram\n",
        "plt.subplot(1, 2, 1)\n",
        "sns.histplot(X_train['age'].astype(float), bins=30)\n",
        "plt.title('Histogram dari age')\n",
        "\n",
        "# Boxplot\n",
        "plt.subplot(1, 2, 2)\n",
        "sns.boxplot(data=X_train, y='age')\n",
        "plt.title('Boxplot dari age')\n",
        "\n",
        "plt.show()"
      ]
    },
    {
      "cell_type": "code",
      "execution_count": 21,
      "metadata": {},
      "outputs": [
        {
          "name": "stdout",
          "output_type": "stream",
          "text": [
            "Nilai Q1:  28.0\n",
            "Nilai Q3:  41.0\n",
            "Nilai IQR:  13.0\n",
            "Nilai Batas Bawah:  8.5\n",
            "Nilai Batas Atas:  60.5\n",
            "2315\n",
            "2294\n",
            "Skewness Value age:  0.64\n"
          ]
        }
      ],
      "source": [
        "X_train_awal = X_train.copy()\n",
        "\n",
        "# Membuat nilai 25 quantil yang disebut Q1 dan 75 quantil yang disebut Q3\n",
        "Q1 = df['age'].quantile(0.25)\n",
        "Q3 = df['age'].quantile(0.75)\n",
        "print ('Nilai Q1: ', Q1)\n",
        "print ('Nilai Q3: ', Q3)\n",
        "\n",
        "# Membuat nilai IQR, dari Q3 - Q1\n",
        "IQR = Q3 - Q1\n",
        "print ('Nilai IQR: ', IQR)\n",
        "\n",
        "# Membuat nilai batas bawah dengan rumus Q1 - (IQR * 1.5)\n",
        "BatasBawah = Q1 - (IQR * 1.5)\n",
        "\n",
        "# Membuat nilai batas atas dengan rumus Q3 + (IQR * 1.5)\n",
        "BatasAtas = Q3 + (IQR * 1.5)\n",
        "\n",
        "print ('Nilai Batas Bawah: ', BatasBawah)\n",
        "print ('Nilai Batas Atas: ', BatasAtas)\n",
        "\n",
        "# Menghilangkan angka-angka yang berada diluar batas bawah maupun batas atas\n",
        "X_train = X_train[(X_train['age'] > BatasBawah) & (X_train['age'] < BatasAtas)]\n",
        "\n",
        "# Menampilkan jumlah nilai, sebelum dan sesudah dihilangkan datanya\n",
        "print (X_train_awal.shape[0])    #Nilai sebelum\n",
        "print (X_train.shape[0]) #Nilai setelah\n",
        "\n",
        "print('Skewness Value age: ', X_train['age'].skew().round(decimals=2))"
      ]
    },
    {
      "cell_type": "code",
      "execution_count": 22,
      "metadata": {
        "id": "Jus3t8PfP-ms"
      },
      "outputs": [],
      "source": [
        "# Menghilangkan data di y_train yang hilang saat outlier pada X_train\n",
        "y_train = y_train.filter(items=X_train.index,axis=0)"
      ]
    },
    {
      "attachments": {},
      "cell_type": "markdown",
      "metadata": {
        "id": "qz8IdnNKrGEO"
      },
      "source": [
        "## Feature Selection"
      ]
    },
    {
      "cell_type": "code",
      "execution_count": 23,
      "metadata": {},
      "outputs": [
        {
          "name": "stdout",
          "output_type": "stream",
          "text": [
            "Kolom numeric :  ['limit_balance', 'sex', 'education_level', 'marital_status', 'age', 'pay_0', 'pay_2', 'pay_3', 'pay_4', 'pay_5', 'pay_6', 'bill_amt_1', 'bill_amt_2', 'bill_amt_3', 'bill_amt_4', 'bill_amt_5', 'bill_amt_6', 'pay_amt_1', 'pay_amt_2', 'pay_amt_3', 'pay_amt_4', 'pay_amt_5', 'pay_amt_6']\n",
            "Kolom kategori :  []\n"
          ]
        }
      ],
      "source": [
        "numeric_feature = X.select_dtypes(include=np.number).columns.tolist()\n",
        "categorical_features = X.select_dtypes(exclude=np.number).columns.tolist()\n",
        "\n",
        "print ('Kolom numeric : ', numeric_feature)\n",
        "print ('Kolom kategori : ', categorical_features)"
      ]
    },
    {
      "cell_type": "code",
      "execution_count": 24,
      "metadata": {
        "colab": {
          "base_uri": "https://localhost:8080/"
        },
        "id": "qbCYtqXyscjO",
        "outputId": "052ea641-ba95-4aff-bcef-a2612b61e21f"
      },
      "outputs": [
        {
          "data": {
            "text/html": [
              "<style>#sk-container-id-1 {color: black;background-color: white;}#sk-container-id-1 pre{padding: 0;}#sk-container-id-1 div.sk-toggleable {background-color: white;}#sk-container-id-1 label.sk-toggleable__label {cursor: pointer;display: block;width: 100%;margin-bottom: 0;padding: 0.3em;box-sizing: border-box;text-align: center;}#sk-container-id-1 label.sk-toggleable__label-arrow:before {content: \"▸\";float: left;margin-right: 0.25em;color: #696969;}#sk-container-id-1 label.sk-toggleable__label-arrow:hover:before {color: black;}#sk-container-id-1 div.sk-estimator:hover label.sk-toggleable__label-arrow:before {color: black;}#sk-container-id-1 div.sk-toggleable__content {max-height: 0;max-width: 0;overflow: hidden;text-align: left;background-color: #f0f8ff;}#sk-container-id-1 div.sk-toggleable__content pre {margin: 0.2em;color: black;border-radius: 0.25em;background-color: #f0f8ff;}#sk-container-id-1 input.sk-toggleable__control:checked~div.sk-toggleable__content {max-height: 200px;max-width: 100%;overflow: auto;}#sk-container-id-1 input.sk-toggleable__control:checked~label.sk-toggleable__label-arrow:before {content: \"▾\";}#sk-container-id-1 div.sk-estimator input.sk-toggleable__control:checked~label.sk-toggleable__label {background-color: #d4ebff;}#sk-container-id-1 div.sk-label input.sk-toggleable__control:checked~label.sk-toggleable__label {background-color: #d4ebff;}#sk-container-id-1 input.sk-hidden--visually {border: 0;clip: rect(1px 1px 1px 1px);clip: rect(1px, 1px, 1px, 1px);height: 1px;margin: -1px;overflow: hidden;padding: 0;position: absolute;width: 1px;}#sk-container-id-1 div.sk-estimator {font-family: monospace;background-color: #f0f8ff;border: 1px dotted black;border-radius: 0.25em;box-sizing: border-box;margin-bottom: 0.5em;}#sk-container-id-1 div.sk-estimator:hover {background-color: #d4ebff;}#sk-container-id-1 div.sk-parallel-item::after {content: \"\";width: 100%;border-bottom: 1px solid gray;flex-grow: 1;}#sk-container-id-1 div.sk-label:hover label.sk-toggleable__label {background-color: #d4ebff;}#sk-container-id-1 div.sk-serial::before {content: \"\";position: absolute;border-left: 1px solid gray;box-sizing: border-box;top: 0;bottom: 0;left: 50%;z-index: 0;}#sk-container-id-1 div.sk-serial {display: flex;flex-direction: column;align-items: center;background-color: white;padding-right: 0.2em;padding-left: 0.2em;position: relative;}#sk-container-id-1 div.sk-item {position: relative;z-index: 1;}#sk-container-id-1 div.sk-parallel {display: flex;align-items: stretch;justify-content: center;background-color: white;position: relative;}#sk-container-id-1 div.sk-item::before, #sk-container-id-1 div.sk-parallel-item::before {content: \"\";position: absolute;border-left: 1px solid gray;box-sizing: border-box;top: 0;bottom: 0;left: 50%;z-index: -1;}#sk-container-id-1 div.sk-parallel-item {display: flex;flex-direction: column;z-index: 1;position: relative;background-color: white;}#sk-container-id-1 div.sk-parallel-item:first-child::after {align-self: flex-end;width: 50%;}#sk-container-id-1 div.sk-parallel-item:last-child::after {align-self: flex-start;width: 50%;}#sk-container-id-1 div.sk-parallel-item:only-child::after {width: 0;}#sk-container-id-1 div.sk-dashed-wrapped {border: 1px dashed gray;margin: 0 0.4em 0.5em 0.4em;box-sizing: border-box;padding-bottom: 0.4em;background-color: white;}#sk-container-id-1 div.sk-label label {font-family: monospace;font-weight: bold;display: inline-block;line-height: 1.2em;}#sk-container-id-1 div.sk-label-container {text-align: center;}#sk-container-id-1 div.sk-container {/* jupyter's `normalize.less` sets `[hidden] { display: none; }` but bootstrap.min.css set `[hidden] { display: none !important; }` so we also need the `!important` here to be able to override the default hidden behavior on the sphinx rendered scikit-learn.org. See: https://github.com/scikit-learn/scikit-learn/issues/21755 */display: inline-block !important;position: relative;}#sk-container-id-1 div.sk-text-repr-fallback {display: none;}</style><div id=\"sk-container-id-1\" class=\"sk-top-container\"><div class=\"sk-text-repr-fallback\"><pre>Pipeline(steps=[(&#x27;preprocessor&#x27;,\n",
              "                 ColumnTransformer(transformers=[(&#x27;num&#x27;,\n",
              "                                                  Pipeline(steps=[(&#x27;scaler&#x27;,\n",
              "                                                                   MinMaxScaler())]),\n",
              "                                                  [&#x27;limit_balance&#x27;, &#x27;sex&#x27;,\n",
              "                                                   &#x27;education_level&#x27;,\n",
              "                                                   &#x27;marital_status&#x27;, &#x27;age&#x27;,\n",
              "                                                   &#x27;pay_0&#x27;, &#x27;pay_2&#x27;, &#x27;pay_3&#x27;,\n",
              "                                                   &#x27;pay_4&#x27;, &#x27;pay_5&#x27;, &#x27;pay_6&#x27;,\n",
              "                                                   &#x27;bill_amt_1&#x27;, &#x27;bill_amt_2&#x27;,\n",
              "                                                   &#x27;bill_amt_3&#x27;, &#x27;bill_amt_4&#x27;,\n",
              "                                                   &#x27;bill_amt_5&#x27;, &#x27;bill_amt_6&#x27;,\n",
              "                                                   &#x27;pay_amt_1&#x27;, &#x27;pay_amt_2&#x27;,\n",
              "                                                   &#x27;pay_amt_3&#x27;, &#x27;pay_amt_4&#x27;,\n",
              "                                                   &#x27;pay_amt_5&#x27;,\n",
              "                                                   &#x27;pay_amt_6&#x27;])]))])</pre><b>In a Jupyter environment, please rerun this cell to show the HTML representation or trust the notebook. <br />On GitHub, the HTML representation is unable to render, please try loading this page with nbviewer.org.</b></div><div class=\"sk-container\" hidden><div class=\"sk-item sk-dashed-wrapped\"><div class=\"sk-label-container\"><div class=\"sk-label sk-toggleable\"><input class=\"sk-toggleable__control sk-hidden--visually\" id=\"sk-estimator-id-1\" type=\"checkbox\" ><label for=\"sk-estimator-id-1\" class=\"sk-toggleable__label sk-toggleable__label-arrow\">Pipeline</label><div class=\"sk-toggleable__content\"><pre>Pipeline(steps=[(&#x27;preprocessor&#x27;,\n",
              "                 ColumnTransformer(transformers=[(&#x27;num&#x27;,\n",
              "                                                  Pipeline(steps=[(&#x27;scaler&#x27;,\n",
              "                                                                   MinMaxScaler())]),\n",
              "                                                  [&#x27;limit_balance&#x27;, &#x27;sex&#x27;,\n",
              "                                                   &#x27;education_level&#x27;,\n",
              "                                                   &#x27;marital_status&#x27;, &#x27;age&#x27;,\n",
              "                                                   &#x27;pay_0&#x27;, &#x27;pay_2&#x27;, &#x27;pay_3&#x27;,\n",
              "                                                   &#x27;pay_4&#x27;, &#x27;pay_5&#x27;, &#x27;pay_6&#x27;,\n",
              "                                                   &#x27;bill_amt_1&#x27;, &#x27;bill_amt_2&#x27;,\n",
              "                                                   &#x27;bill_amt_3&#x27;, &#x27;bill_amt_4&#x27;,\n",
              "                                                   &#x27;bill_amt_5&#x27;, &#x27;bill_amt_6&#x27;,\n",
              "                                                   &#x27;pay_amt_1&#x27;, &#x27;pay_amt_2&#x27;,\n",
              "                                                   &#x27;pay_amt_3&#x27;, &#x27;pay_amt_4&#x27;,\n",
              "                                                   &#x27;pay_amt_5&#x27;,\n",
              "                                                   &#x27;pay_amt_6&#x27;])]))])</pre></div></div></div><div class=\"sk-serial\"><div class=\"sk-item sk-dashed-wrapped\"><div class=\"sk-label-container\"><div class=\"sk-label sk-toggleable\"><input class=\"sk-toggleable__control sk-hidden--visually\" id=\"sk-estimator-id-2\" type=\"checkbox\" ><label for=\"sk-estimator-id-2\" class=\"sk-toggleable__label sk-toggleable__label-arrow\">preprocessor: ColumnTransformer</label><div class=\"sk-toggleable__content\"><pre>ColumnTransformer(transformers=[(&#x27;num&#x27;,\n",
              "                                 Pipeline(steps=[(&#x27;scaler&#x27;, MinMaxScaler())]),\n",
              "                                 [&#x27;limit_balance&#x27;, &#x27;sex&#x27;, &#x27;education_level&#x27;,\n",
              "                                  &#x27;marital_status&#x27;, &#x27;age&#x27;, &#x27;pay_0&#x27;, &#x27;pay_2&#x27;,\n",
              "                                  &#x27;pay_3&#x27;, &#x27;pay_4&#x27;, &#x27;pay_5&#x27;, &#x27;pay_6&#x27;,\n",
              "                                  &#x27;bill_amt_1&#x27;, &#x27;bill_amt_2&#x27;, &#x27;bill_amt_3&#x27;,\n",
              "                                  &#x27;bill_amt_4&#x27;, &#x27;bill_amt_5&#x27;, &#x27;bill_amt_6&#x27;,\n",
              "                                  &#x27;pay_amt_1&#x27;, &#x27;pay_amt_2&#x27;, &#x27;pay_amt_3&#x27;,\n",
              "                                  &#x27;pay_amt_4&#x27;, &#x27;pay_amt_5&#x27;, &#x27;pay_amt_6&#x27;])])</pre></div></div></div><div class=\"sk-parallel\"><div class=\"sk-parallel-item\"><div class=\"sk-item\"><div class=\"sk-label-container\"><div class=\"sk-label sk-toggleable\"><input class=\"sk-toggleable__control sk-hidden--visually\" id=\"sk-estimator-id-3\" type=\"checkbox\" ><label for=\"sk-estimator-id-3\" class=\"sk-toggleable__label sk-toggleable__label-arrow\">num</label><div class=\"sk-toggleable__content\"><pre>[&#x27;limit_balance&#x27;, &#x27;sex&#x27;, &#x27;education_level&#x27;, &#x27;marital_status&#x27;, &#x27;age&#x27;, &#x27;pay_0&#x27;, &#x27;pay_2&#x27;, &#x27;pay_3&#x27;, &#x27;pay_4&#x27;, &#x27;pay_5&#x27;, &#x27;pay_6&#x27;, &#x27;bill_amt_1&#x27;, &#x27;bill_amt_2&#x27;, &#x27;bill_amt_3&#x27;, &#x27;bill_amt_4&#x27;, &#x27;bill_amt_5&#x27;, &#x27;bill_amt_6&#x27;, &#x27;pay_amt_1&#x27;, &#x27;pay_amt_2&#x27;, &#x27;pay_amt_3&#x27;, &#x27;pay_amt_4&#x27;, &#x27;pay_amt_5&#x27;, &#x27;pay_amt_6&#x27;]</pre></div></div></div><div class=\"sk-serial\"><div class=\"sk-item\"><div class=\"sk-serial\"><div class=\"sk-item\"><div class=\"sk-estimator sk-toggleable\"><input class=\"sk-toggleable__control sk-hidden--visually\" id=\"sk-estimator-id-4\" type=\"checkbox\" ><label for=\"sk-estimator-id-4\" class=\"sk-toggleable__label sk-toggleable__label-arrow\">MinMaxScaler</label><div class=\"sk-toggleable__content\"><pre>MinMaxScaler()</pre></div></div></div></div></div></div></div></div></div></div></div></div></div></div>"
            ],
            "text/plain": [
              "Pipeline(steps=[('preprocessor',\n",
              "                 ColumnTransformer(transformers=[('num',\n",
              "                                                  Pipeline(steps=[('scaler',\n",
              "                                                                   MinMaxScaler())]),\n",
              "                                                  ['limit_balance', 'sex',\n",
              "                                                   'education_level',\n",
              "                                                   'marital_status', 'age',\n",
              "                                                   'pay_0', 'pay_2', 'pay_3',\n",
              "                                                   'pay_4', 'pay_5', 'pay_6',\n",
              "                                                   'bill_amt_1', 'bill_amt_2',\n",
              "                                                   'bill_amt_3', 'bill_amt_4',\n",
              "                                                   'bill_amt_5', 'bill_amt_6',\n",
              "                                                   'pay_amt_1', 'pay_amt_2',\n",
              "                                                   'pay_amt_3', 'pay_amt_4',\n",
              "                                                   'pay_amt_5',\n",
              "                                                   'pay_amt_6'])]))])"
            ]
          },
          "execution_count": 24,
          "metadata": {},
          "output_type": "execute_result"
        }
      ],
      "source": [
        "# Menggunakan pipeline agar mempersingkat coding, dari Scaling, Encoding, dan Concate\n",
        "numeric_transformer = Pipeline(steps=[(\"scaler\", MinMaxScaler())])\n",
        "\n",
        "preprocessor = ColumnTransformer(transformers=[\n",
        "    (\"num\", numeric_transformer, numeric_feature)])\n",
        "\n",
        "pipe = Pipeline(steps=[(\"preprocessor\", preprocessor)])\n",
        "\n",
        "pipe.fit(X_train, y_train)"
      ]
    },
    {
      "cell_type": "markdown",
      "metadata": {},
      "source": [
        "- Pada numeric scaler, digunakan MinMaxScaler karena datanya tidak terdistribusi secara normal, mengubah skala data menjadi 0 sampai 1\n",
        "- Pada category encoder, karena tidak adanya data kategori sehingga tidak dilakukan encoding"
      ]
    },
    {
      "attachments": {},
      "cell_type": "markdown",
      "metadata": {
        "id": "qboKgs1fO_0V"
      },
      "source": [
        "# vi - Model Definition\n",
        "> Bagian ini berisi cell untuk mendefinisikan model. Jelaskan alasan menggunakan suatu algoritma/model, hyperparameter yang dipakai, jenis penggunaan metrics yang dipakai, dan hal lain yang terkait dengan model."
      ]
    },
    {
      "attachments": {},
      "cell_type": "markdown",
      "metadata": {
        "id": "jPKf5oPn7b9d"
      },
      "source": [
        "## Logistic Regression"
      ]
    },
    {
      "cell_type": "code",
      "execution_count": 25,
      "metadata": {
        "id": "xiiECA9yJf_N"
      },
      "outputs": [],
      "source": [
        "# Mendefinisikan model Logistic Regression\n",
        "model_log_reg = LogisticRegression()"
      ]
    },
    {
      "attachments": {},
      "cell_type": "markdown",
      "metadata": {
        "id": "VAQF0yxWbbML"
      },
      "source": [
        "## K-Nearest Neighbor"
      ]
    },
    {
      "cell_type": "code",
      "execution_count": 26,
      "metadata": {
        "id": "QQ_11WGqMOKl"
      },
      "outputs": [],
      "source": [
        "# Mendefinisikan model K-Nearest Neighbor\n",
        "model_knn = KNeighborsClassifier()"
      ]
    },
    {
      "attachments": {},
      "cell_type": "markdown",
      "metadata": {
        "id": "FU1gEfkr7wN2"
      },
      "source": [
        "## Naive Bayes"
      ]
    },
    {
      "cell_type": "code",
      "execution_count": 27,
      "metadata": {
        "id": "KNVUJqrTJl9l"
      },
      "outputs": [],
      "source": [
        "# Mendefinisikan model Naive Bayes\n",
        "model_nb = GaussianNB()"
      ]
    },
    {
      "attachments": {},
      "cell_type": "markdown",
      "metadata": {
        "id": "xtlund5h7dpE"
      },
      "source": [
        "## SVM"
      ]
    },
    {
      "cell_type": "code",
      "execution_count": 28,
      "metadata": {
        "id": "AcdbKIuYbfmJ"
      },
      "outputs": [],
      "source": [
        "# Mendefinisikan model SVM dengan SVC\n",
        "model_svc = SVC ()"
      ]
    },
    {
      "attachments": {},
      "cell_type": "markdown",
      "metadata": {
        "id": "5dnPbEQZbY1R"
      },
      "source": [
        "## Decision Tree"
      ]
    },
    {
      "cell_type": "code",
      "execution_count": 29,
      "metadata": {
        "id": "czOT_ZGF1ZPk"
      },
      "outputs": [],
      "source": [
        "# Mendefinisikan model Decision Tree\n",
        "model_dtc = DecisionTreeClassifier()"
      ]
    },
    {
      "attachments": {},
      "cell_type": "markdown",
      "metadata": {
        "id": "F9OIOwyH7fpO"
      },
      "source": [
        "## Random Forest"
      ]
    },
    {
      "cell_type": "code",
      "execution_count": 30,
      "metadata": {
        "id": "-utn8BkTJlob"
      },
      "outputs": [],
      "source": [
        "# Mendefinisikan model Random Forest\n",
        "model_rfc = RandomForestClassifier()"
      ]
    },
    {
      "attachments": {},
      "cell_type": "markdown",
      "metadata": {
        "id": "uJJC3anMPGLt"
      },
      "source": [
        "# vii - Model Training\n",
        "> Cell pada bagian ini hanya berisi code untuk melatih model dan output yang dihasilkan. Lakukan beberapa kali proses training dengan hyperparameter yang berbeda untuk melihat hasil yang didapatkan. Analisis dan narasikan hasil ini pada bagian Model Evaluation."
      ]
    },
    {
      "cell_type": "markdown",
      "metadata": {},
      "source": [
        "## Logistik Regression"
      ]
    },
    {
      "cell_type": "code",
      "execution_count": 31,
      "metadata": {
        "colab": {
          "base_uri": "https://localhost:8080/",
          "height": 214
        },
        "id": "lqSQvNiR0DgU",
        "outputId": "b00bbbc5-ade6-455b-d337-a34e9d705752"
      },
      "outputs": [
        {
          "name": "stderr",
          "output_type": "stream",
          "text": [
            "C:\\Users\\farha\\AppData\\Roaming\\Python\\Python39\\site-packages\\sklearn\\linear_model\\_logistic.py:458: ConvergenceWarning: lbfgs failed to converge (status=1):\n",
            "STOP: TOTAL NO. of ITERATIONS REACHED LIMIT.\n",
            "\n",
            "Increase the number of iterations (max_iter) or scale the data as shown in:\n",
            "    https://scikit-learn.org/stable/modules/preprocessing.html\n",
            "Please also refer to the documentation for alternative solver options:\n",
            "    https://scikit-learn.org/stable/modules/linear_model.html#logistic-regression\n",
            "  n_iter_i = _check_optimize_result(\n"
          ]
        },
        {
          "data": {
            "text/html": [
              "<style>#sk-container-id-2 {color: black;background-color: white;}#sk-container-id-2 pre{padding: 0;}#sk-container-id-2 div.sk-toggleable {background-color: white;}#sk-container-id-2 label.sk-toggleable__label {cursor: pointer;display: block;width: 100%;margin-bottom: 0;padding: 0.3em;box-sizing: border-box;text-align: center;}#sk-container-id-2 label.sk-toggleable__label-arrow:before {content: \"▸\";float: left;margin-right: 0.25em;color: #696969;}#sk-container-id-2 label.sk-toggleable__label-arrow:hover:before {color: black;}#sk-container-id-2 div.sk-estimator:hover label.sk-toggleable__label-arrow:before {color: black;}#sk-container-id-2 div.sk-toggleable__content {max-height: 0;max-width: 0;overflow: hidden;text-align: left;background-color: #f0f8ff;}#sk-container-id-2 div.sk-toggleable__content pre {margin: 0.2em;color: black;border-radius: 0.25em;background-color: #f0f8ff;}#sk-container-id-2 input.sk-toggleable__control:checked~div.sk-toggleable__content {max-height: 200px;max-width: 100%;overflow: auto;}#sk-container-id-2 input.sk-toggleable__control:checked~label.sk-toggleable__label-arrow:before {content: \"▾\";}#sk-container-id-2 div.sk-estimator input.sk-toggleable__control:checked~label.sk-toggleable__label {background-color: #d4ebff;}#sk-container-id-2 div.sk-label input.sk-toggleable__control:checked~label.sk-toggleable__label {background-color: #d4ebff;}#sk-container-id-2 input.sk-hidden--visually {border: 0;clip: rect(1px 1px 1px 1px);clip: rect(1px, 1px, 1px, 1px);height: 1px;margin: -1px;overflow: hidden;padding: 0;position: absolute;width: 1px;}#sk-container-id-2 div.sk-estimator {font-family: monospace;background-color: #f0f8ff;border: 1px dotted black;border-radius: 0.25em;box-sizing: border-box;margin-bottom: 0.5em;}#sk-container-id-2 div.sk-estimator:hover {background-color: #d4ebff;}#sk-container-id-2 div.sk-parallel-item::after {content: \"\";width: 100%;border-bottom: 1px solid gray;flex-grow: 1;}#sk-container-id-2 div.sk-label:hover label.sk-toggleable__label {background-color: #d4ebff;}#sk-container-id-2 div.sk-serial::before {content: \"\";position: absolute;border-left: 1px solid gray;box-sizing: border-box;top: 0;bottom: 0;left: 50%;z-index: 0;}#sk-container-id-2 div.sk-serial {display: flex;flex-direction: column;align-items: center;background-color: white;padding-right: 0.2em;padding-left: 0.2em;position: relative;}#sk-container-id-2 div.sk-item {position: relative;z-index: 1;}#sk-container-id-2 div.sk-parallel {display: flex;align-items: stretch;justify-content: center;background-color: white;position: relative;}#sk-container-id-2 div.sk-item::before, #sk-container-id-2 div.sk-parallel-item::before {content: \"\";position: absolute;border-left: 1px solid gray;box-sizing: border-box;top: 0;bottom: 0;left: 50%;z-index: -1;}#sk-container-id-2 div.sk-parallel-item {display: flex;flex-direction: column;z-index: 1;position: relative;background-color: white;}#sk-container-id-2 div.sk-parallel-item:first-child::after {align-self: flex-end;width: 50%;}#sk-container-id-2 div.sk-parallel-item:last-child::after {align-self: flex-start;width: 50%;}#sk-container-id-2 div.sk-parallel-item:only-child::after {width: 0;}#sk-container-id-2 div.sk-dashed-wrapped {border: 1px dashed gray;margin: 0 0.4em 0.5em 0.4em;box-sizing: border-box;padding-bottom: 0.4em;background-color: white;}#sk-container-id-2 div.sk-label label {font-family: monospace;font-weight: bold;display: inline-block;line-height: 1.2em;}#sk-container-id-2 div.sk-label-container {text-align: center;}#sk-container-id-2 div.sk-container {/* jupyter's `normalize.less` sets `[hidden] { display: none; }` but bootstrap.min.css set `[hidden] { display: none !important; }` so we also need the `!important` here to be able to override the default hidden behavior on the sphinx rendered scikit-learn.org. See: https://github.com/scikit-learn/scikit-learn/issues/21755 */display: inline-block !important;position: relative;}#sk-container-id-2 div.sk-text-repr-fallback {display: none;}</style><div id=\"sk-container-id-2\" class=\"sk-top-container\"><div class=\"sk-text-repr-fallback\"><pre>LogisticRegression()</pre><b>In a Jupyter environment, please rerun this cell to show the HTML representation or trust the notebook. <br />On GitHub, the HTML representation is unable to render, please try loading this page with nbviewer.org.</b></div><div class=\"sk-container\" hidden><div class=\"sk-item\"><div class=\"sk-estimator sk-toggleable\"><input class=\"sk-toggleable__control sk-hidden--visually\" id=\"sk-estimator-id-5\" type=\"checkbox\" checked><label for=\"sk-estimator-id-5\" class=\"sk-toggleable__label sk-toggleable__label-arrow\">LogisticRegression</label><div class=\"sk-toggleable__content\"><pre>LogisticRegression()</pre></div></div></div></div></div>"
            ],
            "text/plain": [
              "LogisticRegression()"
            ]
          },
          "execution_count": 31,
          "metadata": {},
          "output_type": "execute_result"
        }
      ],
      "source": [
        "model_log_reg.fit(X_train, y_train)"
      ]
    },
    {
      "cell_type": "markdown",
      "metadata": {},
      "source": [
        "## K-Nearest Neighbor"
      ]
    },
    {
      "cell_type": "code",
      "execution_count": 32,
      "metadata": {
        "id": "SP4jhkWYnqmm"
      },
      "outputs": [
        {
          "data": {
            "text/html": [
              "<style>#sk-container-id-3 {color: black;background-color: white;}#sk-container-id-3 pre{padding: 0;}#sk-container-id-3 div.sk-toggleable {background-color: white;}#sk-container-id-3 label.sk-toggleable__label {cursor: pointer;display: block;width: 100%;margin-bottom: 0;padding: 0.3em;box-sizing: border-box;text-align: center;}#sk-container-id-3 label.sk-toggleable__label-arrow:before {content: \"▸\";float: left;margin-right: 0.25em;color: #696969;}#sk-container-id-3 label.sk-toggleable__label-arrow:hover:before {color: black;}#sk-container-id-3 div.sk-estimator:hover label.sk-toggleable__label-arrow:before {color: black;}#sk-container-id-3 div.sk-toggleable__content {max-height: 0;max-width: 0;overflow: hidden;text-align: left;background-color: #f0f8ff;}#sk-container-id-3 div.sk-toggleable__content pre {margin: 0.2em;color: black;border-radius: 0.25em;background-color: #f0f8ff;}#sk-container-id-3 input.sk-toggleable__control:checked~div.sk-toggleable__content {max-height: 200px;max-width: 100%;overflow: auto;}#sk-container-id-3 input.sk-toggleable__control:checked~label.sk-toggleable__label-arrow:before {content: \"▾\";}#sk-container-id-3 div.sk-estimator input.sk-toggleable__control:checked~label.sk-toggleable__label {background-color: #d4ebff;}#sk-container-id-3 div.sk-label input.sk-toggleable__control:checked~label.sk-toggleable__label {background-color: #d4ebff;}#sk-container-id-3 input.sk-hidden--visually {border: 0;clip: rect(1px 1px 1px 1px);clip: rect(1px, 1px, 1px, 1px);height: 1px;margin: -1px;overflow: hidden;padding: 0;position: absolute;width: 1px;}#sk-container-id-3 div.sk-estimator {font-family: monospace;background-color: #f0f8ff;border: 1px dotted black;border-radius: 0.25em;box-sizing: border-box;margin-bottom: 0.5em;}#sk-container-id-3 div.sk-estimator:hover {background-color: #d4ebff;}#sk-container-id-3 div.sk-parallel-item::after {content: \"\";width: 100%;border-bottom: 1px solid gray;flex-grow: 1;}#sk-container-id-3 div.sk-label:hover label.sk-toggleable__label {background-color: #d4ebff;}#sk-container-id-3 div.sk-serial::before {content: \"\";position: absolute;border-left: 1px solid gray;box-sizing: border-box;top: 0;bottom: 0;left: 50%;z-index: 0;}#sk-container-id-3 div.sk-serial {display: flex;flex-direction: column;align-items: center;background-color: white;padding-right: 0.2em;padding-left: 0.2em;position: relative;}#sk-container-id-3 div.sk-item {position: relative;z-index: 1;}#sk-container-id-3 div.sk-parallel {display: flex;align-items: stretch;justify-content: center;background-color: white;position: relative;}#sk-container-id-3 div.sk-item::before, #sk-container-id-3 div.sk-parallel-item::before {content: \"\";position: absolute;border-left: 1px solid gray;box-sizing: border-box;top: 0;bottom: 0;left: 50%;z-index: -1;}#sk-container-id-3 div.sk-parallel-item {display: flex;flex-direction: column;z-index: 1;position: relative;background-color: white;}#sk-container-id-3 div.sk-parallel-item:first-child::after {align-self: flex-end;width: 50%;}#sk-container-id-3 div.sk-parallel-item:last-child::after {align-self: flex-start;width: 50%;}#sk-container-id-3 div.sk-parallel-item:only-child::after {width: 0;}#sk-container-id-3 div.sk-dashed-wrapped {border: 1px dashed gray;margin: 0 0.4em 0.5em 0.4em;box-sizing: border-box;padding-bottom: 0.4em;background-color: white;}#sk-container-id-3 div.sk-label label {font-family: monospace;font-weight: bold;display: inline-block;line-height: 1.2em;}#sk-container-id-3 div.sk-label-container {text-align: center;}#sk-container-id-3 div.sk-container {/* jupyter's `normalize.less` sets `[hidden] { display: none; }` but bootstrap.min.css set `[hidden] { display: none !important; }` so we also need the `!important` here to be able to override the default hidden behavior on the sphinx rendered scikit-learn.org. See: https://github.com/scikit-learn/scikit-learn/issues/21755 */display: inline-block !important;position: relative;}#sk-container-id-3 div.sk-text-repr-fallback {display: none;}</style><div id=\"sk-container-id-3\" class=\"sk-top-container\"><div class=\"sk-text-repr-fallback\"><pre>KNeighborsClassifier()</pre><b>In a Jupyter environment, please rerun this cell to show the HTML representation or trust the notebook. <br />On GitHub, the HTML representation is unable to render, please try loading this page with nbviewer.org.</b></div><div class=\"sk-container\" hidden><div class=\"sk-item\"><div class=\"sk-estimator sk-toggleable\"><input class=\"sk-toggleable__control sk-hidden--visually\" id=\"sk-estimator-id-6\" type=\"checkbox\" checked><label for=\"sk-estimator-id-6\" class=\"sk-toggleable__label sk-toggleable__label-arrow\">KNeighborsClassifier</label><div class=\"sk-toggleable__content\"><pre>KNeighborsClassifier()</pre></div></div></div></div></div>"
            ],
            "text/plain": [
              "KNeighborsClassifier()"
            ]
          },
          "execution_count": 32,
          "metadata": {},
          "output_type": "execute_result"
        }
      ],
      "source": [
        "model_knn.fit(X_train, y_train)"
      ]
    },
    {
      "cell_type": "markdown",
      "metadata": {},
      "source": [
        "## Naive Bayes"
      ]
    },
    {
      "cell_type": "code",
      "execution_count": 33,
      "metadata": {
        "id": "y6w8ZxvPnoty"
      },
      "outputs": [
        {
          "data": {
            "text/html": [
              "<style>#sk-container-id-4 {color: black;background-color: white;}#sk-container-id-4 pre{padding: 0;}#sk-container-id-4 div.sk-toggleable {background-color: white;}#sk-container-id-4 label.sk-toggleable__label {cursor: pointer;display: block;width: 100%;margin-bottom: 0;padding: 0.3em;box-sizing: border-box;text-align: center;}#sk-container-id-4 label.sk-toggleable__label-arrow:before {content: \"▸\";float: left;margin-right: 0.25em;color: #696969;}#sk-container-id-4 label.sk-toggleable__label-arrow:hover:before {color: black;}#sk-container-id-4 div.sk-estimator:hover label.sk-toggleable__label-arrow:before {color: black;}#sk-container-id-4 div.sk-toggleable__content {max-height: 0;max-width: 0;overflow: hidden;text-align: left;background-color: #f0f8ff;}#sk-container-id-4 div.sk-toggleable__content pre {margin: 0.2em;color: black;border-radius: 0.25em;background-color: #f0f8ff;}#sk-container-id-4 input.sk-toggleable__control:checked~div.sk-toggleable__content {max-height: 200px;max-width: 100%;overflow: auto;}#sk-container-id-4 input.sk-toggleable__control:checked~label.sk-toggleable__label-arrow:before {content: \"▾\";}#sk-container-id-4 div.sk-estimator input.sk-toggleable__control:checked~label.sk-toggleable__label {background-color: #d4ebff;}#sk-container-id-4 div.sk-label input.sk-toggleable__control:checked~label.sk-toggleable__label {background-color: #d4ebff;}#sk-container-id-4 input.sk-hidden--visually {border: 0;clip: rect(1px 1px 1px 1px);clip: rect(1px, 1px, 1px, 1px);height: 1px;margin: -1px;overflow: hidden;padding: 0;position: absolute;width: 1px;}#sk-container-id-4 div.sk-estimator {font-family: monospace;background-color: #f0f8ff;border: 1px dotted black;border-radius: 0.25em;box-sizing: border-box;margin-bottom: 0.5em;}#sk-container-id-4 div.sk-estimator:hover {background-color: #d4ebff;}#sk-container-id-4 div.sk-parallel-item::after {content: \"\";width: 100%;border-bottom: 1px solid gray;flex-grow: 1;}#sk-container-id-4 div.sk-label:hover label.sk-toggleable__label {background-color: #d4ebff;}#sk-container-id-4 div.sk-serial::before {content: \"\";position: absolute;border-left: 1px solid gray;box-sizing: border-box;top: 0;bottom: 0;left: 50%;z-index: 0;}#sk-container-id-4 div.sk-serial {display: flex;flex-direction: column;align-items: center;background-color: white;padding-right: 0.2em;padding-left: 0.2em;position: relative;}#sk-container-id-4 div.sk-item {position: relative;z-index: 1;}#sk-container-id-4 div.sk-parallel {display: flex;align-items: stretch;justify-content: center;background-color: white;position: relative;}#sk-container-id-4 div.sk-item::before, #sk-container-id-4 div.sk-parallel-item::before {content: \"\";position: absolute;border-left: 1px solid gray;box-sizing: border-box;top: 0;bottom: 0;left: 50%;z-index: -1;}#sk-container-id-4 div.sk-parallel-item {display: flex;flex-direction: column;z-index: 1;position: relative;background-color: white;}#sk-container-id-4 div.sk-parallel-item:first-child::after {align-self: flex-end;width: 50%;}#sk-container-id-4 div.sk-parallel-item:last-child::after {align-self: flex-start;width: 50%;}#sk-container-id-4 div.sk-parallel-item:only-child::after {width: 0;}#sk-container-id-4 div.sk-dashed-wrapped {border: 1px dashed gray;margin: 0 0.4em 0.5em 0.4em;box-sizing: border-box;padding-bottom: 0.4em;background-color: white;}#sk-container-id-4 div.sk-label label {font-family: monospace;font-weight: bold;display: inline-block;line-height: 1.2em;}#sk-container-id-4 div.sk-label-container {text-align: center;}#sk-container-id-4 div.sk-container {/* jupyter's `normalize.less` sets `[hidden] { display: none; }` but bootstrap.min.css set `[hidden] { display: none !important; }` so we also need the `!important` here to be able to override the default hidden behavior on the sphinx rendered scikit-learn.org. See: https://github.com/scikit-learn/scikit-learn/issues/21755 */display: inline-block !important;position: relative;}#sk-container-id-4 div.sk-text-repr-fallback {display: none;}</style><div id=\"sk-container-id-4\" class=\"sk-top-container\"><div class=\"sk-text-repr-fallback\"><pre>GaussianNB()</pre><b>In a Jupyter environment, please rerun this cell to show the HTML representation or trust the notebook. <br />On GitHub, the HTML representation is unable to render, please try loading this page with nbviewer.org.</b></div><div class=\"sk-container\" hidden><div class=\"sk-item\"><div class=\"sk-estimator sk-toggleable\"><input class=\"sk-toggleable__control sk-hidden--visually\" id=\"sk-estimator-id-7\" type=\"checkbox\" checked><label for=\"sk-estimator-id-7\" class=\"sk-toggleable__label sk-toggleable__label-arrow\">GaussianNB</label><div class=\"sk-toggleable__content\"><pre>GaussianNB()</pre></div></div></div></div></div>"
            ],
            "text/plain": [
              "GaussianNB()"
            ]
          },
          "execution_count": 33,
          "metadata": {},
          "output_type": "execute_result"
        }
      ],
      "source": [
        "model_nb.fit(X_train, y_train)"
      ]
    },
    {
      "cell_type": "markdown",
      "metadata": {},
      "source": [
        "## SVM"
      ]
    },
    {
      "cell_type": "code",
      "execution_count": 34,
      "metadata": {
        "id": "biJOdauiS24K"
      },
      "outputs": [
        {
          "data": {
            "text/html": [
              "<style>#sk-container-id-5 {color: black;background-color: white;}#sk-container-id-5 pre{padding: 0;}#sk-container-id-5 div.sk-toggleable {background-color: white;}#sk-container-id-5 label.sk-toggleable__label {cursor: pointer;display: block;width: 100%;margin-bottom: 0;padding: 0.3em;box-sizing: border-box;text-align: center;}#sk-container-id-5 label.sk-toggleable__label-arrow:before {content: \"▸\";float: left;margin-right: 0.25em;color: #696969;}#sk-container-id-5 label.sk-toggleable__label-arrow:hover:before {color: black;}#sk-container-id-5 div.sk-estimator:hover label.sk-toggleable__label-arrow:before {color: black;}#sk-container-id-5 div.sk-toggleable__content {max-height: 0;max-width: 0;overflow: hidden;text-align: left;background-color: #f0f8ff;}#sk-container-id-5 div.sk-toggleable__content pre {margin: 0.2em;color: black;border-radius: 0.25em;background-color: #f0f8ff;}#sk-container-id-5 input.sk-toggleable__control:checked~div.sk-toggleable__content {max-height: 200px;max-width: 100%;overflow: auto;}#sk-container-id-5 input.sk-toggleable__control:checked~label.sk-toggleable__label-arrow:before {content: \"▾\";}#sk-container-id-5 div.sk-estimator input.sk-toggleable__control:checked~label.sk-toggleable__label {background-color: #d4ebff;}#sk-container-id-5 div.sk-label input.sk-toggleable__control:checked~label.sk-toggleable__label {background-color: #d4ebff;}#sk-container-id-5 input.sk-hidden--visually {border: 0;clip: rect(1px 1px 1px 1px);clip: rect(1px, 1px, 1px, 1px);height: 1px;margin: -1px;overflow: hidden;padding: 0;position: absolute;width: 1px;}#sk-container-id-5 div.sk-estimator {font-family: monospace;background-color: #f0f8ff;border: 1px dotted black;border-radius: 0.25em;box-sizing: border-box;margin-bottom: 0.5em;}#sk-container-id-5 div.sk-estimator:hover {background-color: #d4ebff;}#sk-container-id-5 div.sk-parallel-item::after {content: \"\";width: 100%;border-bottom: 1px solid gray;flex-grow: 1;}#sk-container-id-5 div.sk-label:hover label.sk-toggleable__label {background-color: #d4ebff;}#sk-container-id-5 div.sk-serial::before {content: \"\";position: absolute;border-left: 1px solid gray;box-sizing: border-box;top: 0;bottom: 0;left: 50%;z-index: 0;}#sk-container-id-5 div.sk-serial {display: flex;flex-direction: column;align-items: center;background-color: white;padding-right: 0.2em;padding-left: 0.2em;position: relative;}#sk-container-id-5 div.sk-item {position: relative;z-index: 1;}#sk-container-id-5 div.sk-parallel {display: flex;align-items: stretch;justify-content: center;background-color: white;position: relative;}#sk-container-id-5 div.sk-item::before, #sk-container-id-5 div.sk-parallel-item::before {content: \"\";position: absolute;border-left: 1px solid gray;box-sizing: border-box;top: 0;bottom: 0;left: 50%;z-index: -1;}#sk-container-id-5 div.sk-parallel-item {display: flex;flex-direction: column;z-index: 1;position: relative;background-color: white;}#sk-container-id-5 div.sk-parallel-item:first-child::after {align-self: flex-end;width: 50%;}#sk-container-id-5 div.sk-parallel-item:last-child::after {align-self: flex-start;width: 50%;}#sk-container-id-5 div.sk-parallel-item:only-child::after {width: 0;}#sk-container-id-5 div.sk-dashed-wrapped {border: 1px dashed gray;margin: 0 0.4em 0.5em 0.4em;box-sizing: border-box;padding-bottom: 0.4em;background-color: white;}#sk-container-id-5 div.sk-label label {font-family: monospace;font-weight: bold;display: inline-block;line-height: 1.2em;}#sk-container-id-5 div.sk-label-container {text-align: center;}#sk-container-id-5 div.sk-container {/* jupyter's `normalize.less` sets `[hidden] { display: none; }` but bootstrap.min.css set `[hidden] { display: none !important; }` so we also need the `!important` here to be able to override the default hidden behavior on the sphinx rendered scikit-learn.org. See: https://github.com/scikit-learn/scikit-learn/issues/21755 */display: inline-block !important;position: relative;}#sk-container-id-5 div.sk-text-repr-fallback {display: none;}</style><div id=\"sk-container-id-5\" class=\"sk-top-container\"><div class=\"sk-text-repr-fallback\"><pre>SVC()</pre><b>In a Jupyter environment, please rerun this cell to show the HTML representation or trust the notebook. <br />On GitHub, the HTML representation is unable to render, please try loading this page with nbviewer.org.</b></div><div class=\"sk-container\" hidden><div class=\"sk-item\"><div class=\"sk-estimator sk-toggleable\"><input class=\"sk-toggleable__control sk-hidden--visually\" id=\"sk-estimator-id-8\" type=\"checkbox\" checked><label for=\"sk-estimator-id-8\" class=\"sk-toggleable__label sk-toggleable__label-arrow\">SVC</label><div class=\"sk-toggleable__content\"><pre>SVC()</pre></div></div></div></div></div>"
            ],
            "text/plain": [
              "SVC()"
            ]
          },
          "execution_count": 34,
          "metadata": {},
          "output_type": "execute_result"
        }
      ],
      "source": [
        "model_svc.fit(X_train, y_train)"
      ]
    },
    {
      "cell_type": "markdown",
      "metadata": {},
      "source": [
        "## Decision Tree"
      ]
    },
    {
      "cell_type": "code",
      "execution_count": 35,
      "metadata": {
        "colab": {
          "base_uri": "https://localhost:8080/",
          "height": 183
        },
        "id": "0xunnWYNmUbY",
        "outputId": "c680c625-3b67-4e91-a484-b2f8f0214ee1"
      },
      "outputs": [
        {
          "data": {
            "text/html": [
              "<style>#sk-container-id-6 {color: black;background-color: white;}#sk-container-id-6 pre{padding: 0;}#sk-container-id-6 div.sk-toggleable {background-color: white;}#sk-container-id-6 label.sk-toggleable__label {cursor: pointer;display: block;width: 100%;margin-bottom: 0;padding: 0.3em;box-sizing: border-box;text-align: center;}#sk-container-id-6 label.sk-toggleable__label-arrow:before {content: \"▸\";float: left;margin-right: 0.25em;color: #696969;}#sk-container-id-6 label.sk-toggleable__label-arrow:hover:before {color: black;}#sk-container-id-6 div.sk-estimator:hover label.sk-toggleable__label-arrow:before {color: black;}#sk-container-id-6 div.sk-toggleable__content {max-height: 0;max-width: 0;overflow: hidden;text-align: left;background-color: #f0f8ff;}#sk-container-id-6 div.sk-toggleable__content pre {margin: 0.2em;color: black;border-radius: 0.25em;background-color: #f0f8ff;}#sk-container-id-6 input.sk-toggleable__control:checked~div.sk-toggleable__content {max-height: 200px;max-width: 100%;overflow: auto;}#sk-container-id-6 input.sk-toggleable__control:checked~label.sk-toggleable__label-arrow:before {content: \"▾\";}#sk-container-id-6 div.sk-estimator input.sk-toggleable__control:checked~label.sk-toggleable__label {background-color: #d4ebff;}#sk-container-id-6 div.sk-label input.sk-toggleable__control:checked~label.sk-toggleable__label {background-color: #d4ebff;}#sk-container-id-6 input.sk-hidden--visually {border: 0;clip: rect(1px 1px 1px 1px);clip: rect(1px, 1px, 1px, 1px);height: 1px;margin: -1px;overflow: hidden;padding: 0;position: absolute;width: 1px;}#sk-container-id-6 div.sk-estimator {font-family: monospace;background-color: #f0f8ff;border: 1px dotted black;border-radius: 0.25em;box-sizing: border-box;margin-bottom: 0.5em;}#sk-container-id-6 div.sk-estimator:hover {background-color: #d4ebff;}#sk-container-id-6 div.sk-parallel-item::after {content: \"\";width: 100%;border-bottom: 1px solid gray;flex-grow: 1;}#sk-container-id-6 div.sk-label:hover label.sk-toggleable__label {background-color: #d4ebff;}#sk-container-id-6 div.sk-serial::before {content: \"\";position: absolute;border-left: 1px solid gray;box-sizing: border-box;top: 0;bottom: 0;left: 50%;z-index: 0;}#sk-container-id-6 div.sk-serial {display: flex;flex-direction: column;align-items: center;background-color: white;padding-right: 0.2em;padding-left: 0.2em;position: relative;}#sk-container-id-6 div.sk-item {position: relative;z-index: 1;}#sk-container-id-6 div.sk-parallel {display: flex;align-items: stretch;justify-content: center;background-color: white;position: relative;}#sk-container-id-6 div.sk-item::before, #sk-container-id-6 div.sk-parallel-item::before {content: \"\";position: absolute;border-left: 1px solid gray;box-sizing: border-box;top: 0;bottom: 0;left: 50%;z-index: -1;}#sk-container-id-6 div.sk-parallel-item {display: flex;flex-direction: column;z-index: 1;position: relative;background-color: white;}#sk-container-id-6 div.sk-parallel-item:first-child::after {align-self: flex-end;width: 50%;}#sk-container-id-6 div.sk-parallel-item:last-child::after {align-self: flex-start;width: 50%;}#sk-container-id-6 div.sk-parallel-item:only-child::after {width: 0;}#sk-container-id-6 div.sk-dashed-wrapped {border: 1px dashed gray;margin: 0 0.4em 0.5em 0.4em;box-sizing: border-box;padding-bottom: 0.4em;background-color: white;}#sk-container-id-6 div.sk-label label {font-family: monospace;font-weight: bold;display: inline-block;line-height: 1.2em;}#sk-container-id-6 div.sk-label-container {text-align: center;}#sk-container-id-6 div.sk-container {/* jupyter's `normalize.less` sets `[hidden] { display: none; }` but bootstrap.min.css set `[hidden] { display: none !important; }` so we also need the `!important` here to be able to override the default hidden behavior on the sphinx rendered scikit-learn.org. See: https://github.com/scikit-learn/scikit-learn/issues/21755 */display: inline-block !important;position: relative;}#sk-container-id-6 div.sk-text-repr-fallback {display: none;}</style><div id=\"sk-container-id-6\" class=\"sk-top-container\"><div class=\"sk-text-repr-fallback\"><pre>DecisionTreeClassifier()</pre><b>In a Jupyter environment, please rerun this cell to show the HTML representation or trust the notebook. <br />On GitHub, the HTML representation is unable to render, please try loading this page with nbviewer.org.</b></div><div class=\"sk-container\" hidden><div class=\"sk-item\"><div class=\"sk-estimator sk-toggleable\"><input class=\"sk-toggleable__control sk-hidden--visually\" id=\"sk-estimator-id-9\" type=\"checkbox\" checked><label for=\"sk-estimator-id-9\" class=\"sk-toggleable__label sk-toggleable__label-arrow\">DecisionTreeClassifier</label><div class=\"sk-toggleable__content\"><pre>DecisionTreeClassifier()</pre></div></div></div></div></div>"
            ],
            "text/plain": [
              "DecisionTreeClassifier()"
            ]
          },
          "execution_count": 35,
          "metadata": {},
          "output_type": "execute_result"
        }
      ],
      "source": [
        "model_dtc.fit(X_train, y_train)"
      ]
    },
    {
      "cell_type": "markdown",
      "metadata": {},
      "source": [
        "## Random Forest"
      ]
    },
    {
      "cell_type": "code",
      "execution_count": 36,
      "metadata": {
        "id": "yfCHrbRumW2M"
      },
      "outputs": [
        {
          "data": {
            "text/html": [
              "<style>#sk-container-id-7 {color: black;background-color: white;}#sk-container-id-7 pre{padding: 0;}#sk-container-id-7 div.sk-toggleable {background-color: white;}#sk-container-id-7 label.sk-toggleable__label {cursor: pointer;display: block;width: 100%;margin-bottom: 0;padding: 0.3em;box-sizing: border-box;text-align: center;}#sk-container-id-7 label.sk-toggleable__label-arrow:before {content: \"▸\";float: left;margin-right: 0.25em;color: #696969;}#sk-container-id-7 label.sk-toggleable__label-arrow:hover:before {color: black;}#sk-container-id-7 div.sk-estimator:hover label.sk-toggleable__label-arrow:before {color: black;}#sk-container-id-7 div.sk-toggleable__content {max-height: 0;max-width: 0;overflow: hidden;text-align: left;background-color: #f0f8ff;}#sk-container-id-7 div.sk-toggleable__content pre {margin: 0.2em;color: black;border-radius: 0.25em;background-color: #f0f8ff;}#sk-container-id-7 input.sk-toggleable__control:checked~div.sk-toggleable__content {max-height: 200px;max-width: 100%;overflow: auto;}#sk-container-id-7 input.sk-toggleable__control:checked~label.sk-toggleable__label-arrow:before {content: \"▾\";}#sk-container-id-7 div.sk-estimator input.sk-toggleable__control:checked~label.sk-toggleable__label {background-color: #d4ebff;}#sk-container-id-7 div.sk-label input.sk-toggleable__control:checked~label.sk-toggleable__label {background-color: #d4ebff;}#sk-container-id-7 input.sk-hidden--visually {border: 0;clip: rect(1px 1px 1px 1px);clip: rect(1px, 1px, 1px, 1px);height: 1px;margin: -1px;overflow: hidden;padding: 0;position: absolute;width: 1px;}#sk-container-id-7 div.sk-estimator {font-family: monospace;background-color: #f0f8ff;border: 1px dotted black;border-radius: 0.25em;box-sizing: border-box;margin-bottom: 0.5em;}#sk-container-id-7 div.sk-estimator:hover {background-color: #d4ebff;}#sk-container-id-7 div.sk-parallel-item::after {content: \"\";width: 100%;border-bottom: 1px solid gray;flex-grow: 1;}#sk-container-id-7 div.sk-label:hover label.sk-toggleable__label {background-color: #d4ebff;}#sk-container-id-7 div.sk-serial::before {content: \"\";position: absolute;border-left: 1px solid gray;box-sizing: border-box;top: 0;bottom: 0;left: 50%;z-index: 0;}#sk-container-id-7 div.sk-serial {display: flex;flex-direction: column;align-items: center;background-color: white;padding-right: 0.2em;padding-left: 0.2em;position: relative;}#sk-container-id-7 div.sk-item {position: relative;z-index: 1;}#sk-container-id-7 div.sk-parallel {display: flex;align-items: stretch;justify-content: center;background-color: white;position: relative;}#sk-container-id-7 div.sk-item::before, #sk-container-id-7 div.sk-parallel-item::before {content: \"\";position: absolute;border-left: 1px solid gray;box-sizing: border-box;top: 0;bottom: 0;left: 50%;z-index: -1;}#sk-container-id-7 div.sk-parallel-item {display: flex;flex-direction: column;z-index: 1;position: relative;background-color: white;}#sk-container-id-7 div.sk-parallel-item:first-child::after {align-self: flex-end;width: 50%;}#sk-container-id-7 div.sk-parallel-item:last-child::after {align-self: flex-start;width: 50%;}#sk-container-id-7 div.sk-parallel-item:only-child::after {width: 0;}#sk-container-id-7 div.sk-dashed-wrapped {border: 1px dashed gray;margin: 0 0.4em 0.5em 0.4em;box-sizing: border-box;padding-bottom: 0.4em;background-color: white;}#sk-container-id-7 div.sk-label label {font-family: monospace;font-weight: bold;display: inline-block;line-height: 1.2em;}#sk-container-id-7 div.sk-label-container {text-align: center;}#sk-container-id-7 div.sk-container {/* jupyter's `normalize.less` sets `[hidden] { display: none; }` but bootstrap.min.css set `[hidden] { display: none !important; }` so we also need the `!important` here to be able to override the default hidden behavior on the sphinx rendered scikit-learn.org. See: https://github.com/scikit-learn/scikit-learn/issues/21755 */display: inline-block !important;position: relative;}#sk-container-id-7 div.sk-text-repr-fallback {display: none;}</style><div id=\"sk-container-id-7\" class=\"sk-top-container\"><div class=\"sk-text-repr-fallback\"><pre>RandomForestClassifier()</pre><b>In a Jupyter environment, please rerun this cell to show the HTML representation or trust the notebook. <br />On GitHub, the HTML representation is unable to render, please try loading this page with nbviewer.org.</b></div><div class=\"sk-container\" hidden><div class=\"sk-item\"><div class=\"sk-estimator sk-toggleable\"><input class=\"sk-toggleable__control sk-hidden--visually\" id=\"sk-estimator-id-10\" type=\"checkbox\" checked><label for=\"sk-estimator-id-10\" class=\"sk-toggleable__label sk-toggleable__label-arrow\">RandomForestClassifier</label><div class=\"sk-toggleable__content\"><pre>RandomForestClassifier()</pre></div></div></div></div></div>"
            ],
            "text/plain": [
              "RandomForestClassifier()"
            ]
          },
          "execution_count": 36,
          "metadata": {},
          "output_type": "execute_result"
        }
      ],
      "source": [
        "model_rfc.fit(X_train, y_train)"
      ]
    },
    {
      "attachments": {},
      "cell_type": "markdown",
      "metadata": {
        "id": "-6JdnGmFPMJF"
      },
      "source": [
        "# viii - Model Evaluation\n",
        "> Pada bagian ini, dilakukan evaluasi model yang harus menunjukkan bagaimana performa model berdasarkan metrics yang dipilih. Hal ini harus dibuktikan dengan visualisasi tren performa dan/atau tingkat kesalahan model. **Lakukan analisis terkait dengan hasil pada model dan tuliskan hasil analisisnya.**\n",
        "\n"
      ]
    },
    {
      "attachments": {},
      "cell_type": "markdown",
      "metadata": {
        "id": "AdbE3PvPQ45V"
      },
      "source": [
        "## Cross Validation"
      ]
    },
    {
      "cell_type": "markdown",
      "metadata": {},
      "source": [
        "### Logistic Regression"
      ]
    },
    {
      "cell_type": "code",
      "execution_count": 37,
      "metadata": {},
      "outputs": [
        {
          "name": "stdout",
          "output_type": "stream",
          "text": [
            "Score - Mean - Cross Validation :  0.7820389873562235\n",
            "Score - Std - Cross Validation  :  0.003955307864896316\n"
          ]
        },
        {
          "name": "stderr",
          "output_type": "stream",
          "text": [
            "C:\\Users\\farha\\AppData\\Roaming\\Python\\Python39\\site-packages\\sklearn\\linear_model\\_logistic.py:458: ConvergenceWarning: lbfgs failed to converge (status=1):\n",
            "STOP: TOTAL NO. of ITERATIONS REACHED LIMIT.\n",
            "\n",
            "Increase the number of iterations (max_iter) or scale the data as shown in:\n",
            "    https://scikit-learn.org/stable/modules/preprocessing.html\n",
            "Please also refer to the documentation for alternative solver options:\n",
            "    https://scikit-learn.org/stable/modules/linear_model.html#logistic-regression\n",
            "  n_iter_i = _check_optimize_result(\n",
            "C:\\Users\\farha\\AppData\\Roaming\\Python\\Python39\\site-packages\\sklearn\\linear_model\\_logistic.py:458: ConvergenceWarning: lbfgs failed to converge (status=1):\n",
            "STOP: TOTAL NO. of ITERATIONS REACHED LIMIT.\n",
            "\n",
            "Increase the number of iterations (max_iter) or scale the data as shown in:\n",
            "    https://scikit-learn.org/stable/modules/preprocessing.html\n",
            "Please also refer to the documentation for alternative solver options:\n",
            "    https://scikit-learn.org/stable/modules/linear_model.html#logistic-regression\n",
            "  n_iter_i = _check_optimize_result(\n",
            "C:\\Users\\farha\\AppData\\Roaming\\Python\\Python39\\site-packages\\sklearn\\linear_model\\_logistic.py:458: ConvergenceWarning: lbfgs failed to converge (status=1):\n",
            "STOP: TOTAL NO. of ITERATIONS REACHED LIMIT.\n",
            "\n",
            "Increase the number of iterations (max_iter) or scale the data as shown in:\n",
            "    https://scikit-learn.org/stable/modules/preprocessing.html\n",
            "Please also refer to the documentation for alternative solver options:\n",
            "    https://scikit-learn.org/stable/modules/linear_model.html#logistic-regression\n",
            "  n_iter_i = _check_optimize_result(\n",
            "C:\\Users\\farha\\AppData\\Roaming\\Python\\Python39\\site-packages\\sklearn\\linear_model\\_logistic.py:458: ConvergenceWarning: lbfgs failed to converge (status=1):\n",
            "STOP: TOTAL NO. of ITERATIONS REACHED LIMIT.\n",
            "\n",
            "Increase the number of iterations (max_iter) or scale the data as shown in:\n",
            "    https://scikit-learn.org/stable/modules/preprocessing.html\n",
            "Please also refer to the documentation for alternative solver options:\n",
            "    https://scikit-learn.org/stable/modules/linear_model.html#logistic-regression\n",
            "  n_iter_i = _check_optimize_result(\n",
            "C:\\Users\\farha\\AppData\\Roaming\\Python\\Python39\\site-packages\\sklearn\\linear_model\\_logistic.py:458: ConvergenceWarning: lbfgs failed to converge (status=1):\n",
            "STOP: TOTAL NO. of ITERATIONS REACHED LIMIT.\n",
            "\n",
            "Increase the number of iterations (max_iter) or scale the data as shown in:\n",
            "    https://scikit-learn.org/stable/modules/preprocessing.html\n",
            "Please also refer to the documentation for alternative solver options:\n",
            "    https://scikit-learn.org/stable/modules/linear_model.html#logistic-regression\n",
            "  n_iter_i = _check_optimize_result(\n"
          ]
        }
      ],
      "source": [
        "score_train_cross_val_log_reg = cross_val_score (model_log_reg,\n",
        "                                                X_train,\n",
        "                                                y_train,\n",
        "                                                cv=5)\n",
        "\n",
        "print('Score - Mean - Cross Validation : ', score_train_cross_val_log_reg.mean())\n",
        "print('Score - Std - Cross Validation  : ', score_train_cross_val_log_reg.std())"
      ]
    },
    {
      "cell_type": "markdown",
      "metadata": {},
      "source": [
        "### K Nearest Neighbor"
      ]
    },
    {
      "cell_type": "code",
      "execution_count": 38,
      "metadata": {},
      "outputs": [
        {
          "name": "stdout",
          "output_type": "stream",
          "text": [
            "Score - Mean - Cross Validation :  0.7436842956493611\n",
            "Score - Std - Cross Validation  :  0.014270035283703424\n"
          ]
        }
      ],
      "source": [
        "score_train_cross_val_knn = cross_val_score (model_knn,\n",
        "                                            X_train,\n",
        "                                            y_train,\n",
        "                                            cv=5)\n",
        "\n",
        "print('Score - Mean - Cross Validation : ', score_train_cross_val_knn.mean())\n",
        "print('Score - Std - Cross Validation  : ', score_train_cross_val_knn.std())"
      ]
    },
    {
      "cell_type": "markdown",
      "metadata": {},
      "source": [
        "### Naive Bayes"
      ]
    },
    {
      "cell_type": "code",
      "execution_count": 39,
      "metadata": {},
      "outputs": [
        {
          "name": "stdout",
          "output_type": "stream",
          "text": [
            "Score - Mean - Cross Validation :  0.3653062001122623\n",
            "Score - Std - Cross Validation  :  0.017467105268703605\n"
          ]
        }
      ],
      "source": [
        "score_train_cross_val_nb = cross_val_score (model_nb,\n",
        "                                            X_train,\n",
        "                                            y_train,\n",
        "                                            cv=5)\n",
        "\n",
        "print('Score - Mean - Cross Validation : ', score_train_cross_val_nb.mean())\n",
        "print('Score - Std - Cross Validation  : ', score_train_cross_val_nb.std())\n"
      ]
    },
    {
      "cell_type": "markdown",
      "metadata": {},
      "source": [
        "### SVM"
      ]
    },
    {
      "cell_type": "code",
      "execution_count": 40,
      "metadata": {},
      "outputs": [
        {
          "name": "stdout",
          "output_type": "stream",
          "text": [
            "Score - Mean - Cross Validation :  0.7816042088839417\n",
            "Score - Std - Cross Validation  :  0.0008442381633959707\n"
          ]
        }
      ],
      "source": [
        "score_train_cross_val_svc = cross_val_score (model_svc,\n",
        "                                            X_train,\n",
        "                                            y_train,\n",
        "                                            cv=5)\n",
        "\n",
        "print('Score - Mean - Cross Validation : ', score_train_cross_val_svc.mean())\n",
        "print('Score - Std - Cross Validation  : ', score_train_cross_val_svc.std())\n"
      ]
    },
    {
      "cell_type": "markdown",
      "metadata": {},
      "source": [
        "### Decision Tree"
      ]
    },
    {
      "cell_type": "code",
      "execution_count": 41,
      "metadata": {},
      "outputs": [
        {
          "name": "stdout",
          "output_type": "stream",
          "text": [
            "Score - Mean - Cross Validation :  0.7175187352427882\n",
            "Score - Std - Cross Validation  :  0.014065887289847563\n"
          ]
        }
      ],
      "source": [
        "score_train_cross_val_dtc = cross_val_score (model_dtc,\n",
        "                                            X_train,\n",
        "                                            y_train,\n",
        "                                            cv=3)\n",
        "\n",
        "print('Score - Mean - Cross Validation : ', score_train_cross_val_dtc.mean())\n",
        "print('Score - Std - Cross Validation  : ', score_train_cross_val_dtc.std())\n"
      ]
    },
    {
      "cell_type": "markdown",
      "metadata": {},
      "source": [
        "### Random Forest"
      ]
    },
    {
      "cell_type": "code",
      "execution_count": 42,
      "metadata": {},
      "outputs": [
        {
          "name": "stdout",
          "output_type": "stream",
          "text": [
            "Score - Mean - Cross Validation :  0.8208323352610387\n",
            "Score - Std - Cross Validation  :  0.01305141451868916\n"
          ]
        }
      ],
      "source": [
        "score_train_cross_val_rfc = cross_val_score (model_rfc,\n",
        "                                            X_train,\n",
        "                                            y_train,\n",
        "                                            cv=3)\n",
        "\n",
        "print('Score - Mean - Cross Validation : ', score_train_cross_val_rfc.mean())\n",
        "print('Score - Std - Cross Validation  : ', score_train_cross_val_rfc.std())"
      ]
    },
    {
      "cell_type": "markdown",
      "metadata": {},
      "source": [
        "### Algoritma Terbaik"
      ]
    },
    {
      "cell_type": "code",
      "execution_count": 43,
      "metadata": {},
      "outputs": [
        {
          "data": {
            "text/html": [
              "<div>\n",
              "<style scoped>\n",
              "    .dataframe tbody tr th:only-of-type {\n",
              "        vertical-align: middle;\n",
              "    }\n",
              "\n",
              "    .dataframe tbody tr th {\n",
              "        vertical-align: top;\n",
              "    }\n",
              "\n",
              "    .dataframe thead th {\n",
              "        text-align: right;\n",
              "    }\n",
              "</style>\n",
              "<table border=\"1\" class=\"dataframe\">\n",
              "  <thead>\n",
              "    <tr style=\"text-align: right;\">\n",
              "      <th></th>\n",
              "      <th>Mean</th>\n",
              "      <th>Std</th>\n",
              "    </tr>\n",
              "  </thead>\n",
              "  <tbody>\n",
              "    <tr>\n",
              "      <th>Logistik Regression</th>\n",
              "      <td>78.203899</td>\n",
              "      <td>0.395531</td>\n",
              "    </tr>\n",
              "    <tr>\n",
              "      <th>K-Nearest Neighbor</th>\n",
              "      <td>74.368430</td>\n",
              "      <td>1.427004</td>\n",
              "    </tr>\n",
              "    <tr>\n",
              "      <th>Naive Bayes</th>\n",
              "      <td>36.530620</td>\n",
              "      <td>1.746711</td>\n",
              "    </tr>\n",
              "    <tr>\n",
              "      <th>SVM</th>\n",
              "      <td>78.160421</td>\n",
              "      <td>0.084424</td>\n",
              "    </tr>\n",
              "    <tr>\n",
              "      <th>Decision Tree</th>\n",
              "      <td>71.751874</td>\n",
              "      <td>1.406589</td>\n",
              "    </tr>\n",
              "    <tr>\n",
              "      <th>Random Forest</th>\n",
              "      <td>82.083234</td>\n",
              "      <td>1.305141</td>\n",
              "    </tr>\n",
              "  </tbody>\n",
              "</table>\n",
              "</div>"
            ],
            "text/plain": [
              "                          Mean       Std\n",
              "Logistik Regression  78.203899  0.395531\n",
              "K-Nearest Neighbor   74.368430  1.427004\n",
              "Naive Bayes          36.530620  1.746711\n",
              "SVM                  78.160421  0.084424\n",
              "Decision Tree        71.751874  1.406589\n",
              "Random Forest        82.083234  1.305141"
            ]
          },
          "execution_count": 43,
          "metadata": {},
          "output_type": "execute_result"
        }
      ],
      "source": [
        "algoritma_terbaik = pd.DataFrame({\n",
        "                    'Mean': \n",
        "                    [score_train_cross_val_log_reg.mean() * 100, \n",
        "                    score_train_cross_val_knn.mean() * 100, \n",
        "                    score_train_cross_val_nb.mean() * 100,\n",
        "                    score_train_cross_val_svc.mean() * 100,\n",
        "                    score_train_cross_val_dtc.mean() * 100,\n",
        "                    score_train_cross_val_rfc.mean() * 100],\n",
        "                    'Std': \n",
        "                    [score_train_cross_val_log_reg.std() * 100, \n",
        "                    score_train_cross_val_knn.std() * 100, \n",
        "                    score_train_cross_val_nb.std() * 100,\n",
        "                    score_train_cross_val_svc.std() * 100,\n",
        "                    score_train_cross_val_dtc.std() * 100,\n",
        "                    score_train_cross_val_rfc.std() * 100]\n",
        "                    }, \n",
        "                    index = [\"Logistik Regression\", \"K-Nearest Neighbor\", \"Naive Bayes\", \"SVM\", \"Decision Tree\", \"Random Forest\"])\n",
        "algoritma_terbaik"
      ]
    },
    {
      "cell_type": "markdown",
      "metadata": {},
      "source": [
        "Berdasarkan nilai pada tabel diatas, digunakan model karena nilai Mean dan Stdnya bagus"
      ]
    },
    {
      "cell_type": "markdown",
      "metadata": {},
      "source": [
        "## Hyperparameter Tuning"
      ]
    },
    {
      "cell_type": "code",
      "execution_count": 44,
      "metadata": {},
      "outputs": [
        {
          "data": {
            "text/html": [
              "<style>#sk-container-id-8 {color: black;background-color: white;}#sk-container-id-8 pre{padding: 0;}#sk-container-id-8 div.sk-toggleable {background-color: white;}#sk-container-id-8 label.sk-toggleable__label {cursor: pointer;display: block;width: 100%;margin-bottom: 0;padding: 0.3em;box-sizing: border-box;text-align: center;}#sk-container-id-8 label.sk-toggleable__label-arrow:before {content: \"▸\";float: left;margin-right: 0.25em;color: #696969;}#sk-container-id-8 label.sk-toggleable__label-arrow:hover:before {color: black;}#sk-container-id-8 div.sk-estimator:hover label.sk-toggleable__label-arrow:before {color: black;}#sk-container-id-8 div.sk-toggleable__content {max-height: 0;max-width: 0;overflow: hidden;text-align: left;background-color: #f0f8ff;}#sk-container-id-8 div.sk-toggleable__content pre {margin: 0.2em;color: black;border-radius: 0.25em;background-color: #f0f8ff;}#sk-container-id-8 input.sk-toggleable__control:checked~div.sk-toggleable__content {max-height: 200px;max-width: 100%;overflow: auto;}#sk-container-id-8 input.sk-toggleable__control:checked~label.sk-toggleable__label-arrow:before {content: \"▾\";}#sk-container-id-8 div.sk-estimator input.sk-toggleable__control:checked~label.sk-toggleable__label {background-color: #d4ebff;}#sk-container-id-8 div.sk-label input.sk-toggleable__control:checked~label.sk-toggleable__label {background-color: #d4ebff;}#sk-container-id-8 input.sk-hidden--visually {border: 0;clip: rect(1px 1px 1px 1px);clip: rect(1px, 1px, 1px, 1px);height: 1px;margin: -1px;overflow: hidden;padding: 0;position: absolute;width: 1px;}#sk-container-id-8 div.sk-estimator {font-family: monospace;background-color: #f0f8ff;border: 1px dotted black;border-radius: 0.25em;box-sizing: border-box;margin-bottom: 0.5em;}#sk-container-id-8 div.sk-estimator:hover {background-color: #d4ebff;}#sk-container-id-8 div.sk-parallel-item::after {content: \"\";width: 100%;border-bottom: 1px solid gray;flex-grow: 1;}#sk-container-id-8 div.sk-label:hover label.sk-toggleable__label {background-color: #d4ebff;}#sk-container-id-8 div.sk-serial::before {content: \"\";position: absolute;border-left: 1px solid gray;box-sizing: border-box;top: 0;bottom: 0;left: 50%;z-index: 0;}#sk-container-id-8 div.sk-serial {display: flex;flex-direction: column;align-items: center;background-color: white;padding-right: 0.2em;padding-left: 0.2em;position: relative;}#sk-container-id-8 div.sk-item {position: relative;z-index: 1;}#sk-container-id-8 div.sk-parallel {display: flex;align-items: stretch;justify-content: center;background-color: white;position: relative;}#sk-container-id-8 div.sk-item::before, #sk-container-id-8 div.sk-parallel-item::before {content: \"\";position: absolute;border-left: 1px solid gray;box-sizing: border-box;top: 0;bottom: 0;left: 50%;z-index: -1;}#sk-container-id-8 div.sk-parallel-item {display: flex;flex-direction: column;z-index: 1;position: relative;background-color: white;}#sk-container-id-8 div.sk-parallel-item:first-child::after {align-self: flex-end;width: 50%;}#sk-container-id-8 div.sk-parallel-item:last-child::after {align-self: flex-start;width: 50%;}#sk-container-id-8 div.sk-parallel-item:only-child::after {width: 0;}#sk-container-id-8 div.sk-dashed-wrapped {border: 1px dashed gray;margin: 0 0.4em 0.5em 0.4em;box-sizing: border-box;padding-bottom: 0.4em;background-color: white;}#sk-container-id-8 div.sk-label label {font-family: monospace;font-weight: bold;display: inline-block;line-height: 1.2em;}#sk-container-id-8 div.sk-label-container {text-align: center;}#sk-container-id-8 div.sk-container {/* jupyter's `normalize.less` sets `[hidden] { display: none; }` but bootstrap.min.css set `[hidden] { display: none !important; }` so we also need the `!important` here to be able to override the default hidden behavior on the sphinx rendered scikit-learn.org. See: https://github.com/scikit-learn/scikit-learn/issues/21755 */display: inline-block !important;position: relative;}#sk-container-id-8 div.sk-text-repr-fallback {display: none;}</style><div id=\"sk-container-id-8\" class=\"sk-top-container\"><div class=\"sk-text-repr-fallback\"><pre>GridSearchCV(estimator=RandomForestClassifier(),\n",
              "             param_grid={&#x27;criterion&#x27;: [&#x27;gini&#x27;, &#x27;entropy&#x27;, &#x27;log_loss&#x27;],\n",
              "                         &#x27;max_depth&#x27;: [4, 5, 6],\n",
              "                         &#x27;max_features&#x27;: [&#x27;sqrt&#x27;, &#x27;log2&#x27;],\n",
              "                         &#x27;n_estimators&#x27;: [200, 500]})</pre><b>In a Jupyter environment, please rerun this cell to show the HTML representation or trust the notebook. <br />On GitHub, the HTML representation is unable to render, please try loading this page with nbviewer.org.</b></div><div class=\"sk-container\" hidden><div class=\"sk-item sk-dashed-wrapped\"><div class=\"sk-label-container\"><div class=\"sk-label sk-toggleable\"><input class=\"sk-toggleable__control sk-hidden--visually\" id=\"sk-estimator-id-11\" type=\"checkbox\" ><label for=\"sk-estimator-id-11\" class=\"sk-toggleable__label sk-toggleable__label-arrow\">GridSearchCV</label><div class=\"sk-toggleable__content\"><pre>GridSearchCV(estimator=RandomForestClassifier(),\n",
              "             param_grid={&#x27;criterion&#x27;: [&#x27;gini&#x27;, &#x27;entropy&#x27;, &#x27;log_loss&#x27;],\n",
              "                         &#x27;max_depth&#x27;: [4, 5, 6],\n",
              "                         &#x27;max_features&#x27;: [&#x27;sqrt&#x27;, &#x27;log2&#x27;],\n",
              "                         &#x27;n_estimators&#x27;: [200, 500]})</pre></div></div></div><div class=\"sk-parallel\"><div class=\"sk-parallel-item\"><div class=\"sk-item\"><div class=\"sk-label-container\"><div class=\"sk-label sk-toggleable\"><input class=\"sk-toggleable__control sk-hidden--visually\" id=\"sk-estimator-id-12\" type=\"checkbox\" ><label for=\"sk-estimator-id-12\" class=\"sk-toggleable__label sk-toggleable__label-arrow\">estimator: RandomForestClassifier</label><div class=\"sk-toggleable__content\"><pre>RandomForestClassifier()</pre></div></div></div><div class=\"sk-serial\"><div class=\"sk-item\"><div class=\"sk-estimator sk-toggleable\"><input class=\"sk-toggleable__control sk-hidden--visually\" id=\"sk-estimator-id-13\" type=\"checkbox\" ><label for=\"sk-estimator-id-13\" class=\"sk-toggleable__label sk-toggleable__label-arrow\">RandomForestClassifier</label><div class=\"sk-toggleable__content\"><pre>RandomForestClassifier()</pre></div></div></div></div></div></div></div></div></div></div>"
            ],
            "text/plain": [
              "GridSearchCV(estimator=RandomForestClassifier(),\n",
              "             param_grid={'criterion': ['gini', 'entropy', 'log_loss'],\n",
              "                         'max_depth': [4, 5, 6],\n",
              "                         'max_features': ['sqrt', 'log2'],\n",
              "                         'n_estimators': [200, 500]})"
            ]
          },
          "execution_count": 44,
          "metadata": {},
          "output_type": "execute_result"
        }
      ],
      "source": [
        "param_grid = { \n",
        "    'n_estimators': [200, 500],\n",
        "    'max_features': ['sqrt', 'log2'],\n",
        "    'max_depth' : [4,5,6],\n",
        "    'criterion' : ['gini', 'entropy', 'log_loss']\n",
        "}\n",
        "\n",
        "# Mendefinisikan model Random Forest\n",
        "rfc = RandomForestClassifier()\n",
        "grid = GridSearchCV(rfc, param_grid)\n",
        "grid.fit(X_train, y_train)"
      ]
    },
    {
      "cell_type": "code",
      "execution_count": 45,
      "metadata": {},
      "outputs": [
        {
          "name": "stdout",
          "output_type": "stream",
          "text": [
            "Confusion Matrix Data Train Sebelum Hypertuning: \n",
            " [[1793    0]\n",
            " [   0  501]]\n",
            "              precision    recall  f1-score   support\n",
            "\n",
            "           0       1.00      1.00      1.00      1793\n",
            "           1       1.00      1.00      1.00       501\n",
            "\n",
            "    accuracy                           1.00      2294\n",
            "   macro avg       1.00      1.00      1.00      2294\n",
            "weighted avg       1.00      1.00      1.00      2294\n",
            "\n",
            "Confusion Matrix Data Test Sebelum Hypertuning: \n",
            " [[446  23]\n",
            " [ 71  53]]\n",
            "              precision    recall  f1-score   support\n",
            "\n",
            "           0       0.86      0.95      0.90       469\n",
            "           1       0.70      0.43      0.53       124\n",
            "\n",
            "    accuracy                           0.84       593\n",
            "   macro avg       0.78      0.69      0.72       593\n",
            "weighted avg       0.83      0.84      0.83       593\n",
            "\n"
          ]
        },
        {
          "data": {
            "text/plain": [
              "<sklearn.metrics._plot.confusion_matrix.ConfusionMatrixDisplay at 0x1c151423ca0>"
            ]
          },
          "execution_count": 45,
          "metadata": {},
          "output_type": "execute_result"
        },
        {
          "data": {
            "image/png": "[encoded data removed]",
            "text/plain": [
              "<Figure size 640x480 with 2 Axes>"
            ]
          },
          "metadata": {},
          "output_type": "display_data"
        },
        {
          "data": {
            "image/png": "[encoded data removed]",
            "text/plain": [
              "<Figure size 640x480 with 2 Axes>"
            ]
          },
          "metadata": {},
          "output_type": "display_data"
        }
      ],
      "source": [
        "# Membuat prediksi Random Forest sebelum hypertuning\n",
        "y_pred_rfc_train = model_rfc.predict(X_train)\n",
        "y_pred_rfc_test = model_rfc.predict(X_test)\n",
        "\n",
        "# Memperlihatkan confusion_matrix\n",
        "cm_train_rfc = confusion_matrix(y_train, y_pred_rfc_train)\n",
        "print('Confusion Matrix Data Train Sebelum Hypertuning: \\n', cm_train_rfc)\n",
        "print(classification_report(y_train, y_pred_rfc_train))\n",
        "\n",
        "cm_test_rfc = confusion_matrix(y_test, y_pred_rfc_test)\n",
        "print('Confusion Matrix Data Test Sebelum Hypertuning: \\n', cm_test_rfc)\n",
        "print(classification_report(y_test, y_pred_rfc_test))\n",
        "\n",
        "ConfusionMatrixDisplay(cm_train_rfc).plot()\n",
        "ConfusionMatrixDisplay(cm_test_rfc).plot()"
      ]
    },
    {
      "cell_type": "code",
      "execution_count": 48,
      "metadata": {},
      "outputs": [
        {
          "name": "stdout",
          "output_type": "stream",
          "text": [
            "Confusion Matrix Data Train Setelah Hypertuning: \n",
            " [[1759   34]\n",
            " [ 269  232]]\n",
            "              precision    recall  f1-score   support\n",
            "\n",
            "           0       0.87      0.98      0.92      1793\n",
            "           1       0.87      0.46      0.60       501\n",
            "\n",
            "    accuracy                           0.87      2294\n",
            "   macro avg       0.87      0.72      0.76      2294\n",
            "weighted avg       0.87      0.87      0.85      2294\n",
            "\n",
            "Confusion Matrix Data Test  Setelah Hypertuning: \n",
            " [[450  19]\n",
            " [ 68  56]]\n",
            "              precision    recall  f1-score   support\n",
            "\n",
            "           0       0.87      0.96      0.91       469\n",
            "           1       0.75      0.45      0.56       124\n",
            "\n",
            "    accuracy                           0.85       593\n",
            "   macro avg       0.81      0.71      0.74       593\n",
            "weighted avg       0.84      0.85      0.84       593\n",
            "\n"
          ]
        },
        {
          "data": {
            "text/html": [
              "<style>#sk-container-id-10 {color: black;background-color: white;}#sk-container-id-10 pre{padding: 0;}#sk-container-id-10 div.sk-toggleable {background-color: white;}#sk-container-id-10 label.sk-toggleable__label {cursor: pointer;display: block;width: 100%;margin-bottom: 0;padding: 0.3em;box-sizing: border-box;text-align: center;}#sk-container-id-10 label.sk-toggleable__label-arrow:before {content: \"▸\";float: left;margin-right: 0.25em;color: #696969;}#sk-container-id-10 label.sk-toggleable__label-arrow:hover:before {color: black;}#sk-container-id-10 div.sk-estimator:hover label.sk-toggleable__label-arrow:before {color: black;}#sk-container-id-10 div.sk-toggleable__content {max-height: 0;max-width: 0;overflow: hidden;text-align: left;background-color: #f0f8ff;}#sk-container-id-10 div.sk-toggleable__content pre {margin: 0.2em;color: black;border-radius: 0.25em;background-color: #f0f8ff;}#sk-container-id-10 input.sk-toggleable__control:checked~div.sk-toggleable__content {max-height: 200px;max-width: 100%;overflow: auto;}#sk-container-id-10 input.sk-toggleable__control:checked~label.sk-toggleable__label-arrow:before {content: \"▾\";}#sk-container-id-10 div.sk-estimator input.sk-toggleable__control:checked~label.sk-toggleable__label {background-color: #d4ebff;}#sk-container-id-10 div.sk-label input.sk-toggleable__control:checked~label.sk-toggleable__label {background-color: #d4ebff;}#sk-container-id-10 input.sk-hidden--visually {border: 0;clip: rect(1px 1px 1px 1px);clip: rect(1px, 1px, 1px, 1px);height: 1px;margin: -1px;overflow: hidden;padding: 0;position: absolute;width: 1px;}#sk-container-id-10 div.sk-estimator {font-family: monospace;background-color: #f0f8ff;border: 1px dotted black;border-radius: 0.25em;box-sizing: border-box;margin-bottom: 0.5em;}#sk-container-id-10 div.sk-estimator:hover {background-color: #d4ebff;}#sk-container-id-10 div.sk-parallel-item::after {content: \"\";width: 100%;border-bottom: 1px solid gray;flex-grow: 1;}#sk-container-id-10 div.sk-label:hover label.sk-toggleable__label {background-color: #d4ebff;}#sk-container-id-10 div.sk-serial::before {content: \"\";position: absolute;border-left: 1px solid gray;box-sizing: border-box;top: 0;bottom: 0;left: 50%;z-index: 0;}#sk-container-id-10 div.sk-serial {display: flex;flex-direction: column;align-items: center;background-color: white;padding-right: 0.2em;padding-left: 0.2em;position: relative;}#sk-container-id-10 div.sk-item {position: relative;z-index: 1;}#sk-container-id-10 div.sk-parallel {display: flex;align-items: stretch;justify-content: center;background-color: white;position: relative;}#sk-container-id-10 div.sk-item::before, #sk-container-id-10 div.sk-parallel-item::before {content: \"\";position: absolute;border-left: 1px solid gray;box-sizing: border-box;top: 0;bottom: 0;left: 50%;z-index: -1;}#sk-container-id-10 div.sk-parallel-item {display: flex;flex-direction: column;z-index: 1;position: relative;background-color: white;}#sk-container-id-10 div.sk-parallel-item:first-child::after {align-self: flex-end;width: 50%;}#sk-container-id-10 div.sk-parallel-item:last-child::after {align-self: flex-start;width: 50%;}#sk-container-id-10 div.sk-parallel-item:only-child::after {width: 0;}#sk-container-id-10 div.sk-dashed-wrapped {border: 1px dashed gray;margin: 0 0.4em 0.5em 0.4em;box-sizing: border-box;padding-bottom: 0.4em;background-color: white;}#sk-container-id-10 div.sk-label label {font-family: monospace;font-weight: bold;display: inline-block;line-height: 1.2em;}#sk-container-id-10 div.sk-label-container {text-align: center;}#sk-container-id-10 div.sk-container {/* jupyter's `normalize.less` sets `[hidden] { display: none; }` but bootstrap.min.css set `[hidden] { display: none !important; }` so we also need the `!important` here to be able to override the default hidden behavior on the sphinx rendered scikit-learn.org. See: https://github.com/scikit-learn/scikit-learn/issues/21755 */display: inline-block !important;position: relative;}#sk-container-id-10 div.sk-text-repr-fallback {display: none;}</style><div id=\"sk-container-id-10\" class=\"sk-top-container\"><div class=\"sk-text-repr-fallback\"><pre>RandomForestClassifier(max_depth=6, n_estimators=200)</pre><b>In a Jupyter environment, please rerun this cell to show the HTML representation or trust the notebook. <br />On GitHub, the HTML representation is unable to render, please try loading this page with nbviewer.org.</b></div><div class=\"sk-container\" hidden><div class=\"sk-item\"><div class=\"sk-estimator sk-toggleable\"><input class=\"sk-toggleable__control sk-hidden--visually\" id=\"sk-estimator-id-15\" type=\"checkbox\" checked><label for=\"sk-estimator-id-15\" class=\"sk-toggleable__label sk-toggleable__label-arrow\">RandomForestClassifier</label><div class=\"sk-toggleable__content\"><pre>RandomForestClassifier(max_depth=6, n_estimators=200)</pre></div></div></div></div></div>"
            ],
            "text/plain": [
              "RandomForestClassifier(max_depth=6, n_estimators=200)"
            ]
          },
          "execution_count": 48,
          "metadata": {},
          "output_type": "execute_result"
        },
        {
          "data": {
            "image/png": "[encoded data removed]",
            "text/plain": [
              "<Figure size 640x480 with 2 Axes>"
            ]
          },
          "metadata": {},
          "output_type": "display_data"
        },
        {
          "data": {
            "image/png": "[encoded data removed]",
            "text/plain": [
              "<Figure size 640x480 with 2 Axes>"
            ]
          },
          "metadata": {},
          "output_type": "display_data"
        }
      ],
      "source": [
        "# Membuat prediksi Random Forest setelah hypertuning\n",
        "best_model = grid.best_estimator_\n",
        "\n",
        "y_pred_train = best_model.predict(X_train)\n",
        "y_pred_test = best_model.predict(X_test)\n",
        "\n",
        "# Memperlihatkan confusion_matrix\n",
        "cm_train_rfc_ht = confusion_matrix(y_train, y_pred_train)\n",
        "print('Confusion Matrix Data Train Setelah Hypertuning: \\n', cm_train_rfc_ht)\n",
        "print(classification_report(y_train, y_pred_train))\n",
        "\n",
        "cm_test_rfc_ht = confusion_matrix(y_test, y_pred_test)\n",
        "print('Confusion Matrix Data Test  Setelah Hypertuning: \\n', cm_test_rfc_ht)\n",
        "print(classification_report(y_test, y_pred_test))\n",
        "\n",
        "ConfusionMatrixDisplay(cm_train_rfc_ht).plot()\n",
        "ConfusionMatrixDisplay(cm_test_rfc_ht).plot()\n",
        "\n",
        "best_model"
      ]
    },
    {
      "attachments": {},
      "cell_type": "markdown",
      "metadata": {
        "id": "dAmigixwPSHX"
      },
      "source": [
        "# ix - Model Saving\n",
        "> Pada bagian ini, dilakukan proses penyimpanan model dan file-file lain yang terkait dengan hasil proses pembuatan model. **Dengan melihat hasil Model Evaluation, pilihlah model terbaik untuk disimpan. Model terbaik ini akan digunakan kembali dalam melakukan Model Inference dan Model Deployment.**"
      ]
    },
    {
      "cell_type": "code",
      "execution_count": 49,
      "metadata": {
        "id": "fmk3eMqGTgxi"
      },
      "outputs": [
        {
          "data": {
            "text/plain": [
              "['best_model.pkl']"
            ]
          },
          "execution_count": 49,
          "metadata": {},
          "output_type": "execute_result"
        }
      ],
      "source": [
        "# Save the Files\n",
        "\n",
        "joblib.dump(best_model, \"best_model.pkl\")"
      ]
    },
    {
      "attachments": {},
      "cell_type": "markdown",
      "metadata": {
        "id": "H-6k2gyHPZbR"
      },
      "source": [
        "# x - Model Inference\n",
        "> Pada bagian ini, dilakukan proses penyimpanan model dan file-file lain yang terkait dengan hasil proses pembuatan model. **Dengan melihat hasil Model Evaluation, pilihlah model terbaik untuk disimpan. Model terbaik ini akan digunakan kembali dalam melakukan Model Inference dan Model Deployment.**"
      ]
    },
    {
      "cell_type": "code",
      "execution_count": 50,
      "metadata": {
        "id": "FTpDdJ08TpBi"
      },
      "outputs": [],
      "source": [
        "load_model = joblib.load(\"best_model.pkl\")"
      ]
    },
    {
      "cell_type": "code",
      "execution_count": 51,
      "metadata": {},
      "outputs": [
        {
          "data": {
            "text/html": [
              "<div>\n",
              "<style scoped>\n",
              "    .dataframe tbody tr th:only-of-type {\n",
              "        vertical-align: middle;\n",
              "    }\n",
              "\n",
              "    .dataframe tbody tr th {\n",
              "        vertical-align: top;\n",
              "    }\n",
              "\n",
              "    .dataframe thead th {\n",
              "        text-align: right;\n",
              "    }\n",
              "</style>\n",
              "<table border=\"1\" class=\"dataframe\">\n",
              "  <thead>\n",
              "    <tr style=\"text-align: right;\">\n",
              "      <th></th>\n",
              "      <th>limit_balance</th>\n",
              "      <th>sex</th>\n",
              "      <th>education_level</th>\n",
              "      <th>marital_status</th>\n",
              "      <th>age</th>\n",
              "      <th>pay_0</th>\n",
              "      <th>pay_2</th>\n",
              "      <th>pay_3</th>\n",
              "      <th>pay_4</th>\n",
              "      <th>pay_5</th>\n",
              "      <th>...</th>\n",
              "      <th>bill_amt_3</th>\n",
              "      <th>bill_amt_4</th>\n",
              "      <th>bill_amt_5</th>\n",
              "      <th>bill_amt_6</th>\n",
              "      <th>pay_amt_1</th>\n",
              "      <th>pay_amt_2</th>\n",
              "      <th>pay_amt_3</th>\n",
              "      <th>pay_amt_4</th>\n",
              "      <th>pay_amt_5</th>\n",
              "      <th>pay_amt_6</th>\n",
              "    </tr>\n",
              "  </thead>\n",
              "  <tbody>\n",
              "    <tr>\n",
              "      <th>0</th>\n",
              "      <td>450000</td>\n",
              "      <td>1</td>\n",
              "      <td>2</td>\n",
              "      <td>1</td>\n",
              "      <td>30</td>\n",
              "      <td>0</td>\n",
              "      <td>0</td>\n",
              "      <td>0</td>\n",
              "      <td>0</td>\n",
              "      <td>0</td>\n",
              "      <td>...</td>\n",
              "      <td>160000</td>\n",
              "      <td>150000</td>\n",
              "      <td>140000</td>\n",
              "      <td>145000</td>\n",
              "      <td>5000</td>\n",
              "      <td>150000</td>\n",
              "      <td>160000</td>\n",
              "      <td>5000</td>\n",
              "      <td>6000</td>\n",
              "      <td>7000</td>\n",
              "    </tr>\n",
              "  </tbody>\n",
              "</table>\n",
              "<p>1 rows × 23 columns</p>\n",
              "</div>"
            ],
            "text/plain": [
              "   limit_balance  sex  education_level  marital_status  age  pay_0  pay_2  \\\n",
              "0         450000    1                2               1   30      0      0   \n",
              "\n",
              "   pay_3  pay_4  pay_5  ...  bill_amt_3  bill_amt_4  bill_amt_5  bill_amt_6  \\\n",
              "0      0      0      0  ...      160000      150000      140000      145000   \n",
              "\n",
              "   pay_amt_1  pay_amt_2  pay_amt_3  pay_amt_4  pay_amt_5  pay_amt_6  \n",
              "0       5000     150000     160000       5000       6000       7000  \n",
              "\n",
              "[1 rows x 23 columns]"
            ]
          },
          "execution_count": 51,
          "metadata": {},
          "output_type": "execute_result"
        }
      ],
      "source": [
        "new_data = pd.DataFrame({\n",
        "    'limit_balance': [450000], \n",
        "    'sex': [1], \n",
        "    'education_level': [2], \n",
        "    'marital_status': [1], \n",
        "    'age': [30],\n",
        "    'pay_0': [0], \n",
        "    'pay_2': [0], \n",
        "    'pay_3': [0], \n",
        "    'pay_4': [0], \n",
        "    'pay_5': [0], \n",
        "    'pay_6': [0], \n",
        "    'bill_amt_1': [160000],\n",
        "    'bill_amt_2': [70000], \n",
        "    'bill_amt_3': [160000], \n",
        "    'bill_amt_4': [150000], \n",
        "    'bill_amt_5': [140000], \n",
        "    'bill_amt_6': [145000],\n",
        "    'pay_amt_1': [5000], \n",
        "    'pay_amt_2': [150000], \n",
        "    'pay_amt_3': [160000], \n",
        "    'pay_amt_4': [5000], \n",
        "    'pay_amt_5': [6000],\n",
        "    'pay_amt_6': [7000]\n",
        "})\n",
        "new_data"
      ]
    },
    {
      "cell_type": "code",
      "execution_count": 52,
      "metadata": {},
      "outputs": [
        {
          "name": "stdout",
          "output_type": "stream",
          "text": [
            "[0]\n"
          ]
        }
      ],
      "source": [
        "new_data_pred = load_model.predict(new_data)\n",
        "print(new_data_pred)"
      ]
    },
    {
      "cell_type": "markdown",
      "metadata": {},
      "source": [
        "Pada data yang baru dibuat, prediksi yang didapatkan pada `default_payment_next_month` adalah 0 atau No, yang artinya akan bayar tepat waktu"
      ]
    },
    {
      "attachments": {},
      "cell_type": "markdown",
      "metadata": {
        "id": "OZsNOD-rPdW3"
      },
      "source": [
        "# xi - Pengambilan Kesimpulan\n",
        "> Pada bagian terakhir ini, **harus berisi** kesimpulan yang mencerminkan hasil yang didapat dengan *objective* yang sudah ditulis di bagian pengenalan."
      ]
    },
    {
      "attachments": {},
      "cell_type": "markdown",
      "metadata": {
        "id": "Dolm_NuIugue"
      },
      "source": [
        "Berdasarkan hasil pengerjaan, dapat disimpulkan bahwa:\n",
        "1. Dari EDA, terlihat bahwa:\n",
        "    - Dapat dilihat bahwa pada grafik nilai `age` < 30 semakin tinggi `age` maka semakin tinggi `limit_balance` dan setelah itu rata\n",
        "    - Tetapi terlihat juga pada `limit_balance` > 500000, hanya ada `education_level` bertipe 'Graduate School' dan 'University', tidak memandang `sex`\n",
        "    - Dapat dilihat bahwa pada `pay_0 `sampai `pay_6` dan `bill_amt_1` sampai `bill_amt_6` sangat berkorelasi.\n",
        "    - Dapat dilihat bahwa didominasi oleh 'Male', 'Graduate School', dan 'Single', kemungkinan para 'male' itu menggunakan credit untuk sekolah ke jenjang berikutnya ataupun membuka usaha.\n",
        "    - Dapat dilihat bahwa pengguna credit didominasi oleh berumur 30 dan cenderung berkurang saat umurnya bertambah.\n",
        "2. Berdasarkan Model Evaluation:\n",
        "    - Dari semua model yang dilakukan 'Cross Validation', yang paling bagus akurasinya adalah model Random Forest, sehingga model tersebut yang akan digunakan pada 'Hyperparameter Tuning'\n",
        "    - Berdasarkan hasil model sebelum 'Hyperparameter Tuning' datanya cenderung Overfit yang dimana akurasi pada data pada data test lebih kecil dibandingkan data train, sedangkan pada hasil model setelah 'Hyperparameter Tuning' datanya cenderung Goodfit yang dimana akurasi pada data test dan data train itu tinggi dan selisihnya tidak jauh\n"
      ]
    },
    {
      "attachments": {},
      "cell_type": "markdown",
      "metadata": {
        "id": "pLpGT9v_tqmw"
      },
      "source": [
        "## Conceptual Problems\n",
        "\n",
        "> 1. Apa yang dimaksud dengan `criterion` pada Decision Tree ? Jelaskan criterion yang kalian pakai dalam kasus ini !\n",
        "\n",
        "`Criterion` adalah parameter untuk mengukur bagaimana kualitas split pada setiap node dalam decision tree, antara lain ada \"gini\", \"entropy\", dan \"log_loss\". `Criterion` yang dipakai adalah 'gini' karena merupakan parameter yang paling cepat dalam melakukan permodelan\n",
        "\n",
        "> 2. Jelaskan apa yang dimaksud dengan `pruning` pada Tree-based model (alasan, definisi, jenis, dll) !\n",
        "\n",
        "`Pruning` adalah teknik yang digunakan untuk mengurangi beberapa bagian pada decision tree dengan cara menghapus yang dianggap tidak relevan atau menyebabkan overfitting.\n",
        " Ada 2 jenis Prunning:\n",
        "1. Pre-Prunning = Melakukan tuning hyperparameter saat pembuatan decision tree dengan menghentikan pertumbuhan, mencegah lebih dalam atau sebelum mencapai kondisi paling optimal. Hyperparameter yang dapat diatur adalah `max_depth`, `min_samples_leaf`, dan `min_samples_split`.\n",
        "2. Post-Prunning = Kebalikannya dari Pre-Prunning, tuning dilakukan ketika decision tree sudah tumbuh. Ketika sudah tumbuh, cabangnya dihilangkan untuk mengecegah modelnya menjadi overfitting. Hyperparameter yang dapat diatur adalah `ccp_alpha`.\n",
        "\n",
        "> 3. Bagaimana cara memilih `K` yang optimal pada KNN ?\n",
        "\n",
        "K pada KNN adalah jumlah yang neighbor terdekat berdasarkan jarak, untuk memilih yang optimal melakukan uji berkali-kali sampai menendapatkan accuracy yang tinggi.\n",
        "\n",
        "> 4. Jelaskan apa yang dimaksud dengan `Cross Validation` !\n",
        "\n",
        " `Cross Validation` adalah teknik untuk mengevaluasi dan menguji kemampuan generalisasi model pada dataset, tujuannya untuk mengukur seberapa baik model yang akan bekerja pada dataset yang ada. \n",
        "\n",
        "> 5. Apa yang dimaksud dengan metrics-metrics berikut : `Accuracy`, `Precision`, `Recall`, `F1 Score`, dan kapan waktu yang tepat untuk menggunakannya ?\n",
        "\n",
        "- `Accuracy` adalah rasio prediksi benar antara positif dan negatif dengan keseluruhan data\n",
        "- `Precision` adalah perbandingan antara True Positive dengan banyaknya data yang diprediksi positive, data yang diprediksi benar\n",
        "- `Recall` adalah perbandingan antara True Positive dengan banyaknya data yang aktual positive, data yang aktual\n",
        "- `F1 Score`  adalah mean dari precision dan recall dengan nilai yang bagus 1 dan buruk 0.\n",
        "\n",
        "Waktu yang tepat menggunakannya adalah:\n",
        "\n",
        "    - Jika ingin memfokus pada hasil prediksi dengan nilai positive sebanyak mungkin yang benar sehingga model akan fokus pada pengurangan nilai false positif, maka yang dilihat 'Precision'.\n",
        "    - Sedangkan jika ingin hasil prediksi nilai positive mendekati nilai positive aktual, maka digunakan \"Recall\" sebagai patokan dengan fokus pengurangan pada nilai false negatif.\n",
        "    "
      ]
    }
  ],
  "metadata": {
    "colab": {
      "provenance": [],
      "toc_visible": true
    },
    "kernelspec": {
      "display_name": "Python 3",
      "name": "python3"
    },
    "language_info": {
      "codemirror_mode": {
        "name": "ipython",
        "version": 3
      },
      "file_extension": ".py",
      "mimetype": "text/x-python",
      "name": "python",
      "nbconvert_exporter": "python",
      "pygments_lexer": "ipython3",
      "version": "3.9.16"
    }
  },
  "nbformat": 4,
  "nbformat_minor": 0
}
