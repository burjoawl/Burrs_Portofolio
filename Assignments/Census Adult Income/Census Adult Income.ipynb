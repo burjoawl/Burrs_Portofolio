{
  "cells": [
    {
      "cell_type": "markdown",
      "metadata": {
        "id": "GyEpLmtJnbiM"
      },
      "source": [
        "## Menyatukan Colab dengan Cloud\n",
        "\n",
        "Proses untuk menyatukan Google Colab dengan Google Cloud"
      ]
    },
    {
      "cell_type": "code",
      "execution_count": 166,
      "metadata": {
        "colab": {
          "base_uri": "https://localhost:8080/"
        },
        "id": "BGkNRb0AmlkX",
        "outputId": "dcee2684-e112-453c-f9b4-be67cc887471"
      },
      "outputs": [
        {
          "name": "stdout",
          "output_type": "stream",
          "text": [
            "Authenticated\n"
          ]
        }
      ],
      "source": [
        "from google.colab import auth    # import autentikasi dari google colab\n",
        "auth.authenticate_user()         # autentikasi user google\n",
        "print('Authenticated')           # jika berhasil akan muncul kalimat 'Authenticated'\n",
        "\n",
        "from google.cloud import bigquery             # import bigquery dari google cloud\n",
        "project_id = \"hacktiv8-farhan-1\"              # nama project id dari google cloud, pada bagian 'select a project', kolom 'ID'\n",
        "client = bigquery.Client(project=project_id)  # membuat variabel client dari bigquery agar mempersingkat"
      ]
    },
    {
      "cell_type": "markdown",
      "metadata": {
        "id": "aPPuxRfjOoum"
      },
      "source": [
        "# i - Query SQL\n",
        "> Tulis query yang telah dibuat untuk mengambil data dari Google Cloud Platform di bagian ini."
      ]
    },
    {
      "cell_type": "code",
      "execution_count": 167,
      "metadata": {
        "colab": {
          "base_uri": "https://localhost:8080/"
        },
        "id": "HjyVZO7znDsl",
        "outputId": "f40cb3d5-3453-4ccc-eced-c12cc18b9800"
      },
      "outputs": [
        {
          "name": "stdout",
          "output_type": "stream",
          "text": [
            "<class 'pandas.core.frame.DataFrame'>\n",
            "RangeIndex: 30725 entries, 0 to 30724\n",
            "Data columns (total 14 columns):\n",
            " #   Column          Non-Null Count  Dtype \n",
            "---  ------          --------------  ----- \n",
            " 0   age             30725 non-null  Int64 \n",
            " 1   workclass       30725 non-null  object\n",
            " 2   education       30725 non-null  object\n",
            " 3   education_num   30725 non-null  Int64 \n",
            " 4   marital_status  30725 non-null  object\n",
            " 5   occupation      30725 non-null  object\n",
            " 6   relationship    30725 non-null  object\n",
            " 7   race            30725 non-null  object\n",
            " 8   sex             30725 non-null  object\n",
            " 9   capital_gain    30725 non-null  Int64 \n",
            " 10  capital_loss    30725 non-null  Int64 \n",
            " 11  hours_per_week  30725 non-null  Int64 \n",
            " 12  native_country  30725 non-null  object\n",
            " 13  income_bracket  30725 non-null  object\n",
            "dtypes: Int64(5), object(9)\n",
            "memory usage: 3.4+ MB\n"
          ]
        }
      ],
      "source": [
        "# Membuat variabel BigQuery yang berisi tabel orders dari thelook_ecommerce\n",
        "BigQuery = client.query ('''\n",
        "SELECT\n",
        "      age, workclass, education, education_num, marital_status, occupation, relationship, race, sex, capital_gain, capital_loss, hours_per_week, native_country, income_bracket\n",
        "      # Pilih HANYA kolom age, workclass, education, education_num, marital_status, occupation, relationship, race, sex, capital_gain, capital_loss, hours_per_week, native_country, dan income_bracket\n",
        "FROM\n",
        "      bigquery-public-data.ml_datasets.census_adult_income\n",
        "WHERE\n",
        "      workclass != ' ?' AND  # Pilih semua workclass, kecuali ?.\n",
        "      hours_per_week < 100  # Pilih hours_per_week kurang dari 100.\n",
        "Limit\n",
        "      39960       # 20 (Batch) x 1998 (Tahun Lahir)\n",
        "\n",
        "''').to_dataframe()\n",
        "\n",
        "# Melihat tipe data BigQuery\n",
        "BigQuery.info()"
      ]
    },
    {
      "cell_type": "code",
      "execution_count": 168,
      "metadata": {
        "colab": {
          "base_uri": "https://localhost:8080/",
          "height": 363
        },
        "id": "DSGQa9AkoW3s",
        "outputId": "5ca909a6-127f-4e1c-cac8-35b98fbdc620"
      },
      "outputs": [
        {
          "data": {
            "text/html": [
              "\n",
              "  <div id=\"df-c82bf2a7-d238-4959-8fb4-52c32cd367c8\">\n",
              "    <div class=\"colab-df-container\">\n",
              "      <div>\n",
              "<style scoped>\n",
              "    .dataframe tbody tr th:only-of-type {\n",
              "        vertical-align: middle;\n",
              "    }\n",
              "\n",
              "    .dataframe tbody tr th {\n",
              "        vertical-align: top;\n",
              "    }\n",
              "\n",
              "    .dataframe thead th {\n",
              "        text-align: right;\n",
              "    }\n",
              "</style>\n",
              "<table border=\"1\" class=\"dataframe\">\n",
              "  <thead>\n",
              "    <tr style=\"text-align: right;\">\n",
              "      <th></th>\n",
              "      <th>age</th>\n",
              "      <th>workclass</th>\n",
              "      <th>education</th>\n",
              "      <th>education_num</th>\n",
              "      <th>marital_status</th>\n",
              "      <th>occupation</th>\n",
              "      <th>relationship</th>\n",
              "      <th>race</th>\n",
              "      <th>sex</th>\n",
              "      <th>capital_gain</th>\n",
              "      <th>capital_loss</th>\n",
              "      <th>hours_per_week</th>\n",
              "      <th>native_country</th>\n",
              "      <th>income_bracket</th>\n",
              "    </tr>\n",
              "  </thead>\n",
              "  <tbody>\n",
              "    <tr>\n",
              "      <th>0</th>\n",
              "      <td>39</td>\n",
              "      <td>Private</td>\n",
              "      <td>9th</td>\n",
              "      <td>5</td>\n",
              "      <td>Married-civ-spouse</td>\n",
              "      <td>Other-service</td>\n",
              "      <td>Wife</td>\n",
              "      <td>Black</td>\n",
              "      <td>Female</td>\n",
              "      <td>3411</td>\n",
              "      <td>0</td>\n",
              "      <td>34</td>\n",
              "      <td>United-States</td>\n",
              "      <td>&lt;=50K</td>\n",
              "    </tr>\n",
              "    <tr>\n",
              "      <th>1</th>\n",
              "      <td>77</td>\n",
              "      <td>Private</td>\n",
              "      <td>9th</td>\n",
              "      <td>5</td>\n",
              "      <td>Married-civ-spouse</td>\n",
              "      <td>Priv-house-serv</td>\n",
              "      <td>Wife</td>\n",
              "      <td>Black</td>\n",
              "      <td>Female</td>\n",
              "      <td>0</td>\n",
              "      <td>0</td>\n",
              "      <td>10</td>\n",
              "      <td>United-States</td>\n",
              "      <td>&lt;=50K</td>\n",
              "    </tr>\n",
              "    <tr>\n",
              "      <th>2</th>\n",
              "      <td>38</td>\n",
              "      <td>Private</td>\n",
              "      <td>9th</td>\n",
              "      <td>5</td>\n",
              "      <td>Married-civ-spouse</td>\n",
              "      <td>Other-service</td>\n",
              "      <td>Wife</td>\n",
              "      <td>Black</td>\n",
              "      <td>Female</td>\n",
              "      <td>0</td>\n",
              "      <td>0</td>\n",
              "      <td>24</td>\n",
              "      <td>Haiti</td>\n",
              "      <td>&lt;=50K</td>\n",
              "    </tr>\n",
              "    <tr>\n",
              "      <th>3</th>\n",
              "      <td>28</td>\n",
              "      <td>Private</td>\n",
              "      <td>9th</td>\n",
              "      <td>5</td>\n",
              "      <td>Married-civ-spouse</td>\n",
              "      <td>Protective-serv</td>\n",
              "      <td>Wife</td>\n",
              "      <td>Black</td>\n",
              "      <td>Female</td>\n",
              "      <td>0</td>\n",
              "      <td>0</td>\n",
              "      <td>40</td>\n",
              "      <td>United-States</td>\n",
              "      <td>&lt;=50K</td>\n",
              "    </tr>\n",
              "    <tr>\n",
              "      <th>4</th>\n",
              "      <td>37</td>\n",
              "      <td>Private</td>\n",
              "      <td>9th</td>\n",
              "      <td>5</td>\n",
              "      <td>Married-civ-spouse</td>\n",
              "      <td>Machine-op-inspct</td>\n",
              "      <td>Wife</td>\n",
              "      <td>Black</td>\n",
              "      <td>Female</td>\n",
              "      <td>0</td>\n",
              "      <td>0</td>\n",
              "      <td>48</td>\n",
              "      <td>United-States</td>\n",
              "      <td>&lt;=50K</td>\n",
              "    </tr>\n",
              "    <tr>\n",
              "      <th>5</th>\n",
              "      <td>45</td>\n",
              "      <td>Private</td>\n",
              "      <td>9th</td>\n",
              "      <td>5</td>\n",
              "      <td>Married-civ-spouse</td>\n",
              "      <td>Machine-op-inspct</td>\n",
              "      <td>Wife</td>\n",
              "      <td>White</td>\n",
              "      <td>Female</td>\n",
              "      <td>0</td>\n",
              "      <td>0</td>\n",
              "      <td>40</td>\n",
              "      <td>United-States</td>\n",
              "      <td>&gt;50K</td>\n",
              "    </tr>\n",
              "    <tr>\n",
              "      <th>6</th>\n",
              "      <td>55</td>\n",
              "      <td>Private</td>\n",
              "      <td>9th</td>\n",
              "      <td>5</td>\n",
              "      <td>Married-civ-spouse</td>\n",
              "      <td>Tech-support</td>\n",
              "      <td>Wife</td>\n",
              "      <td>White</td>\n",
              "      <td>Female</td>\n",
              "      <td>0</td>\n",
              "      <td>0</td>\n",
              "      <td>23</td>\n",
              "      <td>United-States</td>\n",
              "      <td>&lt;=50K</td>\n",
              "    </tr>\n",
              "    <tr>\n",
              "      <th>7</th>\n",
              "      <td>27</td>\n",
              "      <td>Private</td>\n",
              "      <td>9th</td>\n",
              "      <td>5</td>\n",
              "      <td>Married-civ-spouse</td>\n",
              "      <td>Machine-op-inspct</td>\n",
              "      <td>Wife</td>\n",
              "      <td>White</td>\n",
              "      <td>Female</td>\n",
              "      <td>0</td>\n",
              "      <td>0</td>\n",
              "      <td>37</td>\n",
              "      <td>Portugal</td>\n",
              "      <td>&lt;=50K</td>\n",
              "    </tr>\n",
              "    <tr>\n",
              "      <th>8</th>\n",
              "      <td>31</td>\n",
              "      <td>Private</td>\n",
              "      <td>9th</td>\n",
              "      <td>5</td>\n",
              "      <td>Married-civ-spouse</td>\n",
              "      <td>Exec-managerial</td>\n",
              "      <td>Wife</td>\n",
              "      <td>White</td>\n",
              "      <td>Female</td>\n",
              "      <td>0</td>\n",
              "      <td>0</td>\n",
              "      <td>40</td>\n",
              "      <td>United-States</td>\n",
              "      <td>&lt;=50K</td>\n",
              "    </tr>\n",
              "    <tr>\n",
              "      <th>9</th>\n",
              "      <td>30</td>\n",
              "      <td>Private</td>\n",
              "      <td>9th</td>\n",
              "      <td>5</td>\n",
              "      <td>Married-civ-spouse</td>\n",
              "      <td>Machine-op-inspct</td>\n",
              "      <td>Wife</td>\n",
              "      <td>White</td>\n",
              "      <td>Female</td>\n",
              "      <td>0</td>\n",
              "      <td>0</td>\n",
              "      <td>40</td>\n",
              "      <td>Portugal</td>\n",
              "      <td>&lt;=50K</td>\n",
              "    </tr>\n",
              "  </tbody>\n",
              "</table>\n",
              "</div>\n",
              "      <button class=\"colab-df-convert\" onclick=\"convertToInteractive('df-c82bf2a7-d238-4959-8fb4-52c32cd367c8')\"\n",
              "              title=\"Convert this dataframe to an interactive table.\"\n",
              "              style=\"display:none;\">\n",
              "        \n",
              "  <svg xmlns=\"http://www.w3.org/2000/svg\" height=\"24px\"viewBox=\"0 0 24 24\"\n",
              "       width=\"24px\">\n",
              "    <path d=\"M0 0h24v24H0V0z\" fill=\"none\"/>\n",
              "    <path d=\"M18.56 5.44l.94 2.06.94-2.06 2.06-.94-2.06-.94-.94-2.06-.94 2.06-2.06.94zm-11 1L8.5 8.5l.94-2.06 2.06-.94-2.06-.94L8.5 2.5l-.94 2.06-2.06.94zm10 10l.94 2.06.94-2.06 2.06-.94-2.06-.94-.94-2.06-.94 2.06-2.06.94z\"/><path d=\"M17.41 7.96l-1.37-1.37c-.4-.4-.92-.59-1.43-.59-.52 0-1.04.2-1.43.59L10.3 9.45l-7.72 7.72c-.78.78-.78 2.05 0 2.83L4 21.41c.39.39.9.59 1.41.59.51 0 1.02-.2 1.41-.59l7.78-7.78 2.81-2.81c.8-.78.8-2.07 0-2.86zM5.41 20L4 18.59l7.72-7.72 1.47 1.35L5.41 20z\"/>\n",
              "  </svg>\n",
              "      </button>\n",
              "      \n",
              "  <style>\n",
              "    .colab-df-container {\n",
              "      display:flex;\n",
              "      flex-wrap:wrap;\n",
              "      gap: 12px;\n",
              "    }\n",
              "\n",
              "    .colab-df-convert {\n",
              "      background-color: #E8F0FE;\n",
              "      border: none;\n",
              "      border-radius: 50%;\n",
              "      cursor: pointer;\n",
              "      display: none;\n",
              "      fill: #1967D2;\n",
              "      height: 32px;\n",
              "      padding: 0 0 0 0;\n",
              "      width: 32px;\n",
              "    }\n",
              "\n",
              "    .colab-df-convert:hover {\n",
              "      background-color: #E2EBFA;\n",
              "      box-shadow: 0px 1px 2px rgba(60, 64, 67, 0.3), 0px 1px 3px 1px rgba(60, 64, 67, 0.15);\n",
              "      fill: #174EA6;\n",
              "    }\n",
              "\n",
              "    [theme=dark] .colab-df-convert {\n",
              "      background-color: #3B4455;\n",
              "      fill: #D2E3FC;\n",
              "    }\n",
              "\n",
              "    [theme=dark] .colab-df-convert:hover {\n",
              "      background-color: #434B5C;\n",
              "      box-shadow: 0px 1px 3px 1px rgba(0, 0, 0, 0.15);\n",
              "      filter: drop-shadow(0px 1px 2px rgba(0, 0, 0, 0.3));\n",
              "      fill: #FFFFFF;\n",
              "    }\n",
              "  </style>\n",
              "\n",
              "      <script>\n",
              "        const buttonEl =\n",
              "          document.querySelector('#df-c82bf2a7-d238-4959-8fb4-52c32cd367c8 button.colab-df-convert');\n",
              "        buttonEl.style.display =\n",
              "          google.colab.kernel.accessAllowed ? 'block' : 'none';\n",
              "\n",
              "        async function convertToInteractive(key) {\n",
              "          const element = document.querySelector('#df-c82bf2a7-d238-4959-8fb4-52c32cd367c8');\n",
              "          const dataTable =\n",
              "            await google.colab.kernel.invokeFunction('convertToInteractive',\n",
              "                                                     [key], {});\n",
              "          if (!dataTable) return;\n",
              "\n",
              "          const docLinkHtml = 'Like what you see? Visit the ' +\n",
              "            '<a target=\"_blank\" href=https://colab.research.google.com/notebooks/data_table.ipynb>data table notebook</a>'\n",
              "            + ' to learn more about interactive tables.';\n",
              "          element.innerHTML = '';\n",
              "          dataTable['output_type'] = 'display_data';\n",
              "          await google.colab.output.renderOutput(dataTable, element);\n",
              "          const docLink = document.createElement('div');\n",
              "          docLink.innerHTML = docLinkHtml;\n",
              "          element.appendChild(docLink);\n",
              "        }\n",
              "      </script>\n",
              "    </div>\n",
              "  </div>\n",
              "  "
            ],
            "text/plain": [
              "   age workclass education  education_num       marital_status  \\\n",
              "0   39   Private       9th              5   Married-civ-spouse   \n",
              "1   77   Private       9th              5   Married-civ-spouse   \n",
              "2   38   Private       9th              5   Married-civ-spouse   \n",
              "3   28   Private       9th              5   Married-civ-spouse   \n",
              "4   37   Private       9th              5   Married-civ-spouse   \n",
              "5   45   Private       9th              5   Married-civ-spouse   \n",
              "6   55   Private       9th              5   Married-civ-spouse   \n",
              "7   27   Private       9th              5   Married-civ-spouse   \n",
              "8   31   Private       9th              5   Married-civ-spouse   \n",
              "9   30   Private       9th              5   Married-civ-spouse   \n",
              "\n",
              "           occupation relationship    race      sex  capital_gain  \\\n",
              "0       Other-service         Wife   Black   Female          3411   \n",
              "1     Priv-house-serv         Wife   Black   Female             0   \n",
              "2       Other-service         Wife   Black   Female             0   \n",
              "3     Protective-serv         Wife   Black   Female             0   \n",
              "4   Machine-op-inspct         Wife   Black   Female             0   \n",
              "5   Machine-op-inspct         Wife   White   Female             0   \n",
              "6        Tech-support         Wife   White   Female             0   \n",
              "7   Machine-op-inspct         Wife   White   Female             0   \n",
              "8     Exec-managerial         Wife   White   Female             0   \n",
              "9   Machine-op-inspct         Wife   White   Female             0   \n",
              "\n",
              "   capital_loss  hours_per_week  native_country income_bracket  \n",
              "0             0              34   United-States          <=50K  \n",
              "1             0              10   United-States          <=50K  \n",
              "2             0              24           Haiti          <=50K  \n",
              "3             0              40   United-States          <=50K  \n",
              "4             0              48   United-States          <=50K  \n",
              "5             0              40   United-States           >50K  \n",
              "6             0              23   United-States          <=50K  \n",
              "7             0              37        Portugal          <=50K  \n",
              "8             0              40   United-States          <=50K  \n",
              "9             0              40        Portugal          <=50K  "
            ]
          },
          "execution_count": 168,
          "metadata": {},
          "output_type": "execute_result"
        }
      ],
      "source": [
        "# Menampilkan 10 data pertama\n",
        "BigQuery.head(10)"
      ]
    },
    {
      "cell_type": "code",
      "execution_count": 169,
      "metadata": {
        "colab": {
          "base_uri": "https://localhost:8080/",
          "height": 581
        },
        "id": "saRQM16uR3pk",
        "outputId": "3fedd173-6c90-41a0-f13e-04afeeca881d"
      },
      "outputs": [
        {
          "data": {
            "text/html": [
              "\n",
              "  <div id=\"df-7fc7f74d-7b3c-4aaf-b05a-174257a8de74\">\n",
              "    <div class=\"colab-df-container\">\n",
              "      <div>\n",
              "<style scoped>\n",
              "    .dataframe tbody tr th:only-of-type {\n",
              "        vertical-align: middle;\n",
              "    }\n",
              "\n",
              "    .dataframe tbody tr th {\n",
              "        vertical-align: top;\n",
              "    }\n",
              "\n",
              "    .dataframe thead th {\n",
              "        text-align: right;\n",
              "    }\n",
              "</style>\n",
              "<table border=\"1\" class=\"dataframe\">\n",
              "  <thead>\n",
              "    <tr style=\"text-align: right;\">\n",
              "      <th></th>\n",
              "      <th>age</th>\n",
              "      <th>workclass</th>\n",
              "      <th>education</th>\n",
              "      <th>education_num</th>\n",
              "      <th>marital_status</th>\n",
              "      <th>occupation</th>\n",
              "      <th>relationship</th>\n",
              "      <th>race</th>\n",
              "      <th>sex</th>\n",
              "      <th>capital_gain</th>\n",
              "      <th>capital_loss</th>\n",
              "      <th>hours_per_week</th>\n",
              "      <th>native_country</th>\n",
              "      <th>income_bracket</th>\n",
              "    </tr>\n",
              "  </thead>\n",
              "  <tbody>\n",
              "    <tr>\n",
              "      <th>30715</th>\n",
              "      <td>23</td>\n",
              "      <td>Private</td>\n",
              "      <td>Some-college</td>\n",
              "      <td>10</td>\n",
              "      <td>Never-married</td>\n",
              "      <td>Adm-clerical</td>\n",
              "      <td>Other-relative</td>\n",
              "      <td>Asian-Pac-Islander</td>\n",
              "      <td>Female</td>\n",
              "      <td>0</td>\n",
              "      <td>0</td>\n",
              "      <td>24</td>\n",
              "      <td>Vietnam</td>\n",
              "      <td>&lt;=50K</td>\n",
              "    </tr>\n",
              "    <tr>\n",
              "      <th>30716</th>\n",
              "      <td>22</td>\n",
              "      <td>Private</td>\n",
              "      <td>Some-college</td>\n",
              "      <td>10</td>\n",
              "      <td>Never-married</td>\n",
              "      <td>Tech-support</td>\n",
              "      <td>Other-relative</td>\n",
              "      <td>Asian-Pac-Islander</td>\n",
              "      <td>Female</td>\n",
              "      <td>0</td>\n",
              "      <td>0</td>\n",
              "      <td>32</td>\n",
              "      <td>United-States</td>\n",
              "      <td>&lt;=50K</td>\n",
              "    </tr>\n",
              "    <tr>\n",
              "      <th>30717</th>\n",
              "      <td>25</td>\n",
              "      <td>Private</td>\n",
              "      <td>Some-college</td>\n",
              "      <td>10</td>\n",
              "      <td>Never-married</td>\n",
              "      <td>Craft-repair</td>\n",
              "      <td>Other-relative</td>\n",
              "      <td>Asian-Pac-Islander</td>\n",
              "      <td>Female</td>\n",
              "      <td>0</td>\n",
              "      <td>0</td>\n",
              "      <td>40</td>\n",
              "      <td>Cambodia</td>\n",
              "      <td>&lt;=50K</td>\n",
              "    </tr>\n",
              "    <tr>\n",
              "      <th>30718</th>\n",
              "      <td>22</td>\n",
              "      <td>Private</td>\n",
              "      <td>Some-college</td>\n",
              "      <td>10</td>\n",
              "      <td>Never-married</td>\n",
              "      <td>Craft-repair</td>\n",
              "      <td>Other-relative</td>\n",
              "      <td>Asian-Pac-Islander</td>\n",
              "      <td>Female</td>\n",
              "      <td>0</td>\n",
              "      <td>0</td>\n",
              "      <td>40</td>\n",
              "      <td>Vietnam</td>\n",
              "      <td>&lt;=50K</td>\n",
              "    </tr>\n",
              "    <tr>\n",
              "      <th>30719</th>\n",
              "      <td>48</td>\n",
              "      <td>Private</td>\n",
              "      <td>Some-college</td>\n",
              "      <td>10</td>\n",
              "      <td>Married-civ-spouse</td>\n",
              "      <td>Craft-repair</td>\n",
              "      <td>Other-relative</td>\n",
              "      <td>Asian-Pac-Islander</td>\n",
              "      <td>Male</td>\n",
              "      <td>0</td>\n",
              "      <td>0</td>\n",
              "      <td>40</td>\n",
              "      <td>Cambodia</td>\n",
              "      <td>&gt;50K</td>\n",
              "    </tr>\n",
              "    <tr>\n",
              "      <th>30720</th>\n",
              "      <td>46</td>\n",
              "      <td>Private</td>\n",
              "      <td>Some-college</td>\n",
              "      <td>10</td>\n",
              "      <td>Married-civ-spouse</td>\n",
              "      <td>Craft-repair</td>\n",
              "      <td>Other-relative</td>\n",
              "      <td>Asian-Pac-Islander</td>\n",
              "      <td>Male</td>\n",
              "      <td>0</td>\n",
              "      <td>0</td>\n",
              "      <td>40</td>\n",
              "      <td>India</td>\n",
              "      <td>&lt;=50K</td>\n",
              "    </tr>\n",
              "    <tr>\n",
              "      <th>30721</th>\n",
              "      <td>45</td>\n",
              "      <td>Private</td>\n",
              "      <td>Some-college</td>\n",
              "      <td>10</td>\n",
              "      <td>Married-civ-spouse</td>\n",
              "      <td>Craft-repair</td>\n",
              "      <td>Other-relative</td>\n",
              "      <td>Asian-Pac-Islander</td>\n",
              "      <td>Male</td>\n",
              "      <td>0</td>\n",
              "      <td>0</td>\n",
              "      <td>40</td>\n",
              "      <td>Philippines</td>\n",
              "      <td>&lt;=50K</td>\n",
              "    </tr>\n",
              "    <tr>\n",
              "      <th>30722</th>\n",
              "      <td>32</td>\n",
              "      <td>Private</td>\n",
              "      <td>Some-college</td>\n",
              "      <td>10</td>\n",
              "      <td>Married-civ-spouse</td>\n",
              "      <td>Sales</td>\n",
              "      <td>Other-relative</td>\n",
              "      <td>Asian-Pac-Islander</td>\n",
              "      <td>Female</td>\n",
              "      <td>0</td>\n",
              "      <td>0</td>\n",
              "      <td>40</td>\n",
              "      <td>Greece</td>\n",
              "      <td>&lt;=50K</td>\n",
              "    </tr>\n",
              "    <tr>\n",
              "      <th>30723</th>\n",
              "      <td>30</td>\n",
              "      <td>Self-emp-not-inc</td>\n",
              "      <td>Some-college</td>\n",
              "      <td>10</td>\n",
              "      <td>Never-married</td>\n",
              "      <td>Sales</td>\n",
              "      <td>Other-relative</td>\n",
              "      <td>Asian-Pac-Islander</td>\n",
              "      <td>Male</td>\n",
              "      <td>0</td>\n",
              "      <td>2258</td>\n",
              "      <td>40</td>\n",
              "      <td>South</td>\n",
              "      <td>&lt;=50K</td>\n",
              "    </tr>\n",
              "    <tr>\n",
              "      <th>30724</th>\n",
              "      <td>20</td>\n",
              "      <td>Self-emp-not-inc</td>\n",
              "      <td>Some-college</td>\n",
              "      <td>10</td>\n",
              "      <td>Never-married</td>\n",
              "      <td>Prof-specialty</td>\n",
              "      <td>Other-relative</td>\n",
              "      <td>Asian-Pac-Islander</td>\n",
              "      <td>Female</td>\n",
              "      <td>0</td>\n",
              "      <td>0</td>\n",
              "      <td>20</td>\n",
              "      <td>South</td>\n",
              "      <td>&lt;=50K</td>\n",
              "    </tr>\n",
              "  </tbody>\n",
              "</table>\n",
              "</div>\n",
              "      <button class=\"colab-df-convert\" onclick=\"convertToInteractive('df-7fc7f74d-7b3c-4aaf-b05a-174257a8de74')\"\n",
              "              title=\"Convert this dataframe to an interactive table.\"\n",
              "              style=\"display:none;\">\n",
              "        \n",
              "  <svg xmlns=\"http://www.w3.org/2000/svg\" height=\"24px\"viewBox=\"0 0 24 24\"\n",
              "       width=\"24px\">\n",
              "    <path d=\"M0 0h24v24H0V0z\" fill=\"none\"/>\n",
              "    <path d=\"M18.56 5.44l.94 2.06.94-2.06 2.06-.94-2.06-.94-.94-2.06-.94 2.06-2.06.94zm-11 1L8.5 8.5l.94-2.06 2.06-.94-2.06-.94L8.5 2.5l-.94 2.06-2.06.94zm10 10l.94 2.06.94-2.06 2.06-.94-2.06-.94-.94-2.06-.94 2.06-2.06.94z\"/><path d=\"M17.41 7.96l-1.37-1.37c-.4-.4-.92-.59-1.43-.59-.52 0-1.04.2-1.43.59L10.3 9.45l-7.72 7.72c-.78.78-.78 2.05 0 2.83L4 21.41c.39.39.9.59 1.41.59.51 0 1.02-.2 1.41-.59l7.78-7.78 2.81-2.81c.8-.78.8-2.07 0-2.86zM5.41 20L4 18.59l7.72-7.72 1.47 1.35L5.41 20z\"/>\n",
              "  </svg>\n",
              "      </button>\n",
              "      \n",
              "  <style>\n",
              "    .colab-df-container {\n",
              "      display:flex;\n",
              "      flex-wrap:wrap;\n",
              "      gap: 12px;\n",
              "    }\n",
              "\n",
              "    .colab-df-convert {\n",
              "      background-color: #E8F0FE;\n",
              "      border: none;\n",
              "      border-radius: 50%;\n",
              "      cursor: pointer;\n",
              "      display: none;\n",
              "      fill: #1967D2;\n",
              "      height: 32px;\n",
              "      padding: 0 0 0 0;\n",
              "      width: 32px;\n",
              "    }\n",
              "\n",
              "    .colab-df-convert:hover {\n",
              "      background-color: #E2EBFA;\n",
              "      box-shadow: 0px 1px 2px rgba(60, 64, 67, 0.3), 0px 1px 3px 1px rgba(60, 64, 67, 0.15);\n",
              "      fill: #174EA6;\n",
              "    }\n",
              "\n",
              "    [theme=dark] .colab-df-convert {\n",
              "      background-color: #3B4455;\n",
              "      fill: #D2E3FC;\n",
              "    }\n",
              "\n",
              "    [theme=dark] .colab-df-convert:hover {\n",
              "      background-color: #434B5C;\n",
              "      box-shadow: 0px 1px 3px 1px rgba(0, 0, 0, 0.15);\n",
              "      filter: drop-shadow(0px 1px 2px rgba(0, 0, 0, 0.3));\n",
              "      fill: #FFFFFF;\n",
              "    }\n",
              "  </style>\n",
              "\n",
              "      <script>\n",
              "        const buttonEl =\n",
              "          document.querySelector('#df-7fc7f74d-7b3c-4aaf-b05a-174257a8de74 button.colab-df-convert');\n",
              "        buttonEl.style.display =\n",
              "          google.colab.kernel.accessAllowed ? 'block' : 'none';\n",
              "\n",
              "        async function convertToInteractive(key) {\n",
              "          const element = document.querySelector('#df-7fc7f74d-7b3c-4aaf-b05a-174257a8de74');\n",
              "          const dataTable =\n",
              "            await google.colab.kernel.invokeFunction('convertToInteractive',\n",
              "                                                     [key], {});\n",
              "          if (!dataTable) return;\n",
              "\n",
              "          const docLinkHtml = 'Like what you see? Visit the ' +\n",
              "            '<a target=\"_blank\" href=https://colab.research.google.com/notebooks/data_table.ipynb>data table notebook</a>'\n",
              "            + ' to learn more about interactive tables.';\n",
              "          element.innerHTML = '';\n",
              "          dataTable['output_type'] = 'display_data';\n",
              "          await google.colab.output.renderOutput(dataTable, element);\n",
              "          const docLink = document.createElement('div');\n",
              "          docLink.innerHTML = docLinkHtml;\n",
              "          element.appendChild(docLink);\n",
              "        }\n",
              "      </script>\n",
              "    </div>\n",
              "  </div>\n",
              "  "
            ],
            "text/plain": [
              "       age          workclass      education  education_num  \\\n",
              "30715   23            Private   Some-college             10   \n",
              "30716   22            Private   Some-college             10   \n",
              "30717   25            Private   Some-college             10   \n",
              "30718   22            Private   Some-college             10   \n",
              "30719   48            Private   Some-college             10   \n",
              "30720   46            Private   Some-college             10   \n",
              "30721   45            Private   Some-college             10   \n",
              "30722   32            Private   Some-college             10   \n",
              "30723   30   Self-emp-not-inc   Some-college             10   \n",
              "30724   20   Self-emp-not-inc   Some-college             10   \n",
              "\n",
              "            marital_status       occupation     relationship  \\\n",
              "30715        Never-married     Adm-clerical   Other-relative   \n",
              "30716        Never-married     Tech-support   Other-relative   \n",
              "30717        Never-married     Craft-repair   Other-relative   \n",
              "30718        Never-married     Craft-repair   Other-relative   \n",
              "30719   Married-civ-spouse     Craft-repair   Other-relative   \n",
              "30720   Married-civ-spouse     Craft-repair   Other-relative   \n",
              "30721   Married-civ-spouse     Craft-repair   Other-relative   \n",
              "30722   Married-civ-spouse            Sales   Other-relative   \n",
              "30723        Never-married            Sales   Other-relative   \n",
              "30724        Never-married   Prof-specialty   Other-relative   \n",
              "\n",
              "                      race      sex  capital_gain  capital_loss  \\\n",
              "30715   Asian-Pac-Islander   Female             0             0   \n",
              "30716   Asian-Pac-Islander   Female             0             0   \n",
              "30717   Asian-Pac-Islander   Female             0             0   \n",
              "30718   Asian-Pac-Islander   Female             0             0   \n",
              "30719   Asian-Pac-Islander     Male             0             0   \n",
              "30720   Asian-Pac-Islander     Male             0             0   \n",
              "30721   Asian-Pac-Islander     Male             0             0   \n",
              "30722   Asian-Pac-Islander   Female             0             0   \n",
              "30723   Asian-Pac-Islander     Male             0          2258   \n",
              "30724   Asian-Pac-Islander   Female             0             0   \n",
              "\n",
              "       hours_per_week  native_country income_bracket  \n",
              "30715              24         Vietnam          <=50K  \n",
              "30716              32   United-States          <=50K  \n",
              "30717              40        Cambodia          <=50K  \n",
              "30718              40         Vietnam          <=50K  \n",
              "30719              40        Cambodia           >50K  \n",
              "30720              40           India          <=50K  \n",
              "30721              40     Philippines          <=50K  \n",
              "30722              40          Greece          <=50K  \n",
              "30723              40           South          <=50K  \n",
              "30724              20           South          <=50K  "
            ]
          },
          "execution_count": 169,
          "metadata": {},
          "output_type": "execute_result"
        }
      ],
      "source": [
        "# Menampilkan 10 data terakhir\n",
        "BigQuery.tail(10)"
      ]
    },
    {
      "cell_type": "markdown",
      "metadata": {
        "id": "nEUOy0olOsht"
      },
      "source": [
        "# ii - Import Libraries\n",
        "> Cell pertama pada notebook harus berisi dan hanya berisi semua library yang digunakan dalam project."
      ]
    },
    {
      "cell_type": "code",
      "execution_count": 170,
      "metadata": {
        "id": "FOoo5b8KoDxP"
      },
      "outputs": [],
      "source": [
        "# Import Libraries\n",
        "\n",
        "# Buat memproses data\n",
        "import pandas as pd\n",
        "import numpy as np\n",
        "\n",
        "# Buat memproses grafik\n",
        "import seaborn as sns\n",
        "import matplotlib.pyplot as plt\n",
        "\n",
        "# Buat Feature Engineering\n",
        "from sklearn.model_selection import train_test_split\n",
        "from sklearn.preprocessing import MinMaxScaler, OneHotEncoder\n",
        "from sklearn.metrics import classification_report, precision_score, recall_score, accuracy_score, f1_score\n",
        "\n",
        "# Buat definisi model\n",
        "from sklearn.linear_model import LogisticRegression\n",
        "from sklearn.svm import SVC\n",
        "\n",
        "# Buat evaluasi model\n",
        "from sklearn.metrics import confusion_matrix, ConfusionMatrixDisplay\n",
        "\n",
        "# Buat import hasil model saving\n",
        "import pickle\n",
        "import json"
      ]
    },
    {
      "cell_type": "markdown",
      "metadata": {
        "id": "3BuZf1ffOzl1"
      },
      "source": [
        "# iii - Data Loading\n",
        "> Bagian ini berisi proses penyiapan data sebelum dilakukan eksplorasi data lebih lanjut. Proses Data Loading dapat berupa memberi nama baru untuk setiap kolom, mengecek ukuran dataset, dll."
      ]
    },
    {
      "cell_type": "code",
      "execution_count": 171,
      "metadata": {
        "colab": {
          "base_uri": "https://localhost:8080/",
          "height": 641
        },
        "id": "C4Jd3is3TxPQ",
        "outputId": "ca18dc89-0686-4395-a5ac-2f283222d2b3"
      },
      "outputs": [
        {
          "data": {
            "text/html": [
              "\n",
              "  <div id=\"df-b29b25a2-c5b2-42f8-9336-8871a57e4364\">\n",
              "    <div class=\"colab-df-container\">\n",
              "      <div>\n",
              "<style scoped>\n",
              "    .dataframe tbody tr th:only-of-type {\n",
              "        vertical-align: middle;\n",
              "    }\n",
              "\n",
              "    .dataframe tbody tr th {\n",
              "        vertical-align: top;\n",
              "    }\n",
              "\n",
              "    .dataframe thead th {\n",
              "        text-align: right;\n",
              "    }\n",
              "</style>\n",
              "<table border=\"1\" class=\"dataframe\">\n",
              "  <thead>\n",
              "    <tr style=\"text-align: right;\">\n",
              "      <th></th>\n",
              "      <th>age</th>\n",
              "      <th>workclass</th>\n",
              "      <th>education</th>\n",
              "      <th>education_num</th>\n",
              "      <th>marital_status</th>\n",
              "      <th>occupation</th>\n",
              "      <th>relationship</th>\n",
              "      <th>race</th>\n",
              "      <th>sex</th>\n",
              "      <th>capital_gain</th>\n",
              "      <th>capital_loss</th>\n",
              "      <th>hours_per_week</th>\n",
              "      <th>native_country</th>\n",
              "      <th>income_bracket</th>\n",
              "    </tr>\n",
              "  </thead>\n",
              "  <tbody>\n",
              "    <tr>\n",
              "      <th>0</th>\n",
              "      <td>39</td>\n",
              "      <td>Private</td>\n",
              "      <td>9th</td>\n",
              "      <td>5</td>\n",
              "      <td>Married-civ-spouse</td>\n",
              "      <td>Other-service</td>\n",
              "      <td>Wife</td>\n",
              "      <td>Black</td>\n",
              "      <td>Female</td>\n",
              "      <td>3411</td>\n",
              "      <td>0</td>\n",
              "      <td>34</td>\n",
              "      <td>United-States</td>\n",
              "      <td>&lt;=50K</td>\n",
              "    </tr>\n",
              "    <tr>\n",
              "      <th>1</th>\n",
              "      <td>77</td>\n",
              "      <td>Private</td>\n",
              "      <td>9th</td>\n",
              "      <td>5</td>\n",
              "      <td>Married-civ-spouse</td>\n",
              "      <td>Priv-house-serv</td>\n",
              "      <td>Wife</td>\n",
              "      <td>Black</td>\n",
              "      <td>Female</td>\n",
              "      <td>0</td>\n",
              "      <td>0</td>\n",
              "      <td>10</td>\n",
              "      <td>United-States</td>\n",
              "      <td>&lt;=50K</td>\n",
              "    </tr>\n",
              "    <tr>\n",
              "      <th>2</th>\n",
              "      <td>38</td>\n",
              "      <td>Private</td>\n",
              "      <td>9th</td>\n",
              "      <td>5</td>\n",
              "      <td>Married-civ-spouse</td>\n",
              "      <td>Other-service</td>\n",
              "      <td>Wife</td>\n",
              "      <td>Black</td>\n",
              "      <td>Female</td>\n",
              "      <td>0</td>\n",
              "      <td>0</td>\n",
              "      <td>24</td>\n",
              "      <td>Haiti</td>\n",
              "      <td>&lt;=50K</td>\n",
              "    </tr>\n",
              "    <tr>\n",
              "      <th>3</th>\n",
              "      <td>28</td>\n",
              "      <td>Private</td>\n",
              "      <td>9th</td>\n",
              "      <td>5</td>\n",
              "      <td>Married-civ-spouse</td>\n",
              "      <td>Protective-serv</td>\n",
              "      <td>Wife</td>\n",
              "      <td>Black</td>\n",
              "      <td>Female</td>\n",
              "      <td>0</td>\n",
              "      <td>0</td>\n",
              "      <td>40</td>\n",
              "      <td>United-States</td>\n",
              "      <td>&lt;=50K</td>\n",
              "    </tr>\n",
              "    <tr>\n",
              "      <th>4</th>\n",
              "      <td>37</td>\n",
              "      <td>Private</td>\n",
              "      <td>9th</td>\n",
              "      <td>5</td>\n",
              "      <td>Married-civ-spouse</td>\n",
              "      <td>Machine-op-inspct</td>\n",
              "      <td>Wife</td>\n",
              "      <td>Black</td>\n",
              "      <td>Female</td>\n",
              "      <td>0</td>\n",
              "      <td>0</td>\n",
              "      <td>48</td>\n",
              "      <td>United-States</td>\n",
              "      <td>&lt;=50K</td>\n",
              "    </tr>\n",
              "    <tr>\n",
              "      <th>...</th>\n",
              "      <td>...</td>\n",
              "      <td>...</td>\n",
              "      <td>...</td>\n",
              "      <td>...</td>\n",
              "      <td>...</td>\n",
              "      <td>...</td>\n",
              "      <td>...</td>\n",
              "      <td>...</td>\n",
              "      <td>...</td>\n",
              "      <td>...</td>\n",
              "      <td>...</td>\n",
              "      <td>...</td>\n",
              "      <td>...</td>\n",
              "      <td>...</td>\n",
              "    </tr>\n",
              "    <tr>\n",
              "      <th>30720</th>\n",
              "      <td>46</td>\n",
              "      <td>Private</td>\n",
              "      <td>Some-college</td>\n",
              "      <td>10</td>\n",
              "      <td>Married-civ-spouse</td>\n",
              "      <td>Craft-repair</td>\n",
              "      <td>Other-relative</td>\n",
              "      <td>Asian-Pac-Islander</td>\n",
              "      <td>Male</td>\n",
              "      <td>0</td>\n",
              "      <td>0</td>\n",
              "      <td>40</td>\n",
              "      <td>India</td>\n",
              "      <td>&lt;=50K</td>\n",
              "    </tr>\n",
              "    <tr>\n",
              "      <th>30721</th>\n",
              "      <td>45</td>\n",
              "      <td>Private</td>\n",
              "      <td>Some-college</td>\n",
              "      <td>10</td>\n",
              "      <td>Married-civ-spouse</td>\n",
              "      <td>Craft-repair</td>\n",
              "      <td>Other-relative</td>\n",
              "      <td>Asian-Pac-Islander</td>\n",
              "      <td>Male</td>\n",
              "      <td>0</td>\n",
              "      <td>0</td>\n",
              "      <td>40</td>\n",
              "      <td>Philippines</td>\n",
              "      <td>&lt;=50K</td>\n",
              "    </tr>\n",
              "    <tr>\n",
              "      <th>30722</th>\n",
              "      <td>32</td>\n",
              "      <td>Private</td>\n",
              "      <td>Some-college</td>\n",
              "      <td>10</td>\n",
              "      <td>Married-civ-spouse</td>\n",
              "      <td>Sales</td>\n",
              "      <td>Other-relative</td>\n",
              "      <td>Asian-Pac-Islander</td>\n",
              "      <td>Female</td>\n",
              "      <td>0</td>\n",
              "      <td>0</td>\n",
              "      <td>40</td>\n",
              "      <td>Greece</td>\n",
              "      <td>&lt;=50K</td>\n",
              "    </tr>\n",
              "    <tr>\n",
              "      <th>30723</th>\n",
              "      <td>30</td>\n",
              "      <td>Self-emp-not-inc</td>\n",
              "      <td>Some-college</td>\n",
              "      <td>10</td>\n",
              "      <td>Never-married</td>\n",
              "      <td>Sales</td>\n",
              "      <td>Other-relative</td>\n",
              "      <td>Asian-Pac-Islander</td>\n",
              "      <td>Male</td>\n",
              "      <td>0</td>\n",
              "      <td>2258</td>\n",
              "      <td>40</td>\n",
              "      <td>South</td>\n",
              "      <td>&lt;=50K</td>\n",
              "    </tr>\n",
              "    <tr>\n",
              "      <th>30724</th>\n",
              "      <td>20</td>\n",
              "      <td>Self-emp-not-inc</td>\n",
              "      <td>Some-college</td>\n",
              "      <td>10</td>\n",
              "      <td>Never-married</td>\n",
              "      <td>Prof-specialty</td>\n",
              "      <td>Other-relative</td>\n",
              "      <td>Asian-Pac-Islander</td>\n",
              "      <td>Female</td>\n",
              "      <td>0</td>\n",
              "      <td>0</td>\n",
              "      <td>20</td>\n",
              "      <td>South</td>\n",
              "      <td>&lt;=50K</td>\n",
              "    </tr>\n",
              "  </tbody>\n",
              "</table>\n",
              "<p>30725 rows × 14 columns</p>\n",
              "</div>\n",
              "      <button class=\"colab-df-convert\" onclick=\"convertToInteractive('df-b29b25a2-c5b2-42f8-9336-8871a57e4364')\"\n",
              "              title=\"Convert this dataframe to an interactive table.\"\n",
              "              style=\"display:none;\">\n",
              "        \n",
              "  <svg xmlns=\"http://www.w3.org/2000/svg\" height=\"24px\"viewBox=\"0 0 24 24\"\n",
              "       width=\"24px\">\n",
              "    <path d=\"M0 0h24v24H0V0z\" fill=\"none\"/>\n",
              "    <path d=\"M18.56 5.44l.94 2.06.94-2.06 2.06-.94-2.06-.94-.94-2.06-.94 2.06-2.06.94zm-11 1L8.5 8.5l.94-2.06 2.06-.94-2.06-.94L8.5 2.5l-.94 2.06-2.06.94zm10 10l.94 2.06.94-2.06 2.06-.94-2.06-.94-.94-2.06-.94 2.06-2.06.94z\"/><path d=\"M17.41 7.96l-1.37-1.37c-.4-.4-.92-.59-1.43-.59-.52 0-1.04.2-1.43.59L10.3 9.45l-7.72 7.72c-.78.78-.78 2.05 0 2.83L4 21.41c.39.39.9.59 1.41.59.51 0 1.02-.2 1.41-.59l7.78-7.78 2.81-2.81c.8-.78.8-2.07 0-2.86zM5.41 20L4 18.59l7.72-7.72 1.47 1.35L5.41 20z\"/>\n",
              "  </svg>\n",
              "      </button>\n",
              "      \n",
              "  <style>\n",
              "    .colab-df-container {\n",
              "      display:flex;\n",
              "      flex-wrap:wrap;\n",
              "      gap: 12px;\n",
              "    }\n",
              "\n",
              "    .colab-df-convert {\n",
              "      background-color: #E8F0FE;\n",
              "      border: none;\n",
              "      border-radius: 50%;\n",
              "      cursor: pointer;\n",
              "      display: none;\n",
              "      fill: #1967D2;\n",
              "      height: 32px;\n",
              "      padding: 0 0 0 0;\n",
              "      width: 32px;\n",
              "    }\n",
              "\n",
              "    .colab-df-convert:hover {\n",
              "      background-color: #E2EBFA;\n",
              "      box-shadow: 0px 1px 2px rgba(60, 64, 67, 0.3), 0px 1px 3px 1px rgba(60, 64, 67, 0.15);\n",
              "      fill: #174EA6;\n",
              "    }\n",
              "\n",
              "    [theme=dark] .colab-df-convert {\n",
              "      background-color: #3B4455;\n",
              "      fill: #D2E3FC;\n",
              "    }\n",
              "\n",
              "    [theme=dark] .colab-df-convert:hover {\n",
              "      background-color: #434B5C;\n",
              "      box-shadow: 0px 1px 3px 1px rgba(0, 0, 0, 0.15);\n",
              "      filter: drop-shadow(0px 1px 2px rgba(0, 0, 0, 0.3));\n",
              "      fill: #FFFFFF;\n",
              "    }\n",
              "  </style>\n",
              "\n",
              "      <script>\n",
              "        const buttonEl =\n",
              "          document.querySelector('#df-b29b25a2-c5b2-42f8-9336-8871a57e4364 button.colab-df-convert');\n",
              "        buttonEl.style.display =\n",
              "          google.colab.kernel.accessAllowed ? 'block' : 'none';\n",
              "\n",
              "        async function convertToInteractive(key) {\n",
              "          const element = document.querySelector('#df-b29b25a2-c5b2-42f8-9336-8871a57e4364');\n",
              "          const dataTable =\n",
              "            await google.colab.kernel.invokeFunction('convertToInteractive',\n",
              "                                                     [key], {});\n",
              "          if (!dataTable) return;\n",
              "\n",
              "          const docLinkHtml = 'Like what you see? Visit the ' +\n",
              "            '<a target=\"_blank\" href=https://colab.research.google.com/notebooks/data_table.ipynb>data table notebook</a>'\n",
              "            + ' to learn more about interactive tables.';\n",
              "          element.innerHTML = '';\n",
              "          dataTable['output_type'] = 'display_data';\n",
              "          await google.colab.output.renderOutput(dataTable, element);\n",
              "          const docLink = document.createElement('div');\n",
              "          docLink.innerHTML = docLinkHtml;\n",
              "          element.appendChild(docLink);\n",
              "        }\n",
              "      </script>\n",
              "    </div>\n",
              "  </div>\n",
              "  "
            ],
            "text/plain": [
              "       age          workclass      education  education_num  \\\n",
              "0       39            Private            9th              5   \n",
              "1       77            Private            9th              5   \n",
              "2       38            Private            9th              5   \n",
              "3       28            Private            9th              5   \n",
              "4       37            Private            9th              5   \n",
              "...    ...                ...            ...            ...   \n",
              "30720   46            Private   Some-college             10   \n",
              "30721   45            Private   Some-college             10   \n",
              "30722   32            Private   Some-college             10   \n",
              "30723   30   Self-emp-not-inc   Some-college             10   \n",
              "30724   20   Self-emp-not-inc   Some-college             10   \n",
              "\n",
              "            marital_status          occupation     relationship  \\\n",
              "0       Married-civ-spouse       Other-service             Wife   \n",
              "1       Married-civ-spouse     Priv-house-serv             Wife   \n",
              "2       Married-civ-spouse       Other-service             Wife   \n",
              "3       Married-civ-spouse     Protective-serv             Wife   \n",
              "4       Married-civ-spouse   Machine-op-inspct             Wife   \n",
              "...                    ...                 ...              ...   \n",
              "30720   Married-civ-spouse        Craft-repair   Other-relative   \n",
              "30721   Married-civ-spouse        Craft-repair   Other-relative   \n",
              "30722   Married-civ-spouse               Sales   Other-relative   \n",
              "30723        Never-married               Sales   Other-relative   \n",
              "30724        Never-married      Prof-specialty   Other-relative   \n",
              "\n",
              "                      race      sex  capital_gain  capital_loss  \\\n",
              "0                    Black   Female          3411             0   \n",
              "1                    Black   Female             0             0   \n",
              "2                    Black   Female             0             0   \n",
              "3                    Black   Female             0             0   \n",
              "4                    Black   Female             0             0   \n",
              "...                    ...      ...           ...           ...   \n",
              "30720   Asian-Pac-Islander     Male             0             0   \n",
              "30721   Asian-Pac-Islander     Male             0             0   \n",
              "30722   Asian-Pac-Islander   Female             0             0   \n",
              "30723   Asian-Pac-Islander     Male             0          2258   \n",
              "30724   Asian-Pac-Islander   Female             0             0   \n",
              "\n",
              "       hours_per_week  native_country income_bracket  \n",
              "0                  34   United-States          <=50K  \n",
              "1                  10   United-States          <=50K  \n",
              "2                  24           Haiti          <=50K  \n",
              "3                  40   United-States          <=50K  \n",
              "4                  48   United-States          <=50K  \n",
              "...               ...             ...            ...  \n",
              "30720              40           India          <=50K  \n",
              "30721              40     Philippines          <=50K  \n",
              "30722              40          Greece          <=50K  \n",
              "30723              40           South          <=50K  \n",
              "30724              20           South          <=50K  \n",
              "\n",
              "[30725 rows x 14 columns]"
            ]
          },
          "execution_count": 171,
          "metadata": {},
          "output_type": "execute_result"
        }
      ],
      "source": [
        "# Menampilkan dataFrame\n",
        "BigQuery"
      ]
    },
    {
      "cell_type": "markdown",
      "metadata": {
        "id": "ksXFrmzfO3SF"
      },
      "source": [
        "# iv - Exploratory Data Analysis (EDA)\n",
        "> Bagian ini berisi eksplorasi data pada dataset diatas dengan menggunakan query, grouping, visualisasi sederhana, dan lain sebagainya."
      ]
    },
    {
      "cell_type": "markdown",
      "metadata": {
        "id": "g4sHWK5lB5ql"
      },
      "source": [
        "## Perbandingan pada setiap kolom"
      ]
    },
    {
      "cell_type": "code",
      "execution_count": 172,
      "metadata": {
        "colab": {
          "base_uri": "https://localhost:8080/",
          "height": 1000
        },
        "id": "WamiE25J-_5d",
        "outputId": "ed20db3d-52b7-481c-cddf-10a0b578b0af"
      },
      "outputs": [
        {
          "name": "stderr",
          "output_type": "stream",
          "text": [
            "/usr/local/lib/python3.10/dist-packages/seaborn/distributions.py:499: FutureWarning: In a future version, the Index constructor will not infer numeric dtypes when passed object-dtype sequences (matching Series behavior)\n",
            "  pd.Index(edges, name=\"edges\"),\n",
            "/usr/local/lib/python3.10/dist-packages/seaborn/distributions.py:500: FutureWarning: In a future version, the Index constructor will not infer numeric dtypes when passed object-dtype sequences (matching Series behavior)\n",
            "  pd.Index(widths, name=\"widths\"),\n",
            "/usr/local/lib/python3.10/dist-packages/seaborn/distributions.py:499: FutureWarning: In a future version, the Index constructor will not infer numeric dtypes when passed object-dtype sequences (matching Series behavior)\n",
            "  pd.Index(edges, name=\"edges\"),\n",
            "/usr/local/lib/python3.10/dist-packages/seaborn/distributions.py:500: FutureWarning: In a future version, the Index constructor will not infer numeric dtypes when passed object-dtype sequences (matching Series behavior)\n",
            "  pd.Index(widths, name=\"widths\"),\n"
          ]
        },
        {
          "data": {
            "image/png": "[encoded data removed]",
            "text/plain": [
              "<Figure size 2000x2000 with 8 Axes>"
            ]
          },
          "metadata": {},
          "output_type": "display_data"
        }
      ],
      "source": [
        "plt.figure(figsize = (20, 20))\n",
        "\n",
        "ax1 = plt.subplot(3, 3, 1)\n",
        "sns.histplot(data=BigQuery, x='race')\n",
        "ax1 = plt.title ('Perbandingan setiap `race`')\n",
        "plt.xticks(rotation=45)\n",
        "\n",
        "ax2 = plt.subplot(3, 3, 2)\n",
        "sns.histplot(data=BigQuery, x='sex')\n",
        "ax2 = plt.title ('Perbandingan antara `sex`')\n",
        "\n",
        "ax3 = plt.subplot(3, 3, 3)\n",
        "sns.histplot(data=BigQuery, x='relationship')\n",
        "ax3 = plt.title ('Perbandingan setiap `relationship`')\n",
        "plt.xticks(rotation=45)\n",
        "\n",
        "ax4 = plt.subplot(3, 3, 4)\n",
        "sns.histplot(data=BigQuery, x='workclass')\n",
        "ax1 = plt.title ('Perbandingan setiap `workclass`')\n",
        "plt.xticks(rotation=45)\n",
        "\n",
        "ax5 = plt.subplot(3, 3, 5)\n",
        "sns.histplot(data=BigQuery, x='education')\n",
        "ax2 = plt.title ('Perbandingan antara `education`')\n",
        "plt.xticks(rotation=45)\n",
        "\n",
        "ax6 = plt.subplot(3, 3, 6)\n",
        "sns.histplot(data=BigQuery, x='marital_status')\n",
        "ax3 = plt.title ('Perbandingan setiap `marital_status`')\n",
        "plt.xticks(rotation=45)\n",
        "\n",
        "ax7 = plt.subplot(3, 3, 7)\n",
        "sns.histplot(data=BigQuery, x='age')\n",
        "ax1 = plt.title ('Perbandingan setiap `age`')\n",
        "\n",
        "ax8 = plt.subplot(3, 3, 8)\n",
        "sns.histplot(data=BigQuery, x='education_num')\n",
        "ax2 = plt.title ('Perbandingan antara `education_num`')"
      ]
    },
    {
      "cell_type": "markdown",
      "metadata": {
        "id": "_R0WXBBtgmTx"
      },
      "source": [
        "## Melihat cardinality"
      ]
    },
    {
      "cell_type": "code",
      "execution_count": 173,
      "metadata": {
        "colab": {
          "base_uri": "https://localhost:8080/"
        },
        "id": "FeDVd_AWBgzg",
        "outputId": "87260d49-bb55-4a2a-d784-acd5dad1d4e9"
      },
      "outputs": [
        {
          "name": "stdout",
          "output_type": "stream",
          "text": [
            "Shape of Dataset :  (30725, 14)\n",
            "\n",
            "Kolom :  age\n",
            "Jumlah Unique Value :  72\n",
            "\n",
            "Kolom :  workclass\n",
            "Jumlah Unique Value :  8\n",
            "\n",
            "Kolom :  education\n",
            "Jumlah Unique Value :  16\n",
            "\n",
            "Kolom :  education_num\n",
            "Jumlah Unique Value :  16\n",
            "\n",
            "Kolom :  marital_status\n",
            "Jumlah Unique Value :  7\n",
            "\n",
            "Kolom :  occupation\n",
            "Jumlah Unique Value :  15\n",
            "\n",
            "Kolom :  relationship\n",
            "Jumlah Unique Value :  6\n",
            "\n",
            "Kolom :  race\n",
            "Jumlah Unique Value :  5\n",
            "\n",
            "Kolom :  sex\n",
            "Jumlah Unique Value :  2\n",
            "\n",
            "Kolom :  capital_gain\n",
            "Jumlah Unique Value :  118\n",
            "\n",
            "Kolom :  capital_loss\n",
            "Jumlah Unique Value :  90\n",
            "\n",
            "Kolom :  hours_per_week\n",
            "Jumlah Unique Value :  94\n",
            "\n",
            "Kolom :  native_country\n",
            "Jumlah Unique Value :  42\n",
            "\n",
            "Kolom :  income_bracket\n",
            "Jumlah Unique Value :  2\n",
            "\n"
          ]
        }
      ],
      "source": [
        "print('Shape of Dataset : ', BigQuery.shape)\n",
        "print('')\n",
        "\n",
        "for col in BigQuery.columns.tolist():\n",
        "  print('Kolom : ', col)\n",
        "  print('Jumlah Unique Value : ', BigQuery[col].nunique())\n",
        "  print('')"
      ]
    },
    {
      "cell_type": "markdown",
      "metadata": {
        "id": "Nc3NrcqU7oo8"
      },
      "source": [
        "## Melihat perbandingan data antara <=50k dengan >50k"
      ]
    },
    {
      "cell_type": "code",
      "execution_count": 174,
      "metadata": {
        "colab": {
          "base_uri": "https://localhost:8080/",
          "height": 461
        },
        "id": "G-C_cZzV7D6S",
        "outputId": "4c724f9a-08b3-4cf7-c4f9-419a49baf031"
      },
      "outputs": [
        {
          "data": {
            "text/plain": [
              "Text(0.5, 1.0, 'Perbandingan antara <=50k dengan >50k')"
            ]
          },
          "execution_count": 174,
          "metadata": {},
          "output_type": "execute_result"
        },
        {
          "data": {
            "image/png": "[encoded data removed]",
            "text/plain": [
              "<Figure size 1600x500 with 1 Axes>"
            ]
          },
          "metadata": {},
          "output_type": "display_data"
        }
      ],
      "source": [
        "palette_color = sns.color_palette('muted')\n",
        "plt.figure(figsize = (16, 5))\n",
        "\n",
        "plt.pie(BigQuery.groupby(['income_bracket'])['native_country'].count(), colors=palette_color, autopct='%.0f%%', startangle=270, labels=BigQuery['income_bracket'].unique())\n",
        "plt.title ('Perbandingan antara <=50k dengan >50k')"
      ]
    },
    {
      "cell_type": "markdown",
      "metadata": {
        "id": "sz1HLqoCO8F6"
      },
      "source": [
        "# v - Feature Engineering\n",
        "> Bagian ini berisi proses penyiapan data untuk proses pelatihan model, seperti pembagian data menjadi train-test, transformasi data (normalisasi, encoding, dll.), dan proses-proses lain yang dibutuhkan."
      ]
    },
    {
      "cell_type": "markdown",
      "metadata": {
        "id": "FEFkAy5NiblS"
      },
      "source": [
        "## Split X (Features) dan y (Target)"
      ]
    },
    {
      "cell_type": "code",
      "execution_count": 175,
      "metadata": {
        "colab": {
          "base_uri": "https://localhost:8080/"
        },
        "id": "caGMaDXrijG7",
        "outputId": "5ec17b4f-9d61-4d46-a9ff-d310db055e72"
      },
      "outputs": [
        {
          "name": "stdout",
          "output_type": "stream",
          "text": [
            "(30725, 13)\n",
            "(30725,)\n"
          ]
        }
      ],
      "source": [
        "X = BigQuery.drop(['income_bracket'], axis=1)\n",
        "y = BigQuery['income_bracket']\n",
        "\n",
        "print (X.shape)\n",
        "print (y.shape)"
      ]
    },
    {
      "cell_type": "markdown",
      "metadata": {
        "id": "42eizV0zjN9z"
      },
      "source": [
        "## Split Train-Set dan Test-Set"
      ]
    },
    {
      "cell_type": "code",
      "execution_count": 176,
      "metadata": {
        "colab": {
          "base_uri": "https://localhost:8080/"
        },
        "id": "o4Ecsf96jQ1O",
        "outputId": "1102676c-34bf-456f-f68f-e8afb96b4044"
      },
      "outputs": [
        {
          "name": "stdout",
          "output_type": "stream",
          "text": [
            "X Train Size (24580, 13)\n",
            "X Test Size: (6145, 13)\n",
            "\n",
            "y Train Size (24580,)\n",
            "y Test Size: (6145,)\n"
          ]
        }
      ],
      "source": [
        "X_train, X_test, y_train, y_test = train_test_split (X, y, test_size = 0.2, random_state = 1509)\n",
        "\n",
        "print ('X Train Size', X_train.shape)\n",
        "print ('X Test Size:', X_test.shape)\n",
        "print ()\n",
        "print ('y Train Size', y_train.shape)\n",
        "print ('y Test Size:', y_test.shape)"
      ]
    },
    {
      "cell_type": "markdown",
      "metadata": {
        "id": "r4ClmxY4jaNQ"
      },
      "source": [
        "## Handle Missing Value"
      ]
    },
    {
      "cell_type": "markdown",
      "metadata": {
        "id": "v64miUjTjerI"
      },
      "source": [
        "### X_train\n",
        "> Tidak adanya data null pada X_train"
      ]
    },
    {
      "cell_type": "code",
      "execution_count": 177,
      "metadata": {
        "colab": {
          "base_uri": "https://localhost:8080/"
        },
        "id": "1NBizohUjbhC",
        "outputId": "597454d7-6d16-4ac2-ba5a-8847fa1fc087"
      },
      "outputs": [
        {
          "data": {
            "text/plain": [
              "age               0\n",
              "workclass         0\n",
              "education         0\n",
              "education_num     0\n",
              "marital_status    0\n",
              "occupation        0\n",
              "relationship      0\n",
              "race              0\n",
              "sex               0\n",
              "capital_gain      0\n",
              "capital_loss      0\n",
              "hours_per_week    0\n",
              "native_country    0\n",
              "dtype: int64"
            ]
          },
          "execution_count": 177,
          "metadata": {},
          "output_type": "execute_result"
        }
      ],
      "source": [
        "X_train.isnull().sum()"
      ]
    },
    {
      "cell_type": "markdown",
      "metadata": {
        "id": "zAxqpDi9jtxf"
      },
      "source": [
        "### X_test\n",
        "> Tidak adanya data null pada X_test"
      ]
    },
    {
      "cell_type": "code",
      "execution_count": 178,
      "metadata": {
        "colab": {
          "base_uri": "https://localhost:8080/"
        },
        "id": "Yy-763OBjtlB",
        "outputId": "61a306b7-55ba-4490-cabc-9f2f78202a4c"
      },
      "outputs": [
        {
          "data": {
            "text/plain": [
              "age               0\n",
              "workclass         0\n",
              "education         0\n",
              "education_num     0\n",
              "marital_status    0\n",
              "occupation        0\n",
              "relationship      0\n",
              "race              0\n",
              "sex               0\n",
              "capital_gain      0\n",
              "capital_loss      0\n",
              "hours_per_week    0\n",
              "native_country    0\n",
              "dtype: int64"
            ]
          },
          "execution_count": 178,
          "metadata": {},
          "output_type": "execute_result"
        }
      ],
      "source": [
        "X_test.isnull().sum()"
      ]
    },
    {
      "cell_type": "markdown",
      "metadata": {
        "id": "0aEEhwUaj096"
      },
      "source": [
        "### y_train\n",
        "> Tidak adanya data null pada y_train"
      ]
    },
    {
      "cell_type": "code",
      "execution_count": 179,
      "metadata": {
        "colab": {
          "base_uri": "https://localhost:8080/"
        },
        "id": "N4J4S7LAj2aJ",
        "outputId": "a5f22133-7094-47de-e889-c9eedea19193"
      },
      "outputs": [
        {
          "data": {
            "text/plain": [
              "0"
            ]
          },
          "execution_count": 179,
          "metadata": {},
          "output_type": "execute_result"
        }
      ],
      "source": [
        "y_train.isnull().sum()"
      ]
    },
    {
      "cell_type": "markdown",
      "metadata": {
        "id": "-wW6lVHzj-Jm"
      },
      "source": [
        "### y_test\n",
        "> Tidak adanya data null pada y_test"
      ]
    },
    {
      "cell_type": "code",
      "execution_count": 180,
      "metadata": {
        "colab": {
          "base_uri": "https://localhost:8080/"
        },
        "id": "2oGS61RekAEL",
        "outputId": "4b986f4a-bd93-43a3-e03c-f6e750ec6a22"
      },
      "outputs": [
        {
          "data": {
            "text/plain": [
              "0"
            ]
          },
          "execution_count": 180,
          "metadata": {},
          "output_type": "execute_result"
        }
      ],
      "source": [
        "y_test.isnull().sum()"
      ]
    },
    {
      "cell_type": "markdown",
      "metadata": {
        "id": "udNGc3ebktgB"
      },
      "source": [
        "## Handle Outlier"
      ]
    },
    {
      "cell_type": "markdown",
      "metadata": {
        "id": "s4A-5DzQm59S"
      },
      "source": [
        "### Mengecek outlier pada `age`"
      ]
    },
    {
      "cell_type": "code",
      "execution_count": 181,
      "metadata": {
        "colab": {
          "base_uri": "https://localhost:8080/",
          "height": 427
        },
        "id": "WCRgdqrCk48t",
        "outputId": "3368362d-2276-4245-e6f6-a66d73664ca5"
      },
      "outputs": [
        {
          "name": "stdout",
          "output_type": "stream",
          "text": [
            "Skewness Value age:  0.53\n"
          ]
        },
        {
          "data": {
            "image/png": "[encoded data removed]",
            "text/plain": [
              "<Figure size 1600x400 with 2 Axes>"
            ]
          },
          "metadata": {},
          "output_type": "display_data"
        }
      ],
      "source": [
        "print('Skewness Value age: ', BigQuery['age'].skew().round(decimals=2));\n",
        "\n",
        "plt.figure(figsize=(16, 4));\n",
        "\n",
        "# Histogram\n",
        "plt.subplot(1, 2, 1)\n",
        "sns.histplot(BigQuery['age'].astype(float), bins=30)\n",
        "plt.title('Histogram dari age')\n",
        "\n",
        "# Boxplot\n",
        "plt.subplot(1, 2, 2)\n",
        "sns.boxplot(BigQuery['age'].astype(float))\n",
        "plt.title('Boxplot dari age')\n",
        "\n",
        "plt.show();"
      ]
    },
    {
      "cell_type": "code",
      "execution_count": 182,
      "metadata": {
        "colab": {
          "base_uri": "https://localhost:8080/"
        },
        "id": "2S3wniI34Hrs",
        "outputId": "4e14435d-9b86-4089-a70b-1628fc547900"
      },
      "outputs": [
        {
          "name": "stdout",
          "output_type": "stream",
          "text": [
            "Nilai Q1:  28.0\n",
            "Nilai Q3:  47.0\n",
            "Nilai IQR:  19.0\n",
            "Nilai Batas Bawah:  -0.5\n",
            "Nilai Batas Atas:  75.5\n",
            "30725\n",
            "24580\n",
            "Skewness Value age:  0.41\n",
            "Skewness Value age:  0.41\n"
          ]
        }
      ],
      "source": [
        "# Membuat nilai 25 quantil yang disebut Q1 dan 75 quantil yang disebut Q3\n",
        "Q1 = BigQuery['age'].quantile(0.25)\n",
        "Q3 = BigQuery['age'].quantile(0.75)\n",
        "print ('Nilai Q1: ', Q1)\n",
        "print ('Nilai Q3: ', Q3)\n",
        "\n",
        "# Membuat nilai IQR, dari Q3 - Q1\n",
        "IQR = Q3 - Q1\n",
        "print ('Nilai IQR: ', IQR)\n",
        "\n",
        "# Membuat nilai batas bawah dengan rumus Q1 - (IQR * 1.5)\n",
        "BatasBawah = Q1 - (IQR * 1.5)\n",
        "\n",
        "# Membuat nilai batas atas dengan rumus Q3 + (IQR * 1.5)\n",
        "BatasAtas = Q3 + (IQR * 1.5)\n",
        "\n",
        "print ('Nilai Batas Bawah: ', BatasBawah)\n",
        "print ('Nilai Batas Atas: ', BatasAtas)\n",
        "\n",
        "# Menghilangkan angka-angka yang berada diluar batas bawah maupun batas atas\n",
        "X_train = X_train[(X_train['age'] > BatasBawah) & (X_train['age'] < BatasAtas)]\n",
        "X_test = X_test[(X_test['age'] > BatasBawah) & (X_test['age'] < BatasAtas)]\n",
        "\n",
        "# Menampilkan jumlah nilai, sebelum dan sesudah dihilangkan datanya\n",
        "print (BigQuery['age'].shape[0])    #Nilai sebelum\n",
        "print (y_train.shape[0]) #Nilai setelah\n",
        "\n",
        "print('Skewness Value age: ', X_train['age'].skew().round(decimals=2))\n",
        "print('Skewness Value age: ', X_test['age'].skew().round(decimals=2));"
      ]
    },
    {
      "cell_type": "markdown",
      "metadata": {
        "id": "IKtE8d6xm8aU"
      },
      "source": [
        "### Mengecek outlier pada `hours_per_week`"
      ]
    },
    {
      "cell_type": "code",
      "execution_count": 183,
      "metadata": {
        "colab": {
          "base_uri": "https://localhost:8080/",
          "height": 427
        },
        "id": "wHcRP5HwnKvB",
        "outputId": "65bf45f8-6f1c-4907-ee23-00fb14eae7ba"
      },
      "outputs": [
        {
          "name": "stdout",
          "output_type": "stream",
          "text": [
            "Skewness Value hours_per_week:  0.37\n"
          ]
        },
        {
          "data": {
            "image/png": "[encoded data removed]",
            "text/plain": [
              "<Figure size 1600x400 with 2 Axes>"
            ]
          },
          "metadata": {},
          "output_type": "display_data"
        }
      ],
      "source": [
        "print('Skewness Value hours_per_week: ', X_train['hours_per_week'].skew().round(decimals=2));\n",
        "\n",
        "plt.figure(figsize=(16, 4));\n",
        "\n",
        "# Histogram\n",
        "plt.subplot(1, 2, 1)\n",
        "sns.histplot(X_train['hours_per_week'].astype(float), bins=30)\n",
        "plt.title('Histogram dari hours_per_week')\n",
        "\n",
        "# Boxplot\n",
        "plt.subplot(1, 2, 2)\n",
        "sns.boxplot(X_train['hours_per_week'].astype(float))\n",
        "plt.title('Boxplot dari hours_per_week')\n",
        "\n",
        "plt.show();"
      ]
    },
    {
      "cell_type": "markdown",
      "metadata": {
        "id": "qz8IdnNKrGEO"
      },
      "source": [
        "## Feature Selection"
      ]
    },
    {
      "cell_type": "code",
      "execution_count": 184,
      "metadata": {
        "id": "Jus3t8PfP-ms"
      },
      "outputs": [],
      "source": [
        "# Menghilangkan data di y_train yang hilang saat outlier pada X_train\n",
        "y_train = y_train.filter(items=X_train.index,axis=0)\n",
        "y_test = y_test.filter(items=X_test.index,axis=0)"
      ]
    },
    {
      "cell_type": "markdown",
      "metadata": {
        "id": "h_1UTUfYsZEl"
      },
      "source": [
        "### Split Numeric dan Category"
      ]
    },
    {
      "cell_type": "code",
      "execution_count": 185,
      "metadata": {
        "colab": {
          "base_uri": "https://localhost:8080/"
        },
        "id": "qbCYtqXyscjO",
        "outputId": "8ab15cd6-a95e-4091-e276-f5ff16c8af42"
      },
      "outputs": [
        {
          "name": "stdout",
          "output_type": "stream",
          "text": [
            "Num Columns :  ['age', 'education_num', 'capital_gain', 'capital_loss', 'hours_per_week']\n",
            "Cat Columns :  ['workclass', 'education', 'marital_status', 'occupation', 'relationship', 'race', 'sex', 'native_country']\n"
          ]
        }
      ],
      "source": [
        "num_columns = X_train.select_dtypes(include=np.number).columns.tolist()\n",
        "cat_columns = X_train.select_dtypes(exclude=np.number).columns.tolist()\n",
        "\n",
        "print('Num Columns : ', num_columns)\n",
        "print('Cat Columns : ', cat_columns)"
      ]
    },
    {
      "cell_type": "markdown",
      "metadata": {
        "id": "1fgLSUyZslqG"
      },
      "source": [
        "### Split pada data freatures"
      ]
    },
    {
      "cell_type": "code",
      "execution_count": 186,
      "metadata": {
        "colab": {
          "base_uri": "https://localhost:8080/"
        },
        "id": "GCJHgMFbswuh",
        "outputId": "d33f7f77-a18a-45d9-91e5-67096febaa02"
      },
      "outputs": [
        {
          "name": "stdout",
          "output_type": "stream",
          "text": [
            "(24442, 5)\n",
            "(24442, 8)\n",
            "(6111, 5)\n",
            "(6111, 8)\n"
          ]
        }
      ],
      "source": [
        "X_train_num = X_train[num_columns]\n",
        "X_train_cat = X_train[cat_columns]\n",
        "\n",
        "X_test_num = X_test[num_columns]\n",
        "X_test_cat = X_test[cat_columns]\n",
        "\n",
        "print (X_train_num.shape)\n",
        "print (X_train_cat.shape)\n",
        "\n",
        "print (X_test_num.shape)\n",
        "print (X_test_cat.shape)"
      ]
    },
    {
      "cell_type": "markdown",
      "metadata": {
        "id": "R09-UlCNtrHH"
      },
      "source": [
        "## Feature Scaling"
      ]
    },
    {
      "cell_type": "code",
      "execution_count": 187,
      "metadata": {
        "colab": {
          "base_uri": "https://localhost:8080/"
        },
        "id": "IhEjH5GItuHu",
        "outputId": "8eda938b-fad9-4e3d-badb-394b9e285919"
      },
      "outputs": [
        {
          "data": {
            "text/plain": [
              "array([[0.63793103, 0.53333333, 0.        , 0.        , 0.39795918],\n",
              "       [0.22413793, 0.8       , 0.        , 0.        , 0.7244898 ],\n",
              "       [0.84482759, 0.53333333, 0.        , 0.        , 0.39795918],\n",
              "       ...,\n",
              "       [0.31034483, 0.53333333, 0.        , 0.        , 0.39795918],\n",
              "       [0.27586207, 0.33333333, 0.        , 0.        , 0.34693878],\n",
              "       [0.51724138, 0.6       , 0.        , 0.        , 0.39795918]])"
            ]
          },
          "execution_count": 187,
          "metadata": {},
          "output_type": "execute_result"
        }
      ],
      "source": [
        "# Menggunakan MinMaxScaler\n",
        "\n",
        "scaler = MinMaxScaler()\n",
        "scaler.fit(X_train_num)\n",
        "\n",
        "X_train_num_scaled = scaler.transform(X_train_num)\n",
        "X_test_num_scaled = scaler.transform(X_test_num)\n",
        "X_train_num_scaled"
      ]
    },
    {
      "cell_type": "markdown",
      "metadata": {
        "id": "1XZSXEzRts0G"
      },
      "source": [
        "## Feature Encoding"
      ]
    },
    {
      "cell_type": "code",
      "execution_count": 188,
      "metadata": {
        "colab": {
          "base_uri": "https://localhost:8080/",
          "height": 424
        },
        "id": "kNHXnZj7xC5Y",
        "outputId": "5d54055a-d612-4d69-e310-4f6cf232c230"
      },
      "outputs": [
        {
          "data": {
            "text/html": [
              "\n",
              "  <div id=\"df-a9e07258-2fad-42e6-a119-2ea6417d9210\">\n",
              "    <div class=\"colab-df-container\">\n",
              "      <div>\n",
              "<style scoped>\n",
              "    .dataframe tbody tr th:only-of-type {\n",
              "        vertical-align: middle;\n",
              "    }\n",
              "\n",
              "    .dataframe tbody tr th {\n",
              "        vertical-align: top;\n",
              "    }\n",
              "\n",
              "    .dataframe thead th {\n",
              "        text-align: right;\n",
              "    }\n",
              "</style>\n",
              "<table border=\"1\" class=\"dataframe\">\n",
              "  <thead>\n",
              "    <tr style=\"text-align: right;\">\n",
              "      <th></th>\n",
              "      <th>workclass</th>\n",
              "      <th>education</th>\n",
              "      <th>marital_status</th>\n",
              "      <th>occupation</th>\n",
              "      <th>relationship</th>\n",
              "      <th>race</th>\n",
              "      <th>sex</th>\n",
              "      <th>native_country</th>\n",
              "    </tr>\n",
              "  </thead>\n",
              "  <tbody>\n",
              "    <tr>\n",
              "      <th>4311</th>\n",
              "      <td>Private</td>\n",
              "      <td>HS-grad</td>\n",
              "      <td>Married-civ-spouse</td>\n",
              "      <td>Craft-repair</td>\n",
              "      <td>Husband</td>\n",
              "      <td>Black</td>\n",
              "      <td>Male</td>\n",
              "      <td>United-States</td>\n",
              "    </tr>\n",
              "    <tr>\n",
              "      <th>21032</th>\n",
              "      <td>Private</td>\n",
              "      <td>Bachelors</td>\n",
              "      <td>Never-married</td>\n",
              "      <td>Tech-support</td>\n",
              "      <td>Not-in-family</td>\n",
              "      <td>White</td>\n",
              "      <td>Female</td>\n",
              "      <td>United-States</td>\n",
              "    </tr>\n",
              "    <tr>\n",
              "      <th>11337</th>\n",
              "      <td>Private</td>\n",
              "      <td>HS-grad</td>\n",
              "      <td>Widowed</td>\n",
              "      <td>Adm-clerical</td>\n",
              "      <td>Not-in-family</td>\n",
              "      <td>White</td>\n",
              "      <td>Female</td>\n",
              "      <td>United-States</td>\n",
              "    </tr>\n",
              "    <tr>\n",
              "      <th>26207</th>\n",
              "      <td>Self-emp-inc</td>\n",
              "      <td>Some-college</td>\n",
              "      <td>Married-civ-spouse</td>\n",
              "      <td>Exec-managerial</td>\n",
              "      <td>Husband</td>\n",
              "      <td>White</td>\n",
              "      <td>Male</td>\n",
              "      <td>United-States</td>\n",
              "    </tr>\n",
              "    <tr>\n",
              "      <th>3403</th>\n",
              "      <td>Private</td>\n",
              "      <td>7th-8th</td>\n",
              "      <td>Married-civ-spouse</td>\n",
              "      <td>Farming-fishing</td>\n",
              "      <td>Husband</td>\n",
              "      <td>White</td>\n",
              "      <td>Male</td>\n",
              "      <td>United-States</td>\n",
              "    </tr>\n",
              "    <tr>\n",
              "      <th>...</th>\n",
              "      <td>...</td>\n",
              "      <td>...</td>\n",
              "      <td>...</td>\n",
              "      <td>...</td>\n",
              "      <td>...</td>\n",
              "      <td>...</td>\n",
              "      <td>...</td>\n",
              "      <td>...</td>\n",
              "    </tr>\n",
              "    <tr>\n",
              "      <th>2100</th>\n",
              "      <td>State-gov</td>\n",
              "      <td>11th</td>\n",
              "      <td>Divorced</td>\n",
              "      <td>Other-service</td>\n",
              "      <td>Unmarried</td>\n",
              "      <td>White</td>\n",
              "      <td>Female</td>\n",
              "      <td>United-States</td>\n",
              "    </tr>\n",
              "    <tr>\n",
              "      <th>24285</th>\n",
              "      <td>Private</td>\n",
              "      <td>Some-college</td>\n",
              "      <td>Married-civ-spouse</td>\n",
              "      <td>Sales</td>\n",
              "      <td>Husband</td>\n",
              "      <td>Black</td>\n",
              "      <td>Male</td>\n",
              "      <td>United-States</td>\n",
              "    </tr>\n",
              "    <tr>\n",
              "      <th>6578</th>\n",
              "      <td>Private</td>\n",
              "      <td>HS-grad</td>\n",
              "      <td>Married-civ-spouse</td>\n",
              "      <td>Machine-op-inspct</td>\n",
              "      <td>Husband</td>\n",
              "      <td>White</td>\n",
              "      <td>Male</td>\n",
              "      <td>United-States</td>\n",
              "    </tr>\n",
              "    <tr>\n",
              "      <th>1054</th>\n",
              "      <td>Private</td>\n",
              "      <td>10th</td>\n",
              "      <td>Never-married</td>\n",
              "      <td>Craft-repair</td>\n",
              "      <td>Unmarried</td>\n",
              "      <td>White</td>\n",
              "      <td>Female</td>\n",
              "      <td>United-States</td>\n",
              "    </tr>\n",
              "    <tr>\n",
              "      <th>26436</th>\n",
              "      <td>Self-emp-not-inc</td>\n",
              "      <td>Some-college</td>\n",
              "      <td>Married-civ-spouse</td>\n",
              "      <td>Sales</td>\n",
              "      <td>Husband</td>\n",
              "      <td>White</td>\n",
              "      <td>Male</td>\n",
              "      <td>United-States</td>\n",
              "    </tr>\n",
              "  </tbody>\n",
              "</table>\n",
              "<p>24442 rows × 8 columns</p>\n",
              "</div>\n",
              "      <button class=\"colab-df-convert\" onclick=\"convertToInteractive('df-a9e07258-2fad-42e6-a119-2ea6417d9210')\"\n",
              "              title=\"Convert this dataframe to an interactive table.\"\n",
              "              style=\"display:none;\">\n",
              "        \n",
              "  <svg xmlns=\"http://www.w3.org/2000/svg\" height=\"24px\"viewBox=\"0 0 24 24\"\n",
              "       width=\"24px\">\n",
              "    <path d=\"M0 0h24v24H0V0z\" fill=\"none\"/>\n",
              "    <path d=\"M18.56 5.44l.94 2.06.94-2.06 2.06-.94-2.06-.94-.94-2.06-.94 2.06-2.06.94zm-11 1L8.5 8.5l.94-2.06 2.06-.94-2.06-.94L8.5 2.5l-.94 2.06-2.06.94zm10 10l.94 2.06.94-2.06 2.06-.94-2.06-.94-.94-2.06-.94 2.06-2.06.94z\"/><path d=\"M17.41 7.96l-1.37-1.37c-.4-.4-.92-.59-1.43-.59-.52 0-1.04.2-1.43.59L10.3 9.45l-7.72 7.72c-.78.78-.78 2.05 0 2.83L4 21.41c.39.39.9.59 1.41.59.51 0 1.02-.2 1.41-.59l7.78-7.78 2.81-2.81c.8-.78.8-2.07 0-2.86zM5.41 20L4 18.59l7.72-7.72 1.47 1.35L5.41 20z\"/>\n",
              "  </svg>\n",
              "      </button>\n",
              "      \n",
              "  <style>\n",
              "    .colab-df-container {\n",
              "      display:flex;\n",
              "      flex-wrap:wrap;\n",
              "      gap: 12px;\n",
              "    }\n",
              "\n",
              "    .colab-df-convert {\n",
              "      background-color: #E8F0FE;\n",
              "      border: none;\n",
              "      border-radius: 50%;\n",
              "      cursor: pointer;\n",
              "      display: none;\n",
              "      fill: #1967D2;\n",
              "      height: 32px;\n",
              "      padding: 0 0 0 0;\n",
              "      width: 32px;\n",
              "    }\n",
              "\n",
              "    .colab-df-convert:hover {\n",
              "      background-color: #E2EBFA;\n",
              "      box-shadow: 0px 1px 2px rgba(60, 64, 67, 0.3), 0px 1px 3px 1px rgba(60, 64, 67, 0.15);\n",
              "      fill: #174EA6;\n",
              "    }\n",
              "\n",
              "    [theme=dark] .colab-df-convert {\n",
              "      background-color: #3B4455;\n",
              "      fill: #D2E3FC;\n",
              "    }\n",
              "\n",
              "    [theme=dark] .colab-df-convert:hover {\n",
              "      background-color: #434B5C;\n",
              "      box-shadow: 0px 1px 3px 1px rgba(0, 0, 0, 0.15);\n",
              "      filter: drop-shadow(0px 1px 2px rgba(0, 0, 0, 0.3));\n",
              "      fill: #FFFFFF;\n",
              "    }\n",
              "  </style>\n",
              "\n",
              "      <script>\n",
              "        const buttonEl =\n",
              "          document.querySelector('#df-a9e07258-2fad-42e6-a119-2ea6417d9210 button.colab-df-convert');\n",
              "        buttonEl.style.display =\n",
              "          google.colab.kernel.accessAllowed ? 'block' : 'none';\n",
              "\n",
              "        async function convertToInteractive(key) {\n",
              "          const element = document.querySelector('#df-a9e07258-2fad-42e6-a119-2ea6417d9210');\n",
              "          const dataTable =\n",
              "            await google.colab.kernel.invokeFunction('convertToInteractive',\n",
              "                                                     [key], {});\n",
              "          if (!dataTable) return;\n",
              "\n",
              "          const docLinkHtml = 'Like what you see? Visit the ' +\n",
              "            '<a target=\"_blank\" href=https://colab.research.google.com/notebooks/data_table.ipynb>data table notebook</a>'\n",
              "            + ' to learn more about interactive tables.';\n",
              "          element.innerHTML = '';\n",
              "          dataTable['output_type'] = 'display_data';\n",
              "          await google.colab.output.renderOutput(dataTable, element);\n",
              "          const docLink = document.createElement('div');\n",
              "          docLink.innerHTML = docLinkHtml;\n",
              "          element.appendChild(docLink);\n",
              "        }\n",
              "      </script>\n",
              "    </div>\n",
              "  </div>\n",
              "  "
            ],
            "text/plain": [
              "               workclass      education       marital_status  \\\n",
              "4311             Private        HS-grad   Married-civ-spouse   \n",
              "21032            Private      Bachelors        Never-married   \n",
              "11337            Private        HS-grad              Widowed   \n",
              "26207       Self-emp-inc   Some-college   Married-civ-spouse   \n",
              "3403             Private        7th-8th   Married-civ-spouse   \n",
              "...                  ...            ...                  ...   \n",
              "2100           State-gov           11th             Divorced   \n",
              "24285            Private   Some-college   Married-civ-spouse   \n",
              "6578             Private        HS-grad   Married-civ-spouse   \n",
              "1054             Private           10th        Never-married   \n",
              "26436   Self-emp-not-inc   Some-college   Married-civ-spouse   \n",
              "\n",
              "               occupation    relationship    race      sex  native_country  \n",
              "4311         Craft-repair         Husband   Black     Male   United-States  \n",
              "21032        Tech-support   Not-in-family   White   Female   United-States  \n",
              "11337        Adm-clerical   Not-in-family   White   Female   United-States  \n",
              "26207     Exec-managerial         Husband   White     Male   United-States  \n",
              "3403      Farming-fishing         Husband   White     Male   United-States  \n",
              "...                   ...             ...     ...      ...             ...  \n",
              "2100        Other-service       Unmarried   White   Female   United-States  \n",
              "24285               Sales         Husband   Black     Male   United-States  \n",
              "6578    Machine-op-inspct         Husband   White     Male   United-States  \n",
              "1054         Craft-repair       Unmarried   White   Female   United-States  \n",
              "26436               Sales         Husband   White     Male   United-States  \n",
              "\n",
              "[24442 rows x 8 columns]"
            ]
          },
          "execution_count": 188,
          "metadata": {},
          "output_type": "execute_result"
        }
      ],
      "source": [
        "X_train_cat"
      ]
    },
    {
      "cell_type": "code",
      "execution_count": 189,
      "metadata": {
        "colab": {
          "base_uri": "https://localhost:8080/"
        },
        "id": "l09XfoVHxAV1",
        "outputId": "02b5e71e-a89f-4762-9cc7-16cf7de7be2d"
      },
      "outputs": [
        {
          "data": {
            "text/plain": [
              "array([[0., 0., 0., ..., 1., 0., 0.],\n",
              "       [0., 0., 0., ..., 1., 0., 0.],\n",
              "       [0., 0., 0., ..., 1., 0., 0.],\n",
              "       ...,\n",
              "       [0., 0., 0., ..., 1., 0., 0.],\n",
              "       [0., 0., 0., ..., 1., 0., 0.],\n",
              "       [0., 0., 0., ..., 1., 0., 0.]])"
            ]
          },
          "execution_count": 189,
          "metadata": {},
          "output_type": "execute_result"
        }
      ],
      "source": [
        "# Menggunakan Encoder\n",
        "encoder = OneHotEncoder()\n",
        "\n",
        "X_train_cat_encoded = encoder.fit_transform(X_train_cat).toarray()\n",
        "X_test_cat_encoded = encoder.transform(X_test_cat).toarray()\n",
        "feature_names = encoder.get_feature_names_out().tolist()\n",
        "\n",
        "X_train_cat_encoded"
      ]
    },
    {
      "cell_type": "markdown",
      "metadata": {
        "id": "x5WKzGoK5xQc"
      },
      "source": [
        "## Concate Numeric dan Category"
      ]
    },
    {
      "cell_type": "code",
      "execution_count": 190,
      "metadata": {
        "colab": {
          "base_uri": "https://localhost:8080/"
        },
        "id": "6yEwH40W6DZm",
        "outputId": "2985a803-cc4a-476b-9542-9fad92e5164d"
      },
      "outputs": [
        {
          "name": "stdout",
          "output_type": "stream",
          "text": [
            "(24442, 5)\n",
            "(24442, 101)\n"
          ]
        }
      ],
      "source": [
        "print(X_train_num_scaled.shape)\n",
        "print(X_train_cat_encoded.shape)"
      ]
    },
    {
      "cell_type": "code",
      "execution_count": 191,
      "metadata": {
        "colab": {
          "base_uri": "https://localhost:8080/"
        },
        "id": "s-3RuGtC57MN",
        "outputId": "5efaf2d5-a146-428e-c754-372abc35a2ff"
      },
      "outputs": [
        {
          "data": {
            "text/plain": [
              "(24442, 106)"
            ]
          },
          "execution_count": 191,
          "metadata": {},
          "output_type": "execute_result"
        }
      ],
      "source": [
        "X_train_final = np.concatenate([X_train_num_scaled, X_train_cat_encoded], axis=1)\n",
        "X_test_final = np.concatenate([X_test_num_scaled, X_test_cat_encoded], axis=1)\n",
        "\n",
        "X_train_final.shape"
      ]
    },
    {
      "cell_type": "code",
      "execution_count": 192,
      "metadata": {
        "colab": {
          "base_uri": "https://localhost:8080/",
          "height": 522
        },
        "id": "iRHItnOthx0p",
        "outputId": "9546cd9f-541b-44dc-d5aa-c6874d74f926"
      },
      "outputs": [
        {
          "data": {
            "text/html": [
              "\n",
              "  <div id=\"df-accbcff1-b99a-4ea0-a57f-4fb146d2936c\">\n",
              "    <div class=\"colab-df-container\">\n",
              "      <div>\n",
              "<style scoped>\n",
              "    .dataframe tbody tr th:only-of-type {\n",
              "        vertical-align: middle;\n",
              "    }\n",
              "\n",
              "    .dataframe tbody tr th {\n",
              "        vertical-align: top;\n",
              "    }\n",
              "\n",
              "    .dataframe thead tr th {\n",
              "        text-align: left;\n",
              "    }\n",
              "</style>\n",
              "<table border=\"1\" class=\"dataframe\">\n",
              "  <thead>\n",
              "    <tr>\n",
              "      <th></th>\n",
              "      <th>age</th>\n",
              "      <th>education_num</th>\n",
              "      <th>capital_gain</th>\n",
              "      <th>capital_loss</th>\n",
              "      <th>hours_per_week</th>\n",
              "      <th>workclass_ Federal-gov</th>\n",
              "      <th>workclass_ Local-gov</th>\n",
              "      <th>workclass_ Never-worked</th>\n",
              "      <th>workclass_ Private</th>\n",
              "      <th>workclass_ Self-emp-inc</th>\n",
              "      <th>...</th>\n",
              "      <th>native_country_ Portugal</th>\n",
              "      <th>native_country_ Puerto-Rico</th>\n",
              "      <th>native_country_ Scotland</th>\n",
              "      <th>native_country_ South</th>\n",
              "      <th>native_country_ Taiwan</th>\n",
              "      <th>native_country_ Thailand</th>\n",
              "      <th>native_country_ Trinadad&amp;Tobago</th>\n",
              "      <th>native_country_ United-States</th>\n",
              "      <th>native_country_ Vietnam</th>\n",
              "      <th>native_country_ Yugoslavia</th>\n",
              "    </tr>\n",
              "  </thead>\n",
              "  <tbody>\n",
              "    <tr>\n",
              "      <th>0</th>\n",
              "      <td>0.637931</td>\n",
              "      <td>0.533333</td>\n",
              "      <td>0.00000</td>\n",
              "      <td>0.0</td>\n",
              "      <td>0.397959</td>\n",
              "      <td>0.0</td>\n",
              "      <td>0.0</td>\n",
              "      <td>0.0</td>\n",
              "      <td>1.0</td>\n",
              "      <td>0.0</td>\n",
              "      <td>...</td>\n",
              "      <td>0.0</td>\n",
              "      <td>0.0</td>\n",
              "      <td>0.0</td>\n",
              "      <td>0.0</td>\n",
              "      <td>0.0</td>\n",
              "      <td>0.0</td>\n",
              "      <td>0.0</td>\n",
              "      <td>1.0</td>\n",
              "      <td>0.0</td>\n",
              "      <td>0.0</td>\n",
              "    </tr>\n",
              "    <tr>\n",
              "      <th>1</th>\n",
              "      <td>0.224138</td>\n",
              "      <td>0.800000</td>\n",
              "      <td>0.00000</td>\n",
              "      <td>0.0</td>\n",
              "      <td>0.724490</td>\n",
              "      <td>0.0</td>\n",
              "      <td>0.0</td>\n",
              "      <td>0.0</td>\n",
              "      <td>1.0</td>\n",
              "      <td>0.0</td>\n",
              "      <td>...</td>\n",
              "      <td>0.0</td>\n",
              "      <td>0.0</td>\n",
              "      <td>0.0</td>\n",
              "      <td>0.0</td>\n",
              "      <td>0.0</td>\n",
              "      <td>0.0</td>\n",
              "      <td>0.0</td>\n",
              "      <td>1.0</td>\n",
              "      <td>0.0</td>\n",
              "      <td>0.0</td>\n",
              "    </tr>\n",
              "    <tr>\n",
              "      <th>2</th>\n",
              "      <td>0.844828</td>\n",
              "      <td>0.533333</td>\n",
              "      <td>0.00000</td>\n",
              "      <td>0.0</td>\n",
              "      <td>0.397959</td>\n",
              "      <td>0.0</td>\n",
              "      <td>0.0</td>\n",
              "      <td>0.0</td>\n",
              "      <td>1.0</td>\n",
              "      <td>0.0</td>\n",
              "      <td>...</td>\n",
              "      <td>0.0</td>\n",
              "      <td>0.0</td>\n",
              "      <td>0.0</td>\n",
              "      <td>0.0</td>\n",
              "      <td>0.0</td>\n",
              "      <td>0.0</td>\n",
              "      <td>0.0</td>\n",
              "      <td>1.0</td>\n",
              "      <td>0.0</td>\n",
              "      <td>0.0</td>\n",
              "    </tr>\n",
              "    <tr>\n",
              "      <th>3</th>\n",
              "      <td>0.465517</td>\n",
              "      <td>0.600000</td>\n",
              "      <td>0.00000</td>\n",
              "      <td>0.0</td>\n",
              "      <td>0.500000</td>\n",
              "      <td>0.0</td>\n",
              "      <td>0.0</td>\n",
              "      <td>0.0</td>\n",
              "      <td>0.0</td>\n",
              "      <td>1.0</td>\n",
              "      <td>...</td>\n",
              "      <td>0.0</td>\n",
              "      <td>0.0</td>\n",
              "      <td>0.0</td>\n",
              "      <td>0.0</td>\n",
              "      <td>0.0</td>\n",
              "      <td>0.0</td>\n",
              "      <td>0.0</td>\n",
              "      <td>1.0</td>\n",
              "      <td>0.0</td>\n",
              "      <td>0.0</td>\n",
              "    </tr>\n",
              "    <tr>\n",
              "      <th>4</th>\n",
              "      <td>0.120690</td>\n",
              "      <td>0.200000</td>\n",
              "      <td>0.02105</td>\n",
              "      <td>0.0</td>\n",
              "      <td>0.500000</td>\n",
              "      <td>0.0</td>\n",
              "      <td>0.0</td>\n",
              "      <td>0.0</td>\n",
              "      <td>1.0</td>\n",
              "      <td>0.0</td>\n",
              "      <td>...</td>\n",
              "      <td>0.0</td>\n",
              "      <td>0.0</td>\n",
              "      <td>0.0</td>\n",
              "      <td>0.0</td>\n",
              "      <td>0.0</td>\n",
              "      <td>0.0</td>\n",
              "      <td>0.0</td>\n",
              "      <td>1.0</td>\n",
              "      <td>0.0</td>\n",
              "      <td>0.0</td>\n",
              "    </tr>\n",
              "    <tr>\n",
              "      <th>...</th>\n",
              "      <td>...</td>\n",
              "      <td>...</td>\n",
              "      <td>...</td>\n",
              "      <td>...</td>\n",
              "      <td>...</td>\n",
              "      <td>...</td>\n",
              "      <td>...</td>\n",
              "      <td>...</td>\n",
              "      <td>...</td>\n",
              "      <td>...</td>\n",
              "      <td>...</td>\n",
              "      <td>...</td>\n",
              "      <td>...</td>\n",
              "      <td>...</td>\n",
              "      <td>...</td>\n",
              "      <td>...</td>\n",
              "      <td>...</td>\n",
              "      <td>...</td>\n",
              "      <td>...</td>\n",
              "      <td>...</td>\n",
              "      <td>...</td>\n",
              "    </tr>\n",
              "    <tr>\n",
              "      <th>24437</th>\n",
              "      <td>0.155172</td>\n",
              "      <td>0.400000</td>\n",
              "      <td>0.00000</td>\n",
              "      <td>0.0</td>\n",
              "      <td>0.397959</td>\n",
              "      <td>0.0</td>\n",
              "      <td>0.0</td>\n",
              "      <td>0.0</td>\n",
              "      <td>0.0</td>\n",
              "      <td>0.0</td>\n",
              "      <td>...</td>\n",
              "      <td>0.0</td>\n",
              "      <td>0.0</td>\n",
              "      <td>0.0</td>\n",
              "      <td>0.0</td>\n",
              "      <td>0.0</td>\n",
              "      <td>0.0</td>\n",
              "      <td>0.0</td>\n",
              "      <td>1.0</td>\n",
              "      <td>0.0</td>\n",
              "      <td>0.0</td>\n",
              "    </tr>\n",
              "    <tr>\n",
              "      <th>24438</th>\n",
              "      <td>0.706897</td>\n",
              "      <td>0.600000</td>\n",
              "      <td>0.00000</td>\n",
              "      <td>0.0</td>\n",
              "      <td>0.397959</td>\n",
              "      <td>0.0</td>\n",
              "      <td>0.0</td>\n",
              "      <td>0.0</td>\n",
              "      <td>1.0</td>\n",
              "      <td>0.0</td>\n",
              "      <td>...</td>\n",
              "      <td>0.0</td>\n",
              "      <td>0.0</td>\n",
              "      <td>0.0</td>\n",
              "      <td>0.0</td>\n",
              "      <td>0.0</td>\n",
              "      <td>0.0</td>\n",
              "      <td>0.0</td>\n",
              "      <td>1.0</td>\n",
              "      <td>0.0</td>\n",
              "      <td>0.0</td>\n",
              "    </tr>\n",
              "    <tr>\n",
              "      <th>24439</th>\n",
              "      <td>0.310345</td>\n",
              "      <td>0.533333</td>\n",
              "      <td>0.00000</td>\n",
              "      <td>0.0</td>\n",
              "      <td>0.397959</td>\n",
              "      <td>0.0</td>\n",
              "      <td>0.0</td>\n",
              "      <td>0.0</td>\n",
              "      <td>1.0</td>\n",
              "      <td>0.0</td>\n",
              "      <td>...</td>\n",
              "      <td>0.0</td>\n",
              "      <td>0.0</td>\n",
              "      <td>0.0</td>\n",
              "      <td>0.0</td>\n",
              "      <td>0.0</td>\n",
              "      <td>0.0</td>\n",
              "      <td>0.0</td>\n",
              "      <td>1.0</td>\n",
              "      <td>0.0</td>\n",
              "      <td>0.0</td>\n",
              "    </tr>\n",
              "    <tr>\n",
              "      <th>24440</th>\n",
              "      <td>0.275862</td>\n",
              "      <td>0.333333</td>\n",
              "      <td>0.00000</td>\n",
              "      <td>0.0</td>\n",
              "      <td>0.346939</td>\n",
              "      <td>0.0</td>\n",
              "      <td>0.0</td>\n",
              "      <td>0.0</td>\n",
              "      <td>1.0</td>\n",
              "      <td>0.0</td>\n",
              "      <td>...</td>\n",
              "      <td>0.0</td>\n",
              "      <td>0.0</td>\n",
              "      <td>0.0</td>\n",
              "      <td>0.0</td>\n",
              "      <td>0.0</td>\n",
              "      <td>0.0</td>\n",
              "      <td>0.0</td>\n",
              "      <td>1.0</td>\n",
              "      <td>0.0</td>\n",
              "      <td>0.0</td>\n",
              "    </tr>\n",
              "    <tr>\n",
              "      <th>24441</th>\n",
              "      <td>0.517241</td>\n",
              "      <td>0.600000</td>\n",
              "      <td>0.00000</td>\n",
              "      <td>0.0</td>\n",
              "      <td>0.397959</td>\n",
              "      <td>0.0</td>\n",
              "      <td>0.0</td>\n",
              "      <td>0.0</td>\n",
              "      <td>0.0</td>\n",
              "      <td>0.0</td>\n",
              "      <td>...</td>\n",
              "      <td>0.0</td>\n",
              "      <td>0.0</td>\n",
              "      <td>0.0</td>\n",
              "      <td>0.0</td>\n",
              "      <td>0.0</td>\n",
              "      <td>0.0</td>\n",
              "      <td>0.0</td>\n",
              "      <td>1.0</td>\n",
              "      <td>0.0</td>\n",
              "      <td>0.0</td>\n",
              "    </tr>\n",
              "  </tbody>\n",
              "</table>\n",
              "<p>24442 rows × 106 columns</p>\n",
              "</div>\n",
              "      <button class=\"colab-df-convert\" onclick=\"convertToInteractive('df-accbcff1-b99a-4ea0-a57f-4fb146d2936c')\"\n",
              "              title=\"Convert this dataframe to an interactive table.\"\n",
              "              style=\"display:none;\">\n",
              "        \n",
              "  <svg xmlns=\"http://www.w3.org/2000/svg\" height=\"24px\"viewBox=\"0 0 24 24\"\n",
              "       width=\"24px\">\n",
              "    <path d=\"M0 0h24v24H0V0z\" fill=\"none\"/>\n",
              "    <path d=\"M18.56 5.44l.94 2.06.94-2.06 2.06-.94-2.06-.94-.94-2.06-.94 2.06-2.06.94zm-11 1L8.5 8.5l.94-2.06 2.06-.94-2.06-.94L8.5 2.5l-.94 2.06-2.06.94zm10 10l.94 2.06.94-2.06 2.06-.94-2.06-.94-.94-2.06-.94 2.06-2.06.94z\"/><path d=\"M17.41 7.96l-1.37-1.37c-.4-.4-.92-.59-1.43-.59-.52 0-1.04.2-1.43.59L10.3 9.45l-7.72 7.72c-.78.78-.78 2.05 0 2.83L4 21.41c.39.39.9.59 1.41.59.51 0 1.02-.2 1.41-.59l7.78-7.78 2.81-2.81c.8-.78.8-2.07 0-2.86zM5.41 20L4 18.59l7.72-7.72 1.47 1.35L5.41 20z\"/>\n",
              "  </svg>\n",
              "      </button>\n",
              "      \n",
              "  <style>\n",
              "    .colab-df-container {\n",
              "      display:flex;\n",
              "      flex-wrap:wrap;\n",
              "      gap: 12px;\n",
              "    }\n",
              "\n",
              "    .colab-df-convert {\n",
              "      background-color: #E8F0FE;\n",
              "      border: none;\n",
              "      border-radius: 50%;\n",
              "      cursor: pointer;\n",
              "      display: none;\n",
              "      fill: #1967D2;\n",
              "      height: 32px;\n",
              "      padding: 0 0 0 0;\n",
              "      width: 32px;\n",
              "    }\n",
              "\n",
              "    .colab-df-convert:hover {\n",
              "      background-color: #E2EBFA;\n",
              "      box-shadow: 0px 1px 2px rgba(60, 64, 67, 0.3), 0px 1px 3px 1px rgba(60, 64, 67, 0.15);\n",
              "      fill: #174EA6;\n",
              "    }\n",
              "\n",
              "    [theme=dark] .colab-df-convert {\n",
              "      background-color: #3B4455;\n",
              "      fill: #D2E3FC;\n",
              "    }\n",
              "\n",
              "    [theme=dark] .colab-df-convert:hover {\n",
              "      background-color: #434B5C;\n",
              "      box-shadow: 0px 1px 3px 1px rgba(0, 0, 0, 0.15);\n",
              "      filter: drop-shadow(0px 1px 2px rgba(0, 0, 0, 0.3));\n",
              "      fill: #FFFFFF;\n",
              "    }\n",
              "  </style>\n",
              "\n",
              "      <script>\n",
              "        const buttonEl =\n",
              "          document.querySelector('#df-accbcff1-b99a-4ea0-a57f-4fb146d2936c button.colab-df-convert');\n",
              "        buttonEl.style.display =\n",
              "          google.colab.kernel.accessAllowed ? 'block' : 'none';\n",
              "\n",
              "        async function convertToInteractive(key) {\n",
              "          const element = document.querySelector('#df-accbcff1-b99a-4ea0-a57f-4fb146d2936c');\n",
              "          const dataTable =\n",
              "            await google.colab.kernel.invokeFunction('convertToInteractive',\n",
              "                                                     [key], {});\n",
              "          if (!dataTable) return;\n",
              "\n",
              "          const docLinkHtml = 'Like what you see? Visit the ' +\n",
              "            '<a target=\"_blank\" href=https://colab.research.google.com/notebooks/data_table.ipynb>data table notebook</a>'\n",
              "            + ' to learn more about interactive tables.';\n",
              "          element.innerHTML = '';\n",
              "          dataTable['output_type'] = 'display_data';\n",
              "          await google.colab.output.renderOutput(dataTable, element);\n",
              "          const docLink = document.createElement('div');\n",
              "          docLink.innerHTML = docLinkHtml;\n",
              "          element.appendChild(docLink);\n",
              "        }\n",
              "      </script>\n",
              "    </div>\n",
              "  </div>\n",
              "  "
            ],
            "text/plain": [
              "            age education_num capital_gain capital_loss hours_per_week  \\\n",
              "0      0.637931      0.533333      0.00000          0.0       0.397959   \n",
              "1      0.224138      0.800000      0.00000          0.0       0.724490   \n",
              "2      0.844828      0.533333      0.00000          0.0       0.397959   \n",
              "3      0.465517      0.600000      0.00000          0.0       0.500000   \n",
              "4      0.120690      0.200000      0.02105          0.0       0.500000   \n",
              "...         ...           ...          ...          ...            ...   \n",
              "24437  0.155172      0.400000      0.00000          0.0       0.397959   \n",
              "24438  0.706897      0.600000      0.00000          0.0       0.397959   \n",
              "24439  0.310345      0.533333      0.00000          0.0       0.397959   \n",
              "24440  0.275862      0.333333      0.00000          0.0       0.346939   \n",
              "24441  0.517241      0.600000      0.00000          0.0       0.397959   \n",
              "\n",
              "      workclass_ Federal-gov workclass_ Local-gov workclass_ Never-worked  \\\n",
              "0                        0.0                  0.0                     0.0   \n",
              "1                        0.0                  0.0                     0.0   \n",
              "2                        0.0                  0.0                     0.0   \n",
              "3                        0.0                  0.0                     0.0   \n",
              "4                        0.0                  0.0                     0.0   \n",
              "...                      ...                  ...                     ...   \n",
              "24437                    0.0                  0.0                     0.0   \n",
              "24438                    0.0                  0.0                     0.0   \n",
              "24439                    0.0                  0.0                     0.0   \n",
              "24440                    0.0                  0.0                     0.0   \n",
              "24441                    0.0                  0.0                     0.0   \n",
              "\n",
              "      workclass_ Private workclass_ Self-emp-inc  ...  \\\n",
              "0                    1.0                     0.0  ...   \n",
              "1                    1.0                     0.0  ...   \n",
              "2                    1.0                     0.0  ...   \n",
              "3                    0.0                     1.0  ...   \n",
              "4                    1.0                     0.0  ...   \n",
              "...                  ...                     ...  ...   \n",
              "24437                0.0                     0.0  ...   \n",
              "24438                1.0                     0.0  ...   \n",
              "24439                1.0                     0.0  ...   \n",
              "24440                1.0                     0.0  ...   \n",
              "24441                0.0                     0.0  ...   \n",
              "\n",
              "      native_country_ Portugal native_country_ Puerto-Rico  \\\n",
              "0                          0.0                         0.0   \n",
              "1                          0.0                         0.0   \n",
              "2                          0.0                         0.0   \n",
              "3                          0.0                         0.0   \n",
              "4                          0.0                         0.0   \n",
              "...                        ...                         ...   \n",
              "24437                      0.0                         0.0   \n",
              "24438                      0.0                         0.0   \n",
              "24439                      0.0                         0.0   \n",
              "24440                      0.0                         0.0   \n",
              "24441                      0.0                         0.0   \n",
              "\n",
              "      native_country_ Scotland native_country_ South native_country_ Taiwan  \\\n",
              "0                          0.0                   0.0                    0.0   \n",
              "1                          0.0                   0.0                    0.0   \n",
              "2                          0.0                   0.0                    0.0   \n",
              "3                          0.0                   0.0                    0.0   \n",
              "4                          0.0                   0.0                    0.0   \n",
              "...                        ...                   ...                    ...   \n",
              "24437                      0.0                   0.0                    0.0   \n",
              "24438                      0.0                   0.0                    0.0   \n",
              "24439                      0.0                   0.0                    0.0   \n",
              "24440                      0.0                   0.0                    0.0   \n",
              "24441                      0.0                   0.0                    0.0   \n",
              "\n",
              "      native_country_ Thailand native_country_ Trinadad&Tobago  \\\n",
              "0                          0.0                             0.0   \n",
              "1                          0.0                             0.0   \n",
              "2                          0.0                             0.0   \n",
              "3                          0.0                             0.0   \n",
              "4                          0.0                             0.0   \n",
              "...                        ...                             ...   \n",
              "24437                      0.0                             0.0   \n",
              "24438                      0.0                             0.0   \n",
              "24439                      0.0                             0.0   \n",
              "24440                      0.0                             0.0   \n",
              "24441                      0.0                             0.0   \n",
              "\n",
              "      native_country_ United-States native_country_ Vietnam  \\\n",
              "0                               1.0                     0.0   \n",
              "1                               1.0                     0.0   \n",
              "2                               1.0                     0.0   \n",
              "3                               1.0                     0.0   \n",
              "4                               1.0                     0.0   \n",
              "...                             ...                     ...   \n",
              "24437                           1.0                     0.0   \n",
              "24438                           1.0                     0.0   \n",
              "24439                           1.0                     0.0   \n",
              "24440                           1.0                     0.0   \n",
              "24441                           1.0                     0.0   \n",
              "\n",
              "      native_country_ Yugoslavia  \n",
              "0                            0.0  \n",
              "1                            0.0  \n",
              "2                            0.0  \n",
              "3                            0.0  \n",
              "4                            0.0  \n",
              "...                          ...  \n",
              "24437                        0.0  \n",
              "24438                        0.0  \n",
              "24439                        0.0  \n",
              "24440                        0.0  \n",
              "24441                        0.0  \n",
              "\n",
              "[24442 rows x 106 columns]"
            ]
          },
          "execution_count": 192,
          "metadata": {},
          "output_type": "execute_result"
        }
      ],
      "source": [
        "# Membuat dataframe `X_train_final`\n",
        "\n",
        "X_train_final_df = pd.DataFrame(X_train_final, columns=[num_columns + feature_names])\n",
        "X_train_final_df"
      ]
    },
    {
      "cell_type": "markdown",
      "metadata": {
        "id": "qboKgs1fO_0V"
      },
      "source": [
        "# vi - Model Definition\n",
        "> Bagian ini berisi cell untuk mendefinisikan model. Jelaskan alasan menggunakan suatu algoritma/model, hyperparameter yang dipakai, jenis penggunaan metrics yang dipakai, dan hal lain yang terkait dengan model."
      ]
    },
    {
      "cell_type": "markdown",
      "metadata": {
        "id": "5dnPbEQZbY1R"
      },
      "source": [
        "## Logistic Regression"
      ]
    },
    {
      "cell_type": "code",
      "execution_count": 193,
      "metadata": {
        "id": "czOT_ZGF1ZPk"
      },
      "outputs": [],
      "source": [
        "# Mendefinisikan model Logistik Regression\n",
        "model_log_reg = LogisticRegression(solver=\"lbfgs\", random_state=1509)"
      ]
    },
    {
      "cell_type": "markdown",
      "metadata": {
        "id": "VAQF0yxWbbML"
      },
      "source": [
        "## Support Vector Machine"
      ]
    },
    {
      "cell_type": "code",
      "execution_count": 194,
      "metadata": {
        "id": "AcdbKIuYbfmJ"
      },
      "outputs": [],
      "source": [
        "# Mendefinisikan model SVM dengan SVC menggunakan kernel \"Linear\"\n",
        "model_svc = SVC (kernel=\"linear\")"
      ]
    },
    {
      "cell_type": "markdown",
      "metadata": {
        "id": "uJJC3anMPGLt"
      },
      "source": [
        "# vii - Model Training\n",
        "> Cell pada bagian ini hanya berisi code untuk melatih model dan output yang dihasilkan. Lakukan beberapa kali proses training dengan hyperparameter yang berbeda untuk melihat hasil yang didapatkan. Analisis dan narasikan hasil ini pada bagian Model Evaluation."
      ]
    },
    {
      "cell_type": "code",
      "execution_count": 195,
      "metadata": {
        "colab": {
          "base_uri": "https://localhost:8080/",
          "height": 214
        },
        "id": "biJOdauiS24K",
        "outputId": "5e954b17-1dbc-471e-dbd3-4b5f323cb08c"
      },
      "outputs": [
        {
          "name": "stderr",
          "output_type": "stream",
          "text": [
            "/usr/local/lib/python3.10/dist-packages/sklearn/linear_model/_logistic.py:458: ConvergenceWarning: lbfgs failed to converge (status=1):\n",
            "STOP: TOTAL NO. of ITERATIONS REACHED LIMIT.\n",
            "\n",
            "Increase the number of iterations (max_iter) or scale the data as shown in:\n",
            "    https://scikit-learn.org/stable/modules/preprocessing.html\n",
            "Please also refer to the documentation for alternative solver options:\n",
            "    https://scikit-learn.org/stable/modules/linear_model.html#logistic-regression\n",
            "  n_iter_i = _check_optimize_result(\n"
          ]
        },
        {
          "data": {
            "text/html": [
              "<style>#sk-container-id-5 {color: black;background-color: white;}#sk-container-id-5 pre{padding: 0;}#sk-container-id-5 div.sk-toggleable {background-color: white;}#sk-container-id-5 label.sk-toggleable__label {cursor: pointer;display: block;width: 100%;margin-bottom: 0;padding: 0.3em;box-sizing: border-box;text-align: center;}#sk-container-id-5 label.sk-toggleable__label-arrow:before {content: \"▸\";float: left;margin-right: 0.25em;color: #696969;}#sk-container-id-5 label.sk-toggleable__label-arrow:hover:before {color: black;}#sk-container-id-5 div.sk-estimator:hover label.sk-toggleable__label-arrow:before {color: black;}#sk-container-id-5 div.sk-toggleable__content {max-height: 0;max-width: 0;overflow: hidden;text-align: left;background-color: #f0f8ff;}#sk-container-id-5 div.sk-toggleable__content pre {margin: 0.2em;color: black;border-radius: 0.25em;background-color: #f0f8ff;}#sk-container-id-5 input.sk-toggleable__control:checked~div.sk-toggleable__content {max-height: 200px;max-width: 100%;overflow: auto;}#sk-container-id-5 input.sk-toggleable__control:checked~label.sk-toggleable__label-arrow:before {content: \"▾\";}#sk-container-id-5 div.sk-estimator input.sk-toggleable__control:checked~label.sk-toggleable__label {background-color: #d4ebff;}#sk-container-id-5 div.sk-label input.sk-toggleable__control:checked~label.sk-toggleable__label {background-color: #d4ebff;}#sk-container-id-5 input.sk-hidden--visually {border: 0;clip: rect(1px 1px 1px 1px);clip: rect(1px, 1px, 1px, 1px);height: 1px;margin: -1px;overflow: hidden;padding: 0;position: absolute;width: 1px;}#sk-container-id-5 div.sk-estimator {font-family: monospace;background-color: #f0f8ff;border: 1px dotted black;border-radius: 0.25em;box-sizing: border-box;margin-bottom: 0.5em;}#sk-container-id-5 div.sk-estimator:hover {background-color: #d4ebff;}#sk-container-id-5 div.sk-parallel-item::after {content: \"\";width: 100%;border-bottom: 1px solid gray;flex-grow: 1;}#sk-container-id-5 div.sk-label:hover label.sk-toggleable__label {background-color: #d4ebff;}#sk-container-id-5 div.sk-serial::before {content: \"\";position: absolute;border-left: 1px solid gray;box-sizing: border-box;top: 0;bottom: 0;left: 50%;z-index: 0;}#sk-container-id-5 div.sk-serial {display: flex;flex-direction: column;align-items: center;background-color: white;padding-right: 0.2em;padding-left: 0.2em;position: relative;}#sk-container-id-5 div.sk-item {position: relative;z-index: 1;}#sk-container-id-5 div.sk-parallel {display: flex;align-items: stretch;justify-content: center;background-color: white;position: relative;}#sk-container-id-5 div.sk-item::before, #sk-container-id-5 div.sk-parallel-item::before {content: \"\";position: absolute;border-left: 1px solid gray;box-sizing: border-box;top: 0;bottom: 0;left: 50%;z-index: -1;}#sk-container-id-5 div.sk-parallel-item {display: flex;flex-direction: column;z-index: 1;position: relative;background-color: white;}#sk-container-id-5 div.sk-parallel-item:first-child::after {align-self: flex-end;width: 50%;}#sk-container-id-5 div.sk-parallel-item:last-child::after {align-self: flex-start;width: 50%;}#sk-container-id-5 div.sk-parallel-item:only-child::after {width: 0;}#sk-container-id-5 div.sk-dashed-wrapped {border: 1px dashed gray;margin: 0 0.4em 0.5em 0.4em;box-sizing: border-box;padding-bottom: 0.4em;background-color: white;}#sk-container-id-5 div.sk-label label {font-family: monospace;font-weight: bold;display: inline-block;line-height: 1.2em;}#sk-container-id-5 div.sk-label-container {text-align: center;}#sk-container-id-5 div.sk-container {/* jupyter's `normalize.less` sets `[hidden] { display: none; }` but bootstrap.min.css set `[hidden] { display: none !important; }` so we also need the `!important` here to be able to override the default hidden behavior on the sphinx rendered scikit-learn.org. See: https://github.com/scikit-learn/scikit-learn/issues/21755 */display: inline-block !important;position: relative;}#sk-container-id-5 div.sk-text-repr-fallback {display: none;}</style><div id=\"sk-container-id-5\" class=\"sk-top-container\"><div class=\"sk-text-repr-fallback\"><pre>LogisticRegression(random_state=1509)</pre><b>In a Jupyter environment, please rerun this cell to show the HTML representation or trust the notebook. <br />On GitHub, the HTML representation is unable to render, please try loading this page with nbviewer.org.</b></div><div class=\"sk-container\" hidden><div class=\"sk-item\"><div class=\"sk-estimator sk-toggleable\"><input class=\"sk-toggleable__control sk-hidden--visually\" id=\"sk-estimator-id-5\" type=\"checkbox\" checked><label for=\"sk-estimator-id-5\" class=\"sk-toggleable__label sk-toggleable__label-arrow\">LogisticRegression</label><div class=\"sk-toggleable__content\"><pre>LogisticRegression(random_state=1509)</pre></div></div></div></div></div>"
            ],
            "text/plain": [
              "LogisticRegression(random_state=1509)"
            ]
          },
          "execution_count": 195,
          "metadata": {},
          "output_type": "execute_result"
        }
      ],
      "source": [
        "# Mentraining model Logistik Regression\n",
        "model_log_reg.fit(X_train_final, y_train)"
      ]
    },
    {
      "cell_type": "code",
      "execution_count": 196,
      "metadata": {
        "colab": {
          "base_uri": "https://localhost:8080/",
          "height": 75
        },
        "id": "3m75dJ2brLIm",
        "outputId": "d0c318e4-a56a-44ce-d8f7-9db12bd52405"
      },
      "outputs": [
        {
          "data": {
            "text/html": [
              "<style>#sk-container-id-6 {color: black;background-color: white;}#sk-container-id-6 pre{padding: 0;}#sk-container-id-6 div.sk-toggleable {background-color: white;}#sk-container-id-6 label.sk-toggleable__label {cursor: pointer;display: block;width: 100%;margin-bottom: 0;padding: 0.3em;box-sizing: border-box;text-align: center;}#sk-container-id-6 label.sk-toggleable__label-arrow:before {content: \"▸\";float: left;margin-right: 0.25em;color: #696969;}#sk-container-id-6 label.sk-toggleable__label-arrow:hover:before {color: black;}#sk-container-id-6 div.sk-estimator:hover label.sk-toggleable__label-arrow:before {color: black;}#sk-container-id-6 div.sk-toggleable__content {max-height: 0;max-width: 0;overflow: hidden;text-align: left;background-color: #f0f8ff;}#sk-container-id-6 div.sk-toggleable__content pre {margin: 0.2em;color: black;border-radius: 0.25em;background-color: #f0f8ff;}#sk-container-id-6 input.sk-toggleable__control:checked~div.sk-toggleable__content {max-height: 200px;max-width: 100%;overflow: auto;}#sk-container-id-6 input.sk-toggleable__control:checked~label.sk-toggleable__label-arrow:before {content: \"▾\";}#sk-container-id-6 div.sk-estimator input.sk-toggleable__control:checked~label.sk-toggleable__label {background-color: #d4ebff;}#sk-container-id-6 div.sk-label input.sk-toggleable__control:checked~label.sk-toggleable__label {background-color: #d4ebff;}#sk-container-id-6 input.sk-hidden--visually {border: 0;clip: rect(1px 1px 1px 1px);clip: rect(1px, 1px, 1px, 1px);height: 1px;margin: -1px;overflow: hidden;padding: 0;position: absolute;width: 1px;}#sk-container-id-6 div.sk-estimator {font-family: monospace;background-color: #f0f8ff;border: 1px dotted black;border-radius: 0.25em;box-sizing: border-box;margin-bottom: 0.5em;}#sk-container-id-6 div.sk-estimator:hover {background-color: #d4ebff;}#sk-container-id-6 div.sk-parallel-item::after {content: \"\";width: 100%;border-bottom: 1px solid gray;flex-grow: 1;}#sk-container-id-6 div.sk-label:hover label.sk-toggleable__label {background-color: #d4ebff;}#sk-container-id-6 div.sk-serial::before {content: \"\";position: absolute;border-left: 1px solid gray;box-sizing: border-box;top: 0;bottom: 0;left: 50%;z-index: 0;}#sk-container-id-6 div.sk-serial {display: flex;flex-direction: column;align-items: center;background-color: white;padding-right: 0.2em;padding-left: 0.2em;position: relative;}#sk-container-id-6 div.sk-item {position: relative;z-index: 1;}#sk-container-id-6 div.sk-parallel {display: flex;align-items: stretch;justify-content: center;background-color: white;position: relative;}#sk-container-id-6 div.sk-item::before, #sk-container-id-6 div.sk-parallel-item::before {content: \"\";position: absolute;border-left: 1px solid gray;box-sizing: border-box;top: 0;bottom: 0;left: 50%;z-index: -1;}#sk-container-id-6 div.sk-parallel-item {display: flex;flex-direction: column;z-index: 1;position: relative;background-color: white;}#sk-container-id-6 div.sk-parallel-item:first-child::after {align-self: flex-end;width: 50%;}#sk-container-id-6 div.sk-parallel-item:last-child::after {align-self: flex-start;width: 50%;}#sk-container-id-6 div.sk-parallel-item:only-child::after {width: 0;}#sk-container-id-6 div.sk-dashed-wrapped {border: 1px dashed gray;margin: 0 0.4em 0.5em 0.4em;box-sizing: border-box;padding-bottom: 0.4em;background-color: white;}#sk-container-id-6 div.sk-label label {font-family: monospace;font-weight: bold;display: inline-block;line-height: 1.2em;}#sk-container-id-6 div.sk-label-container {text-align: center;}#sk-container-id-6 div.sk-container {/* jupyter's `normalize.less` sets `[hidden] { display: none; }` but bootstrap.min.css set `[hidden] { display: none !important; }` so we also need the `!important` here to be able to override the default hidden behavior on the sphinx rendered scikit-learn.org. See: https://github.com/scikit-learn/scikit-learn/issues/21755 */display: inline-block !important;position: relative;}#sk-container-id-6 div.sk-text-repr-fallback {display: none;}</style><div id=\"sk-container-id-6\" class=\"sk-top-container\"><div class=\"sk-text-repr-fallback\"><pre>SVC(kernel=&#x27;linear&#x27;)</pre><b>In a Jupyter environment, please rerun this cell to show the HTML representation or trust the notebook. <br />On GitHub, the HTML representation is unable to render, please try loading this page with nbviewer.org.</b></div><div class=\"sk-container\" hidden><div class=\"sk-item\"><div class=\"sk-estimator sk-toggleable\"><input class=\"sk-toggleable__control sk-hidden--visually\" id=\"sk-estimator-id-6\" type=\"checkbox\" checked><label for=\"sk-estimator-id-6\" class=\"sk-toggleable__label sk-toggleable__label-arrow\">SVC</label><div class=\"sk-toggleable__content\"><pre>SVC(kernel=&#x27;linear&#x27;)</pre></div></div></div></div></div>"
            ],
            "text/plain": [
              "SVC(kernel='linear')"
            ]
          },
          "execution_count": 196,
          "metadata": {},
          "output_type": "execute_result"
        }
      ],
      "source": [
        "# Mentraining model SVC\n",
        "model_svc.fit(X_train_final, y_train)"
      ]
    },
    {
      "cell_type": "markdown",
      "metadata": {
        "id": "-6JdnGmFPMJF"
      },
      "source": [
        "#ix - Model Evaluation\n",
        "> Pada bagian ini, dilakukan evaluasi model yang harus menunjukkan bagaimana performa model berdasarkan metrics yang dipilih. Hal ini harus dibuktikan dengan visualisasi tren performa dan/atau tingkat kesalahan model. Lakukan analisis terkait dengan hasil pada model dan tuliskan hasil analisisnya.\n",
        "\n"
      ]
    },
    {
      "cell_type": "markdown",
      "metadata": {
        "id": "v_g2_pfhZ9Gr"
      },
      "source": [
        "## Logistic Regression"
      ]
    },
    {
      "cell_type": "code",
      "execution_count": 197,
      "metadata": {
        "colab": {
          "base_uri": "https://localhost:8080/"
        },
        "id": "7GXYgGuNaBd0",
        "outputId": "5c249c5f-21bf-4b18-c1f8-150b13b46f67"
      },
      "outputs": [
        {
          "data": {
            "text/plain": [
              "array([' <=50K', ' <=50K', ' <=50K', ..., ' <=50K', ' <=50K', ' <=50K'],\n",
              "      dtype=object)"
            ]
          },
          "execution_count": 197,
          "metadata": {},
          "output_type": "execute_result"
        }
      ],
      "source": [
        "# Membuat prediksi Logistic Regression\n",
        "y_pred_log_reg_train = model_log_reg.predict(X_train_final)\n",
        "y_pred_log_reg_test = model_log_reg.predict(X_test_final)\n",
        "\n",
        "y_pred_log_reg_train"
      ]
    },
    {
      "cell_type": "code",
      "execution_count": 198,
      "metadata": {
        "colab": {
          "base_uri": "https://localhost:8080/"
        },
        "id": "jongpYqTaJoq",
        "outputId": "208b8480-d81d-4af1-e0c8-243e36ecf9f3"
      },
      "outputs": [
        {
          "name": "stdout",
          "output_type": "stream",
          "text": [
            "Confusion Matrix Data Train: \n",
            " [[17011  1324]\n",
            " [ 2475  3632]]\n",
            "              precision    recall  f1-score   support\n",
            "\n",
            "       <=50K       0.87      0.93      0.90     18335\n",
            "        >50K       0.73      0.59      0.66      6107\n",
            "\n",
            "    accuracy                           0.84     24442\n",
            "   macro avg       0.80      0.76      0.78     24442\n",
            "weighted avg       0.84      0.84      0.84     24442\n",
            "\n",
            "Confusion Matrix Data Test: \n",
            " [[4289  309]\n",
            " [ 581  932]]\n",
            "              precision    recall  f1-score   support\n",
            "\n",
            "       <=50K       0.88      0.93      0.91      4598\n",
            "        >50K       0.75      0.62      0.68      1513\n",
            "\n",
            "    accuracy                           0.85      6111\n",
            "   macro avg       0.82      0.77      0.79      6111\n",
            "weighted avg       0.85      0.85      0.85      6111\n",
            "\n"
          ]
        }
      ],
      "source": [
        "# Memperlihatkan confusion_matrix\n",
        "cm_train_log_reg = confusion_matrix(y_train, y_pred_log_reg_train)\n",
        "print('Confusion Matrix Data Train: \\n', cm_train_log_reg)\n",
        "print(classification_report(y_train, y_pred_log_reg_train))\n",
        "\n",
        "cm_test_log_reg = confusion_matrix(y_test, y_pred_log_reg_test)\n",
        "print('Confusion Matrix Data Test: \\n', cm_test_log_reg)\n",
        "print(classification_report(y_test, y_pred_log_reg_test))"
      ]
    },
    {
      "cell_type": "code",
      "execution_count": 199,
      "metadata": {
        "colab": {
          "base_uri": "https://localhost:8080/",
          "height": 466
        },
        "id": "p9ceU_DJjEUN",
        "outputId": "91451bae-b6e1-4aff-dcf7-de515ad7632c"
      },
      "outputs": [
        {
          "data": {
            "text/plain": [
              "<sklearn.metrics._plot.confusion_matrix.ConfusionMatrixDisplay at 0x7fc31ce3b310>"
            ]
          },
          "execution_count": 199,
          "metadata": {},
          "output_type": "execute_result"
        },
        {
          "data": {
            "image/png": "[encoded data removed]",
            "text/plain": [
              "<Figure size 640x480 with 2 Axes>"
            ]
          },
          "metadata": {},
          "output_type": "display_data"
        }
      ],
      "source": [
        "ConfusionMatrixDisplay(cm_train_log_reg).plot()"
      ]
    },
    {
      "cell_type": "markdown",
      "metadata": {
        "id": "nrs1H0seZ_CW"
      },
      "source": [
        "## Support Vector Machine\n"
      ]
    },
    {
      "cell_type": "code",
      "execution_count": 200,
      "metadata": {
        "colab": {
          "base_uri": "https://localhost:8080/"
        },
        "id": "C_uks_rxX2uQ",
        "outputId": "b4a00552-6cdd-4810-d230-431b2a9b3499"
      },
      "outputs": [
        {
          "data": {
            "text/plain": [
              "array([' <=50K', ' <=50K', ' <=50K', ..., ' <=50K', ' <=50K', ' <=50K'],\n",
              "      dtype=object)"
            ]
          },
          "execution_count": 200,
          "metadata": {},
          "output_type": "execute_result"
        }
      ],
      "source": [
        "# Membuat prediksi Vector Machine menggunakan SVC\n",
        "y_pred_svc_train = model_svc.predict(X_train_final)\n",
        "y_pred_svc_test = model_svc.predict(X_test_final)\n",
        "\n",
        "y_pred_svc_train"
      ]
    },
    {
      "cell_type": "code",
      "execution_count": 201,
      "metadata": {
        "colab": {
          "base_uri": "https://localhost:8080/"
        },
        "id": "7X_n4aOQXyjz",
        "outputId": "f296daec-cb75-4f6f-bc5f-c920b5ecfd41"
      },
      "outputs": [
        {
          "name": "stdout",
          "output_type": "stream",
          "text": [
            "Confusion Matrix Data Train: \n",
            " [[17135  1200]\n",
            " [ 2609  3498]]\n",
            "              precision    recall  f1-score   support\n",
            "\n",
            "       <=50K       0.87      0.93      0.90     18335\n",
            "        >50K       0.74      0.57      0.65      6107\n",
            "\n",
            "    accuracy                           0.84     24442\n",
            "   macro avg       0.81      0.75      0.77     24442\n",
            "weighted avg       0.84      0.84      0.84     24442\n",
            "\n",
            "Confusion Matrix Data Test: \n",
            " [[4321  277]\n",
            " [ 586  927]]\n",
            "              precision    recall  f1-score   support\n",
            "\n",
            "       <=50K       0.88      0.94      0.91      4598\n",
            "        >50K       0.77      0.61      0.68      1513\n",
            "\n",
            "    accuracy                           0.86      6111\n",
            "   macro avg       0.83      0.78      0.80      6111\n",
            "weighted avg       0.85      0.86      0.85      6111\n",
            "\n"
          ]
        }
      ],
      "source": [
        "# Memperlihatkan confusion_matrix\n",
        "cm_train_svc = confusion_matrix(y_train, y_pred_svc_train)\n",
        "print('Confusion Matrix Data Train: \\n', cm_train_svc)\n",
        "print(classification_report(y_train, y_pred_svc_train))\n",
        "\n",
        "cm_train_svc = confusion_matrix(y_test, y_pred_svc_test)\n",
        "print('Confusion Matrix Data Test: \\n', cm_train_svc)\n",
        "print(classification_report(y_test, y_pred_svc_test))"
      ]
    },
    {
      "cell_type": "code",
      "execution_count": 202,
      "metadata": {
        "colab": {
          "base_uri": "https://localhost:8080/",
          "height": 466
        },
        "id": "dtSALRntVu8r",
        "outputId": "a1b0c26d-e957-4fdd-f67e-f39e16c4ffe3"
      },
      "outputs": [
        {
          "data": {
            "text/plain": [
              "<sklearn.metrics._plot.confusion_matrix.ConfusionMatrixDisplay at 0x7fc31addf850>"
            ]
          },
          "execution_count": 202,
          "metadata": {},
          "output_type": "execute_result"
        },
        {
          "data": {
            "image/png": "[encoded data removed]",
            "text/plain": [
              "<Figure size 640x480 with 2 Axes>"
            ]
          },
          "metadata": {},
          "output_type": "display_data"
        }
      ],
      "source": [
        "ConfusionMatrixDisplay(cm_train_log_reg).plot()"
      ]
    },
    {
      "cell_type": "markdown",
      "metadata": {
        "id": "dAmigixwPSHX"
      },
      "source": [
        "# ix - Model Saving\n",
        "> Pada bagian ini, dilakukan proses penyimpanan model dan file-file lain yang terkait dengan hasil proses pembuatan model."
      ]
    },
    {
      "cell_type": "markdown",
      "metadata": {
        "id": "GoRST6kAuHdA"
      },
      "source": [
        "saving logistik dan svm"
      ]
    },
    {
      "cell_type": "code",
      "execution_count": 203,
      "metadata": {
        "id": "fmk3eMqGTgxi"
      },
      "outputs": [],
      "source": [
        "# Save the Files\n",
        "\n",
        "with open('list_num_cols.txt', 'w') as file_1:\n",
        "  json.dump(num_columns, file_1)\n",
        "\n",
        "with open('list_cat_cols.txt', 'w') as file_2:\n",
        "  json.dump(cat_columns, file_2)\n",
        "\n",
        "with open('model_scaler.pkl', 'wb') as file_3:\n",
        "  pickle.dump(scaler, file_3)\n",
        "\n",
        "with open('model_encoder.pkl', 'wb') as file_4:\n",
        "  pickle.dump(encoder, file_4)\n",
        "\n",
        "with open('model_log_reg.pkl', 'wb') as file_5:\n",
        "  pickle.dump(model_log_reg, file_5)\n",
        "\n",
        "with open('model_svc.pkl', 'wb') as file_6:\n",
        "  pickle.dump(model_svc, file_6)"
      ]
    },
    {
      "cell_type": "markdown",
      "metadata": {
        "id": "H-6k2gyHPZbR"
      },
      "source": [
        "# x - Model Inference\n",
        "> Model yang sudah dilatih akan dicoba pada data yang bukan termasuk ke dalam train-set ataupun test-set. Data ini harus dalam format yang asli, bukan data yang sudah di-scaled."
      ]
    },
    {
      "cell_type": "code",
      "execution_count": 204,
      "metadata": {
        "id": "FTpDdJ08TpBi"
      },
      "outputs": [],
      "source": [
        "# Load All Files\n",
        "\n",
        "with open('model_log_reg.pkl', 'rb') as file_1:\n",
        "  model_log_reg = pickle.load(file_1)\n",
        "\n",
        "with open('model_scaler.pkl', 'rb') as file_2:\n",
        "  model_scaler = pickle.load(file_2)\n",
        "\n",
        "with open('model_encoder.pkl','rb') as file_3:\n",
        "  model_encoder = pickle.load(file_3)\n",
        "\n",
        "with open('list_num_cols.txt', 'r') as file_4:\n",
        "  list_num_cols = json.load(file_4)\n",
        "\n",
        "with open('list_cat_cols.txt', 'r') as file_5:\n",
        "  list_cat_cols = json.load(file_5)\n",
        "\n",
        "with open('model_svc.pkl', 'rb') as file_6:\n",
        "  model_svc.pkl = pickle.load(file_6)"
      ]
    },
    {
      "cell_type": "code",
      "execution_count": 205,
      "metadata": {
        "colab": {
          "base_uri": "https://localhost:8080/"
        },
        "id": "Fyq2JgHUj4g_",
        "outputId": "fc916995-f54e-4424-8c4c-f2ed2e2cdaa2"
      },
      "outputs": [
        {
          "data": {
            "text/plain": [
              "<IntegerArray>\n",
              "[9, 13, 10, 4, 16, 12, 6, 14, 11, 3, 1, 15, 7, 2, 5, 8]\n",
              "Length: 16, dtype: Int64"
            ]
          },
          "execution_count": 205,
          "metadata": {},
          "output_type": "execute_result"
        }
      ],
      "source": [
        "X_train_num.nunique()\n",
        "X_train_num[\"education_num\"].unique()"
      ]
    },
    {
      "cell_type": "code",
      "execution_count": 206,
      "metadata": {
        "colab": {
          "base_uri": "https://localhost:8080/",
          "height": 81
        },
        "id": "UTQi_pD6TzM3",
        "outputId": "ff7e2581-6833-4487-f794-8b10b549c4fb"
      },
      "outputs": [
        {
          "data": {
            "text/html": [
              "\n",
              "  <div id=\"df-6b812a10-5efd-48ec-8415-73a2a9ed1c41\">\n",
              "    <div class=\"colab-df-container\">\n",
              "      <div>\n",
              "<style scoped>\n",
              "    .dataframe tbody tr th:only-of-type {\n",
              "        vertical-align: middle;\n",
              "    }\n",
              "\n",
              "    .dataframe tbody tr th {\n",
              "        vertical-align: top;\n",
              "    }\n",
              "\n",
              "    .dataframe thead th {\n",
              "        text-align: right;\n",
              "    }\n",
              "</style>\n",
              "<table border=\"1\" class=\"dataframe\">\n",
              "  <thead>\n",
              "    <tr style=\"text-align: right;\">\n",
              "      <th></th>\n",
              "      <th>age</th>\n",
              "      <th>education_num</th>\n",
              "      <th>capital_gain</th>\n",
              "      <th>capital_loss</th>\n",
              "      <th>hours_per_week</th>\n",
              "      <th>workclass</th>\n",
              "      <th>education</th>\n",
              "      <th>marital_status</th>\n",
              "      <th>occupation</th>\n",
              "      <th>relationship</th>\n",
              "      <th>race</th>\n",
              "      <th>sex</th>\n",
              "      <th>native_country</th>\n",
              "    </tr>\n",
              "  </thead>\n",
              "  <tbody>\n",
              "    <tr>\n",
              "      <th>0</th>\n",
              "      <td>29</td>\n",
              "      <td>10</td>\n",
              "      <td>5000</td>\n",
              "      <td>2000</td>\n",
              "      <td>80</td>\n",
              "      <td>Private</td>\n",
              "      <td>Bachelors</td>\n",
              "      <td>Never-married</td>\n",
              "      <td>Prof-specialty</td>\n",
              "      <td>Not-in-family</td>\n",
              "      <td>White</td>\n",
              "      <td>Male</td>\n",
              "      <td>United-States</td>\n",
              "    </tr>\n",
              "  </tbody>\n",
              "</table>\n",
              "</div>\n",
              "      <button class=\"colab-df-convert\" onclick=\"convertToInteractive('df-6b812a10-5efd-48ec-8415-73a2a9ed1c41')\"\n",
              "              title=\"Convert this dataframe to an interactive table.\"\n",
              "              style=\"display:none;\">\n",
              "        \n",
              "  <svg xmlns=\"http://www.w3.org/2000/svg\" height=\"24px\"viewBox=\"0 0 24 24\"\n",
              "       width=\"24px\">\n",
              "    <path d=\"M0 0h24v24H0V0z\" fill=\"none\"/>\n",
              "    <path d=\"M18.56 5.44l.94 2.06.94-2.06 2.06-.94-2.06-.94-.94-2.06-.94 2.06-2.06.94zm-11 1L8.5 8.5l.94-2.06 2.06-.94-2.06-.94L8.5 2.5l-.94 2.06-2.06.94zm10 10l.94 2.06.94-2.06 2.06-.94-2.06-.94-.94-2.06-.94 2.06-2.06.94z\"/><path d=\"M17.41 7.96l-1.37-1.37c-.4-.4-.92-.59-1.43-.59-.52 0-1.04.2-1.43.59L10.3 9.45l-7.72 7.72c-.78.78-.78 2.05 0 2.83L4 21.41c.39.39.9.59 1.41.59.51 0 1.02-.2 1.41-.59l7.78-7.78 2.81-2.81c.8-.78.8-2.07 0-2.86zM5.41 20L4 18.59l7.72-7.72 1.47 1.35L5.41 20z\"/>\n",
              "  </svg>\n",
              "      </button>\n",
              "      \n",
              "  <style>\n",
              "    .colab-df-container {\n",
              "      display:flex;\n",
              "      flex-wrap:wrap;\n",
              "      gap: 12px;\n",
              "    }\n",
              "\n",
              "    .colab-df-convert {\n",
              "      background-color: #E8F0FE;\n",
              "      border: none;\n",
              "      border-radius: 50%;\n",
              "      cursor: pointer;\n",
              "      display: none;\n",
              "      fill: #1967D2;\n",
              "      height: 32px;\n",
              "      padding: 0 0 0 0;\n",
              "      width: 32px;\n",
              "    }\n",
              "\n",
              "    .colab-df-convert:hover {\n",
              "      background-color: #E2EBFA;\n",
              "      box-shadow: 0px 1px 2px rgba(60, 64, 67, 0.3), 0px 1px 3px 1px rgba(60, 64, 67, 0.15);\n",
              "      fill: #174EA6;\n",
              "    }\n",
              "\n",
              "    [theme=dark] .colab-df-convert {\n",
              "      background-color: #3B4455;\n",
              "      fill: #D2E3FC;\n",
              "    }\n",
              "\n",
              "    [theme=dark] .colab-df-convert:hover {\n",
              "      background-color: #434B5C;\n",
              "      box-shadow: 0px 1px 3px 1px rgba(0, 0, 0, 0.15);\n",
              "      filter: drop-shadow(0px 1px 2px rgba(0, 0, 0, 0.3));\n",
              "      fill: #FFFFFF;\n",
              "    }\n",
              "  </style>\n",
              "\n",
              "      <script>\n",
              "        const buttonEl =\n",
              "          document.querySelector('#df-6b812a10-5efd-48ec-8415-73a2a9ed1c41 button.colab-df-convert');\n",
              "        buttonEl.style.display =\n",
              "          google.colab.kernel.accessAllowed ? 'block' : 'none';\n",
              "\n",
              "        async function convertToInteractive(key) {\n",
              "          const element = document.querySelector('#df-6b812a10-5efd-48ec-8415-73a2a9ed1c41');\n",
              "          const dataTable =\n",
              "            await google.colab.kernel.invokeFunction('convertToInteractive',\n",
              "                                                     [key], {});\n",
              "          if (!dataTable) return;\n",
              "\n",
              "          const docLinkHtml = 'Like what you see? Visit the ' +\n",
              "            '<a target=\"_blank\" href=https://colab.research.google.com/notebooks/data_table.ipynb>data table notebook</a>'\n",
              "            + ' to learn more about interactive tables.';\n",
              "          element.innerHTML = '';\n",
              "          dataTable['output_type'] = 'display_data';\n",
              "          await google.colab.output.renderOutput(dataTable, element);\n",
              "          const docLink = document.createElement('div');\n",
              "          docLink.innerHTML = docLinkHtml;\n",
              "          element.appendChild(docLink);\n",
              "        }\n",
              "      </script>\n",
              "    </div>\n",
              "  </div>\n",
              "  "
            ],
            "text/plain": [
              "   age  education_num  capital_gain  capital_loss  hours_per_week workclass  \\\n",
              "0   29             10          5000          2000              80   Private   \n",
              "\n",
              "    education  marital_status       occupation    relationship    race    sex  \\\n",
              "0   Bachelors   Never-married   Prof-specialty   Not-in-family   White   Male   \n",
              "\n",
              "   native_country  \n",
              "0   United-States  "
            ]
          },
          "execution_count": 206,
          "metadata": {},
          "output_type": "execute_result"
        }
      ],
      "source": [
        "# Create New Data\n",
        "\n",
        "data_inf = {\n",
        "    \"age\"           : 29,\n",
        "    \"education_num\" : 10,\n",
        "    \"capital_gain\"  : 5000,\n",
        "    \"capital_loss\"  : 2000,\n",
        "    \"hours_per_week\": 80,\n",
        "    \"workclass\"     : \" Private\",\n",
        "    \"education\"     : \" Bachelors\",\n",
        "    \"marital_status\": \" Never-married\",\n",
        "    \"occupation\"    : \" Prof-specialty\",\n",
        "    \"relationship\"  : \" Not-in-family\",\n",
        "    \"race\"          : \" White\",\n",
        "    \"sex\"           : \" Male\",\n",
        "    \"native_country\": \" United-States\"\n",
        "}\n",
        "\n",
        "data_inf = pd.DataFrame([data_inf])\n",
        "data_inf"
      ]
    },
    {
      "cell_type": "code",
      "execution_count": 207,
      "metadata": {
        "id": "oAbhoxewlrKH"
      },
      "outputs": [],
      "source": [
        "# Split between Numerical Columns and Categorical Columns\n",
        "\n",
        "data_inf_num = data_inf[list_num_cols]\n",
        "data_inf_cat = data_inf[list_cat_cols]"
      ]
    },
    {
      "cell_type": "code",
      "execution_count": 208,
      "metadata": {
        "id": "EMD23oXrsZFa"
      },
      "outputs": [],
      "source": [
        "# Feature Scaling and Feature Encoding\n",
        "\n",
        "data_inf_num_scaled = model_scaler.transform(data_inf_num)\n",
        "data_inf_cat_encoded = model_encoder.transform(data_inf_cat).toarray()\n",
        "data_inf_final = np.concatenate([data_inf_num_scaled, data_inf_cat_encoded], axis=1)"
      ]
    },
    {
      "cell_type": "code",
      "execution_count": 209,
      "metadata": {
        "colab": {
          "base_uri": "https://localhost:8080/"
        },
        "id": "VGa7aCfcmqzE",
        "outputId": "a4651ce3-f7a4-4da0-f444-abd58a03205d"
      },
      "outputs": [
        {
          "data": {
            "text/plain": [
              "array([' >50K'], dtype=object)"
            ]
          },
          "execution_count": 209,
          "metadata": {},
          "output_type": "execute_result"
        }
      ],
      "source": [
        "y_pred_log_reg_train_inf = model_log_reg.predict(data_inf_final)\n",
        "y_pred_log_reg_test_inf = model_log_reg.predict(data_inf_final)\n",
        "\n",
        "y_pred_log_reg_train_inf"
      ]
    },
    {
      "cell_type": "code",
      "execution_count": 210,
      "metadata": {
        "colab": {
          "base_uri": "https://localhost:8080/"
        },
        "id": "2eQx3zUdmqzE",
        "outputId": "29fec0b2-0487-48d1-b575-8b789c189270"
      },
      "outputs": [
        {
          "data": {
            "text/plain": [
              "array([' >50K'], dtype=object)"
            ]
          },
          "execution_count": 210,
          "metadata": {},
          "output_type": "execute_result"
        }
      ],
      "source": [
        "y_pred_svc_train_inf = model_svc.predict(data_inf_final)\n",
        "y_pred_svc_test_inf = model_svc.predict(data_inf_final)\n",
        "\n",
        "y_pred_svc_train_inf"
      ]
    },
    {
      "cell_type": "markdown",
      "metadata": {
        "id": "OZsNOD-rPdW3"
      },
      "source": [
        "# xi - Pengambilan Kesimpulan\n",
        "> Pada bagian terakhir ini, harus berisi kesimpulan yang mencerminkan hasil yang didapat dengan objective yang sudah ditulis di bagian pengenalan."
      ]
    },
    {
      "cell_type": "markdown",
      "metadata": {
        "id": "Dolm_NuIugue"
      },
      "source": [
        "Berdasarkan hasil pengerjaan, dapat disimpulkan bahwa:\n",
        "1. Dari EDA, terlihat bahwa\n",
        "  - `race` terbanyak adalah 'white' yang sangat mendominasi\n",
        "  - `sex` lebih banyak yang berjenis 'male' dibandingkan 'female'\n",
        "  - `relationship` bertipe 'husband' lebih banyak dibandingkan tipe lainnya, diikuiti tipe 'Not in family'\n",
        "  - `workclass` paling banyak adalah bertipe 'Private'\n",
        "  - `education` terbanyak adalah 'HS-grade', diikuti oleh 'Some-College' dan 'Bachelors'\n",
        "  - `marital_status` paling sedikit adalah 'married-af-spouse' dan paling banyak adalah 'married-civ-spouse'\n",
        "  - `age` banyak pada rata-rata 30-40\n",
        "  - `education_num` terbanyak pada angka 9\n",
        "  - `income_bracket` lebih dominan yang <= 50k sebesar 75%.\n",
        "2. Berdasarkan Model Evaluation:\n",
        "  1. Model Logistic Regression\n",
        "      - nilainya cukup tinggi yang artinya nilainya bagus kecuali pada kategori >50k yang tidak terlalu tinggi\n",
        "  2. Model SVM\n",
        "      - nilainya cukup tinggi yang artinya nilainya bagus kecuali pada kategori >50k yang tidak terlalu tinggi"
      ]
    },
    {
      "cell_type": "markdown",
      "metadata": {
        "id": "pLpGT9v_tqmw"
      },
      "source": [
        "## Conceptual Problems\n",
        "\n",
        "1. Apakah yang dimaksud dengan `coeficient` pada logistic regression?\n",
        "> `coeficient` adalah margin yang mengizinkan kesalahan pada outlier, semakin kecil nilai C nya semakin besar regularisasinya/margin, ketika nilainya kecil kemungkinan cenderung underfit, sedangkan nilainya besar cenderung overfit.\n",
        "\n",
        "2. Apakah yang dimaksud dengan `Support Vector` pada SVM?\n",
        "> `Support Vector` adalah Titik data yang dekat dengan hyperplane yang dimana hyperlane merupakan garis pembatas antara dua kategori yang ingin diprediksi\n",
        "\n",
        "3. Apakah fungsi parameter `kernel` pada SVM? Jelaskan salah satu kernel yang kalian pahami!\n",
        "> Fungsi `kernel` adalah untuk memproyeksikan data-data yang tidak dapat dipisahkan secara linear yang terjadi pada dimensi yang rendah dan dirubah ke dimensi yang lebih tinggi, salah satunya adalah kernel linear yang merupakan kernel berbentuk linear, dapat digunakan untuk klasifikasi dan yang tercepat dalam pembentukannya, karena terbagi secara garis lurus"
      ]
    },
    {
      "cell_type": "code",
      "execution_count": 211,
      "metadata": {
        "colab": {
          "base_uri": "https://localhost:8080/"
        },
        "id": "lTzFaBr527Ii",
        "outputId": "91543858-ef83-4599-8f27-05b6ca83786d"
      },
      "outputs": [
        {
          "name": "stdout",
          "output_type": "stream",
          "text": [
            "Intercept :  [-4.50197377]\n",
            "Slope :  [[ 1.55844279e+00  1.98001351e+00  1.59059023e+01  2.31146242e+00\n",
            "   2.80975223e+00  4.47723205e-01 -2.03943671e-01 -2.89814973e-02\n",
            "  -2.90359341e-04  1.23698649e-01 -4.96952365e-01 -3.66266431e-01\n",
            "  -9.42664918e-01 -4.12578656e-01 -5.16497258e-01 -2.71251905e-01\n",
            "  -2.44689566e-01 -6.12027512e-01 -6.27806635e-01 -4.73538282e-01\n",
            "  -8.38188778e-02  1.13317806e-01  4.41094605e-01  9.13069839e-01\n",
            "  -1.58329722e-01  6.74613650e-01 -1.33251719e+00  1.03878534e+00\n",
            "   8.44969738e-02 -7.77585868e-01  1.41238919e+00  1.16471536e+00\n",
            "  -6.84874374e-01 -1.21473170e+00 -8.40277397e-01 -5.27312594e-01\n",
            "  -2.89814973e-02  8.31634272e-02 -3.42861913e-01  1.16354245e-01\n",
            "   8.06770506e-01 -8.42625134e-01 -6.81604400e-01 -2.47051814e-01\n",
            "  -7.72822726e-01 -1.47290960e+00  5.42307351e-01  6.23422680e-01\n",
            "   2.56593015e-01  5.92227597e-01 -9.96591190e-02 -3.58661024e-01\n",
            "   5.97560908e-03 -8.35473726e-01 -1.04501408e+00 -1.29210232e-01\n",
            "   8.94706069e-01 -6.63325215e-01 -7.84622332e-02 -1.74136181e-01\n",
            "  -4.60376379e-01 -9.13773786e-02 -1.14459052e+00 -3.23086869e-01\n",
            "  -5.52973824e-02  1.21758433e+00  3.82462756e-01 -1.92755627e-01\n",
            "  -1.04334020e+00  4.48399575e-01 -8.45078339e-01  6.10610057e-02\n",
            "  -1.99180206e-02  3.92373605e-01  6.35975068e-01  6.43411057e-01\n",
            "  -4.78145386e-01 -7.78422988e-01  2.60028293e-01 -1.65497487e-02\n",
            "  -1.04772109e-01 -1.97977797e-02 -3.50327327e-01 -3.14442969e-01\n",
            "  -9.29900725e-02  5.37043026e-01  5.57232080e-01 -3.58363172e-01\n",
            "   4.58051434e-01 -4.24290773e-01 -3.09073057e-01 -4.09119312e-01\n",
            "  -7.13702716e-01 -2.24821185e-02  4.99377702e-01 -5.84000136e-02\n",
            "  -5.64058393e-02  2.34692520e-03 -2.76291791e-01 -6.72364678e-01\n",
            "   2.29822759e-02 -2.22331847e-01 -3.65986770e-01  3.30973549e-01\n",
            "  -3.92211490e-01  6.75881459e-01]]\n"
          ]
        }
      ],
      "source": [
        "# Get Intercept and Slope\n",
        "\n",
        "print('Intercept : ', model_log_reg.intercept_)\n",
        "print('Slope : ', model_log_reg.coef_)"
      ]
    },
    {
      "cell_type": "code",
      "execution_count": 212,
      "metadata": {
        "colab": {
          "base_uri": "https://localhost:8080/"
        },
        "id": "vDxZGl9Ou1NU",
        "outputId": "7b783bb2-7b6e-4155-fb5c-28e22c7de785"
      },
      "outputs": [
        {
          "name": "stdout",
          "output_type": "stream",
          "text": [
            "Intercept :  [-4.00192147]\n",
            "Slope :  [[ 7.68278822e-01  1.50250194e+00  1.59533106e+01  1.74064672e+00\n",
            "   1.59576634e+00  4.28955068e-01 -1.29680154e-02  0.00000000e+00\n",
            "   1.07414520e-01  2.33425476e-01 -2.49435677e-01 -1.47033741e-01\n",
            "  -3.60357630e-01 -1.23783643e-01 -1.63473048e-01 -2.33899053e-01\n",
            "   1.00514518e-01 -8.76564720e-03 -1.98849355e-01 -5.27598830e-02\n",
            "  -1.32676748e-01 -2.84637988e-02  4.40441995e-01  6.40242406e-01\n",
            "  -2.14566847e-01  4.99302879e-01 -1.11358715e+00  6.53402511e-01\n",
            "  -6.30791388e-02 -2.99678108e-01  9.14385495e-01  7.07430252e-01\n",
            "  -3.30432133e-01 -5.90013886e-01 -2.98363249e-01 -1.03328372e-01\n",
            "   0.00000000e+00  1.00494731e-01 -1.28561202e-01 -4.49806041e-02\n",
            "   7.24498282e-01 -4.27248166e-01 -2.81942778e-01 -1.51283897e-01\n",
            "  -3.13698988e-01 -1.00000000e+00  5.16567711e-01  3.61327111e-01\n",
            "   1.77649927e-01  6.01942436e-01 -1.34764563e-01  1.18994490e-01\n",
            "  -1.08640918e-01 -3.16293071e-01 -3.02786035e-01 -1.31690293e-01\n",
            "   7.40415828e-01 -2.90370046e-01  1.91432563e-01  1.13575993e-01\n",
            "  -1.28597166e-01  1.13958656e-01 -2.06124131e-01  2.06124131e-01\n",
            "  -4.88002001e-02  1.17325545e+00  3.77270885e-01 -7.26060534e-02\n",
            "  -7.19352078e-01  3.70070877e-01 -5.54534553e-01  1.10075344e-01\n",
            "   0.00000000e+00  4.09410224e-01  9.75913483e-01  3.72627831e-01\n",
            "  -4.03641255e-01 -1.69373105e-01  4.26140738e-01  0.00000000e+00\n",
            "   0.00000000e+00  0.00000000e+00 -3.05955769e-01 -2.85750952e-01\n",
            "   1.43771925e-01  2.52170248e-01  3.65168340e-01 -7.22757968e-01\n",
            "   2.57864161e-01 -2.05206893e-01 -1.18422418e-02  0.00000000e+00\n",
            "  -5.66315124e-01  0.00000000e+00  4.22528205e-01  0.00000000e+00\n",
            "   8.36359595e-02  9.44935965e-02 -8.33191474e-02 -1.16415457e+00\n",
            "   4.50178406e-02 -5.28778660e-03 -4.05965878e-01  2.27421047e-01\n",
            "  -6.05567372e-01  2.23594792e-01]]\n"
          ]
        }
      ],
      "source": [
        "# Get Intercept and Slope\n",
        "\n",
        "print('Intercept : ', model_svc.intercept_)\n",
        "print('Slope : ', model_svc.coef_)"
      ]
    },
    {
      "cell_type": "code",
      "execution_count": 213,
      "metadata": {
        "colab": {
          "base_uri": "https://localhost:8080/"
        },
        "id": "sMQvrzYB3qWc",
        "outputId": "73756eb2-1dff-4175-f161-f0dbbde21bb3"
      },
      "outputs": [
        {
          "data": {
            "text/plain": [
              "MultiIndex([(                            'age',),\n",
              "            (                  'education_num',),\n",
              "            (                   'capital_gain',),\n",
              "            (                   'capital_loss',),\n",
              "            (                 'hours_per_week',),\n",
              "            (         'workclass_ Federal-gov',),\n",
              "            (           'workclass_ Local-gov',),\n",
              "            (        'workclass_ Never-worked',),\n",
              "            (             'workclass_ Private',),\n",
              "            (        'workclass_ Self-emp-inc',),\n",
              "            ...\n",
              "            (       'native_country_ Portugal',),\n",
              "            (    'native_country_ Puerto-Rico',),\n",
              "            (       'native_country_ Scotland',),\n",
              "            (          'native_country_ South',),\n",
              "            (         'native_country_ Taiwan',),\n",
              "            (       'native_country_ Thailand',),\n",
              "            ('native_country_ Trinadad&Tobago',),\n",
              "            (  'native_country_ United-States',),\n",
              "            (        'native_country_ Vietnam',),\n",
              "            (     'native_country_ Yugoslavia',)],\n",
              "           length=106)"
            ]
          },
          "execution_count": 213,
          "metadata": {},
          "output_type": "execute_result"
        }
      ],
      "source": [
        "# List All Columns\n",
        "\n",
        "X_train_final_df.columns"
      ]
    }
  ],
  "metadata": {
    "colab": {
      "provenance": [],
      "toc_visible": true
    },
    "kernelspec": {
      "display_name": "Python 3",
      "name": "python3"
    },
    "language_info": {
      "name": "python"
    }
  },
  "nbformat": 4,
  "nbformat_minor": 0
}
