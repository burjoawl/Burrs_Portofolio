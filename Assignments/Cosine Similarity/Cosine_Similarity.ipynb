{
  "cells": [
    {
      "cell_type": "markdown",
      "metadata": {
        "colab_type": "text",
        "id": "view-in-github"
      },
      "source": [
        "<a href=\"https://colab.research.google.com/github/burjoawl/Burrs_Portofolio/blob/main/Cosine%20Similarity/Cosine_Similarity.ipynb\" target=\"_parent\"><img src=\"https://colab.research.google.com/assets/colab-badge.svg\" alt=\"Open In Colab\"/></a>"
      ]
    },
    {
      "cell_type": "markdown",
      "metadata": {
        "id": "MsCkOUvvgJNP"
      },
      "source": [
        "## Query SQL\n",
        "\n",
        "```\n",
        "SELECT\n",
        "  sale_dollars\n",
        "FROM\n",
        "  bigquery-public-data.iowa_liquor_sales.sales\n",
        "LIMIT\n",
        "  5000\n",
        "```"
      ]
    },
    {
      "cell_type": "markdown",
      "metadata": {
        "id": "MBemDHgJdMic"
      },
      "source": [
        "# Soal"
      ]
    },
    {
      "cell_type": "markdown",
      "metadata": {
        "id": "LQHXJaLDeFyB"
      },
      "source": [
        "## Problem 1\n",
        "\n",
        "Salah satu ruang lingkup Natural Language Processing (NLP) adalah mengukur kesamaan konteks antar kalimat. Untuk mengetahui dua kalimat memiliki konteks yang sama atau tidak, kita mengukurnya dengan *cosine similarity*. *Cosine similarity* sejatinya mengukur 'jarak' antar dua vektor yang mana vektor-vektor tersebut berisikan angka-angka, sehingga kita perlu menerjemahkan kalimat menjadi list angka (encoding). Ada banyak metode encoding yang dapat digunakan untuk menerjemahkan kalimat ke angka, salah satunya adalah dengan menghitung frekuensi kemunculan kata pada setiap kalimat.\n",
        "\n",
        "\n",
        "---\n",
        "\n",
        "\n",
        "Kalimat 1: Julie loves me more than Linda loves me\n",
        "\n",
        "Kalimat 2: Jane likes me more than Julie loves me\n",
        "\n",
        "\n",
        "---\n",
        "\n",
        "\n",
        "Berikut tabel yang berisikan frekuensi kata yang muncul pada kedua kalimat:\n",
        "\n",
        "| Kata | Kalimat 1 | Kalimat 2 |\n",
        "| ----------- | ----------- | ----------- |\n",
        "| me | 2 | 2|\n",
        "| Jane | 0 | 1 |\n",
        "| Julie | 1 | 1 |\n",
        "|Linda\t|1\t|0|\n",
        "|likes\t|0\t|1|\n",
        "|loves\t|2\t|1|\n",
        "|more\t|1\t|1|\n",
        "|than\t|1\t|1|\n",
        "\n",
        "Buatlah vektor yang merupakan representasi masing-masing kalimat berdasarkan tabel di atas dan hitung cosine similarity antar kedua vektor. Kemudian jawab pertanyaan berikut di markdown:\n",
        "\n",
        "a. Apakah kedua kalimat memiliki konteks yang serupa? jika iya, mengapa dan jika tidak, mengapa (jawab berdasarkan hasil perhitungan cosine similaritynya)?\n",
        "\n",
        "b. Jika meninjau dua buah vektor dan dihitung cosine similaritynya (cos theta), jelaskan secara singkat, jelas, padat apa makna cosine similarity yang bernilai 0 dan 1 (tinjau dari posisi dua vektor di koordinat kartesian)?\n",
        "\n",
        "c. Mengapa cosine similarity harus melibatkan vektor bukan matriks?\n",
        "\n"
      ]
    },
    {
      "cell_type": "markdown",
      "metadata": {
        "id": "Yn_GlRrWevIo"
      },
      "source": [
        "## Problem 2\n",
        "\n",
        "Dataset Description\n",
        "- Pada graded challenge ini, data diakses menggunakan `bigquery-public-data` pada Google Cloud Big Query.\n",
        "- Buka Google Cloud Platform, masuk ke BigQuery, lalu buka tab `bigquery-public-data` atau klik link [berikut](https://console.cloud.google.com/bigquery?p=bigquery-public-data&d=samples&page=dataset&_ga=2.245085957.1471931019.1642739417-486643658.1638156099)  atau link [berikut](https://console.cloud.google.com/bigquery?p=bigquery-public-data&d=iowa_liquor_sales&t=sales&page=table) untuk langsung menuju ke tabel.\n",
        "\n",
        "Perhatikan petunjuk penggunaan dataset!\n",
        "1. Gunakan tabel `sales` pada dataset `iowa_liquor_sales`.\n",
        "2. Buatlah query dengan kriteria sebagai berikut:\n",
        "  - Pilih HANYA kolom `sale_dollars`\n",
        "  - Batasi jumlah data maksimal 5000\n",
        "\n",
        "3. Simpan dataset dalam bentuk csv, dengan nama `h8dsft_P0LC3_<nama-students>.csv`.\n",
        "4. Salin query yang telah dibuat di Google Cloud Platform, tulislah pada bagian atas notebook!\n",
        "\n",
        "5. Tampilkan `head` dan `tail` dari dataset pada notebook!\n",
        "\n",
        "**Clue** Untuk mengetahui adanya anomali, kamu bisa menggunakan metode extreme value analysis. Untuk melakukan pengecekan anomali/outlier, lakukan langkah-langkah di bawah ini:\n",
        "\n",
        "1. Lakukan perhitungan central tendency (mean, median, modus) terhadap data sebelum dideteksi adanya anomali.\n",
        "2. Cek skewness data untuk mengetahui apakah data terdistribusi normal atau tidak.\n",
        "3. Lakukan pengolahan data dengan menggunakan extreme value analysis.\n",
        "4. Buat variabel baru yang menyimpan data yang sudah dibuang data anomalinya.\n",
        "\n",
        "**PERTANYAAN**\n",
        "\n",
        "**Silahkan jawab pertanyaan-pertanyaan di bawah ini berdasarkan hasil yang kamu peroleh dan tulis pada bagian hasil:**\n",
        "\n",
        "1. Berapa rata-rata, median, dan modus dari data tersebut sebelum dihilangkan outliernya? Bagaimana kecerendungan pemusatan datanya? jelaskan jawabanmu!\n",
        "2. Sebelum melakukan extreme value analysis, kamu harus melakukan pengecekan skewness dari distribusi datanya. Apakah datanya skew atau normal? jelaskan jawabanmu!\n",
        "3. Ada dua teknik untuk melakukan extreme value analysis, teknik yang mana yang kamu pakai? berikan alasanmu berdasarkan data!"
      ]
    },
    {
      "cell_type": "markdown",
      "metadata": {
        "id": "diTnL8j5dNdD"
      },
      "source": [
        "# Import Pustaka"
      ]
    },
    {
      "cell_type": "code",
      "execution_count": 1,
      "metadata": {
        "id": "IbL4JkhKc-Qo"
      },
      "outputs": [],
      "source": [
        "import numpy as np\n",
        "import matplotlib.pyplot as plt\n",
        "import pandas as pd\n",
        "import seaborn as sns\n",
        "from scipy import stats"
      ]
    },
    {
      "cell_type": "markdown",
      "metadata": {
        "id": "y18YISjudOzX"
      },
      "source": [
        "# Data Loading"
      ]
    },
    {
      "cell_type": "markdown",
      "metadata": {
        "id": "3IEHEph_f-t_"
      },
      "source": [
        "## Problem 1\n",
        "\n",
        "Kalimat 1: Julie loves me more than Linda loves me\n",
        "\n",
        "Kalimat 2: Jane likes me more than Julie loves me"
      ]
    },
    {
      "cell_type": "code",
      "execution_count": 2,
      "metadata": {
        "id": "JyOtRJ0ffpwR"
      },
      "outputs": [],
      "source": [
        "# Membuat kalimat menjadi array yang akan digunakan untuk pengerjaan nanti menggunakan numpy\n",
        "Kalimat_1 = np.array([2, 0, 1, 1, 0, 2, 1 ,1])\n",
        "Kalimat_2 = np.array ([2, 1, 1, 0, 1, 1 ,1 ,1])"
      ]
    },
    {
      "cell_type": "markdown",
      "metadata": {
        "id": "NQ62ugsEgOUc"
      },
      "source": [
        "## Problem 2\n"
      ]
    },
    {
      "cell_type": "code",
      "execution_count": 4,
      "metadata": {
        "colab": {
          "base_uri": "https://localhost:8080/",
          "height": 373
        },
        "id": "9HMDjMCxnxCz",
        "outputId": "9095b5d2-bae0-4a49-a1bf-eeaf92a1eb1a"
      },
      "outputs": [
        {
          "name": "stdout",
          "output_type": "stream",
          "text": [
            "<class 'pandas.core.frame.DataFrame'>\n",
            "RangeIndex: 5000 entries, 0 to 4999\n",
            "Data columns (total 1 columns):\n",
            " #   Column        Non-Null Count  Dtype  \n",
            "---  ------        --------------  -----  \n",
            " 0   sale_dollars  5000 non-null   float64\n",
            "dtypes: float64(1)\n",
            "memory usage: 39.2 KB\n"
          ]
        }
      ],
      "source": [
        "# Membaca file csv menggunakan pandas\n",
        "df = pd.read_csv('https://raw.githubusercontent.com/burjoawl/Burrs_Portofolio/main/Assignments/Cosine%20Similarity/Cosine%20Similarity.csv')\n",
        "df.info()"
      ]
    },
    {
      "cell_type": "code",
      "execution_count": 5,
      "metadata": {
        "id": "iWejp2t1n-jC"
      },
      "outputs": [
        {
          "data": {
            "text/html": [
              "<div>\n",
              "<style scoped>\n",
              "    .dataframe tbody tr th:only-of-type {\n",
              "        vertical-align: middle;\n",
              "    }\n",
              "\n",
              "    .dataframe tbody tr th {\n",
              "        vertical-align: top;\n",
              "    }\n",
              "\n",
              "    .dataframe thead th {\n",
              "        text-align: right;\n",
              "    }\n",
              "</style>\n",
              "<table border=\"1\" class=\"dataframe\">\n",
              "  <thead>\n",
              "    <tr style=\"text-align: right;\">\n",
              "      <th></th>\n",
              "      <th>sale_dollars</th>\n",
              "    </tr>\n",
              "  </thead>\n",
              "  <tbody>\n",
              "    <tr>\n",
              "      <th>0</th>\n",
              "      <td>7.40</td>\n",
              "    </tr>\n",
              "    <tr>\n",
              "      <th>1</th>\n",
              "      <td>7.40</td>\n",
              "    </tr>\n",
              "    <tr>\n",
              "      <th>2</th>\n",
              "      <td>7.40</td>\n",
              "    </tr>\n",
              "    <tr>\n",
              "      <th>3</th>\n",
              "      <td>8.45</td>\n",
              "    </tr>\n",
              "    <tr>\n",
              "      <th>4</th>\n",
              "      <td>990.00</td>\n",
              "    </tr>\n",
              "  </tbody>\n",
              "</table>\n",
              "</div>"
            ],
            "text/plain": [
              "   sale_dollars\n",
              "0          7.40\n",
              "1          7.40\n",
              "2          7.40\n",
              "3          8.45\n",
              "4        990.00"
            ]
          },
          "execution_count": 5,
          "metadata": {},
          "output_type": "execute_result"
        }
      ],
      "source": [
        "# Memunculkan nilai 5 teratas\n",
        "df.head(5)"
      ]
    },
    {
      "cell_type": "code",
      "execution_count": 6,
      "metadata": {
        "id": "ICg7Mh5zoGc4"
      },
      "outputs": [
        {
          "data": {
            "text/html": [
              "<div>\n",
              "<style scoped>\n",
              "    .dataframe tbody tr th:only-of-type {\n",
              "        vertical-align: middle;\n",
              "    }\n",
              "\n",
              "    .dataframe tbody tr th {\n",
              "        vertical-align: top;\n",
              "    }\n",
              "\n",
              "    .dataframe thead th {\n",
              "        text-align: right;\n",
              "    }\n",
              "</style>\n",
              "<table border=\"1\" class=\"dataframe\">\n",
              "  <thead>\n",
              "    <tr style=\"text-align: right;\">\n",
              "      <th></th>\n",
              "      <th>sale_dollars</th>\n",
              "    </tr>\n",
              "  </thead>\n",
              "  <tbody>\n",
              "    <tr>\n",
              "      <th>4995</th>\n",
              "      <td>63.00</td>\n",
              "    </tr>\n",
              "    <tr>\n",
              "      <th>4996</th>\n",
              "      <td>62.28</td>\n",
              "    </tr>\n",
              "    <tr>\n",
              "      <th>4997</th>\n",
              "      <td>62.28</td>\n",
              "    </tr>\n",
              "    <tr>\n",
              "      <th>4998</th>\n",
              "      <td>62.28</td>\n",
              "    </tr>\n",
              "    <tr>\n",
              "      <th>4999</th>\n",
              "      <td>63.00</td>\n",
              "    </tr>\n",
              "  </tbody>\n",
              "</table>\n",
              "</div>"
            ],
            "text/plain": [
              "      sale_dollars\n",
              "4995         63.00\n",
              "4996         62.28\n",
              "4997         62.28\n",
              "4998         62.28\n",
              "4999         63.00"
            ]
          },
          "execution_count": 6,
          "metadata": {},
          "output_type": "execute_result"
        }
      ],
      "source": [
        "# Memunculkan nilai 5 terbawah\n",
        "df.tail(5)"
      ]
    },
    {
      "cell_type": "markdown",
      "metadata": {
        "id": "f1xG74JOdQam"
      },
      "source": [
        "# Mathematical Calculations"
      ]
    },
    {
      "cell_type": "markdown",
      "metadata": {
        "id": "VLgNLNIFggR0"
      },
      "source": [
        "## Problem 1"
      ]
    },
    {
      "cell_type": "markdown",
      "metadata": {
        "id": "z169nZzIy2ti"
      },
      "source": [
        "### Cosine Similarity\n",
        "\n",
        "Mengerjakan rumus cosine similarity\n",
        "\n",
        "![image_2023-06-12_112110863.png](data:image/png;base64,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)\n",
        "\n",
        "dimana:\n",
        "\n",
        "a = Kalimat 1\n",
        "\n",
        "b = Kalimat 2"
      ]
    },
    {
      "cell_type": "code",
      "execution_count": 7,
      "metadata": {
        "id": "dm5YC5j9f8T9"
      },
      "outputs": [
        {
          "name": "stdout",
          "output_type": "stream",
          "text": [
            "Dot Product: 9\n",
            "Cosine Similarity: 0.8216\n"
          ]
        }
      ],
      "source": [
        "cosine_sim = Kalimat_1 @ Kalimat_2 /(np.linalg.norm(Kalimat_1) * np.linalg.norm(Kalimat_2))\n",
        "\n",
        "print('Dot Product:', Kalimat_1 @ Kalimat_2)\n",
        "print('Cosine Similarity:',cosine_sim.round(4))"
      ]
    },
    {
      "cell_type": "markdown",
      "metadata": {
        "id": "oID0PpxIy9Da"
      },
      "source": [
        "### Grafik Panah\n",
        "\n",
        "Membuat data visual dari cosine similarity"
      ]
    },
    {
      "cell_type": "code",
      "execution_count": 8,
      "metadata": {
        "id": "sNexOxM8iHW9"
      },
      "outputs": [
        {
          "data": {
            "text/plain": [
              "Text(0, 0.5, 'Y')"
            ]
          },
          "execution_count": 8,
          "metadata": {},
          "output_type": "execute_result"
        },
        {
          "data": {
            "image/png": "[encoded data removed]",
            "text/plain": [
              "<Figure size 300x300 with 1 Axes>"
            ]
          },
          "metadata": {},
          "output_type": "display_data"
        }
      ],
      "source": [
        "plt.rcParams[\"figure.figsize\"] = [3, 3]\n",
        "plt.rcParams[\"figure.autolayout\"] = True\n",
        "\n",
        "plt.figure()\n",
        "ax = plt.gca()\n",
        "ax.quiver([0,0,0,0,0,0,0,0], [0,0,0,0,0,0,0,0], Kalimat_1, Kalimat_2, angles='xy', scale_units='xy', scale=1, color=['red', 'green'])\n",
        "ax.set_xlim (0,6)\n",
        "ax.set_ylim (0, 4)\n",
        "\n",
        "ax.set_xlabel('X')\n",
        "ax.set_ylabel('Y', rotation = 0)\n"
      ]
    },
    {
      "cell_type": "markdown",
      "metadata": {
        "id": "Qkf7pPYwn6_f"
      },
      "source": [
        "## Problem 2"
      ]
    },
    {
      "cell_type": "markdown",
      "metadata": {
        "id": "tmL6M9bWoR67"
      },
      "source": [
        "### Central Tendency\n",
        "\n",
        "Mencari nilai Mean, Median, Modus sebelum melakukan pengecekan anomali/outlier"
      ]
    },
    {
      "cell_type": "code",
      "execution_count": 9,
      "metadata": {
        "id": "gvcdhjOqoWir"
      },
      "outputs": [
        {
          "name": "stdout",
          "output_type": "stream",
          "text": [
            "Nilai Mean adalah:  227.25\n",
            "Nilai Median adalah:  129.6\n",
            "Nilai Modus adalah:  0    94.2\n",
            "Name: sale_dollars, dtype: float64\n"
          ]
        }
      ],
      "source": [
        "# Mean\n",
        "\n",
        "Nilai_Mean = df['sale_dollars'].mean()\n",
        "print ('Nilai Mean adalah: ', Nilai_Mean.round(2))\n",
        "\n",
        "# Median\n",
        "Nilai_Median = df['sale_dollars'].median()\n",
        "print ('Nilai Median adalah: ', Nilai_Median)\n",
        "\n",
        "# Modus\n",
        "Nilai_Modus = df['sale_dollars'].mode()\n",
        "print ('Nilai Modus adalah: ', Nilai_Modus)"
      ]
    },
    {
      "cell_type": "markdown",
      "metadata": {
        "id": "9ArsKlBOpwmN"
      },
      "source": [
        "### Skewness\n",
        "\n",
        "Berdasarkan nilai skewness, nilainya cukup tinggi, sehingga dapat ditarik kesimpulan bahwa tidak terdistribusi secara normal"
      ]
    },
    {
      "cell_type": "code",
      "execution_count": 10,
      "metadata": {
        "id": "KYMjJJoEpxoc"
      },
      "outputs": [
        {
          "name": "stdout",
          "output_type": "stream",
          "text": [
            "Nilai Skewness adalah:  18.39\n"
          ]
        },
        {
          "data": {
            "text/plain": [
              "<Axes: xlabel='sale_dollars', ylabel='Count'>"
            ]
          },
          "execution_count": 10,
          "metadata": {},
          "output_type": "execute_result"
        },
        {
          "data": {
            "image/png": "[encoded data removed]",
            "text/plain": [
              "<Figure size 1170x827 with 1 Axes>"
            ]
          },
          "metadata": {},
          "output_type": "display_data"
        }
      ],
      "source": [
        "Nilai_Skewness = df['sale_dollars'].skew()\n",
        "print ('Nilai Skewness adalah: ', Nilai_Skewness.round(2))\n",
        "\n",
        "sns.set(rc={'figure.figsize':(11.7,8.27)})\n",
        "sns.histplot(df['sale_dollars'], bins=500, kde=True)\n"
      ]
    },
    {
      "cell_type": "markdown",
      "metadata": {
        "id": "WOJOfmYPrBUY"
      },
      "source": [
        "### Extreme Value Analysis"
      ]
    },
    {
      "cell_type": "code",
      "execution_count": 11,
      "metadata": {
        "id": "zxU__Fcosi-A"
      },
      "outputs": [
        {
          "name": "stdout",
          "output_type": "stream",
          "text": [
            "Nilai Q1:  94.2\n",
            "Nilai Q3:  270.0\n",
            "Nilai IQR:  175.8\n",
            "Nilai Batas Bawah:  -169.50000000000006\n",
            "Nilai Batas Atas:  533.7\n"
          ]
        }
      ],
      "source": [
        "# Membuat nilai 25 quantil yang disebut Q1 dan 75 quantil yang disebut Q3\n",
        "Q1 = df['sale_dollars'].quantile(0.25)\n",
        "Q3 = df['sale_dollars'].quantile(0.75)\n",
        "print ('Nilai Q1: ', Q1)\n",
        "print ('Nilai Q3: ', Q3)\n",
        "\n",
        "# Membuat nilai IQR, dari Q3 - Q1\n",
        "IQR = Q3 - Q1\n",
        "print ('Nilai IQR: ', IQR.round(2))\n",
        "\n",
        "# Membuat nilai batas bawah dengan rumus Q1 - (IQR * 1.5)\n",
        "BatasBawah = Q1 - (IQR * 1.5)\n",
        "\n",
        "# Membuat nilai batas atas dengan rumus Q3 + (IQR * 1.5)\n",
        "BatasAtas = Q3 + (IQR * 1.5)\n",
        "\n",
        "print ('Nilai Batas Bawah: ', BatasBawah)\n",
        "print ('Nilai Batas Atas: ', BatasAtas)"
      ]
    },
    {
      "cell_type": "code",
      "execution_count": 12,
      "metadata": {
        "id": "WBtRgD-Ds2c-"
      },
      "outputs": [
        {
          "data": {
            "text/html": [
              "<div>\n",
              "<style scoped>\n",
              "    .dataframe tbody tr th:only-of-type {\n",
              "        vertical-align: middle;\n",
              "    }\n",
              "\n",
              "    .dataframe tbody tr th {\n",
              "        vertical-align: top;\n",
              "    }\n",
              "\n",
              "    .dataframe thead th {\n",
              "        text-align: right;\n",
              "    }\n",
              "</style>\n",
              "<table border=\"1\" class=\"dataframe\">\n",
              "  <thead>\n",
              "    <tr style=\"text-align: right;\">\n",
              "      <th></th>\n",
              "      <th>sale_dollars</th>\n",
              "    </tr>\n",
              "  </thead>\n",
              "  <tbody>\n",
              "    <tr>\n",
              "      <th>4</th>\n",
              "      <td>990.00</td>\n",
              "    </tr>\n",
              "    <tr>\n",
              "      <th>8</th>\n",
              "      <td>1440.48</td>\n",
              "    </tr>\n",
              "    <tr>\n",
              "      <th>9</th>\n",
              "      <td>1259.76</td>\n",
              "    </tr>\n",
              "    <tr>\n",
              "      <th>26</th>\n",
              "      <td>561.36</td>\n",
              "    </tr>\n",
              "    <tr>\n",
              "      <th>27</th>\n",
              "      <td>597.36</td>\n",
              "    </tr>\n",
              "    <tr>\n",
              "      <th>...</th>\n",
              "      <td>...</td>\n",
              "    </tr>\n",
              "    <tr>\n",
              "      <th>1795</th>\n",
              "      <td>566.88</td>\n",
              "    </tr>\n",
              "    <tr>\n",
              "      <th>1799</th>\n",
              "      <td>541.32</td>\n",
              "    </tr>\n",
              "    <tr>\n",
              "      <th>1800</th>\n",
              "      <td>568.44</td>\n",
              "    </tr>\n",
              "    <tr>\n",
              "      <th>1802</th>\n",
              "      <td>1799.04</td>\n",
              "    </tr>\n",
              "    <tr>\n",
              "      <th>1815</th>\n",
              "      <td>738.00</td>\n",
              "    </tr>\n",
              "  </tbody>\n",
              "</table>\n",
              "<p>264 rows × 1 columns</p>\n",
              "</div>"
            ],
            "text/plain": [
              "      sale_dollars\n",
              "4           990.00\n",
              "8          1440.48\n",
              "9          1259.76\n",
              "26          561.36\n",
              "27          597.36\n",
              "...            ...\n",
              "1795        566.88\n",
              "1799        541.32\n",
              "1800        568.44\n",
              "1802       1799.04\n",
              "1815        738.00\n",
              "\n",
              "[264 rows x 1 columns]"
            ]
          },
          "execution_count": 12,
          "metadata": {},
          "output_type": "execute_result"
        }
      ],
      "source": [
        "# Melihat data yang hilang\n",
        "DataHilang = df[(df['sale_dollars'] < BatasBawah) | (df['sale_dollars'] > BatasAtas)]\n",
        "DataHilang"
      ]
    },
    {
      "cell_type": "code",
      "execution_count": 13,
      "metadata": {
        "id": "2lZf1nnMtNlb"
      },
      "outputs": [
        {
          "name": "stdout",
          "output_type": "stream",
          "text": [
            "Nilai sebelum:  (5000, 1)\n",
            "Nilai setelah:  (4736, 1)\n"
          ]
        }
      ],
      "source": [
        "# Menghilangkan angka-angka yang berada diluar batas bawah maupun batas atas\n",
        "df_IQR = df[(df['sale_dollars'] > BatasBawah) & (df['sale_dollars']< BatasAtas)]\n",
        "\n",
        "# Menampilkan jumlah nilai, terlihat yang hilang terdapat 265 data\n",
        "print ('Nilai sebelum: ', df.shape) #Nilai sebelum\n",
        "print ('Nilai setelah: ', df_IQR.shape) #Nilai setelah"
      ]
    },
    {
      "cell_type": "code",
      "execution_count": 14,
      "metadata": {
        "id": "_Uj2DrY8txdw"
      },
      "outputs": [
        {
          "name": "stdout",
          "output_type": "stream",
          "text": [
            "Persen yang hilang adalah:  5.28 %\n"
          ]
        }
      ],
      "source": [
        "# Menghitung persen yang hilang dari data awal\n",
        "PersenHilang = (len (df.index) - len(df_IQR.index)) / len (df.index) * 100\n",
        "\n",
        "print ('Persen yang hilang adalah: ', round(PersenHilang, 4), '%')"
      ]
    },
    {
      "cell_type": "code",
      "execution_count": 15,
      "metadata": {
        "id": "epe_rZ24t5gx"
      },
      "outputs": [
        {
          "name": "stdout",
          "output_type": "stream",
          "text": [
            "Nilai Skewness : 0.87\n"
          ]
        },
        {
          "data": {
            "image/png": "[encoded data removed]",
            "text/plain": [
              "<Figure size 1170x827 with 1 Axes>"
            ]
          },
          "metadata": {},
          "output_type": "display_data"
        }
      ],
      "source": [
        "# Mengecek ulang setelah outlier dihilangkan\n",
        "print ('Nilai Skewness :', df_IQR['sale_dollars'].skew().round(decimals=2))\n",
        "\n",
        "sns.histplot(df_IQR['sale_dollars'], bins=50, kde=True);"
      ]
    },
    {
      "cell_type": "code",
      "execution_count": 16,
      "metadata": {
        "id": "pkZ4aoa3wmvg"
      },
      "outputs": [
        {
          "data": {
            "text/html": [
              "<div>\n",
              "<style scoped>\n",
              "    .dataframe tbody tr th:only-of-type {\n",
              "        vertical-align: middle;\n",
              "    }\n",
              "\n",
              "    .dataframe tbody tr th {\n",
              "        vertical-align: top;\n",
              "    }\n",
              "\n",
              "    .dataframe thead th {\n",
              "        text-align: right;\n",
              "    }\n",
              "</style>\n",
              "<table border=\"1\" class=\"dataframe\">\n",
              "  <thead>\n",
              "    <tr style=\"text-align: right;\">\n",
              "      <th></th>\n",
              "      <th>sale_dollars</th>\n",
              "    </tr>\n",
              "  </thead>\n",
              "  <tbody>\n",
              "    <tr>\n",
              "      <th>0</th>\n",
              "      <td>7.40</td>\n",
              "    </tr>\n",
              "    <tr>\n",
              "      <th>1</th>\n",
              "      <td>7.40</td>\n",
              "    </tr>\n",
              "    <tr>\n",
              "      <th>2</th>\n",
              "      <td>7.40</td>\n",
              "    </tr>\n",
              "    <tr>\n",
              "      <th>3</th>\n",
              "      <td>8.45</td>\n",
              "    </tr>\n",
              "    <tr>\n",
              "      <th>5</th>\n",
              "      <td>162.00</td>\n",
              "    </tr>\n",
              "    <tr>\n",
              "      <th>...</th>\n",
              "      <td>...</td>\n",
              "    </tr>\n",
              "    <tr>\n",
              "      <th>4995</th>\n",
              "      <td>63.00</td>\n",
              "    </tr>\n",
              "    <tr>\n",
              "      <th>4996</th>\n",
              "      <td>62.28</td>\n",
              "    </tr>\n",
              "    <tr>\n",
              "      <th>4997</th>\n",
              "      <td>62.28</td>\n",
              "    </tr>\n",
              "    <tr>\n",
              "      <th>4998</th>\n",
              "      <td>62.28</td>\n",
              "    </tr>\n",
              "    <tr>\n",
              "      <th>4999</th>\n",
              "      <td>63.00</td>\n",
              "    </tr>\n",
              "  </tbody>\n",
              "</table>\n",
              "<p>4736 rows × 1 columns</p>\n",
              "</div>"
            ],
            "text/plain": [
              "      sale_dollars\n",
              "0             7.40\n",
              "1             7.40\n",
              "2             7.40\n",
              "3             8.45\n",
              "5           162.00\n",
              "...            ...\n",
              "4995         63.00\n",
              "4996         62.28\n",
              "4997         62.28\n",
              "4998         62.28\n",
              "4999         63.00\n",
              "\n",
              "[4736 rows x 1 columns]"
            ]
          },
          "execution_count": 16,
          "metadata": {},
          "output_type": "execute_result"
        }
      ],
      "source": [
        "# Variabel baru yang menyimpan data yang sudah dibuang data anomalinya\n",
        "Variabel_Baru = df_IQR\n",
        "Variabel_Baru"
      ]
    },
    {
      "cell_type": "markdown",
      "metadata": {
        "id": "gYCaLBf2dSae"
      },
      "source": [
        "# Hasil"
      ]
    },
    {
      "cell_type": "markdown",
      "metadata": {
        "id": "7ZX3McmDgh5C"
      },
      "source": [
        "## Problem 1\n",
        "\n",
        "a. Apakah kedua kalimat memiliki konteks yang serupa? jika iya, mengapa dan jika tidak, mengapa (jawab berdasarkan hasil perhitungan cosine similaritynya)?\n",
        "    \n",
        "  Berdasarkan hasil nilai `Cosine Similarity`, bahwa kesamaan antara Kalimat 1 dan Kalimat 2 hanya 82.16%, artinya kalimat tersebut lumayan mirip\n",
        "\n",
        "\n",
        "---\n",
        "\n",
        "\n",
        "b. Jika meninjau dua buah vektor dan dihitung cosine similaritynya (cos theta), jelaskan secara singkat, jelas, padat apa makna cosine similarity yang bernilai 0 dan 1 (tinjau dari posisi dua vektor di koordinat kartesian)?\n",
        "\n",
        "  Berdasarkan hasil grafik panah yang menunjukkan Kalimat 1 dan Kalimat 2, terlihat juga bahwa  `Cosine Similarity` adalah sudut yang terbentuk antara kedua panah tersebut\n",
        "\n",
        "\n",
        "---\n",
        "\n",
        "\n",
        "c. Mengapa cosine similarity harus melibatkan vektor bukan matriks?\n",
        "\n",
        "  Cosine similarity melibatkan vektor karena saat melakukan plot grafik menggunakan vektor yang memiliki arah, sedangkan matriks tidak"
      ]
    },
    {
      "cell_type": "markdown",
      "metadata": {
        "id": "jvg35kdbuhmf"
      },
      "source": [
        "## Problem 2\n",
        "\n",
        "a. Berapa rata-rata, median, dan modus dari data tersebut sebelum dihilangkan outliernya? Bagaimana kecerendungan pemusatan datanya? jelaskan jawabanmu!\n",
        "\n",
        "Nilai Central Tendencynya antara lain:\n",
        "- Mean = 226.37\n",
        "- Median = 123.12\n",
        "- Modus = 94.2\n",
        "\n",
        "Berdasarkan nilai Mean dengan Median, datanya sangat tersebar, telihat dari jauhnya nilai Mean dengan Median, untuk nilai modus yang paling banyak muncul adalah nilai 94.2.\n",
        "\n",
        "\n",
        "---\n",
        "\n",
        "b. Sebelum melakukan extreme value analysis, kamu harus melakukan pengecekan skewness dari distribusi datanya. Apakah datanya skew atau normal? jelaskan jawabanmu!\n",
        "\n",
        "Nilai skewness dari data awal atau yang sebelum dihilangkan anomatinya, datanya sangat tinggi skewnessnya, dengan nilai 26.99, dari grafik skewness juga terlihat tidak terdistribusi dengan baik.\n",
        "\n",
        "\n",
        "---\n",
        "\n",
        "\n",
        "c. Ada dua teknik untuk melakukan extreme value analysis, teknik yang mana yang kamu pakai? berikan alasanmu berdasarkan data!\n",
        "\n",
        "Teknik yang dipakai dalam melakukan Extreme Value Analysis adalah teknik tukey's rule, karena datanya tidak simetris, sedangkan apabila ingin menggunakan zscore, data yang dipakai harus terdistribusi secara simetris.\n",
        "\n"
      ]
    }
  ],
  "metadata": {
    "colab": {
      "include_colab_link": true,
      "provenance": [],
      "toc_visible": true
    },
    "kernelspec": {
      "display_name": "Python 3",
      "name": "python3"
    },
    "language_info": {
      "codemirror_mode": {
        "name": "ipython",
        "version": 3
      },
      "file_extension": ".py",
      "mimetype": "text/x-python",
      "name": "python",
      "nbconvert_exporter": "python",
      "pygments_lexer": "ipython3",
      "version": "3.9.16"
    }
  },
  "nbformat": 4,
  "nbformat_minor": 0
}
