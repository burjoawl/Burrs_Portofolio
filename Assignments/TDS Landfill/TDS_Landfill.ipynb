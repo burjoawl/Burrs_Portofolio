{
  "nbformat": 4,
  "nbformat_minor": 0,
  "metadata": {
    "colab": {
      "provenance": [],
      "include_colab_link": true
    },
    "kernelspec": {
      "name": "python3",
      "display_name": "Python 3"
    },
    "language_info": {
      "name": "python"
    }
  },
  "cells": [
    {
      "cell_type": "markdown",
      "metadata": {
        "id": "view-in-github",
        "colab_type": "text"
      },
      "source": [
        "<a href=\"https://colab.research.google.com/github/burjoawl/Burrs_Portofolio/blob/main/TDS%20Landfill/TDS_Landfill.ipynb\" target=\"_parent\"><img src=\"https://colab.research.google.com/assets/colab-badge.svg\" alt=\"Open In Colab\"/></a>"
      ]
    },
    {
      "cell_type": "markdown",
      "source": [
        "## Query di BigQuery:\n",
        "```\n",
        "SELECT\n",
        "  report_date,\n",
        "  load_time,\n",
        "  load_type,\n",
        "  load_weight,\n",
        "  dropoff_site\n",
        "FROM\n",
        "  bigquery-public-data.austin_waste.waste_and_diversion\n",
        "WHERE\n",
        "  report_date BETWEEN '2021-01-1' AND '2021-07-9'\n",
        "```\n",
        "\n",
        "\n",
        "\n",
        "\n"
      ],
      "metadata": {
        "id": "7XDRrn32vlGV"
      }
    },
    {
      "cell_type": "markdown",
      "source": [
        "# Pustaka"
      ],
      "metadata": {
        "id": "6QLT7D55K56L"
      }
    },
    {
      "cell_type": "markdown",
      "source": [
        "## Mengimport library yang dibutuhkan untuk pengerjaan\n",
        "\n",
        "Memasukkan library yang akan digunakan seperti pandas dan numpy"
      ],
      "metadata": {
        "id": "o9-g6D2GrsOL"
      }
    },
    {
      "cell_type": "code",
      "source": [
        "import pandas as pd\n",
        "from scipy import stats\n",
        "import numpy as np\n",
        "import matplotlib.pyplot as plt\n",
        "import seaborn as sns"
      ],
      "metadata": {
        "id": "-yN3XfVfMZXG"
      },
      "execution_count": 59,
      "outputs": []
    },
    {
      "cell_type": "markdown",
      "source": [
        "# Problem 1"
      ],
      "metadata": {
        "id": "Ean9rYJ3cyKN"
      }
    },
    {
      "cell_type": "markdown",
      "source": [
        "## Data Loading\n",
        "\n",
        "Proses memuat data dan mempercantik data yang akan digunakan agar lebih memudahkan dan mudah dipahami"
      ],
      "metadata": {
        "id": "szC42hdkMbXP"
      }
    },
    {
      "cell_type": "markdown",
      "source": [
        "### Memasukkan data csv dan menyimpannya sebagai DataFrame\n",
        "\n",
        "Memuat data csv dan menjadikannya sebagai DataFrame yang disingkat menjadi df agar lebih singkat untuk proses pengetikan codingnya, dan memperlihatkan data 5 teratas dan 5 terbawah"
      ],
      "metadata": {
        "id": "f2bBkPMYrv5B"
      }
    },
    {
      "cell_type": "code",
      "execution_count": 60,
      "metadata": {
        "id": "FSxNiE6dqgZU",
        "colab": {
          "base_uri": "https://localhost:8080/"
        },
        "outputId": "b21161e1-e6f0-4d27-bb16-e64be1dddae3"
      },
      "outputs": [
        {
          "output_type": "stream",
          "name": "stdout",
          "text": [
            "Menampilkan 5 data teratas: \n",
            "   report_date                load_time load_type  load_weight dropoff_site\n",
            "0  2021-07-08  2021-07-08 12:00:00 UTC     TIRES       2260.0          MRF\n",
            "1  2021-07-08  2021-07-08 11:00:00 UTC     TIRES       1260.0          MRF\n",
            "2  2021-07-08  2021-07-08 03:00:00 UTC     TIRES        800.0          MRF\n",
            "3  2021-05-01  2021-05-01 12:29:00 UTC     TIRES        760.0          MRF\n",
            "4  2021-07-03  2021-07-03 12:09:00 UTC     TIRES       1400.0          MRF\n",
            "\n",
            "Menampilkan 5 data terbawah: \n",
            "       report_date                load_time       load_type  load_weight  \\\n",
            "26152  2021-03-01  2021-03-01 11:26:00 UTC        ORGANICS      12100.0   \n",
            "26153  2021-03-01  2021-03-01 04:27:00 UTC        ORGANICS      10900.0   \n",
            "26154  2021-03-01  2021-03-01 05:55:00 UTC        ORGANICS      21800.0   \n",
            "26155  2021-03-01  2021-03-02 01:10:00 UTC        ORGANICS       5640.0   \n",
            "26156  2021-03-01  2021-03-01 10:22:00 UTC  RECYCLED METAL        360.0   \n",
            "\n",
            "                dropoff_site  \n",
            "26152       ORGANICS BY GOSH  \n",
            "26153       ORGANICS BY GOSH  \n",
            "26154       ORGANICS BY GOSH  \n",
            "26155       ORGANICS BY GOSH  \n",
            "26156  AUSTIN IRON AND METAL  \n"
          ]
        }
      ],
      "source": [
        "df = pd.read_csv ('https://raw.githubusercontent.com/burjoawl/Burrs_Portofolio/main/TDS%20Landfill/TDS_Landfill.csv')\n",
        "\n",
        "print ('Menampilkan 5 data teratas: \\n', df.head(5))\n",
        "print ('')\n",
        "print ('Menampilkan 5 data terbawah: \\n', df.tail(5))"
      ]
    },
    {
      "cell_type": "markdown",
      "source": [
        "### Melihat informasi tipe data\n",
        "\n",
        "Pada tabel yang ada, hanya pada kolom `load_weight` yang bertipe *float64*, sedangkan yang lainnya bertipe *object*."
      ],
      "metadata": {
        "id": "24nFNvCVsbYt"
      }
    },
    {
      "cell_type": "code",
      "source": [
        "df.info()"
      ],
      "metadata": {
        "colab": {
          "base_uri": "https://localhost:8080/"
        },
        "id": "Q9LsSG_RMUsQ",
        "outputId": "53aaf2bf-8a92-4fdd-c42c-f4f39aaf0de5"
      },
      "execution_count": 61,
      "outputs": [
        {
          "output_type": "stream",
          "name": "stdout",
          "text": [
            "<class 'pandas.core.frame.DataFrame'>\n",
            "RangeIndex: 26157 entries, 0 to 26156\n",
            "Data columns (total 5 columns):\n",
            " #   Column        Non-Null Count  Dtype  \n",
            "---  ------        --------------  -----  \n",
            " 0   report_date   26157 non-null  object \n",
            " 1   load_time     26157 non-null  object \n",
            " 2   load_type     26157 non-null  object \n",
            " 3   load_weight   25109 non-null  float64\n",
            " 4   dropoff_site  26157 non-null  object \n",
            "dtypes: float64(1), object(4)\n",
            "memory usage: 1021.9+ KB\n"
          ]
        }
      ]
    },
    {
      "cell_type": "markdown",
      "source": [
        "### Mengecek jumlah data kosong\n",
        "\n",
        "Meliat jumlah data kosong pada setiap kolom, terdapat kolom kosong pada kolom `load_weight` yang berjumlah 1048 baris"
      ],
      "metadata": {
        "id": "xM5PAwzAsfrs"
      }
    },
    {
      "cell_type": "code",
      "source": [
        "df.isnull().sum()"
      ],
      "metadata": {
        "id": "MUqFcb0hQUVw",
        "colab": {
          "base_uri": "https://localhost:8080/"
        },
        "outputId": "51093614-467f-4899-8d21-beb387340752"
      },
      "execution_count": 62,
      "outputs": [
        {
          "output_type": "execute_result",
          "data": {
            "text/plain": [
              "report_date        0\n",
              "load_time          0\n",
              "load_type          0\n",
              "load_weight     1048\n",
              "dropoff_site       0\n",
              "dtype: int64"
            ]
          },
          "metadata": {},
          "execution_count": 62
        }
      ]
    },
    {
      "cell_type": "markdown",
      "source": [
        "### Mengisi data yang kosong\n",
        "\n",
        "Mengisi data yang kosong dengan menggunakan median dari nilai kolom yang kosong Disini kolom yang kosong adalah kolom `load_weight`, dan mengisinya menggunakan nilai median"
      ],
      "metadata": {
        "id": "LTLC3IgesmJ7"
      }
    },
    {
      "cell_type": "code",
      "source": [
        "Nilai_Median_Load_Weight = df['load_weight'].median()\n",
        "print ('Nilai median kolom \"load weight\" adalah: ', Nilai_Median_Load_Weight)\n",
        "\n",
        "df['load_weight'] = df['load_weight'].fillna(df['load_weight'].median())"
      ],
      "metadata": {
        "colab": {
          "base_uri": "https://localhost:8080/"
        },
        "id": "KKVKwGYvrNp8",
        "outputId": "0270fa7a-cd0f-4987-b0db-9f24e19386b9"
      },
      "execution_count": 63,
      "outputs": [
        {
          "output_type": "stream",
          "name": "stdout",
          "text": [
            "Nilai median kolom \"load weight\" adalah:  11300.0\n"
          ]
        }
      ]
    },
    {
      "cell_type": "markdown",
      "source": [
        "### Mengecek jumlah data kosong setelah pengisian\n",
        "\n",
        "Mengecek jumlah data kolom kosong setelah pengisian, terlihat sudah tidak ada kolom yang kosong"
      ],
      "metadata": {
        "id": "5bnNYAUwtwZg"
      }
    },
    {
      "cell_type": "code",
      "source": [
        "df.isnull().sum()"
      ],
      "metadata": {
        "colab": {
          "base_uri": "https://localhost:8080/"
        },
        "id": "SSZFurmYriA1",
        "outputId": "ddaa670b-4605-4c99-fa1a-794d0455ebe9"
      },
      "execution_count": 64,
      "outputs": [
        {
          "output_type": "execute_result",
          "data": {
            "text/plain": [
              "report_date     0\n",
              "load_time       0\n",
              "load_type       0\n",
              "load_weight     0\n",
              "dropoff_site    0\n",
              "dtype: int64"
            ]
          },
          "metadata": {},
          "execution_count": 64
        }
      ]
    },
    {
      "cell_type": "markdown",
      "source": [
        "### Merubah nama kolom\n",
        "\n",
        "Merubah nama kolom agar lebih sederhana dan mudah dipahami"
      ],
      "metadata": {
        "id": "BGH1RbXTv4Qs"
      }
    },
    {
      "cell_type": "code",
      "source": [
        "df.rename(columns={'report_date': 'Tanggal Laporan', 'load_time' : 'Waktu Memuat', 'load_type': 'Tipe Muatan', 'load_weight': 'Beban Muatan', 'dropoff_site':'Lokasi Pembuangan'}, inplace=True)\n",
        "df"
      ],
      "metadata": {
        "colab": {
          "base_uri": "https://localhost:8080/",
          "height": 424
        },
        "id": "I9dttiF1v7W0",
        "outputId": "a2152eb9-3c4f-4877-de51-c2217353b222"
      },
      "execution_count": 65,
      "outputs": [
        {
          "output_type": "execute_result",
          "data": {
            "text/plain": [
              "      Tanggal Laporan             Waktu Memuat     Tipe Muatan  Beban Muatan  \\\n",
              "0          2021-07-08  2021-07-08 12:00:00 UTC           TIRES        2260.0   \n",
              "1          2021-07-08  2021-07-08 11:00:00 UTC           TIRES        1260.0   \n",
              "2          2021-07-08  2021-07-08 03:00:00 UTC           TIRES         800.0   \n",
              "3          2021-05-01  2021-05-01 12:29:00 UTC           TIRES         760.0   \n",
              "4          2021-07-03  2021-07-03 12:09:00 UTC           TIRES        1400.0   \n",
              "...               ...                      ...             ...           ...   \n",
              "26152      2021-03-01  2021-03-01 11:26:00 UTC        ORGANICS       12100.0   \n",
              "26153      2021-03-01  2021-03-01 04:27:00 UTC        ORGANICS       10900.0   \n",
              "26154      2021-03-01  2021-03-01 05:55:00 UTC        ORGANICS       21800.0   \n",
              "26155      2021-03-01  2021-03-02 01:10:00 UTC        ORGANICS        5640.0   \n",
              "26156      2021-03-01  2021-03-01 10:22:00 UTC  RECYCLED METAL         360.0   \n",
              "\n",
              "           Lokasi Pembuangan  \n",
              "0                        MRF  \n",
              "1                        MRF  \n",
              "2                        MRF  \n",
              "3                        MRF  \n",
              "4                        MRF  \n",
              "...                      ...  \n",
              "26152       ORGANICS BY GOSH  \n",
              "26153       ORGANICS BY GOSH  \n",
              "26154       ORGANICS BY GOSH  \n",
              "26155       ORGANICS BY GOSH  \n",
              "26156  AUSTIN IRON AND METAL  \n",
              "\n",
              "[26157 rows x 5 columns]"
            ],
            "text/html": [
              "\n",
              "  <div id=\"df-6d5ea531-c4a9-4bd2-8666-a7fe57669a80\" class=\"colab-df-container\">\n",
              "    <div>\n",
              "<style scoped>\n",
              "    .dataframe tbody tr th:only-of-type {\n",
              "        vertical-align: middle;\n",
              "    }\n",
              "\n",
              "    .dataframe tbody tr th {\n",
              "        vertical-align: top;\n",
              "    }\n",
              "\n",
              "    .dataframe thead th {\n",
              "        text-align: right;\n",
              "    }\n",
              "</style>\n",
              "<table border=\"1\" class=\"dataframe\">\n",
              "  <thead>\n",
              "    <tr style=\"text-align: right;\">\n",
              "      <th></th>\n",
              "      <th>Tanggal Laporan</th>\n",
              "      <th>Waktu Memuat</th>\n",
              "      <th>Tipe Muatan</th>\n",
              "      <th>Beban Muatan</th>\n",
              "      <th>Lokasi Pembuangan</th>\n",
              "    </tr>\n",
              "  </thead>\n",
              "  <tbody>\n",
              "    <tr>\n",
              "      <th>0</th>\n",
              "      <td>2021-07-08</td>\n",
              "      <td>2021-07-08 12:00:00 UTC</td>\n",
              "      <td>TIRES</td>\n",
              "      <td>2260.0</td>\n",
              "      <td>MRF</td>\n",
              "    </tr>\n",
              "    <tr>\n",
              "      <th>1</th>\n",
              "      <td>2021-07-08</td>\n",
              "      <td>2021-07-08 11:00:00 UTC</td>\n",
              "      <td>TIRES</td>\n",
              "      <td>1260.0</td>\n",
              "      <td>MRF</td>\n",
              "    </tr>\n",
              "    <tr>\n",
              "      <th>2</th>\n",
              "      <td>2021-07-08</td>\n",
              "      <td>2021-07-08 03:00:00 UTC</td>\n",
              "      <td>TIRES</td>\n",
              "      <td>800.0</td>\n",
              "      <td>MRF</td>\n",
              "    </tr>\n",
              "    <tr>\n",
              "      <th>3</th>\n",
              "      <td>2021-05-01</td>\n",
              "      <td>2021-05-01 12:29:00 UTC</td>\n",
              "      <td>TIRES</td>\n",
              "      <td>760.0</td>\n",
              "      <td>MRF</td>\n",
              "    </tr>\n",
              "    <tr>\n",
              "      <th>4</th>\n",
              "      <td>2021-07-03</td>\n",
              "      <td>2021-07-03 12:09:00 UTC</td>\n",
              "      <td>TIRES</td>\n",
              "      <td>1400.0</td>\n",
              "      <td>MRF</td>\n",
              "    </tr>\n",
              "    <tr>\n",
              "      <th>...</th>\n",
              "      <td>...</td>\n",
              "      <td>...</td>\n",
              "      <td>...</td>\n",
              "      <td>...</td>\n",
              "      <td>...</td>\n",
              "    </tr>\n",
              "    <tr>\n",
              "      <th>26152</th>\n",
              "      <td>2021-03-01</td>\n",
              "      <td>2021-03-01 11:26:00 UTC</td>\n",
              "      <td>ORGANICS</td>\n",
              "      <td>12100.0</td>\n",
              "      <td>ORGANICS BY GOSH</td>\n",
              "    </tr>\n",
              "    <tr>\n",
              "      <th>26153</th>\n",
              "      <td>2021-03-01</td>\n",
              "      <td>2021-03-01 04:27:00 UTC</td>\n",
              "      <td>ORGANICS</td>\n",
              "      <td>10900.0</td>\n",
              "      <td>ORGANICS BY GOSH</td>\n",
              "    </tr>\n",
              "    <tr>\n",
              "      <th>26154</th>\n",
              "      <td>2021-03-01</td>\n",
              "      <td>2021-03-01 05:55:00 UTC</td>\n",
              "      <td>ORGANICS</td>\n",
              "      <td>21800.0</td>\n",
              "      <td>ORGANICS BY GOSH</td>\n",
              "    </tr>\n",
              "    <tr>\n",
              "      <th>26155</th>\n",
              "      <td>2021-03-01</td>\n",
              "      <td>2021-03-02 01:10:00 UTC</td>\n",
              "      <td>ORGANICS</td>\n",
              "      <td>5640.0</td>\n",
              "      <td>ORGANICS BY GOSH</td>\n",
              "    </tr>\n",
              "    <tr>\n",
              "      <th>26156</th>\n",
              "      <td>2021-03-01</td>\n",
              "      <td>2021-03-01 10:22:00 UTC</td>\n",
              "      <td>RECYCLED METAL</td>\n",
              "      <td>360.0</td>\n",
              "      <td>AUSTIN IRON AND METAL</td>\n",
              "    </tr>\n",
              "  </tbody>\n",
              "</table>\n",
              "<p>26157 rows × 5 columns</p>\n",
              "</div>\n",
              "    <div class=\"colab-df-buttons\">\n",
              "\n",
              "  <div class=\"colab-df-container\">\n",
              "    <button class=\"colab-df-convert\" onclick=\"convertToInteractive('df-6d5ea531-c4a9-4bd2-8666-a7fe57669a80')\"\n",
              "            title=\"Convert this dataframe to an interactive table.\"\n",
              "            style=\"display:none;\">\n",
              "\n",
              "  <svg xmlns=\"http://www.w3.org/2000/svg\" height=\"24px\" viewBox=\"0 -960 960 960\">\n",
              "    <path d=\"M120-120v-720h720v720H120Zm60-500h600v-160H180v160Zm220 220h160v-160H400v160Zm0 220h160v-160H400v160ZM180-400h160v-160H180v160Zm440 0h160v-160H620v160ZM180-180h160v-160H180v160Zm440 0h160v-160H620v160Z\"/>\n",
              "  </svg>\n",
              "    </button>\n",
              "\n",
              "  <style>\n",
              "    .colab-df-container {\n",
              "      display:flex;\n",
              "      gap: 12px;\n",
              "    }\n",
              "\n",
              "    .colab-df-convert {\n",
              "      background-color: #E8F0FE;\n",
              "      border: none;\n",
              "      border-radius: 50%;\n",
              "      cursor: pointer;\n",
              "      display: none;\n",
              "      fill: #1967D2;\n",
              "      height: 32px;\n",
              "      padding: 0 0 0 0;\n",
              "      width: 32px;\n",
              "    }\n",
              "\n",
              "    .colab-df-convert:hover {\n",
              "      background-color: #E2EBFA;\n",
              "      box-shadow: 0px 1px 2px rgba(60, 64, 67, 0.3), 0px 1px 3px 1px rgba(60, 64, 67, 0.15);\n",
              "      fill: #174EA6;\n",
              "    }\n",
              "\n",
              "    .colab-df-buttons div {\n",
              "      margin-bottom: 4px;\n",
              "    }\n",
              "\n",
              "    [theme=dark] .colab-df-convert {\n",
              "      background-color: #3B4455;\n",
              "      fill: #D2E3FC;\n",
              "    }\n",
              "\n",
              "    [theme=dark] .colab-df-convert:hover {\n",
              "      background-color: #434B5C;\n",
              "      box-shadow: 0px 1px 3px 1px rgba(0, 0, 0, 0.15);\n",
              "      filter: drop-shadow(0px 1px 2px rgba(0, 0, 0, 0.3));\n",
              "      fill: #FFFFFF;\n",
              "    }\n",
              "  </style>\n",
              "\n",
              "    <script>\n",
              "      const buttonEl =\n",
              "        document.querySelector('#df-6d5ea531-c4a9-4bd2-8666-a7fe57669a80 button.colab-df-convert');\n",
              "      buttonEl.style.display =\n",
              "        google.colab.kernel.accessAllowed ? 'block' : 'none';\n",
              "\n",
              "      async function convertToInteractive(key) {\n",
              "        const element = document.querySelector('#df-6d5ea531-c4a9-4bd2-8666-a7fe57669a80');\n",
              "        const dataTable =\n",
              "          await google.colab.kernel.invokeFunction('convertToInteractive',\n",
              "                                                    [key], {});\n",
              "        if (!dataTable) return;\n",
              "\n",
              "        const docLinkHtml = 'Like what you see? Visit the ' +\n",
              "          '<a target=\"_blank\" href=https://colab.research.google.com/notebooks/data_table.ipynb>data table notebook</a>'\n",
              "          + ' to learn more about interactive tables.';\n",
              "        element.innerHTML = '';\n",
              "        dataTable['output_type'] = 'display_data';\n",
              "        await google.colab.output.renderOutput(dataTable, element);\n",
              "        const docLink = document.createElement('div');\n",
              "        docLink.innerHTML = docLinkHtml;\n",
              "        element.appendChild(docLink);\n",
              "      }\n",
              "    </script>\n",
              "  </div>\n",
              "\n",
              "\n",
              "<div id=\"df-11986a8c-f02e-4e1d-915b-ca8b6af280f6\">\n",
              "  <button class=\"colab-df-quickchart\" onclick=\"quickchart('df-11986a8c-f02e-4e1d-915b-ca8b6af280f6')\"\n",
              "            title=\"Suggest charts.\"\n",
              "            style=\"display:none;\">\n",
              "\n",
              "<svg xmlns=\"http://www.w3.org/2000/svg\" height=\"24px\"viewBox=\"0 0 24 24\"\n",
              "     width=\"24px\">\n",
              "    <g>\n",
              "        <path d=\"M19 3H5c-1.1 0-2 .9-2 2v14c0 1.1.9 2 2 2h14c1.1 0 2-.9 2-2V5c0-1.1-.9-2-2-2zM9 17H7v-7h2v7zm4 0h-2V7h2v10zm4 0h-2v-4h2v4z\"/>\n",
              "    </g>\n",
              "</svg>\n",
              "  </button>\n",
              "\n",
              "<style>\n",
              "  .colab-df-quickchart {\n",
              "      --bg-color: #E8F0FE;\n",
              "      --fill-color: #1967D2;\n",
              "      --hover-bg-color: #E2EBFA;\n",
              "      --hover-fill-color: #174EA6;\n",
              "      --disabled-fill-color: #AAA;\n",
              "      --disabled-bg-color: #DDD;\n",
              "  }\n",
              "\n",
              "  [theme=dark] .colab-df-quickchart {\n",
              "      --bg-color: #3B4455;\n",
              "      --fill-color: #D2E3FC;\n",
              "      --hover-bg-color: #434B5C;\n",
              "      --hover-fill-color: #FFFFFF;\n",
              "      --disabled-bg-color: #3B4455;\n",
              "      --disabled-fill-color: #666;\n",
              "  }\n",
              "\n",
              "  .colab-df-quickchart {\n",
              "    background-color: var(--bg-color);\n",
              "    border: none;\n",
              "    border-radius: 50%;\n",
              "    cursor: pointer;\n",
              "    display: none;\n",
              "    fill: var(--fill-color);\n",
              "    height: 32px;\n",
              "    padding: 0;\n",
              "    width: 32px;\n",
              "  }\n",
              "\n",
              "  .colab-df-quickchart:hover {\n",
              "    background-color: var(--hover-bg-color);\n",
              "    box-shadow: 0 1px 2px rgba(60, 64, 67, 0.3), 0 1px 3px 1px rgba(60, 64, 67, 0.15);\n",
              "    fill: var(--button-hover-fill-color);\n",
              "  }\n",
              "\n",
              "  .colab-df-quickchart-complete:disabled,\n",
              "  .colab-df-quickchart-complete:disabled:hover {\n",
              "    background-color: var(--disabled-bg-color);\n",
              "    fill: var(--disabled-fill-color);\n",
              "    box-shadow: none;\n",
              "  }\n",
              "\n",
              "  .colab-df-spinner {\n",
              "    border: 2px solid var(--fill-color);\n",
              "    border-color: transparent;\n",
              "    border-bottom-color: var(--fill-color);\n",
              "    animation:\n",
              "      spin 1s steps(1) infinite;\n",
              "  }\n",
              "\n",
              "  @keyframes spin {\n",
              "    0% {\n",
              "      border-color: transparent;\n",
              "      border-bottom-color: var(--fill-color);\n",
              "      border-left-color: var(--fill-color);\n",
              "    }\n",
              "    20% {\n",
              "      border-color: transparent;\n",
              "      border-left-color: var(--fill-color);\n",
              "      border-top-color: var(--fill-color);\n",
              "    }\n",
              "    30% {\n",
              "      border-color: transparent;\n",
              "      border-left-color: var(--fill-color);\n",
              "      border-top-color: var(--fill-color);\n",
              "      border-right-color: var(--fill-color);\n",
              "    }\n",
              "    40% {\n",
              "      border-color: transparent;\n",
              "      border-right-color: var(--fill-color);\n",
              "      border-top-color: var(--fill-color);\n",
              "    }\n",
              "    60% {\n",
              "      border-color: transparent;\n",
              "      border-right-color: var(--fill-color);\n",
              "    }\n",
              "    80% {\n",
              "      border-color: transparent;\n",
              "      border-right-color: var(--fill-color);\n",
              "      border-bottom-color: var(--fill-color);\n",
              "    }\n",
              "    90% {\n",
              "      border-color: transparent;\n",
              "      border-bottom-color: var(--fill-color);\n",
              "    }\n",
              "  }\n",
              "</style>\n",
              "\n",
              "  <script>\n",
              "    async function quickchart(key) {\n",
              "      const quickchartButtonEl =\n",
              "        document.querySelector('#' + key + ' button');\n",
              "      quickchartButtonEl.disabled = true;  // To prevent multiple clicks.\n",
              "      quickchartButtonEl.classList.add('colab-df-spinner');\n",
              "      try {\n",
              "        const charts = await google.colab.kernel.invokeFunction(\n",
              "            'suggestCharts', [key], {});\n",
              "      } catch (error) {\n",
              "        console.error('Error during call to suggestCharts:', error);\n",
              "      }\n",
              "      quickchartButtonEl.classList.remove('colab-df-spinner');\n",
              "      quickchartButtonEl.classList.add('colab-df-quickchart-complete');\n",
              "    }\n",
              "    (() => {\n",
              "      let quickchartButtonEl =\n",
              "        document.querySelector('#df-11986a8c-f02e-4e1d-915b-ca8b6af280f6 button');\n",
              "      quickchartButtonEl.style.display =\n",
              "        google.colab.kernel.accessAllowed ? 'block' : 'none';\n",
              "    })();\n",
              "  </script>\n",
              "</div>\n",
              "    </div>\n",
              "  </div>\n"
            ]
          },
          "metadata": {},
          "execution_count": 65
        }
      ]
    },
    {
      "cell_type": "markdown",
      "source": [
        "## Eksplorasi Data"
      ],
      "metadata": {
        "id": "jim3laioujwN"
      }
    },
    {
      "cell_type": "markdown",
      "source": [
        "### Mengecek rentang waktu\n",
        "\n",
        "Diurutkan waktu pada `Tanggal Laporan` dari awal sampai akhir, terlihat rentang waktu dari tanggal **1 Januari 2021** sampai tanggal **9 Juli 2021**"
      ],
      "metadata": {
        "id": "4PMZ1x8gulo4"
      }
    },
    {
      "cell_type": "code",
      "source": [
        "df.sort_values(by=['Tanggal Laporan', 'Waktu Memuat'], ascending = True, inplace = True)\n",
        "df"
      ],
      "metadata": {
        "colab": {
          "base_uri": "https://localhost:8080/",
          "height": 424
        },
        "id": "J2AR9kAqupZb",
        "outputId": "abd26404-de50-4e6f-cc78-d73bc91b7bf2"
      },
      "execution_count": 66,
      "outputs": [
        {
          "output_type": "execute_result",
          "data": {
            "text/plain": [
              "      Tanggal Laporan             Waktu Memuat    Tipe Muatan  Beban Muatan  \\\n",
              "123        2021-01-01  2021-01-01 12:00:00 UTC       SWEEPING       11300.0   \n",
              "124        2021-01-01  2021-01-01 12:00:00 UTC       SWEEPING       11300.0   \n",
              "125        2021-01-01  2021-01-01 12:00:00 UTC       SWEEPING       11300.0   \n",
              "126        2021-01-01  2021-01-01 12:00:00 UTC       SWEEPING       11300.0   \n",
              "19139      2021-01-02  2021-01-02 01:02:00 UTC  YARD TRIMMING       17660.0   \n",
              "...               ...                      ...            ...           ...   \n",
              "148        2021-07-09  2021-07-09 12:00:00 UTC       SWEEPING       11300.0   \n",
              "608        2021-07-09  2021-07-09 12:00:00 UTC         LITTER        1900.0   \n",
              "609        2021-07-09  2021-07-09 12:00:00 UTC         LITTER        3040.0   \n",
              "220        2021-07-09  2021-07-09 12:02:00 UTC          BRUSH        4160.0   \n",
              "214        2021-07-09  2021-07-09 12:39:00 UTC          BRUSH        7140.0   \n",
              "\n",
              "      Lokasi Pembuangan  \n",
              "123         ONION CREEK  \n",
              "124         ONION CREEK  \n",
              "125         ONION CREEK  \n",
              "126         ONION CREEK  \n",
              "19139      HORNSBY BEND  \n",
              "...                 ...  \n",
              "148         ONION CREEK  \n",
              "608        TDS LANDFILL  \n",
              "609        TDS LANDFILL  \n",
              "220        HORNSBY BEND  \n",
              "214        HORNSBY BEND  \n",
              "\n",
              "[26157 rows x 5 columns]"
            ],
            "text/html": [
              "\n",
              "  <div id=\"df-61e1340f-4099-4bf4-aa41-e40cd192c8af\" class=\"colab-df-container\">\n",
              "    <div>\n",
              "<style scoped>\n",
              "    .dataframe tbody tr th:only-of-type {\n",
              "        vertical-align: middle;\n",
              "    }\n",
              "\n",
              "    .dataframe tbody tr th {\n",
              "        vertical-align: top;\n",
              "    }\n",
              "\n",
              "    .dataframe thead th {\n",
              "        text-align: right;\n",
              "    }\n",
              "</style>\n",
              "<table border=\"1\" class=\"dataframe\">\n",
              "  <thead>\n",
              "    <tr style=\"text-align: right;\">\n",
              "      <th></th>\n",
              "      <th>Tanggal Laporan</th>\n",
              "      <th>Waktu Memuat</th>\n",
              "      <th>Tipe Muatan</th>\n",
              "      <th>Beban Muatan</th>\n",
              "      <th>Lokasi Pembuangan</th>\n",
              "    </tr>\n",
              "  </thead>\n",
              "  <tbody>\n",
              "    <tr>\n",
              "      <th>123</th>\n",
              "      <td>2021-01-01</td>\n",
              "      <td>2021-01-01 12:00:00 UTC</td>\n",
              "      <td>SWEEPING</td>\n",
              "      <td>11300.0</td>\n",
              "      <td>ONION CREEK</td>\n",
              "    </tr>\n",
              "    <tr>\n",
              "      <th>124</th>\n",
              "      <td>2021-01-01</td>\n",
              "      <td>2021-01-01 12:00:00 UTC</td>\n",
              "      <td>SWEEPING</td>\n",
              "      <td>11300.0</td>\n",
              "      <td>ONION CREEK</td>\n",
              "    </tr>\n",
              "    <tr>\n",
              "      <th>125</th>\n",
              "      <td>2021-01-01</td>\n",
              "      <td>2021-01-01 12:00:00 UTC</td>\n",
              "      <td>SWEEPING</td>\n",
              "      <td>11300.0</td>\n",
              "      <td>ONION CREEK</td>\n",
              "    </tr>\n",
              "    <tr>\n",
              "      <th>126</th>\n",
              "      <td>2021-01-01</td>\n",
              "      <td>2021-01-01 12:00:00 UTC</td>\n",
              "      <td>SWEEPING</td>\n",
              "      <td>11300.0</td>\n",
              "      <td>ONION CREEK</td>\n",
              "    </tr>\n",
              "    <tr>\n",
              "      <th>19139</th>\n",
              "      <td>2021-01-02</td>\n",
              "      <td>2021-01-02 01:02:00 UTC</td>\n",
              "      <td>YARD TRIMMING</td>\n",
              "      <td>17660.0</td>\n",
              "      <td>HORNSBY BEND</td>\n",
              "    </tr>\n",
              "    <tr>\n",
              "      <th>...</th>\n",
              "      <td>...</td>\n",
              "      <td>...</td>\n",
              "      <td>...</td>\n",
              "      <td>...</td>\n",
              "      <td>...</td>\n",
              "    </tr>\n",
              "    <tr>\n",
              "      <th>148</th>\n",
              "      <td>2021-07-09</td>\n",
              "      <td>2021-07-09 12:00:00 UTC</td>\n",
              "      <td>SWEEPING</td>\n",
              "      <td>11300.0</td>\n",
              "      <td>ONION CREEK</td>\n",
              "    </tr>\n",
              "    <tr>\n",
              "      <th>608</th>\n",
              "      <td>2021-07-09</td>\n",
              "      <td>2021-07-09 12:00:00 UTC</td>\n",
              "      <td>LITTER</td>\n",
              "      <td>1900.0</td>\n",
              "      <td>TDS LANDFILL</td>\n",
              "    </tr>\n",
              "    <tr>\n",
              "      <th>609</th>\n",
              "      <td>2021-07-09</td>\n",
              "      <td>2021-07-09 12:00:00 UTC</td>\n",
              "      <td>LITTER</td>\n",
              "      <td>3040.0</td>\n",
              "      <td>TDS LANDFILL</td>\n",
              "    </tr>\n",
              "    <tr>\n",
              "      <th>220</th>\n",
              "      <td>2021-07-09</td>\n",
              "      <td>2021-07-09 12:02:00 UTC</td>\n",
              "      <td>BRUSH</td>\n",
              "      <td>4160.0</td>\n",
              "      <td>HORNSBY BEND</td>\n",
              "    </tr>\n",
              "    <tr>\n",
              "      <th>214</th>\n",
              "      <td>2021-07-09</td>\n",
              "      <td>2021-07-09 12:39:00 UTC</td>\n",
              "      <td>BRUSH</td>\n",
              "      <td>7140.0</td>\n",
              "      <td>HORNSBY BEND</td>\n",
              "    </tr>\n",
              "  </tbody>\n",
              "</table>\n",
              "<p>26157 rows × 5 columns</p>\n",
              "</div>\n",
              "    <div class=\"colab-df-buttons\">\n",
              "\n",
              "  <div class=\"colab-df-container\">\n",
              "    <button class=\"colab-df-convert\" onclick=\"convertToInteractive('df-61e1340f-4099-4bf4-aa41-e40cd192c8af')\"\n",
              "            title=\"Convert this dataframe to an interactive table.\"\n",
              "            style=\"display:none;\">\n",
              "\n",
              "  <svg xmlns=\"http://www.w3.org/2000/svg\" height=\"24px\" viewBox=\"0 -960 960 960\">\n",
              "    <path d=\"M120-120v-720h720v720H120Zm60-500h600v-160H180v160Zm220 220h160v-160H400v160Zm0 220h160v-160H400v160ZM180-400h160v-160H180v160Zm440 0h160v-160H620v160ZM180-180h160v-160H180v160Zm440 0h160v-160H620v160Z\"/>\n",
              "  </svg>\n",
              "    </button>\n",
              "\n",
              "  <style>\n",
              "    .colab-df-container {\n",
              "      display:flex;\n",
              "      gap: 12px;\n",
              "    }\n",
              "\n",
              "    .colab-df-convert {\n",
              "      background-color: #E8F0FE;\n",
              "      border: none;\n",
              "      border-radius: 50%;\n",
              "      cursor: pointer;\n",
              "      display: none;\n",
              "      fill: #1967D2;\n",
              "      height: 32px;\n",
              "      padding: 0 0 0 0;\n",
              "      width: 32px;\n",
              "    }\n",
              "\n",
              "    .colab-df-convert:hover {\n",
              "      background-color: #E2EBFA;\n",
              "      box-shadow: 0px 1px 2px rgba(60, 64, 67, 0.3), 0px 1px 3px 1px rgba(60, 64, 67, 0.15);\n",
              "      fill: #174EA6;\n",
              "    }\n",
              "\n",
              "    .colab-df-buttons div {\n",
              "      margin-bottom: 4px;\n",
              "    }\n",
              "\n",
              "    [theme=dark] .colab-df-convert {\n",
              "      background-color: #3B4455;\n",
              "      fill: #D2E3FC;\n",
              "    }\n",
              "\n",
              "    [theme=dark] .colab-df-convert:hover {\n",
              "      background-color: #434B5C;\n",
              "      box-shadow: 0px 1px 3px 1px rgba(0, 0, 0, 0.15);\n",
              "      filter: drop-shadow(0px 1px 2px rgba(0, 0, 0, 0.3));\n",
              "      fill: #FFFFFF;\n",
              "    }\n",
              "  </style>\n",
              "\n",
              "    <script>\n",
              "      const buttonEl =\n",
              "        document.querySelector('#df-61e1340f-4099-4bf4-aa41-e40cd192c8af button.colab-df-convert');\n",
              "      buttonEl.style.display =\n",
              "        google.colab.kernel.accessAllowed ? 'block' : 'none';\n",
              "\n",
              "      async function convertToInteractive(key) {\n",
              "        const element = document.querySelector('#df-61e1340f-4099-4bf4-aa41-e40cd192c8af');\n",
              "        const dataTable =\n",
              "          await google.colab.kernel.invokeFunction('convertToInteractive',\n",
              "                                                    [key], {});\n",
              "        if (!dataTable) return;\n",
              "\n",
              "        const docLinkHtml = 'Like what you see? Visit the ' +\n",
              "          '<a target=\"_blank\" href=https://colab.research.google.com/notebooks/data_table.ipynb>data table notebook</a>'\n",
              "          + ' to learn more about interactive tables.';\n",
              "        element.innerHTML = '';\n",
              "        dataTable['output_type'] = 'display_data';\n",
              "        await google.colab.output.renderOutput(dataTable, element);\n",
              "        const docLink = document.createElement('div');\n",
              "        docLink.innerHTML = docLinkHtml;\n",
              "        element.appendChild(docLink);\n",
              "      }\n",
              "    </script>\n",
              "  </div>\n",
              "\n",
              "\n",
              "<div id=\"df-12174d13-ab78-4389-97e7-dc50b0382cc3\">\n",
              "  <button class=\"colab-df-quickchart\" onclick=\"quickchart('df-12174d13-ab78-4389-97e7-dc50b0382cc3')\"\n",
              "            title=\"Suggest charts.\"\n",
              "            style=\"display:none;\">\n",
              "\n",
              "<svg xmlns=\"http://www.w3.org/2000/svg\" height=\"24px\"viewBox=\"0 0 24 24\"\n",
              "     width=\"24px\">\n",
              "    <g>\n",
              "        <path d=\"M19 3H5c-1.1 0-2 .9-2 2v14c0 1.1.9 2 2 2h14c1.1 0 2-.9 2-2V5c0-1.1-.9-2-2-2zM9 17H7v-7h2v7zm4 0h-2V7h2v10zm4 0h-2v-4h2v4z\"/>\n",
              "    </g>\n",
              "</svg>\n",
              "  </button>\n",
              "\n",
              "<style>\n",
              "  .colab-df-quickchart {\n",
              "      --bg-color: #E8F0FE;\n",
              "      --fill-color: #1967D2;\n",
              "      --hover-bg-color: #E2EBFA;\n",
              "      --hover-fill-color: #174EA6;\n",
              "      --disabled-fill-color: #AAA;\n",
              "      --disabled-bg-color: #DDD;\n",
              "  }\n",
              "\n",
              "  [theme=dark] .colab-df-quickchart {\n",
              "      --bg-color: #3B4455;\n",
              "      --fill-color: #D2E3FC;\n",
              "      --hover-bg-color: #434B5C;\n",
              "      --hover-fill-color: #FFFFFF;\n",
              "      --disabled-bg-color: #3B4455;\n",
              "      --disabled-fill-color: #666;\n",
              "  }\n",
              "\n",
              "  .colab-df-quickchart {\n",
              "    background-color: var(--bg-color);\n",
              "    border: none;\n",
              "    border-radius: 50%;\n",
              "    cursor: pointer;\n",
              "    display: none;\n",
              "    fill: var(--fill-color);\n",
              "    height: 32px;\n",
              "    padding: 0;\n",
              "    width: 32px;\n",
              "  }\n",
              "\n",
              "  .colab-df-quickchart:hover {\n",
              "    background-color: var(--hover-bg-color);\n",
              "    box-shadow: 0 1px 2px rgba(60, 64, 67, 0.3), 0 1px 3px 1px rgba(60, 64, 67, 0.15);\n",
              "    fill: var(--button-hover-fill-color);\n",
              "  }\n",
              "\n",
              "  .colab-df-quickchart-complete:disabled,\n",
              "  .colab-df-quickchart-complete:disabled:hover {\n",
              "    background-color: var(--disabled-bg-color);\n",
              "    fill: var(--disabled-fill-color);\n",
              "    box-shadow: none;\n",
              "  }\n",
              "\n",
              "  .colab-df-spinner {\n",
              "    border: 2px solid var(--fill-color);\n",
              "    border-color: transparent;\n",
              "    border-bottom-color: var(--fill-color);\n",
              "    animation:\n",
              "      spin 1s steps(1) infinite;\n",
              "  }\n",
              "\n",
              "  @keyframes spin {\n",
              "    0% {\n",
              "      border-color: transparent;\n",
              "      border-bottom-color: var(--fill-color);\n",
              "      border-left-color: var(--fill-color);\n",
              "    }\n",
              "    20% {\n",
              "      border-color: transparent;\n",
              "      border-left-color: var(--fill-color);\n",
              "      border-top-color: var(--fill-color);\n",
              "    }\n",
              "    30% {\n",
              "      border-color: transparent;\n",
              "      border-left-color: var(--fill-color);\n",
              "      border-top-color: var(--fill-color);\n",
              "      border-right-color: var(--fill-color);\n",
              "    }\n",
              "    40% {\n",
              "      border-color: transparent;\n",
              "      border-right-color: var(--fill-color);\n",
              "      border-top-color: var(--fill-color);\n",
              "    }\n",
              "    60% {\n",
              "      border-color: transparent;\n",
              "      border-right-color: var(--fill-color);\n",
              "    }\n",
              "    80% {\n",
              "      border-color: transparent;\n",
              "      border-right-color: var(--fill-color);\n",
              "      border-bottom-color: var(--fill-color);\n",
              "    }\n",
              "    90% {\n",
              "      border-color: transparent;\n",
              "      border-bottom-color: var(--fill-color);\n",
              "    }\n",
              "  }\n",
              "</style>\n",
              "\n",
              "  <script>\n",
              "    async function quickchart(key) {\n",
              "      const quickchartButtonEl =\n",
              "        document.querySelector('#' + key + ' button');\n",
              "      quickchartButtonEl.disabled = true;  // To prevent multiple clicks.\n",
              "      quickchartButtonEl.classList.add('colab-df-spinner');\n",
              "      try {\n",
              "        const charts = await google.colab.kernel.invokeFunction(\n",
              "            'suggestCharts', [key], {});\n",
              "      } catch (error) {\n",
              "        console.error('Error during call to suggestCharts:', error);\n",
              "      }\n",
              "      quickchartButtonEl.classList.remove('colab-df-spinner');\n",
              "      quickchartButtonEl.classList.add('colab-df-quickchart-complete');\n",
              "    }\n",
              "    (() => {\n",
              "      let quickchartButtonEl =\n",
              "        document.querySelector('#df-12174d13-ab78-4389-97e7-dc50b0382cc3 button');\n",
              "      quickchartButtonEl.style.display =\n",
              "        google.colab.kernel.accessAllowed ? 'block' : 'none';\n",
              "    })();\n",
              "  </script>\n",
              "</div>\n",
              "    </div>\n",
              "  </div>\n"
            ]
          },
          "metadata": {},
          "execution_count": 66
        }
      ]
    },
    {
      "cell_type": "markdown",
      "source": [
        "### Mengecek macam macam tipe muatan\n",
        "\n",
        "Terlihat ada 14 `Tipe Muatan` yang terdapat pada data"
      ],
      "metadata": {
        "id": "ASxvqerSy_KB"
      }
    },
    {
      "cell_type": "code",
      "source": [
        "Jumlah_Tipe_Muatan = df[\"Tipe Muatan\"].nunique()\n",
        "print ('Tipe muatan terdapat ', Jumlah_Tipe_Muatan, 'buah')\n",
        "\n",
        "Macam_Tipe_Muatan = df['Tipe Muatan'].unique()\n",
        "print ('Yaitu: ', Macam_Tipe_Muatan)"
      ],
      "metadata": {
        "colab": {
          "base_uri": "https://localhost:8080/"
        },
        "id": "_nPr07CKzKtS",
        "outputId": "00009427-995e-47aa-8fe1-f3b213cff8b8"
      },
      "execution_count": 67,
      "outputs": [
        {
          "output_type": "stream",
          "name": "stdout",
          "text": [
            "Tipe muatan terdapat  14 buah\n",
            "Yaitu:  ['SWEEPING' 'YARD TRIMMING' 'GARBAGE COLLECTIONS'\n",
            " 'RECYCLING - SINGLE STREAM' 'ORGANICS' 'BULK' 'DEAD ANIMAL'\n",
            " 'MIXED LITTER' 'TIRES' 'BRUSH' 'RECYCLED METAL' 'LITTER'\n",
            " 'CONTAMINATED RECYCLING' 'CONTAMINATED ORGANICS']\n"
          ]
        }
      ]
    },
    {
      "cell_type": "markdown",
      "source": [
        "### Mengecek macam lokasi pembuangan\n",
        "\n",
        "Terdapat 18 macam `Lokasi Pembuangan` yang tedapat pada data"
      ],
      "metadata": {
        "id": "Qyj9tL4i9I2K"
      }
    },
    {
      "cell_type": "code",
      "source": [
        "Jumlah_Lokasi_Pembuangan = df[\"Lokasi Pembuangan\"].nunique()\n",
        "print ('Lokasi pembuangan terdapat ', Jumlah_Lokasi_Pembuangan, 'buah')\n",
        "\n",
        "Macam_Lokasi_Pembuangan = df['Lokasi Pembuangan'].unique()\n",
        "print ('Yaitu: ', Macam_Lokasi_Pembuangan)"
      ],
      "metadata": {
        "colab": {
          "base_uri": "https://localhost:8080/"
        },
        "id": "kOO86aeS80Ks",
        "outputId": "30c697ef-ef12-49bf-dc99-c225020ba547"
      },
      "execution_count": 68,
      "outputs": [
        {
          "output_type": "stream",
          "name": "stdout",
          "text": [
            "Lokasi pembuangan terdapat  18 buah\n",
            "Yaitu:  ['ONION CREEK' 'HORNSBY BEND' 'TDS LANDFILL' 'BALCONES RECYCLING'\n",
            " 'ORGANICS BY GOSH' 'TDS - MRF' 'MRF' 'AUSTIN IRON AND METAL'\n",
            " 'PARK CENTER' 'ON ROUTE HIGH DUMP' 'WILCAB' 'GREAT NORTHERN'\n",
            " 'AUSTIN WOOD RECYCLING' 'PARK BEND' 'BALCONES WOODS' 'STEINER LANDFILL'\n",
            " 'WESTFIELD' 'ST. EDWARDS']\n"
          ]
        }
      ]
    },
    {
      "cell_type": "markdown",
      "source": [
        "### Mengecek laporan muatan pada pembuangan di tiap lokasi setiap harinya\n",
        "\n",
        "Terlihat pada tanggal **1 Januari 2021**, hanya ada pembuangan di lokasi `Onion Creek` yang berjumlah 4 muatan dan seterusnya"
      ],
      "metadata": {
        "id": "-mSgUe9GB3TY"
      }
    },
    {
      "cell_type": "code",
      "source": [
        "df.groupby([\"Tanggal Laporan\", \"Lokasi Pembuangan\"])[\"Tipe Muatan\"].count()"
      ],
      "metadata": {
        "colab": {
          "base_uri": "https://localhost:8080/"
        },
        "id": "PTEvbleQAwUT",
        "outputId": "a1922586-57f0-4e85-d7d0-b9926e4a79ad"
      },
      "execution_count": 69,
      "outputs": [
        {
          "output_type": "execute_result",
          "data": {
            "text/plain": [
              "Tanggal Laporan  Lokasi Pembuangan \n",
              "2021-01-01       ONION CREEK            4\n",
              "2021-01-02       BALCONES RECYCLING    53\n",
              "                 HORNSBY BEND           5\n",
              "                 MRF                    2\n",
              "                 ONION CREEK            3\n",
              "                                       ..\n",
              "2021-07-08       ORGANICS BY GOSH      30\n",
              "                 TDS LANDFILL          65\n",
              "2021-07-09       HORNSBY BEND          19\n",
              "                 ONION CREEK            5\n",
              "                 TDS LANDFILL           2\n",
              "Name: Tipe Muatan, Length: 1043, dtype: int64"
            ]
          },
          "metadata": {},
          "execution_count": 69
        }
      ]
    },
    {
      "cell_type": "markdown",
      "source": [
        "## Central Tendency\n",
        "\n",
        "Mencari nilai Central Tendency yaitu **Mean**, **Median**, dan **Modus** pada setiap `Lokasi Pembuangan`"
      ],
      "metadata": {
        "id": "TWvKcNacCjQK"
      }
    },
    {
      "cell_type": "markdown",
      "source": [
        "### Mean\n",
        "\n"
      ],
      "metadata": {
        "id": "azOtEwr9CmDv"
      }
    },
    {
      "cell_type": "markdown",
      "source": [
        "Dibuatkan rata-rata beban muatan pada setiap lokasi pembuangan, terlihat beban muatan rata-rata yang terbesar ada di lokasi pembuangan `Westfield`, tetapi setelah dilihat lebih lanjut, data `Westfield` hanya berisi angka median yang terisi saat pengisian data kosong\n",
        "\n",
        "Dibuat 2 angka dibelakang koma agar lebih enak dilihat"
      ],
      "metadata": {
        "id": "D_iGShB2YEDE"
      }
    },
    {
      "cell_type": "code",
      "source": [
        "Mean_Pembuangan = df.groupby('Lokasi Pembuangan')['Beban Muatan'].mean().round(decimals=2).sort_values(ascending = False)\n",
        "\n",
        "print ('Rata - rata pada setiap', Mean_Pembuangan)"
      ],
      "metadata": {
        "colab": {
          "base_uri": "https://localhost:8080/"
        },
        "id": "hJ1Mcw6PRGMx",
        "outputId": "ae4baad1-91d2-41e7-df09-127e91c1e3d6"
      },
      "execution_count": 70,
      "outputs": [
        {
          "output_type": "stream",
          "name": "stdout",
          "text": [
            "Rata - rata pada setiap Lokasi Pembuangan\n",
            "WESTFIELD                16020.00\n",
            "TDS LANDFILL             15168.32\n",
            "PARK BEND                13385.00\n",
            "GREAT NORTHERN           11973.14\n",
            "ORGANICS BY GOSH         11817.22\n",
            "ON ROUTE HIGH DUMP       11405.93\n",
            "ST. EDWARDS              11300.00\n",
            "PARK CENTER              11300.00\n",
            "WILCAB                   11300.00\n",
            "ONION CREEK              11300.00\n",
            "TDS - MRF                 9872.55\n",
            "BALCONES RECYCLING        9464.65\n",
            "BALCONES WOODS            8460.00\n",
            "HORNSBY BEND              6637.11\n",
            "AUSTIN WOOD RECYCLING     4050.00\n",
            "MRF                       1799.98\n",
            "STEINER LANDFILL           780.00\n",
            "AUSTIN IRON AND METAL      451.20\n",
            "Name: Beban Muatan, dtype: float64\n"
          ]
        }
      ]
    },
    {
      "cell_type": "markdown",
      "source": [
        "### Median"
      ],
      "metadata": {
        "id": "UKeeZ_jsCnnP"
      }
    },
    {
      "cell_type": "markdown",
      "source": [
        "Dibuatkan `Median` `Beban Muatan` pada setiap `Lokasi Pembuangan`, terlihat median yang terbesar ada di lokasi pembuangan `Westfield`, tetapi setelah dilihat lebih lanjut, data `Westfield` hanya berisi angka median yang terisi saat pengisian data kosong"
      ],
      "metadata": {
        "id": "er7LluXoyhKR"
      }
    },
    {
      "cell_type": "code",
      "source": [
        "Median_Pembuangan = df.groupby('Lokasi Pembuangan')['Beban Muatan'].median().sort_values(ascending = False)\n",
        "\n",
        "print ('Median pada setiap', Median_Pembuangan)"
      ],
      "metadata": {
        "colab": {
          "base_uri": "https://localhost:8080/"
        },
        "id": "oXuVJdUeUbL8",
        "outputId": "27ff387a-117e-4d05-d0c9-ace36e564551"
      },
      "execution_count": 71,
      "outputs": [
        {
          "output_type": "stream",
          "name": "stdout",
          "text": [
            "Median pada setiap Lokasi Pembuangan\n",
            "WESTFIELD                16020.0\n",
            "TDS LANDFILL             14920.0\n",
            "PARK BEND                12330.0\n",
            "ORGANICS BY GOSH         11900.0\n",
            "ONION CREEK              11300.0\n",
            "ST. EDWARDS              11300.0\n",
            "PARK CENTER              11300.0\n",
            "WILCAB                   11300.0\n",
            "ON ROUTE HIGH DUMP       11300.0\n",
            "GREAT NORTHERN           11300.0\n",
            "TDS - MRF                10330.0\n",
            "BALCONES RECYCLING        9840.0\n",
            "BALCONES WOODS            8460.0\n",
            "HORNSBY BEND              6400.0\n",
            "AUSTIN WOOD RECYCLING     4050.0\n",
            "MRF                       1360.0\n",
            "STEINER LANDFILL           780.0\n",
            "AUSTIN IRON AND METAL      400.0\n",
            "Name: Beban Muatan, dtype: float64\n"
          ]
        }
      ]
    },
    {
      "cell_type": "markdown",
      "source": [
        "### Modus"
      ],
      "metadata": {
        "id": "pSNvBXBvCovN"
      }
    },
    {
      "cell_type": "markdown",
      "source": [
        "Dibuatkan `Modus` tipe muatan pada setiap `Lokasi Pembuangan`, terlihat `Tipe Muatan` yang mendominasi seperti pada `Austin Iron and Metal` mendominasi tipe muatan `Recycled Metal`"
      ],
      "metadata": {
        "id": "O5JyUaisyvEO"
      }
    },
    {
      "cell_type": "code",
      "source": [
        "Modus_Pembuangan = df.groupby('Lokasi Pembuangan')['Tipe Muatan'].agg(pd.Series.mode)\n",
        "print ('Modus pada setiap', Modus_Pembuangan)"
      ],
      "metadata": {
        "colab": {
          "base_uri": "https://localhost:8080/"
        },
        "id": "f3SXPg54Uifi",
        "outputId": "cb34db96-689c-4fed-9790-9646fa7bf5c1"
      },
      "execution_count": 72,
      "outputs": [
        {
          "output_type": "stream",
          "name": "stdout",
          "text": [
            "Modus pada setiap Lokasi Pembuangan\n",
            "AUSTIN IRON AND METAL               RECYCLED METAL\n",
            "AUSTIN WOOD RECYCLING    RECYCLING - SINGLE STREAM\n",
            "BALCONES RECYCLING       RECYCLING - SINGLE STREAM\n",
            "BALCONES WOODS           RECYCLING - SINGLE STREAM\n",
            "GREAT NORTHERN                            SWEEPING\n",
            "HORNSBY BEND                                 BRUSH\n",
            "MRF                                          TIRES\n",
            "ON ROUTE HIGH DUMP                        SWEEPING\n",
            "ONION CREEK                               SWEEPING\n",
            "ORGANICS BY GOSH                          ORGANICS\n",
            "PARK BEND                                 ORGANICS\n",
            "PARK CENTER                               SWEEPING\n",
            "ST. EDWARDS                               SWEEPING\n",
            "STEINER LANDFILL               GARBAGE COLLECTIONS\n",
            "TDS - MRF                RECYCLING - SINGLE STREAM\n",
            "TDS LANDFILL                   GARBAGE COLLECTIONS\n",
            "WESTFIELD                      GARBAGE COLLECTIONS\n",
            "WILCAB                                    SWEEPING\n",
            "Name: Tipe Muatan, dtype: object\n"
          ]
        }
      ]
    },
    {
      "cell_type": "code",
      "source": [
        "Modus_Tipe_Pembuangan = df['Tipe Muatan'].mode()\n",
        "Modus_Tipe_Pembuangan"
      ],
      "metadata": {
        "colab": {
          "base_uri": "https://localhost:8080/"
        },
        "id": "AQ79uMj6jg2T",
        "outputId": "01f8094b-913d-45a2-fb22-0d8412d15233"
      },
      "execution_count": 73,
      "outputs": [
        {
          "output_type": "execute_result",
          "data": {
            "text/plain": [
              "0    GARBAGE COLLECTIONS\n",
              "Name: Tipe Muatan, dtype: object"
            ]
          },
          "metadata": {},
          "execution_count": 73
        }
      ]
    },
    {
      "cell_type": "markdown",
      "source": [
        "## Pemilihan Lokasi Pembuangan\n",
        "\n",
        "Sebelum memilih lokasi pembuangan yang akan diteliti lebih lanjut, penulis melihat data-data yang ada pada setiap lokasi pembuangan"
      ],
      "metadata": {
        "id": "3O5GyFty0-sv"
      }
    },
    {
      "cell_type": "code",
      "source": [
        "Jumlah_Setiap_Lokasi = df.groupby('Lokasi Pembuangan')['Tanggal Laporan'].count().sort_values(ascending = False)\n",
        "Jumlah_Setiap_Lokasi"
      ],
      "metadata": {
        "colab": {
          "base_uri": "https://localhost:8080/"
        },
        "id": "51o4D5H63yEO",
        "outputId": "8876a659-21a1-44e7-c7f2-2f79dc1a24a2"
      },
      "execution_count": 74,
      "outputs": [
        {
          "output_type": "execute_result",
          "data": {
            "text/plain": [
              "Lokasi Pembuangan\n",
              "TDS LANDFILL             10694\n",
              "ORGANICS BY GOSH          5755\n",
              "BALCONES RECYCLING        3837\n",
              "TDS - MRF                 2948\n",
              "HORNSBY BEND              1655\n",
              "ONION CREEK                813\n",
              "MRF                        168\n",
              "ON ROUTE HIGH DUMP          81\n",
              "PARK CENTER                 75\n",
              "GREAT NORTHERN              70\n",
              "AUSTIN IRON AND METAL       50\n",
              "PARK BEND                    4\n",
              "AUSTIN WOOD RECYCLING        2\n",
              "ST. EDWARDS                  1\n",
              "STEINER LANDFILL             1\n",
              "BALCONES WOODS               1\n",
              "WESTFIELD                    1\n",
              "WILCAB                       1\n",
              "Name: Tanggal Laporan, dtype: int64"
            ]
          },
          "metadata": {},
          "execution_count": 74
        }
      ]
    },
    {
      "cell_type": "markdown",
      "source": [
        "Dari 18 macam lokasi pembuangan, penulis memilih lokasi pembuangan `TDS Landfill`, dikarenakan memiliki jumlah data yang banyak dan bervariasi, sehingga kemungkinan memiliki banyak hal yang dieksplorasi."
      ],
      "metadata": {
        "id": "BvTcBsk31D6L"
      }
    },
    {
      "cell_type": "code",
      "source": [
        "# Membuat variabel untuk Lokasi Pembuangan TDS LANDFILL\n",
        "\n",
        "TDSLandfill = df.query(\"`Lokasi Pembuangan` == 'TDS LANDFILL'\")\n",
        "\n",
        "TDSLandfill"
      ],
      "metadata": {
        "colab": {
          "base_uri": "https://localhost:8080/",
          "height": 424
        },
        "id": "WwlH98Yt_1lN",
        "outputId": "14481e8f-7fc4-41f3-fa1a-fbdfa362c6de"
      },
      "execution_count": 75,
      "outputs": [
        {
          "output_type": "execute_result",
          "data": {
            "text/plain": [
              "      Tanggal Laporan             Waktu Memuat          Tipe Muatan  \\\n",
              "19152      2021-01-02  2021-01-02 01:02:00 UTC  GARBAGE COLLECTIONS   \n",
              "19158      2021-01-02  2021-01-02 01:05:00 UTC  GARBAGE COLLECTIONS   \n",
              "19166      2021-01-02  2021-01-02 01:18:00 UTC  GARBAGE COLLECTIONS   \n",
              "19147      2021-01-02  2021-01-02 01:19:00 UTC  GARBAGE COLLECTIONS   \n",
              "19179      2021-01-02  2021-01-02 01:29:00 UTC  GARBAGE COLLECTIONS   \n",
              "...               ...                      ...                  ...   \n",
              "582        2021-07-08  2021-07-08 12:47:00 UTC  GARBAGE COLLECTIONS   \n",
              "589        2021-07-08  2021-07-08 12:51:00 UTC  GARBAGE COLLECTIONS   \n",
              "584        2021-07-08  2021-07-09 12:00:00 UTC  GARBAGE COLLECTIONS   \n",
              "608        2021-07-09  2021-07-09 12:00:00 UTC               LITTER   \n",
              "609        2021-07-09  2021-07-09 12:00:00 UTC               LITTER   \n",
              "\n",
              "       Beban Muatan Lokasi Pembuangan  \n",
              "19152        8420.0      TDS LANDFILL  \n",
              "19158        9860.0      TDS LANDFILL  \n",
              "19166       21440.0      TDS LANDFILL  \n",
              "19147       19300.0      TDS LANDFILL  \n",
              "19179       23840.0      TDS LANDFILL  \n",
              "...             ...               ...  \n",
              "582         18320.0      TDS LANDFILL  \n",
              "589         22480.0      TDS LANDFILL  \n",
              "584         23060.0      TDS LANDFILL  \n",
              "608          1900.0      TDS LANDFILL  \n",
              "609          3040.0      TDS LANDFILL  \n",
              "\n",
              "[10694 rows x 5 columns]"
            ],
            "text/html": [
              "\n",
              "  <div id=\"df-86584dfa-1a16-4642-af03-fa6d482ffc30\" class=\"colab-df-container\">\n",
              "    <div>\n",
              "<style scoped>\n",
              "    .dataframe tbody tr th:only-of-type {\n",
              "        vertical-align: middle;\n",
              "    }\n",
              "\n",
              "    .dataframe tbody tr th {\n",
              "        vertical-align: top;\n",
              "    }\n",
              "\n",
              "    .dataframe thead th {\n",
              "        text-align: right;\n",
              "    }\n",
              "</style>\n",
              "<table border=\"1\" class=\"dataframe\">\n",
              "  <thead>\n",
              "    <tr style=\"text-align: right;\">\n",
              "      <th></th>\n",
              "      <th>Tanggal Laporan</th>\n",
              "      <th>Waktu Memuat</th>\n",
              "      <th>Tipe Muatan</th>\n",
              "      <th>Beban Muatan</th>\n",
              "      <th>Lokasi Pembuangan</th>\n",
              "    </tr>\n",
              "  </thead>\n",
              "  <tbody>\n",
              "    <tr>\n",
              "      <th>19152</th>\n",
              "      <td>2021-01-02</td>\n",
              "      <td>2021-01-02 01:02:00 UTC</td>\n",
              "      <td>GARBAGE COLLECTIONS</td>\n",
              "      <td>8420.0</td>\n",
              "      <td>TDS LANDFILL</td>\n",
              "    </tr>\n",
              "    <tr>\n",
              "      <th>19158</th>\n",
              "      <td>2021-01-02</td>\n",
              "      <td>2021-01-02 01:05:00 UTC</td>\n",
              "      <td>GARBAGE COLLECTIONS</td>\n",
              "      <td>9860.0</td>\n",
              "      <td>TDS LANDFILL</td>\n",
              "    </tr>\n",
              "    <tr>\n",
              "      <th>19166</th>\n",
              "      <td>2021-01-02</td>\n",
              "      <td>2021-01-02 01:18:00 UTC</td>\n",
              "      <td>GARBAGE COLLECTIONS</td>\n",
              "      <td>21440.0</td>\n",
              "      <td>TDS LANDFILL</td>\n",
              "    </tr>\n",
              "    <tr>\n",
              "      <th>19147</th>\n",
              "      <td>2021-01-02</td>\n",
              "      <td>2021-01-02 01:19:00 UTC</td>\n",
              "      <td>GARBAGE COLLECTIONS</td>\n",
              "      <td>19300.0</td>\n",
              "      <td>TDS LANDFILL</td>\n",
              "    </tr>\n",
              "    <tr>\n",
              "      <th>19179</th>\n",
              "      <td>2021-01-02</td>\n",
              "      <td>2021-01-02 01:29:00 UTC</td>\n",
              "      <td>GARBAGE COLLECTIONS</td>\n",
              "      <td>23840.0</td>\n",
              "      <td>TDS LANDFILL</td>\n",
              "    </tr>\n",
              "    <tr>\n",
              "      <th>...</th>\n",
              "      <td>...</td>\n",
              "      <td>...</td>\n",
              "      <td>...</td>\n",
              "      <td>...</td>\n",
              "      <td>...</td>\n",
              "    </tr>\n",
              "    <tr>\n",
              "      <th>582</th>\n",
              "      <td>2021-07-08</td>\n",
              "      <td>2021-07-08 12:47:00 UTC</td>\n",
              "      <td>GARBAGE COLLECTIONS</td>\n",
              "      <td>18320.0</td>\n",
              "      <td>TDS LANDFILL</td>\n",
              "    </tr>\n",
              "    <tr>\n",
              "      <th>589</th>\n",
              "      <td>2021-07-08</td>\n",
              "      <td>2021-07-08 12:51:00 UTC</td>\n",
              "      <td>GARBAGE COLLECTIONS</td>\n",
              "      <td>22480.0</td>\n",
              "      <td>TDS LANDFILL</td>\n",
              "    </tr>\n",
              "    <tr>\n",
              "      <th>584</th>\n",
              "      <td>2021-07-08</td>\n",
              "      <td>2021-07-09 12:00:00 UTC</td>\n",
              "      <td>GARBAGE COLLECTIONS</td>\n",
              "      <td>23060.0</td>\n",
              "      <td>TDS LANDFILL</td>\n",
              "    </tr>\n",
              "    <tr>\n",
              "      <th>608</th>\n",
              "      <td>2021-07-09</td>\n",
              "      <td>2021-07-09 12:00:00 UTC</td>\n",
              "      <td>LITTER</td>\n",
              "      <td>1900.0</td>\n",
              "      <td>TDS LANDFILL</td>\n",
              "    </tr>\n",
              "    <tr>\n",
              "      <th>609</th>\n",
              "      <td>2021-07-09</td>\n",
              "      <td>2021-07-09 12:00:00 UTC</td>\n",
              "      <td>LITTER</td>\n",
              "      <td>3040.0</td>\n",
              "      <td>TDS LANDFILL</td>\n",
              "    </tr>\n",
              "  </tbody>\n",
              "</table>\n",
              "<p>10694 rows × 5 columns</p>\n",
              "</div>\n",
              "    <div class=\"colab-df-buttons\">\n",
              "\n",
              "  <div class=\"colab-df-container\">\n",
              "    <button class=\"colab-df-convert\" onclick=\"convertToInteractive('df-86584dfa-1a16-4642-af03-fa6d482ffc30')\"\n",
              "            title=\"Convert this dataframe to an interactive table.\"\n",
              "            style=\"display:none;\">\n",
              "\n",
              "  <svg xmlns=\"http://www.w3.org/2000/svg\" height=\"24px\" viewBox=\"0 -960 960 960\">\n",
              "    <path d=\"M120-120v-720h720v720H120Zm60-500h600v-160H180v160Zm220 220h160v-160H400v160Zm0 220h160v-160H400v160ZM180-400h160v-160H180v160Zm440 0h160v-160H620v160ZM180-180h160v-160H180v160Zm440 0h160v-160H620v160Z\"/>\n",
              "  </svg>\n",
              "    </button>\n",
              "\n",
              "  <style>\n",
              "    .colab-df-container {\n",
              "      display:flex;\n",
              "      gap: 12px;\n",
              "    }\n",
              "\n",
              "    .colab-df-convert {\n",
              "      background-color: #E8F0FE;\n",
              "      border: none;\n",
              "      border-radius: 50%;\n",
              "      cursor: pointer;\n",
              "      display: none;\n",
              "      fill: #1967D2;\n",
              "      height: 32px;\n",
              "      padding: 0 0 0 0;\n",
              "      width: 32px;\n",
              "    }\n",
              "\n",
              "    .colab-df-convert:hover {\n",
              "      background-color: #E2EBFA;\n",
              "      box-shadow: 0px 1px 2px rgba(60, 64, 67, 0.3), 0px 1px 3px 1px rgba(60, 64, 67, 0.15);\n",
              "      fill: #174EA6;\n",
              "    }\n",
              "\n",
              "    .colab-df-buttons div {\n",
              "      margin-bottom: 4px;\n",
              "    }\n",
              "\n",
              "    [theme=dark] .colab-df-convert {\n",
              "      background-color: #3B4455;\n",
              "      fill: #D2E3FC;\n",
              "    }\n",
              "\n",
              "    [theme=dark] .colab-df-convert:hover {\n",
              "      background-color: #434B5C;\n",
              "      box-shadow: 0px 1px 3px 1px rgba(0, 0, 0, 0.15);\n",
              "      filter: drop-shadow(0px 1px 2px rgba(0, 0, 0, 0.3));\n",
              "      fill: #FFFFFF;\n",
              "    }\n",
              "  </style>\n",
              "\n",
              "    <script>\n",
              "      const buttonEl =\n",
              "        document.querySelector('#df-86584dfa-1a16-4642-af03-fa6d482ffc30 button.colab-df-convert');\n",
              "      buttonEl.style.display =\n",
              "        google.colab.kernel.accessAllowed ? 'block' : 'none';\n",
              "\n",
              "      async function convertToInteractive(key) {\n",
              "        const element = document.querySelector('#df-86584dfa-1a16-4642-af03-fa6d482ffc30');\n",
              "        const dataTable =\n",
              "          await google.colab.kernel.invokeFunction('convertToInteractive',\n",
              "                                                    [key], {});\n",
              "        if (!dataTable) return;\n",
              "\n",
              "        const docLinkHtml = 'Like what you see? Visit the ' +\n",
              "          '<a target=\"_blank\" href=https://colab.research.google.com/notebooks/data_table.ipynb>data table notebook</a>'\n",
              "          + ' to learn more about interactive tables.';\n",
              "        element.innerHTML = '';\n",
              "        dataTable['output_type'] = 'display_data';\n",
              "        await google.colab.output.renderOutput(dataTable, element);\n",
              "        const docLink = document.createElement('div');\n",
              "        docLink.innerHTML = docLinkHtml;\n",
              "        element.appendChild(docLink);\n",
              "      }\n",
              "    </script>\n",
              "  </div>\n",
              "\n",
              "\n",
              "<div id=\"df-46917f1b-b9b6-457c-9c90-72909c329e71\">\n",
              "  <button class=\"colab-df-quickchart\" onclick=\"quickchart('df-46917f1b-b9b6-457c-9c90-72909c329e71')\"\n",
              "            title=\"Suggest charts.\"\n",
              "            style=\"display:none;\">\n",
              "\n",
              "<svg xmlns=\"http://www.w3.org/2000/svg\" height=\"24px\"viewBox=\"0 0 24 24\"\n",
              "     width=\"24px\">\n",
              "    <g>\n",
              "        <path d=\"M19 3H5c-1.1 0-2 .9-2 2v14c0 1.1.9 2 2 2h14c1.1 0 2-.9 2-2V5c0-1.1-.9-2-2-2zM9 17H7v-7h2v7zm4 0h-2V7h2v10zm4 0h-2v-4h2v4z\"/>\n",
              "    </g>\n",
              "</svg>\n",
              "  </button>\n",
              "\n",
              "<style>\n",
              "  .colab-df-quickchart {\n",
              "      --bg-color: #E8F0FE;\n",
              "      --fill-color: #1967D2;\n",
              "      --hover-bg-color: #E2EBFA;\n",
              "      --hover-fill-color: #174EA6;\n",
              "      --disabled-fill-color: #AAA;\n",
              "      --disabled-bg-color: #DDD;\n",
              "  }\n",
              "\n",
              "  [theme=dark] .colab-df-quickchart {\n",
              "      --bg-color: #3B4455;\n",
              "      --fill-color: #D2E3FC;\n",
              "      --hover-bg-color: #434B5C;\n",
              "      --hover-fill-color: #FFFFFF;\n",
              "      --disabled-bg-color: #3B4455;\n",
              "      --disabled-fill-color: #666;\n",
              "  }\n",
              "\n",
              "  .colab-df-quickchart {\n",
              "    background-color: var(--bg-color);\n",
              "    border: none;\n",
              "    border-radius: 50%;\n",
              "    cursor: pointer;\n",
              "    display: none;\n",
              "    fill: var(--fill-color);\n",
              "    height: 32px;\n",
              "    padding: 0;\n",
              "    width: 32px;\n",
              "  }\n",
              "\n",
              "  .colab-df-quickchart:hover {\n",
              "    background-color: var(--hover-bg-color);\n",
              "    box-shadow: 0 1px 2px rgba(60, 64, 67, 0.3), 0 1px 3px 1px rgba(60, 64, 67, 0.15);\n",
              "    fill: var(--button-hover-fill-color);\n",
              "  }\n",
              "\n",
              "  .colab-df-quickchart-complete:disabled,\n",
              "  .colab-df-quickchart-complete:disabled:hover {\n",
              "    background-color: var(--disabled-bg-color);\n",
              "    fill: var(--disabled-fill-color);\n",
              "    box-shadow: none;\n",
              "  }\n",
              "\n",
              "  .colab-df-spinner {\n",
              "    border: 2px solid var(--fill-color);\n",
              "    border-color: transparent;\n",
              "    border-bottom-color: var(--fill-color);\n",
              "    animation:\n",
              "      spin 1s steps(1) infinite;\n",
              "  }\n",
              "\n",
              "  @keyframes spin {\n",
              "    0% {\n",
              "      border-color: transparent;\n",
              "      border-bottom-color: var(--fill-color);\n",
              "      border-left-color: var(--fill-color);\n",
              "    }\n",
              "    20% {\n",
              "      border-color: transparent;\n",
              "      border-left-color: var(--fill-color);\n",
              "      border-top-color: var(--fill-color);\n",
              "    }\n",
              "    30% {\n",
              "      border-color: transparent;\n",
              "      border-left-color: var(--fill-color);\n",
              "      border-top-color: var(--fill-color);\n",
              "      border-right-color: var(--fill-color);\n",
              "    }\n",
              "    40% {\n",
              "      border-color: transparent;\n",
              "      border-right-color: var(--fill-color);\n",
              "      border-top-color: var(--fill-color);\n",
              "    }\n",
              "    60% {\n",
              "      border-color: transparent;\n",
              "      border-right-color: var(--fill-color);\n",
              "    }\n",
              "    80% {\n",
              "      border-color: transparent;\n",
              "      border-right-color: var(--fill-color);\n",
              "      border-bottom-color: var(--fill-color);\n",
              "    }\n",
              "    90% {\n",
              "      border-color: transparent;\n",
              "      border-bottom-color: var(--fill-color);\n",
              "    }\n",
              "  }\n",
              "</style>\n",
              "\n",
              "  <script>\n",
              "    async function quickchart(key) {\n",
              "      const quickchartButtonEl =\n",
              "        document.querySelector('#' + key + ' button');\n",
              "      quickchartButtonEl.disabled = true;  // To prevent multiple clicks.\n",
              "      quickchartButtonEl.classList.add('colab-df-spinner');\n",
              "      try {\n",
              "        const charts = await google.colab.kernel.invokeFunction(\n",
              "            'suggestCharts', [key], {});\n",
              "      } catch (error) {\n",
              "        console.error('Error during call to suggestCharts:', error);\n",
              "      }\n",
              "      quickchartButtonEl.classList.remove('colab-df-spinner');\n",
              "      quickchartButtonEl.classList.add('colab-df-quickchart-complete');\n",
              "    }\n",
              "    (() => {\n",
              "      let quickchartButtonEl =\n",
              "        document.querySelector('#df-46917f1b-b9b6-457c-9c90-72909c329e71 button');\n",
              "      quickchartButtonEl.style.display =\n",
              "        google.colab.kernel.accessAllowed ? 'block' : 'none';\n",
              "    })();\n",
              "  </script>\n",
              "</div>\n",
              "    </div>\n",
              "  </div>\n"
            ]
          },
          "metadata": {},
          "execution_count": 75
        }
      ]
    },
    {
      "cell_type": "code",
      "source": [
        "# Melihat data stastik pada TDS Landfill menggunakan describe\n",
        "\n",
        "print (TDSLandfill.describe().round(decimals=2))\n",
        "\n",
        "print ('') #Untuk memisah bagian atas dan bawah agar lebih terlihat\n",
        "\n",
        "# Melihat data stastik pada TDS Landfill menggunakan masing masing fungsi\n",
        "\n",
        "print ('Jumlah data: ', TDSLandfill['Beban Muatan'].count())\n",
        "print ('Mean: ', TDSLandfill['Beban Muatan'].mean().round(2))\n",
        "print ('Standar Deviasi: ', TDSLandfill['Beban Muatan'].std().round(2))\n",
        "print ('Data Minimal: ', TDSLandfill['Beban Muatan'].min())\n",
        "print ('25% :', TDSLandfill['Beban Muatan'].quantile(0.25))\n",
        "print ('50% :', TDSLandfill['Beban Muatan'].quantile(0.5)) # bisa disebut median\n",
        "print ('75% :', TDSLandfill['Beban Muatan'].quantile(0.75))\n",
        "print ('Data Maksimal: ', TDSLandfill['Beban Muatan'].max())"
      ],
      "metadata": {
        "colab": {
          "base_uri": "https://localhost:8080/"
        },
        "id": "qw93uF-02VhU",
        "outputId": "63537cc8-70d0-418f-9a26-4329c7e30944"
      },
      "execution_count": 76,
      "outputs": [
        {
          "output_type": "stream",
          "name": "stdout",
          "text": [
            "       Beban Muatan\n",
            "count      10694.00\n",
            "mean       15168.32\n",
            "std         8590.07\n",
            "min            0.00\n",
            "25%         8820.00\n",
            "50%        14920.00\n",
            "75%        21660.00\n",
            "max       245540.00\n",
            "\n",
            "Jumlah data:  10694\n",
            "Mean:  15168.32\n",
            "Standar Deviasi:  8590.07\n",
            "Data Minimal:  0.0\n",
            "25% : 8820.0\n",
            "50% : 14920.0\n",
            "75% : 21660.0\n",
            "Data Maksimal:  245540.0\n"
          ]
        }
      ]
    },
    {
      "cell_type": "markdown",
      "source": [
        "### Outlier\n",
        "\n",
        "Menggunakan metode `IQR` karena terlihat dari nilai skewness yang lebih dari 1 (3.7) menandakan bahwa distribusi data yang tidak normal, sehingga menggunakan metode `IQR` dan juga menggunakan Extreme Case karena skewness yang tinggi"
      ],
      "metadata": {
        "id": "COxHC0Tf1vf5"
      }
    },
    {
      "cell_type": "markdown",
      "source": [
        "### IQR"
      ],
      "metadata": {
        "id": "a7YKXTeHG0VA"
      }
    },
    {
      "cell_type": "code",
      "source": [
        "print ('Nilai Skewness :', TDSLandfill['Beban Muatan'].skew().round(decimals=2))\n",
        "\n",
        "#Menggunakan bins=50 agar lebih terlihat grafiknya, dan perbandingan dengan garis kurva pada fungsi kde=True\n",
        "sns.histplot(TDSLandfill['Beban Muatan'], bins=50, kde=True);"
      ],
      "metadata": {
        "colab": {
          "base_uri": "https://localhost:8080/",
          "height": 466
        },
        "id": "RRIwrZvYGcz5",
        "outputId": "da2a4062-4fe9-4b72-d40f-3ff9d5260a9f"
      },
      "execution_count": 77,
      "outputs": [
        {
          "output_type": "stream",
          "name": "stdout",
          "text": [
            "Nilai Skewness : 3.7\n"
          ]
        },
        {
          "output_type": "display_data",
          "data": {
            "text/plain": [
              "<Figure size 640x480 with 1 Axes>"
            ],
            "image/png": "[encoded data removed]"
          },
          "metadata": {}
        }
      ]
    },
    {
      "cell_type": "code",
      "source": [
        "# Membuat nilai 25 quantil yang disebut Q1 dan 75 quantil yang disebut Q3\n",
        "Q1 = TDSLandfill['Beban Muatan'].quantile(0.25)\n",
        "Q3 = TDSLandfill['Beban Muatan'].quantile(0.75)\n",
        "print ('Nilai Q1: ', Q1)\n",
        "print ('Nilai Q3: ', Q3)\n",
        "\n",
        "# Membuat nilai IQR, dari Q3 - Q1\n",
        "IQR = Q3 - Q1\n",
        "print ('Nilai IQR: ', IQR)"
      ],
      "metadata": {
        "colab": {
          "base_uri": "https://localhost:8080/"
        },
        "id": "hkHbD4RaG1SX",
        "outputId": "22a5ac25-1334-4e99-c932-7d983ca74dde"
      },
      "execution_count": 78,
      "outputs": [
        {
          "output_type": "stream",
          "name": "stdout",
          "text": [
            "Nilai Q1:  8820.0\n",
            "Nilai Q3:  21660.0\n",
            "Nilai IQR:  12840.0\n"
          ]
        }
      ]
    },
    {
      "cell_type": "code",
      "source": [
        "# Membuat nilai batas bawah dengan rumus Q1 - (IQR * 1.5)\n",
        "BatasBawah = Q1 - (IQR * 1.5)\n",
        "\n",
        "# Membuat nilai batas atas dengan rumus Q3 + (IQR * 1.5)\n",
        "BatasAtas = Q3 + (IQR * 1.5)\n",
        "\n",
        "print ('Nilai Batas Bawah: ', BatasBawah)\n",
        "print ('Nilai Batas Atas: ', BatasAtas)"
      ],
      "metadata": {
        "colab": {
          "base_uri": "https://localhost:8080/"
        },
        "id": "nhLV4MBlHJg0",
        "outputId": "cb54c1be-1c08-4310-be6b-64cf9d632104"
      },
      "execution_count": 79,
      "outputs": [
        {
          "output_type": "stream",
          "name": "stdout",
          "text": [
            "Nilai Batas Bawah:  -10440.0\n",
            "Nilai Batas Atas:  40920.0\n"
          ]
        }
      ]
    },
    {
      "cell_type": "code",
      "source": [
        "# Menghilangkan angka-angka yang berada diluar batas bawah maupun batas atas\n",
        "df_IQR = TDSLandfill[(TDSLandfill['Beban Muatan'] > BatasBawah) & (TDSLandfill['Beban Muatan'] < BatasAtas)]\n",
        "\n",
        "# Menampilkan jumlah nilai, terlihat yang hilang terdapat 5 data\n",
        "print (TDSLandfill.shape) #Nilai sebelum\n",
        "print (df_IQR.shape) #Nilai setelah"
      ],
      "metadata": {
        "colab": {
          "base_uri": "https://localhost:8080/"
        },
        "id": "e6_D40__EM_O",
        "outputId": "8dbb4d20-6eef-48a0-9968-8a0db545e02e"
      },
      "execution_count": 80,
      "outputs": [
        {
          "output_type": "stream",
          "name": "stdout",
          "text": [
            "(10694, 5)\n",
            "(10687, 5)\n"
          ]
        }
      ]
    },
    {
      "cell_type": "code",
      "source": [
        "# Melihat data yang hilang\n",
        "DataHilang = TDSLandfill[(TDSLandfill['Beban Muatan'] < BatasBawah) | (TDSLandfill['Beban Muatan'] > BatasAtas)]\n",
        "\n",
        "print (DataHilang)"
      ],
      "metadata": {
        "colab": {
          "base_uri": "https://localhost:8080/"
        },
        "id": "Xdu8oAXzF0dE",
        "outputId": "be797358-cb95-4e52-c551-328a7af3a712"
      },
      "execution_count": 81,
      "outputs": [
        {
          "output_type": "stream",
          "name": "stdout",
          "text": [
            "      Tanggal Laporan             Waktu Memuat          Tipe Muatan  \\\n",
            "19960      2021-01-07  2021-01-07 02:45:00 UTC  GARBAGE COLLECTIONS   \n",
            "24239      2021-02-09  2021-02-09 01:08:00 UTC  GARBAGE COLLECTIONS   \n",
            "2381       2021-03-09  2021-03-09 01:30:00 UTC  GARBAGE COLLECTIONS   \n",
            "5507       2021-03-29  2021-03-29 05:08:00 UTC  GARBAGE COLLECTIONS   \n",
            "13632      2021-05-26  2021-05-26 11:40:00 UTC  GARBAGE COLLECTIONS   \n",
            "13817      2021-05-27  2021-05-27 11:33:00 UTC  GARBAGE COLLECTIONS   \n",
            "16964      2021-06-21  2021-06-21 01:05:00 UTC  GARBAGE COLLECTIONS   \n",
            "\n",
            "       Beban Muatan Lokasi Pembuangan  \n",
            "19960       44980.0      TDS LANDFILL  \n",
            "24239      102680.0      TDS LANDFILL  \n",
            "2381       145160.0      TDS LANDFILL  \n",
            "5507        58600.0      TDS LANDFILL  \n",
            "13632       80697.0      TDS LANDFILL  \n",
            "13817      245540.0      TDS LANDFILL  \n",
            "16964      227780.0      TDS LANDFILL  \n"
          ]
        }
      ]
    },
    {
      "cell_type": "markdown",
      "source": [
        "### Persen hasil membuang outlier"
      ],
      "metadata": {
        "id": "l9akgR2yQaF0"
      }
    },
    {
      "cell_type": "code",
      "source": [
        "# Menghitung persen yang hilang dari data awal\n",
        "PersenHilang = (len (TDSLandfill.index) - len(df_IQR.index)) / len (TDSLandfill.index) * 100\n",
        "\n",
        "print ('Persen yang hilang adalah: ', round(PersenHilang, 4), '%')"
      ],
      "metadata": {
        "colab": {
          "base_uri": "https://localhost:8080/"
        },
        "id": "7dRXgnQKGPj9",
        "outputId": "4bec62a8-f0a5-4910-8856-7c347ac9b108"
      },
      "execution_count": 82,
      "outputs": [
        {
          "output_type": "stream",
          "name": "stdout",
          "text": [
            "Persen yang hilang adalah:  0.0655 %\n"
          ]
        }
      ]
    },
    {
      "cell_type": "code",
      "source": [
        "# Mengecek ulang setelah outlier dihilangkan\n",
        "print ('Nilai Skewness :', df_IQR['Beban Muatan'].skew().round(decimals=2))\n",
        "\n",
        "sns.histplot(df_IQR['Beban Muatan'], bins=50, kde=True);"
      ],
      "metadata": {
        "colab": {
          "base_uri": "https://localhost:8080/",
          "height": 466
        },
        "id": "5zoh9T9pIrZ2",
        "outputId": "eab93ef0-9a38-4efd-b6d1-f461e9b2e29c"
      },
      "execution_count": 83,
      "outputs": [
        {
          "output_type": "stream",
          "name": "stdout",
          "text": [
            "Nilai Skewness : 0.02\n"
          ]
        },
        {
          "output_type": "display_data",
          "data": {
            "text/plain": [
              "<Figure size 640x480 with 1 Axes>"
            ],
            "image/png": "[encoded data removed]"
          },
          "metadata": {}
        }
      ]
    },
    {
      "cell_type": "markdown",
      "source": [
        "Setelah dilakukannya pemilahan outlier, dari nilai awalnya 3.7 menjadi 0.02 yang menghilangkan sebanyak 0.0655%. Dapat dilihat juga grafik outlier pada sebelum dilakukannya pemilahan, condong ke kiri yang tergolong right skewed, setelah dilakukan pemilahan terlihat grafiknya menjadi simetris"
      ],
      "metadata": {
        "id": "3Uiy7ob2lTj2"
      }
    },
    {
      "cell_type": "markdown",
      "source": [
        "### Menghitung `Range`, `Variance`, dan `Standar Deviasi`\n",
        "\n",
        "Pada Lokasi Pembuangan `TDS Landfill`, terdapat penyebaran data yang luas sehingga datanya heterogen, dari penyebaran data yang luas terlihat juga variasi data yang tinggi, terlihat juga dari data standar deviasi yang lumayan tinggi, sehingga dapat ditarik kesimpulan bahwa pada lokasi pembuangan `TDS Landfill` memiliki keberagaman nilai beban muatan"
      ],
      "metadata": {
        "id": "StEnRciUOPwM"
      }
    },
    {
      "cell_type": "code",
      "source": [
        "# Melihat penyebaran data dengan rentang data nilai minimal ke maksimal\n",
        "\n",
        "data_range = df_IQR['Beban Muatan'].max() - df_IQR['Beban Muatan'].min()\n",
        "print(\"Range:\", data_range)"
      ],
      "metadata": {
        "colab": {
          "base_uri": "https://localhost:8080/"
        },
        "id": "FN1aBPRKOc86",
        "outputId": "b7326986-bedb-43f2-ff50-44ab6ea769b2"
      },
      "execution_count": 84,
      "outputs": [
        {
          "output_type": "stream",
          "name": "stdout",
          "text": [
            "Range: 35900.0\n"
          ]
        }
      ]
    },
    {
      "cell_type": "code",
      "source": [
        "# Melihat variasi angka perbandingan dengan nilai rata-rata lalu di average\n",
        "\n",
        "data_variance = df_IQR['Beban Muatan'].var()\n",
        "print (\"Data Variance: \", data_variance)"
      ],
      "metadata": {
        "colab": {
          "base_uri": "https://localhost:8080/"
        },
        "id": "RujQyRVHQzbo",
        "outputId": "d0c83ea0-7faf-4293-cade-0908ccc5325b"
      },
      "execution_count": 85,
      "outputs": [
        {
          "output_type": "stream",
          "name": "stdout",
          "text": [
            "Data Variance:  61675925.62144893\n"
          ]
        }
      ]
    },
    {
      "cell_type": "code",
      "source": [
        "# Menghitung nilai standar deviasi yang berisi jauh dekatnya sebaran data dengan nilai rata-rata\n",
        "\n",
        "data_std = df_IQR['Beban Muatan'].std()\n",
        "print (\"Data Standar Deviasi: \", data_std)"
      ],
      "metadata": {
        "colab": {
          "base_uri": "https://localhost:8080/"
        },
        "id": "9arVr4d8Zijz",
        "outputId": "687861ba-6cff-42ed-b6c2-66348c588322"
      },
      "execution_count": 86,
      "outputs": [
        {
          "output_type": "stream",
          "name": "stdout",
          "text": [
            "Data Standar Deviasi:  7853.402168579483\n"
          ]
        }
      ]
    },
    {
      "cell_type": "markdown",
      "source": [
        "### Metode IQR\n",
        "\n",
        "Pada perhitungan IQR, menggunakan angka 1.5 karena saat menggunakan angka 3 yang termasuk Extreme Case angka skewnesnya lebih sedikit yang 1.5 (0.02) dibandingkan dengan angka 3 (0.04), dan juga pada grafik lebih normal yang angka 1.5"
      ],
      "metadata": {
        "id": "weohtMDTuD_V"
      }
    },
    {
      "cell_type": "code",
      "source": [
        "# Angka 3\n",
        "\n",
        "Q1_3 = TDSLandfill['Beban Muatan'].quantile(0.25)\n",
        "Q3_3 = TDSLandfill['Beban Muatan'].quantile(0.75)\n",
        "print ('Nilai Q1: ', Q1_3)\n",
        "print ('Nilai Q3: ', Q3_3)\n",
        "\n",
        "IQR_3 = Q3_3 - Q1_3\n",
        "print ('Nilai IQR: ', IQR_3)\n",
        "\n",
        "BatasBawah_3 = Q1_3 - (IQR_3 * 3)\n",
        "BatasAtas_3 = Q3_3 + (IQR_3 * 3)\n",
        "\n",
        "print ('Nilai Batas Bawah: ', BatasBawah_3)\n",
        "print ('Nilai Batas Atas: ', BatasAtas_3)\n",
        "\n",
        "df_IQR_3 = TDSLandfill[(TDSLandfill['Beban Muatan'] > BatasBawah_3) & (TDSLandfill['Beban Muatan'] < BatasAtas_3)]\n",
        "\n",
        "print ('Nilai Skewness :', df_IQR_3['Beban Muatan'].skew().round(decimals=2))\n",
        "\n",
        "sns.histplot(df_IQR_3['Beban Muatan'], bins=50, kde=True);"
      ],
      "metadata": {
        "colab": {
          "base_uri": "https://localhost:8080/",
          "height": 553
        },
        "id": "WUZDYqH0uVyU",
        "outputId": "363019c8-5be0-4738-f99c-38b005236914"
      },
      "execution_count": 87,
      "outputs": [
        {
          "output_type": "stream",
          "name": "stdout",
          "text": [
            "Nilai Q1:  8820.0\n",
            "Nilai Q3:  21660.0\n",
            "Nilai IQR:  12840.0\n",
            "Nilai Batas Bawah:  -29700.0\n",
            "Nilai Batas Atas:  60180.0\n",
            "Nilai Skewness : 0.04\n"
          ]
        },
        {
          "output_type": "display_data",
          "data": {
            "text/plain": [
              "<Figure size 640x480 with 1 Axes>"
            ],
            "image/png": "[encoded data removed]"
          },
          "metadata": {}
        }
      ]
    },
    {
      "cell_type": "markdown",
      "source": [
        "## Confidence Interval\n",
        "\n",
        "Sebelum menganalisa `Confidence Interval` diperlukan data dengan distribusi normal, sehingga perlu dihilangkan nilai outlier. Dalam pembuatan `Confidence Interval` menggunakan data dari semua lokasi pembuangan karena perlu pertimbangan dari lokasi pembuangan yang ada, dan apabila hanya menggunakan satu lokasi pembuangan, tidak mewakilkan lokasi pembuangan yang ada di kota Austin."
      ],
      "metadata": {
        "id": "IZaoE8QRaDo4"
      }
    },
    {
      "cell_type": "code",
      "source": [
        "print ('Nilai Skewness :', df['Beban Muatan'].skew().round(decimals=2))\n",
        "\n",
        "sns.histplot(df['Beban Muatan'], bins=50, kde=True);"
      ],
      "metadata": {
        "colab": {
          "base_uri": "https://localhost:8080/",
          "height": 466
        },
        "id": "dndvUwBA1azR",
        "outputId": "0181495e-ebee-42f9-efc0-c342454d0582"
      },
      "execution_count": 88,
      "outputs": [
        {
          "output_type": "stream",
          "name": "stdout",
          "text": [
            "Nilai Skewness : 3.42\n"
          ]
        },
        {
          "output_type": "display_data",
          "data": {
            "text/plain": [
              "<Figure size 640x480 with 1 Axes>"
            ],
            "image/png": "[encoded data removed]"
          },
          "metadata": {}
        }
      ]
    },
    {
      "cell_type": "code",
      "source": [
        "df_Q1 = TDSLandfill['Beban Muatan'].quantile(0.25)\n",
        "df_Q3 = TDSLandfill['Beban Muatan'].quantile(0.75)\n",
        "print ('Nilai Q1: ', df_Q1)\n",
        "print ('Nilai Q3: ', df_Q3)\n",
        "\n",
        "df_IQR = df_Q3 - df_Q1\n",
        "print ('Nilai IQR: ', df_IQR)\n",
        "\n",
        "df_BatasBawah = df_Q1 - (df_IQR * 1.5)\n",
        "df_BatasAtas = df_Q3 + (df_IQR * 1.5)\n",
        "\n",
        "print ('Nilai Batas Bawah: ', df_BatasBawah)\n",
        "print ('Nilai Batas Atas: ', df_BatasAtas)\n",
        "\n",
        "df_IQR2 = df[(df['Beban Muatan'] > df_BatasBawah) & (df['Beban Muatan'] < df_BatasAtas)]\n",
        "\n",
        "print ('Nilai Skewness :', df_IQR2['Beban Muatan'].skew().round(decimals=2))\n",
        "\n",
        "sns.histplot(df_IQR2['Beban Muatan'], bins=50, kde=True);"
      ],
      "metadata": {
        "colab": {
          "base_uri": "https://localhost:8080/",
          "height": 553
        },
        "id": "vBkLP37G2dms",
        "outputId": "ac8ea0a3-e8f1-4826-8866-b7654f881141"
      },
      "execution_count": 89,
      "outputs": [
        {
          "output_type": "stream",
          "name": "stdout",
          "text": [
            "Nilai Q1:  8820.0\n",
            "Nilai Q3:  21660.0\n",
            "Nilai IQR:  12840.0\n",
            "Nilai Batas Bawah:  -10440.0\n",
            "Nilai Batas Atas:  40920.0\n",
            "Nilai Skewness : 0.58\n"
          ]
        },
        {
          "output_type": "display_data",
          "data": {
            "text/plain": [
              "<Figure size 640x480 with 1 Axes>"
            ],
            "image/png": "[encoded data removed]"
          },
          "metadata": {}
        }
      ]
    },
    {
      "cell_type": "markdown",
      "source": [
        "### ZScore"
      ],
      "metadata": {
        "id": "AYvrrJqEuwNc"
      }
    },
    {
      "cell_type": "code",
      "source": [
        "df_IQR2['zscore'] = (df_IQR2['Beban Muatan'] - df_IQR2['Beban Muatan'].mean()) / (df_IQR2['Beban Muatan'].std())\n",
        "\n",
        "df_IQR2_no_outliers = df_IQR2[(df_IQR2.zscore<2.5) & (df_IQR2.zscore>-2.5)]\n",
        "print(df_IQR2_no_outliers['Beban Muatan'].skew())\n",
        "\n",
        "sns.histplot(df_IQR2_no_outliers['Beban Muatan'], bins=50, kde=True);"
      ],
      "metadata": {
        "colab": {
          "base_uri": "https://localhost:8080/",
          "height": 571
        },
        "id": "9l0vqr8f4Yvh",
        "outputId": "778736db-5964-4f54-89ab-03fe917c1159"
      },
      "execution_count": 90,
      "outputs": [
        {
          "output_type": "stream",
          "name": "stderr",
          "text": [
            "<ipython-input-90-5c3460548104>:1: SettingWithCopyWarning: \n",
            "A value is trying to be set on a copy of a slice from a DataFrame.\n",
            "Try using .loc[row_indexer,col_indexer] = value instead\n",
            "\n",
            "See the caveats in the documentation: https://pandas.pydata.org/pandas-docs/stable/user_guide/indexing.html#returning-a-view-versus-a-copy\n",
            "  df_IQR2['zscore'] = (df_IQR2['Beban Muatan'] - df_IQR2['Beban Muatan'].mean()) / (df_IQR2['Beban Muatan'].std())\n"
          ]
        },
        {
          "output_type": "stream",
          "name": "stdout",
          "text": [
            "0.4838174875463272\n"
          ]
        },
        {
          "output_type": "display_data",
          "data": {
            "text/plain": [
              "<Figure size 640x480 with 1 Axes>"
            ],
            "image/png": "[encoded data removed]"
          },
          "metadata": {}
        }
      ]
    },
    {
      "cell_type": "code",
      "source": [
        "Jumlah_Lokasi_Pembuangan = df[\"Lokasi Pembuangan\"].nunique()\n",
        "print ('Lokasi pembuangan sebelum menggunakan outlier ', Jumlah_Lokasi_Pembuangan, 'buah')\n",
        "\n",
        "Jumlah_Lokasi_Pembuangan2 = df_IQR2_no_outliers[\"Lokasi Pembuangan\"].nunique()\n",
        "print ('Lokasi pembuangan setelah menggunakan outlier ', Jumlah_Lokasi_Pembuangan2, 'buah')\n",
        "\n",
        "#Tidak terlihat adanya perbedaan jumlah lokasi pembuangan setelah dibuangnya nilai outlier"
      ],
      "metadata": {
        "colab": {
          "base_uri": "https://localhost:8080/"
        },
        "id": "2oIDcFoCdplO",
        "outputId": "c605487e-e975-4437-aa39-549b9f167cd0"
      },
      "execution_count": 91,
      "outputs": [
        {
          "output_type": "stream",
          "name": "stdout",
          "text": [
            "Lokasi pembuangan sebelum menggunakan outlier  18 buah\n",
            "Lokasi pembuangan setelah menggunakan outlier  18 buah\n"
          ]
        }
      ]
    },
    {
      "cell_type": "code",
      "source": [
        "print ('Mean dari Beban Muatan dari semua site setelah dihilangkan nilai outlier :', df_IQR2_no_outliers['Beban Muatan'].mean())\n",
        "print ('Standar Deviasi dari Beban Muatan dari semua site setelah dihilangkan nilai outlier :', df_IQR2_no_outliers['Beban Muatan'].std())"
      ],
      "metadata": {
        "colab": {
          "base_uri": "https://localhost:8080/"
        },
        "id": "Lobr-T2U9GmZ",
        "outputId": "6b459819-5d14-4393-ef25-dbc6b0b66bda"
      },
      "execution_count": 92,
      "outputs": [
        {
          "output_type": "stream",
          "name": "stdout",
          "text": [
            "Mean dari Beban Muatan dari semua site setelah dihilangkan nilai outlier : 11954.12994120331\n",
            "Standar Deviasi dari Beban Muatan dari semua site setelah dihilangkan nilai outlier : 6358.17852764878\n"
          ]
        }
      ]
    },
    {
      "cell_type": "code",
      "source": [
        "# Confidence Interval\n",
        "print ('One Tailed Test :',stats.norm.interval (0.9, df_IQR2_no_outliers['Beban Muatan'].mean(), df_IQR2_no_outliers['Beban Muatan'].std()))\n",
        "\n",
        "# Kenapa menggunakan nilai alpha 0.9, karena apabila menggunakan nilai alpha 0.95, batas bawahnya bernilai minus dimana beban muatan tidak mungkin bernilai minus\n",
        "print ('Two Tailed Test :', stats.norm.interval (0.95, df_IQR2_no_outliers['Beban Muatan'].mean(), df_IQR2_no_outliers['Beban Muatan'].std()))"
      ],
      "metadata": {
        "colab": {
          "base_uri": "https://localhost:8080/"
        },
        "id": "sAr_VqpK8XFU",
        "outputId": "ebdc2d8a-dd79-4a65-fdf9-1ecb85f3a99a"
      },
      "execution_count": 93,
      "outputs": [
        {
          "output_type": "stream",
          "name": "stdout",
          "text": [
            "One Tailed Test : (1495.856929195239, 22412.40295321138)\n",
            "Two Tailed Test : (-507.6709802642072, 24415.930862670826)\n"
          ]
        }
      ]
    },
    {
      "cell_type": "markdown",
      "source": [
        "### Kesimpulan\n",
        "\n",
        "Berdasarkan hasil `Confidence Interval`, perkiraan kapasitas lokasi pembuangan yang baru adalah dari 1495 sampai 22412."
      ],
      "metadata": {
        "id": "yzbjd4mXDoDM"
      }
    },
    {
      "cell_type": "markdown",
      "source": [
        "## Analisa Uji Hipotesis\n",
        "\n",
        "H0 = Tidak ada perbedaan tipe muatan antara TDS Landfill dan TDS MRF\n",
        "\n",
        "H1 = Terdapat perbedaan tipe muatan antara TDS Landfill dan TDS MRF"
      ],
      "metadata": {
        "id": "T6WUsn0eaHGg"
      }
    },
    {
      "cell_type": "code",
      "source": [
        "Pembuangan_Perhari = df_IQR2_no_outliers.groupby(['Lokasi Pembuangan', 'Tanggal Laporan'], as_index=False).sum()\n",
        "Pembuangan_Perhari = Pembuangan_Perhari.drop(columns = 'zscore')\n",
        "\n",
        "print (Pembuangan_Perhari)"
      ],
      "metadata": {
        "colab": {
          "base_uri": "https://localhost:8080/"
        },
        "id": "t8ulmSThdEqG",
        "outputId": "9f438fb5-e0a6-44cd-8cf9-a1730fc4825e"
      },
      "execution_count": 94,
      "outputs": [
        {
          "output_type": "stream",
          "name": "stdout",
          "text": [
            "          Lokasi Pembuangan Tanggal Laporan  Beban Muatan\n",
            "0     AUSTIN IRON AND METAL      2021-01-05         260.0\n",
            "1     AUSTIN IRON AND METAL      2021-01-06         220.0\n",
            "2     AUSTIN IRON AND METAL      2021-01-13         640.0\n",
            "3     AUSTIN IRON AND METAL      2021-01-19         830.0\n",
            "4     AUSTIN IRON AND METAL      2021-02-04         140.0\n",
            "...                     ...             ...           ...\n",
            "1037           TDS LANDFILL      2021-07-07     1036970.0\n",
            "1038           TDS LANDFILL      2021-07-08     1001740.0\n",
            "1039           TDS LANDFILL      2021-07-09        4940.0\n",
            "1040              WESTFIELD      2021-05-20       16020.0\n",
            "1041                 WILCAB      2021-01-21       11300.0\n",
            "\n",
            "[1042 rows x 3 columns]\n"
          ]
        },
        {
          "output_type": "stream",
          "name": "stderr",
          "text": [
            "<ipython-input-94-1e4273f8597a>:1: FutureWarning: The default value of numeric_only in DataFrameGroupBy.sum is deprecated. In a future version, numeric_only will default to False. Either specify numeric_only or select only columns which should be valid for the function.\n",
            "  Pembuangan_Perhari = df_IQR2_no_outliers.groupby(['Lokasi Pembuangan', 'Tanggal Laporan'], as_index=False).sum()\n"
          ]
        }
      ]
    },
    {
      "cell_type": "code",
      "source": [
        "Pembuangan_Perhari_Landfill = Pembuangan_Perhari.query('`Lokasi Pembuangan` == \"TDS LANDFILL\"')\n",
        "Pembuangan_Perhari_MRF = Pembuangan_Perhari[(Pembuangan_Perhari[\"Lokasi Pembuangan\"] == \"TDS - MRF\")]\n",
        "\n",
        "print (Pembuangan_Perhari_Landfill)\n",
        "print ('')\n",
        "print (Pembuangan_Perhari_MRF)"
      ],
      "metadata": {
        "colab": {
          "base_uri": "https://localhost:8080/"
        },
        "id": "4cUrxrI9nDlO",
        "outputId": "dc3c52a6-9ed3-42a7-ee0b-d664dd546693"
      },
      "execution_count": 95,
      "outputs": [
        {
          "output_type": "stream",
          "name": "stdout",
          "text": [
            "     Lokasi Pembuangan Tanggal Laporan  Beban Muatan\n",
            "879       TDS LANDFILL      2021-01-02      977720.0\n",
            "880       TDS LANDFILL      2021-01-04     1681060.0\n",
            "881       TDS LANDFILL      2021-01-05     1193020.0\n",
            "882       TDS LANDFILL      2021-01-06     1166640.0\n",
            "883       TDS LANDFILL      2021-01-07     1129000.0\n",
            "...                ...             ...           ...\n",
            "1035      TDS LANDFILL      2021-07-05     1169060.0\n",
            "1036      TDS LANDFILL      2021-07-06     1130180.0\n",
            "1037      TDS LANDFILL      2021-07-07     1036970.0\n",
            "1038      TDS LANDFILL      2021-07-08     1001740.0\n",
            "1039      TDS LANDFILL      2021-07-09        4940.0\n",
            "\n",
            "[161 rows x 3 columns]\n",
            "\n",
            "    Lokasi Pembuangan Tanggal Laporan  Beban Muatan\n",
            "773         TDS - MRF      2021-01-02         840.0\n",
            "774         TDS - MRF      2021-01-04      559720.0\n",
            "775         TDS - MRF      2021-01-05      619260.0\n",
            "776         TDS - MRF      2021-01-06       23020.0\n",
            "777         TDS - MRF      2021-01-07         380.0\n",
            "..                ...             ...           ...\n",
            "874         TDS - MRF      2021-06-29      385540.0\n",
            "875         TDS - MRF      2021-06-30       14020.0\n",
            "876         TDS - MRF      2021-07-05      294140.0\n",
            "877         TDS - MRF      2021-07-06      337440.0\n",
            "878         TDS - MRF      2021-07-07        9400.0\n",
            "\n",
            "[106 rows x 3 columns]\n"
          ]
        }
      ]
    },
    {
      "cell_type": "code",
      "source": [
        "Landfill_MRF = pd.merge(Pembuangan_Perhari_Landfill, Pembuangan_Perhari_MRF, on = ['Tanggal Laporan'])\n",
        "Landfill_MRF"
      ],
      "metadata": {
        "id": "SK0NYeHdseVr",
        "colab": {
          "base_uri": "https://localhost:8080/",
          "height": 424
        },
        "outputId": "7059dd1e-095f-4796-886a-d937b1cf9e86"
      },
      "execution_count": 96,
      "outputs": [
        {
          "output_type": "execute_result",
          "data": {
            "text/plain": [
              "    Lokasi Pembuangan_x Tanggal Laporan  Beban Muatan_x Lokasi Pembuangan_y  \\\n",
              "0          TDS LANDFILL      2021-01-02        977720.0           TDS - MRF   \n",
              "1          TDS LANDFILL      2021-01-04       1681060.0           TDS - MRF   \n",
              "2          TDS LANDFILL      2021-01-05       1193020.0           TDS - MRF   \n",
              "3          TDS LANDFILL      2021-01-06       1166640.0           TDS - MRF   \n",
              "4          TDS LANDFILL      2021-01-07       1129000.0           TDS - MRF   \n",
              "..                  ...             ...             ...                 ...   \n",
              "101        TDS LANDFILL      2021-06-29       1215240.0           TDS - MRF   \n",
              "102        TDS LANDFILL      2021-06-30       1230770.0           TDS - MRF   \n",
              "103        TDS LANDFILL      2021-07-05       1169060.0           TDS - MRF   \n",
              "104        TDS LANDFILL      2021-07-06       1130180.0           TDS - MRF   \n",
              "105        TDS LANDFILL      2021-07-07       1036970.0           TDS - MRF   \n",
              "\n",
              "     Beban Muatan_y  \n",
              "0             840.0  \n",
              "1          559720.0  \n",
              "2          619260.0  \n",
              "3           23020.0  \n",
              "4             380.0  \n",
              "..              ...  \n",
              "101        385540.0  \n",
              "102         14020.0  \n",
              "103        294140.0  \n",
              "104        337440.0  \n",
              "105          9400.0  \n",
              "\n",
              "[106 rows x 5 columns]"
            ],
            "text/html": [
              "\n",
              "  <div id=\"df-40f32491-bf54-4f7a-8809-7c3d6cc1c425\" class=\"colab-df-container\">\n",
              "    <div>\n",
              "<style scoped>\n",
              "    .dataframe tbody tr th:only-of-type {\n",
              "        vertical-align: middle;\n",
              "    }\n",
              "\n",
              "    .dataframe tbody tr th {\n",
              "        vertical-align: top;\n",
              "    }\n",
              "\n",
              "    .dataframe thead th {\n",
              "        text-align: right;\n",
              "    }\n",
              "</style>\n",
              "<table border=\"1\" class=\"dataframe\">\n",
              "  <thead>\n",
              "    <tr style=\"text-align: right;\">\n",
              "      <th></th>\n",
              "      <th>Lokasi Pembuangan_x</th>\n",
              "      <th>Tanggal Laporan</th>\n",
              "      <th>Beban Muatan_x</th>\n",
              "      <th>Lokasi Pembuangan_y</th>\n",
              "      <th>Beban Muatan_y</th>\n",
              "    </tr>\n",
              "  </thead>\n",
              "  <tbody>\n",
              "    <tr>\n",
              "      <th>0</th>\n",
              "      <td>TDS LANDFILL</td>\n",
              "      <td>2021-01-02</td>\n",
              "      <td>977720.0</td>\n",
              "      <td>TDS - MRF</td>\n",
              "      <td>840.0</td>\n",
              "    </tr>\n",
              "    <tr>\n",
              "      <th>1</th>\n",
              "      <td>TDS LANDFILL</td>\n",
              "      <td>2021-01-04</td>\n",
              "      <td>1681060.0</td>\n",
              "      <td>TDS - MRF</td>\n",
              "      <td>559720.0</td>\n",
              "    </tr>\n",
              "    <tr>\n",
              "      <th>2</th>\n",
              "      <td>TDS LANDFILL</td>\n",
              "      <td>2021-01-05</td>\n",
              "      <td>1193020.0</td>\n",
              "      <td>TDS - MRF</td>\n",
              "      <td>619260.0</td>\n",
              "    </tr>\n",
              "    <tr>\n",
              "      <th>3</th>\n",
              "      <td>TDS LANDFILL</td>\n",
              "      <td>2021-01-06</td>\n",
              "      <td>1166640.0</td>\n",
              "      <td>TDS - MRF</td>\n",
              "      <td>23020.0</td>\n",
              "    </tr>\n",
              "    <tr>\n",
              "      <th>4</th>\n",
              "      <td>TDS LANDFILL</td>\n",
              "      <td>2021-01-07</td>\n",
              "      <td>1129000.0</td>\n",
              "      <td>TDS - MRF</td>\n",
              "      <td>380.0</td>\n",
              "    </tr>\n",
              "    <tr>\n",
              "      <th>...</th>\n",
              "      <td>...</td>\n",
              "      <td>...</td>\n",
              "      <td>...</td>\n",
              "      <td>...</td>\n",
              "      <td>...</td>\n",
              "    </tr>\n",
              "    <tr>\n",
              "      <th>101</th>\n",
              "      <td>TDS LANDFILL</td>\n",
              "      <td>2021-06-29</td>\n",
              "      <td>1215240.0</td>\n",
              "      <td>TDS - MRF</td>\n",
              "      <td>385540.0</td>\n",
              "    </tr>\n",
              "    <tr>\n",
              "      <th>102</th>\n",
              "      <td>TDS LANDFILL</td>\n",
              "      <td>2021-06-30</td>\n",
              "      <td>1230770.0</td>\n",
              "      <td>TDS - MRF</td>\n",
              "      <td>14020.0</td>\n",
              "    </tr>\n",
              "    <tr>\n",
              "      <th>103</th>\n",
              "      <td>TDS LANDFILL</td>\n",
              "      <td>2021-07-05</td>\n",
              "      <td>1169060.0</td>\n",
              "      <td>TDS - MRF</td>\n",
              "      <td>294140.0</td>\n",
              "    </tr>\n",
              "    <tr>\n",
              "      <th>104</th>\n",
              "      <td>TDS LANDFILL</td>\n",
              "      <td>2021-07-06</td>\n",
              "      <td>1130180.0</td>\n",
              "      <td>TDS - MRF</td>\n",
              "      <td>337440.0</td>\n",
              "    </tr>\n",
              "    <tr>\n",
              "      <th>105</th>\n",
              "      <td>TDS LANDFILL</td>\n",
              "      <td>2021-07-07</td>\n",
              "      <td>1036970.0</td>\n",
              "      <td>TDS - MRF</td>\n",
              "      <td>9400.0</td>\n",
              "    </tr>\n",
              "  </tbody>\n",
              "</table>\n",
              "<p>106 rows × 5 columns</p>\n",
              "</div>\n",
              "    <div class=\"colab-df-buttons\">\n",
              "\n",
              "  <div class=\"colab-df-container\">\n",
              "    <button class=\"colab-df-convert\" onclick=\"convertToInteractive('df-40f32491-bf54-4f7a-8809-7c3d6cc1c425')\"\n",
              "            title=\"Convert this dataframe to an interactive table.\"\n",
              "            style=\"display:none;\">\n",
              "\n",
              "  <svg xmlns=\"http://www.w3.org/2000/svg\" height=\"24px\" viewBox=\"0 -960 960 960\">\n",
              "    <path d=\"M120-120v-720h720v720H120Zm60-500h600v-160H180v160Zm220 220h160v-160H400v160Zm0 220h160v-160H400v160ZM180-400h160v-160H180v160Zm440 0h160v-160H620v160ZM180-180h160v-160H180v160Zm440 0h160v-160H620v160Z\"/>\n",
              "  </svg>\n",
              "    </button>\n",
              "\n",
              "  <style>\n",
              "    .colab-df-container {\n",
              "      display:flex;\n",
              "      gap: 12px;\n",
              "    }\n",
              "\n",
              "    .colab-df-convert {\n",
              "      background-color: #E8F0FE;\n",
              "      border: none;\n",
              "      border-radius: 50%;\n",
              "      cursor: pointer;\n",
              "      display: none;\n",
              "      fill: #1967D2;\n",
              "      height: 32px;\n",
              "      padding: 0 0 0 0;\n",
              "      width: 32px;\n",
              "    }\n",
              "\n",
              "    .colab-df-convert:hover {\n",
              "      background-color: #E2EBFA;\n",
              "      box-shadow: 0px 1px 2px rgba(60, 64, 67, 0.3), 0px 1px 3px 1px rgba(60, 64, 67, 0.15);\n",
              "      fill: #174EA6;\n",
              "    }\n",
              "\n",
              "    .colab-df-buttons div {\n",
              "      margin-bottom: 4px;\n",
              "    }\n",
              "\n",
              "    [theme=dark] .colab-df-convert {\n",
              "      background-color: #3B4455;\n",
              "      fill: #D2E3FC;\n",
              "    }\n",
              "\n",
              "    [theme=dark] .colab-df-convert:hover {\n",
              "      background-color: #434B5C;\n",
              "      box-shadow: 0px 1px 3px 1px rgba(0, 0, 0, 0.15);\n",
              "      filter: drop-shadow(0px 1px 2px rgba(0, 0, 0, 0.3));\n",
              "      fill: #FFFFFF;\n",
              "    }\n",
              "  </style>\n",
              "\n",
              "    <script>\n",
              "      const buttonEl =\n",
              "        document.querySelector('#df-40f32491-bf54-4f7a-8809-7c3d6cc1c425 button.colab-df-convert');\n",
              "      buttonEl.style.display =\n",
              "        google.colab.kernel.accessAllowed ? 'block' : 'none';\n",
              "\n",
              "      async function convertToInteractive(key) {\n",
              "        const element = document.querySelector('#df-40f32491-bf54-4f7a-8809-7c3d6cc1c425');\n",
              "        const dataTable =\n",
              "          await google.colab.kernel.invokeFunction('convertToInteractive',\n",
              "                                                    [key], {});\n",
              "        if (!dataTable) return;\n",
              "\n",
              "        const docLinkHtml = 'Like what you see? Visit the ' +\n",
              "          '<a target=\"_blank\" href=https://colab.research.google.com/notebooks/data_table.ipynb>data table notebook</a>'\n",
              "          + ' to learn more about interactive tables.';\n",
              "        element.innerHTML = '';\n",
              "        dataTable['output_type'] = 'display_data';\n",
              "        await google.colab.output.renderOutput(dataTable, element);\n",
              "        const docLink = document.createElement('div');\n",
              "        docLink.innerHTML = docLinkHtml;\n",
              "        element.appendChild(docLink);\n",
              "      }\n",
              "    </script>\n",
              "  </div>\n",
              "\n",
              "\n",
              "<div id=\"df-9e1a0490-2d01-4232-bd1d-9a1972023161\">\n",
              "  <button class=\"colab-df-quickchart\" onclick=\"quickchart('df-9e1a0490-2d01-4232-bd1d-9a1972023161')\"\n",
              "            title=\"Suggest charts.\"\n",
              "            style=\"display:none;\">\n",
              "\n",
              "<svg xmlns=\"http://www.w3.org/2000/svg\" height=\"24px\"viewBox=\"0 0 24 24\"\n",
              "     width=\"24px\">\n",
              "    <g>\n",
              "        <path d=\"M19 3H5c-1.1 0-2 .9-2 2v14c0 1.1.9 2 2 2h14c1.1 0 2-.9 2-2V5c0-1.1-.9-2-2-2zM9 17H7v-7h2v7zm4 0h-2V7h2v10zm4 0h-2v-4h2v4z\"/>\n",
              "    </g>\n",
              "</svg>\n",
              "  </button>\n",
              "\n",
              "<style>\n",
              "  .colab-df-quickchart {\n",
              "      --bg-color: #E8F0FE;\n",
              "      --fill-color: #1967D2;\n",
              "      --hover-bg-color: #E2EBFA;\n",
              "      --hover-fill-color: #174EA6;\n",
              "      --disabled-fill-color: #AAA;\n",
              "      --disabled-bg-color: #DDD;\n",
              "  }\n",
              "\n",
              "  [theme=dark] .colab-df-quickchart {\n",
              "      --bg-color: #3B4455;\n",
              "      --fill-color: #D2E3FC;\n",
              "      --hover-bg-color: #434B5C;\n",
              "      --hover-fill-color: #FFFFFF;\n",
              "      --disabled-bg-color: #3B4455;\n",
              "      --disabled-fill-color: #666;\n",
              "  }\n",
              "\n",
              "  .colab-df-quickchart {\n",
              "    background-color: var(--bg-color);\n",
              "    border: none;\n",
              "    border-radius: 50%;\n",
              "    cursor: pointer;\n",
              "    display: none;\n",
              "    fill: var(--fill-color);\n",
              "    height: 32px;\n",
              "    padding: 0;\n",
              "    width: 32px;\n",
              "  }\n",
              "\n",
              "  .colab-df-quickchart:hover {\n",
              "    background-color: var(--hover-bg-color);\n",
              "    box-shadow: 0 1px 2px rgba(60, 64, 67, 0.3), 0 1px 3px 1px rgba(60, 64, 67, 0.15);\n",
              "    fill: var(--button-hover-fill-color);\n",
              "  }\n",
              "\n",
              "  .colab-df-quickchart-complete:disabled,\n",
              "  .colab-df-quickchart-complete:disabled:hover {\n",
              "    background-color: var(--disabled-bg-color);\n",
              "    fill: var(--disabled-fill-color);\n",
              "    box-shadow: none;\n",
              "  }\n",
              "\n",
              "  .colab-df-spinner {\n",
              "    border: 2px solid var(--fill-color);\n",
              "    border-color: transparent;\n",
              "    border-bottom-color: var(--fill-color);\n",
              "    animation:\n",
              "      spin 1s steps(1) infinite;\n",
              "  }\n",
              "\n",
              "  @keyframes spin {\n",
              "    0% {\n",
              "      border-color: transparent;\n",
              "      border-bottom-color: var(--fill-color);\n",
              "      border-left-color: var(--fill-color);\n",
              "    }\n",
              "    20% {\n",
              "      border-color: transparent;\n",
              "      border-left-color: var(--fill-color);\n",
              "      border-top-color: var(--fill-color);\n",
              "    }\n",
              "    30% {\n",
              "      border-color: transparent;\n",
              "      border-left-color: var(--fill-color);\n",
              "      border-top-color: var(--fill-color);\n",
              "      border-right-color: var(--fill-color);\n",
              "    }\n",
              "    40% {\n",
              "      border-color: transparent;\n",
              "      border-right-color: var(--fill-color);\n",
              "      border-top-color: var(--fill-color);\n",
              "    }\n",
              "    60% {\n",
              "      border-color: transparent;\n",
              "      border-right-color: var(--fill-color);\n",
              "    }\n",
              "    80% {\n",
              "      border-color: transparent;\n",
              "      border-right-color: var(--fill-color);\n",
              "      border-bottom-color: var(--fill-color);\n",
              "    }\n",
              "    90% {\n",
              "      border-color: transparent;\n",
              "      border-bottom-color: var(--fill-color);\n",
              "    }\n",
              "  }\n",
              "</style>\n",
              "\n",
              "  <script>\n",
              "    async function quickchart(key) {\n",
              "      const quickchartButtonEl =\n",
              "        document.querySelector('#' + key + ' button');\n",
              "      quickchartButtonEl.disabled = true;  // To prevent multiple clicks.\n",
              "      quickchartButtonEl.classList.add('colab-df-spinner');\n",
              "      try {\n",
              "        const charts = await google.colab.kernel.invokeFunction(\n",
              "            'suggestCharts', [key], {});\n",
              "      } catch (error) {\n",
              "        console.error('Error during call to suggestCharts:', error);\n",
              "      }\n",
              "      quickchartButtonEl.classList.remove('colab-df-spinner');\n",
              "      quickchartButtonEl.classList.add('colab-df-quickchart-complete');\n",
              "    }\n",
              "    (() => {\n",
              "      let quickchartButtonEl =\n",
              "        document.querySelector('#df-9e1a0490-2d01-4232-bd1d-9a1972023161 button');\n",
              "      quickchartButtonEl.style.display =\n",
              "        google.colab.kernel.accessAllowed ? 'block' : 'none';\n",
              "    })();\n",
              "  </script>\n",
              "</div>\n",
              "    </div>\n",
              "  </div>\n"
            ]
          },
          "metadata": {},
          "execution_count": 96
        }
      ]
    },
    {
      "cell_type": "code",
      "source": [
        "data1 = Landfill_MRF['Beban Muatan_x']\n",
        "data2 = Landfill_MRF['Beban Muatan_y']\n",
        "print (data1)\n",
        "print ('')\n",
        "print (data2)"
      ],
      "metadata": {
        "id": "9nnQdve5QEZX",
        "colab": {
          "base_uri": "https://localhost:8080/"
        },
        "outputId": "0cbce066-a720-434c-af24-390f4c787193"
      },
      "execution_count": 97,
      "outputs": [
        {
          "output_type": "stream",
          "name": "stdout",
          "text": [
            "0       977720.0\n",
            "1      1681060.0\n",
            "2      1193020.0\n",
            "3      1166640.0\n",
            "4      1129000.0\n",
            "         ...    \n",
            "101    1215240.0\n",
            "102    1230770.0\n",
            "103    1169060.0\n",
            "104    1130180.0\n",
            "105    1036970.0\n",
            "Name: Beban Muatan_x, Length: 106, dtype: float64\n",
            "\n",
            "0         840.0\n",
            "1      559720.0\n",
            "2      619260.0\n",
            "3       23020.0\n",
            "4         380.0\n",
            "         ...   \n",
            "101    385540.0\n",
            "102     14020.0\n",
            "103    294140.0\n",
            "104    337440.0\n",
            "105      9400.0\n",
            "Name: Beban Muatan_y, Length: 106, dtype: float64\n"
          ]
        }
      ]
    },
    {
      "cell_type": "code",
      "source": [
        "from scipy.stats import pearsonr\n",
        "\n",
        "stat, p = pearsonr(data1, data2)\n",
        "\n",
        "print('stat=%.3f, p=%.3f' % (stat, p))\n",
        "if p > 0.05:\n",
        "    print('Probably independent / fail to reject H0')\n",
        "else:\n",
        "    print('Probably dependent / Reject H0')\n",
        "\n",
        "# Jika p value dibawah 0.05, menandakan berkorelasi secara signifikan, artinya apabila satu naik yang kedua juga naik"
      ],
      "metadata": {
        "colab": {
          "base_uri": "https://localhost:8080/"
        },
        "id": "wNLhrsy-HU1l",
        "outputId": "d1f63ca0-002b-4cfc-d126-9500d0e4d287"
      },
      "execution_count": 98,
      "outputs": [
        {
          "output_type": "stream",
          "name": "stdout",
          "text": [
            "stat=0.561, p=0.000\n",
            "Probably dependent / Reject H0\n"
          ]
        }
      ]
    },
    {
      "cell_type": "markdown",
      "source": [
        "### Kesimpulan\n",
        "\n",
        "Berdasarkan analisis diketahui bahwa pola pembuangan sampah perhari dari lokasi pembuangan sampah TDS Landfill dengan TDS MRF tidak memiliki kesamaan dimana jika jumlah pembuangan sampah perhari pada TDS Landfill bertambah maka TDS MRF tidak pasti bertambah juga dan itu bukan suatu kebetulan"
      ],
      "metadata": {
        "id": "rsrQWFEPyvUh"
      }
    },
    {
      "cell_type": "markdown",
      "source": [
        "## Analisa Uji Hipotesis 2\n",
        "\n",
        "H0 = Beban Muatan pada TDS Landfill sama dengan TDS MRF\n",
        "\n",
        "H1 = Beban Muatan pada TDS Landfill tidak sama dengan TDS MRF"
      ],
      "metadata": {
        "id": "MezXbpO-ksMM"
      }
    },
    {
      "cell_type": "code",
      "source": [
        "Beban_Muatan_Semua_Lokasi = df_IQR2_no_outliers.groupby(['Lokasi Pembuangan', 'Tanggal Laporan'], as_index=False).sum()\n",
        "Beban_Muatan_Semua_Lokasi"
      ],
      "metadata": {
        "colab": {
          "base_uri": "https://localhost:8080/",
          "height": 478
        },
        "id": "s81KQCJPlC-N",
        "outputId": "1bab9d5c-74ce-484c-ba7a-021ff0d4beb3"
      },
      "execution_count": 99,
      "outputs": [
        {
          "output_type": "stream",
          "name": "stderr",
          "text": [
            "<ipython-input-99-4c6fc825080a>:1: FutureWarning: The default value of numeric_only in DataFrameGroupBy.sum is deprecated. In a future version, numeric_only will default to False. Either specify numeric_only or select only columns which should be valid for the function.\n",
            "  Beban_Muatan_Semua_Lokasi = df_IQR2_no_outliers.groupby(['Lokasi Pembuangan', 'Tanggal Laporan'], as_index=False).sum()\n"
          ]
        },
        {
          "output_type": "execute_result",
          "data": {
            "text/plain": [
              "          Lokasi Pembuangan Tanggal Laporan  Beban Muatan     zscore\n",
              "0     AUSTIN IRON AND METAL      2021-01-05         260.0  -1.798650\n",
              "1     AUSTIN IRON AND METAL      2021-01-06         220.0  -1.804697\n",
              "2     AUSTIN IRON AND METAL      2021-01-13         640.0  -1.741208\n",
              "3     AUSTIN IRON AND METAL      2021-01-19         830.0  -1.712486\n",
              "4     AUSTIN IRON AND METAL      2021-02-04         140.0  -1.816790\n",
              "...                     ...             ...           ...        ...\n",
              "1037           TDS LANDFILL      2021-07-07     1036970.0  13.392720\n",
              "1038           TDS LANDFILL      2021-07-08     1001740.0  33.798536\n",
              "1039           TDS LANDFILL      2021-07-09        4940.0  -2.929153\n",
              "1040              WESTFIELD      2021-05-20       16020.0   0.583702\n",
              "1041                 WILCAB      2021-01-21       11300.0  -0.129794\n",
              "\n",
              "[1042 rows x 4 columns]"
            ],
            "text/html": [
              "\n",
              "  <div id=\"df-7b97f79a-80ff-42f8-a6c6-b11008985445\" class=\"colab-df-container\">\n",
              "    <div>\n",
              "<style scoped>\n",
              "    .dataframe tbody tr th:only-of-type {\n",
              "        vertical-align: middle;\n",
              "    }\n",
              "\n",
              "    .dataframe tbody tr th {\n",
              "        vertical-align: top;\n",
              "    }\n",
              "\n",
              "    .dataframe thead th {\n",
              "        text-align: right;\n",
              "    }\n",
              "</style>\n",
              "<table border=\"1\" class=\"dataframe\">\n",
              "  <thead>\n",
              "    <tr style=\"text-align: right;\">\n",
              "      <th></th>\n",
              "      <th>Lokasi Pembuangan</th>\n",
              "      <th>Tanggal Laporan</th>\n",
              "      <th>Beban Muatan</th>\n",
              "      <th>zscore</th>\n",
              "    </tr>\n",
              "  </thead>\n",
              "  <tbody>\n",
              "    <tr>\n",
              "      <th>0</th>\n",
              "      <td>AUSTIN IRON AND METAL</td>\n",
              "      <td>2021-01-05</td>\n",
              "      <td>260.0</td>\n",
              "      <td>-1.798650</td>\n",
              "    </tr>\n",
              "    <tr>\n",
              "      <th>1</th>\n",
              "      <td>AUSTIN IRON AND METAL</td>\n",
              "      <td>2021-01-06</td>\n",
              "      <td>220.0</td>\n",
              "      <td>-1.804697</td>\n",
              "    </tr>\n",
              "    <tr>\n",
              "      <th>2</th>\n",
              "      <td>AUSTIN IRON AND METAL</td>\n",
              "      <td>2021-01-13</td>\n",
              "      <td>640.0</td>\n",
              "      <td>-1.741208</td>\n",
              "    </tr>\n",
              "    <tr>\n",
              "      <th>3</th>\n",
              "      <td>AUSTIN IRON AND METAL</td>\n",
              "      <td>2021-01-19</td>\n",
              "      <td>830.0</td>\n",
              "      <td>-1.712486</td>\n",
              "    </tr>\n",
              "    <tr>\n",
              "      <th>4</th>\n",
              "      <td>AUSTIN IRON AND METAL</td>\n",
              "      <td>2021-02-04</td>\n",
              "      <td>140.0</td>\n",
              "      <td>-1.816790</td>\n",
              "    </tr>\n",
              "    <tr>\n",
              "      <th>...</th>\n",
              "      <td>...</td>\n",
              "      <td>...</td>\n",
              "      <td>...</td>\n",
              "      <td>...</td>\n",
              "    </tr>\n",
              "    <tr>\n",
              "      <th>1037</th>\n",
              "      <td>TDS LANDFILL</td>\n",
              "      <td>2021-07-07</td>\n",
              "      <td>1036970.0</td>\n",
              "      <td>13.392720</td>\n",
              "    </tr>\n",
              "    <tr>\n",
              "      <th>1038</th>\n",
              "      <td>TDS LANDFILL</td>\n",
              "      <td>2021-07-08</td>\n",
              "      <td>1001740.0</td>\n",
              "      <td>33.798536</td>\n",
              "    </tr>\n",
              "    <tr>\n",
              "      <th>1039</th>\n",
              "      <td>TDS LANDFILL</td>\n",
              "      <td>2021-07-09</td>\n",
              "      <td>4940.0</td>\n",
              "      <td>-2.929153</td>\n",
              "    </tr>\n",
              "    <tr>\n",
              "      <th>1040</th>\n",
              "      <td>WESTFIELD</td>\n",
              "      <td>2021-05-20</td>\n",
              "      <td>16020.0</td>\n",
              "      <td>0.583702</td>\n",
              "    </tr>\n",
              "    <tr>\n",
              "      <th>1041</th>\n",
              "      <td>WILCAB</td>\n",
              "      <td>2021-01-21</td>\n",
              "      <td>11300.0</td>\n",
              "      <td>-0.129794</td>\n",
              "    </tr>\n",
              "  </tbody>\n",
              "</table>\n",
              "<p>1042 rows × 4 columns</p>\n",
              "</div>\n",
              "    <div class=\"colab-df-buttons\">\n",
              "\n",
              "  <div class=\"colab-df-container\">\n",
              "    <button class=\"colab-df-convert\" onclick=\"convertToInteractive('df-7b97f79a-80ff-42f8-a6c6-b11008985445')\"\n",
              "            title=\"Convert this dataframe to an interactive table.\"\n",
              "            style=\"display:none;\">\n",
              "\n",
              "  <svg xmlns=\"http://www.w3.org/2000/svg\" height=\"24px\" viewBox=\"0 -960 960 960\">\n",
              "    <path d=\"M120-120v-720h720v720H120Zm60-500h600v-160H180v160Zm220 220h160v-160H400v160Zm0 220h160v-160H400v160ZM180-400h160v-160H180v160Zm440 0h160v-160H620v160ZM180-180h160v-160H180v160Zm440 0h160v-160H620v160Z\"/>\n",
              "  </svg>\n",
              "    </button>\n",
              "\n",
              "  <style>\n",
              "    .colab-df-container {\n",
              "      display:flex;\n",
              "      gap: 12px;\n",
              "    }\n",
              "\n",
              "    .colab-df-convert {\n",
              "      background-color: #E8F0FE;\n",
              "      border: none;\n",
              "      border-radius: 50%;\n",
              "      cursor: pointer;\n",
              "      display: none;\n",
              "      fill: #1967D2;\n",
              "      height: 32px;\n",
              "      padding: 0 0 0 0;\n",
              "      width: 32px;\n",
              "    }\n",
              "\n",
              "    .colab-df-convert:hover {\n",
              "      background-color: #E2EBFA;\n",
              "      box-shadow: 0px 1px 2px rgba(60, 64, 67, 0.3), 0px 1px 3px 1px rgba(60, 64, 67, 0.15);\n",
              "      fill: #174EA6;\n",
              "    }\n",
              "\n",
              "    .colab-df-buttons div {\n",
              "      margin-bottom: 4px;\n",
              "    }\n",
              "\n",
              "    [theme=dark] .colab-df-convert {\n",
              "      background-color: #3B4455;\n",
              "      fill: #D2E3FC;\n",
              "    }\n",
              "\n",
              "    [theme=dark] .colab-df-convert:hover {\n",
              "      background-color: #434B5C;\n",
              "      box-shadow: 0px 1px 3px 1px rgba(0, 0, 0, 0.15);\n",
              "      filter: drop-shadow(0px 1px 2px rgba(0, 0, 0, 0.3));\n",
              "      fill: #FFFFFF;\n",
              "    }\n",
              "  </style>\n",
              "\n",
              "    <script>\n",
              "      const buttonEl =\n",
              "        document.querySelector('#df-7b97f79a-80ff-42f8-a6c6-b11008985445 button.colab-df-convert');\n",
              "      buttonEl.style.display =\n",
              "        google.colab.kernel.accessAllowed ? 'block' : 'none';\n",
              "\n",
              "      async function convertToInteractive(key) {\n",
              "        const element = document.querySelector('#df-7b97f79a-80ff-42f8-a6c6-b11008985445');\n",
              "        const dataTable =\n",
              "          await google.colab.kernel.invokeFunction('convertToInteractive',\n",
              "                                                    [key], {});\n",
              "        if (!dataTable) return;\n",
              "\n",
              "        const docLinkHtml = 'Like what you see? Visit the ' +\n",
              "          '<a target=\"_blank\" href=https://colab.research.google.com/notebooks/data_table.ipynb>data table notebook</a>'\n",
              "          + ' to learn more about interactive tables.';\n",
              "        element.innerHTML = '';\n",
              "        dataTable['output_type'] = 'display_data';\n",
              "        await google.colab.output.renderOutput(dataTable, element);\n",
              "        const docLink = document.createElement('div');\n",
              "        docLink.innerHTML = docLinkHtml;\n",
              "        element.appendChild(docLink);\n",
              "      }\n",
              "    </script>\n",
              "  </div>\n",
              "\n",
              "\n",
              "<div id=\"df-57a141a1-a33f-4f2c-a8d0-16a42a0df9fa\">\n",
              "  <button class=\"colab-df-quickchart\" onclick=\"quickchart('df-57a141a1-a33f-4f2c-a8d0-16a42a0df9fa')\"\n",
              "            title=\"Suggest charts.\"\n",
              "            style=\"display:none;\">\n",
              "\n",
              "<svg xmlns=\"http://www.w3.org/2000/svg\" height=\"24px\"viewBox=\"0 0 24 24\"\n",
              "     width=\"24px\">\n",
              "    <g>\n",
              "        <path d=\"M19 3H5c-1.1 0-2 .9-2 2v14c0 1.1.9 2 2 2h14c1.1 0 2-.9 2-2V5c0-1.1-.9-2-2-2zM9 17H7v-7h2v7zm4 0h-2V7h2v10zm4 0h-2v-4h2v4z\"/>\n",
              "    </g>\n",
              "</svg>\n",
              "  </button>\n",
              "\n",
              "<style>\n",
              "  .colab-df-quickchart {\n",
              "      --bg-color: #E8F0FE;\n",
              "      --fill-color: #1967D2;\n",
              "      --hover-bg-color: #E2EBFA;\n",
              "      --hover-fill-color: #174EA6;\n",
              "      --disabled-fill-color: #AAA;\n",
              "      --disabled-bg-color: #DDD;\n",
              "  }\n",
              "\n",
              "  [theme=dark] .colab-df-quickchart {\n",
              "      --bg-color: #3B4455;\n",
              "      --fill-color: #D2E3FC;\n",
              "      --hover-bg-color: #434B5C;\n",
              "      --hover-fill-color: #FFFFFF;\n",
              "      --disabled-bg-color: #3B4455;\n",
              "      --disabled-fill-color: #666;\n",
              "  }\n",
              "\n",
              "  .colab-df-quickchart {\n",
              "    background-color: var(--bg-color);\n",
              "    border: none;\n",
              "    border-radius: 50%;\n",
              "    cursor: pointer;\n",
              "    display: none;\n",
              "    fill: var(--fill-color);\n",
              "    height: 32px;\n",
              "    padding: 0;\n",
              "    width: 32px;\n",
              "  }\n",
              "\n",
              "  .colab-df-quickchart:hover {\n",
              "    background-color: var(--hover-bg-color);\n",
              "    box-shadow: 0 1px 2px rgba(60, 64, 67, 0.3), 0 1px 3px 1px rgba(60, 64, 67, 0.15);\n",
              "    fill: var(--button-hover-fill-color);\n",
              "  }\n",
              "\n",
              "  .colab-df-quickchart-complete:disabled,\n",
              "  .colab-df-quickchart-complete:disabled:hover {\n",
              "    background-color: var(--disabled-bg-color);\n",
              "    fill: var(--disabled-fill-color);\n",
              "    box-shadow: none;\n",
              "  }\n",
              "\n",
              "  .colab-df-spinner {\n",
              "    border: 2px solid var(--fill-color);\n",
              "    border-color: transparent;\n",
              "    border-bottom-color: var(--fill-color);\n",
              "    animation:\n",
              "      spin 1s steps(1) infinite;\n",
              "  }\n",
              "\n",
              "  @keyframes spin {\n",
              "    0% {\n",
              "      border-color: transparent;\n",
              "      border-bottom-color: var(--fill-color);\n",
              "      border-left-color: var(--fill-color);\n",
              "    }\n",
              "    20% {\n",
              "      border-color: transparent;\n",
              "      border-left-color: var(--fill-color);\n",
              "      border-top-color: var(--fill-color);\n",
              "    }\n",
              "    30% {\n",
              "      border-color: transparent;\n",
              "      border-left-color: var(--fill-color);\n",
              "      border-top-color: var(--fill-color);\n",
              "      border-right-color: var(--fill-color);\n",
              "    }\n",
              "    40% {\n",
              "      border-color: transparent;\n",
              "      border-right-color: var(--fill-color);\n",
              "      border-top-color: var(--fill-color);\n",
              "    }\n",
              "    60% {\n",
              "      border-color: transparent;\n",
              "      border-right-color: var(--fill-color);\n",
              "    }\n",
              "    80% {\n",
              "      border-color: transparent;\n",
              "      border-right-color: var(--fill-color);\n",
              "      border-bottom-color: var(--fill-color);\n",
              "    }\n",
              "    90% {\n",
              "      border-color: transparent;\n",
              "      border-bottom-color: var(--fill-color);\n",
              "    }\n",
              "  }\n",
              "</style>\n",
              "\n",
              "  <script>\n",
              "    async function quickchart(key) {\n",
              "      const quickchartButtonEl =\n",
              "        document.querySelector('#' + key + ' button');\n",
              "      quickchartButtonEl.disabled = true;  // To prevent multiple clicks.\n",
              "      quickchartButtonEl.classList.add('colab-df-spinner');\n",
              "      try {\n",
              "        const charts = await google.colab.kernel.invokeFunction(\n",
              "            'suggestCharts', [key], {});\n",
              "      } catch (error) {\n",
              "        console.error('Error during call to suggestCharts:', error);\n",
              "      }\n",
              "      quickchartButtonEl.classList.remove('colab-df-spinner');\n",
              "      quickchartButtonEl.classList.add('colab-df-quickchart-complete');\n",
              "    }\n",
              "    (() => {\n",
              "      let quickchartButtonEl =\n",
              "        document.querySelector('#df-57a141a1-a33f-4f2c-a8d0-16a42a0df9fa button');\n",
              "      quickchartButtonEl.style.display =\n",
              "        google.colab.kernel.accessAllowed ? 'block' : 'none';\n",
              "    })();\n",
              "  </script>\n",
              "</div>\n",
              "    </div>\n",
              "  </div>\n"
            ]
          },
          "metadata": {},
          "execution_count": 99
        }
      ]
    },
    {
      "cell_type": "code",
      "source": [
        "Beban_Muatan_Landfill = Beban_Muatan_Semua_Lokasi.query('`Lokasi Pembuangan` == \"TDS LANDFILL\"')\n",
        "Beban_Muatan_MRF = Beban_Muatan_Semua_Lokasi[(Beban_Muatan_Semua_Lokasi[\"Lokasi Pembuangan\"] == \"TDS - MRF\")]\n",
        "\n",
        "print (Beban_Muatan_Landfill)\n",
        "print (Beban_Muatan_MRF)"
      ],
      "metadata": {
        "colab": {
          "base_uri": "https://localhost:8080/"
        },
        "id": "yWCEaLSdlpHs",
        "outputId": "a97288a5-8f60-4b5c-d6ea-64a42d6934d1"
      },
      "execution_count": 100,
      "outputs": [
        {
          "output_type": "stream",
          "name": "stdout",
          "text": [
            "     Lokasi Pembuangan Tanggal Laporan  Beban Muatan     zscore\n",
            "879       TDS LANDFILL      2021-01-02      977720.0  41.195282\n",
            "880       TDS LANDFILL      2021-01-04     1681060.0  64.807438\n",
            "881       TDS LANDFILL      2021-01-05     1193020.0  25.954223\n",
            "882       TDS LANDFILL      2021-01-06     1166640.0  36.670127\n",
            "883       TDS LANDFILL      2021-01-07     1129000.0  32.818248\n",
            "...                ...             ...           ...        ...\n",
            "1035      TDS LANDFILL      2021-07-05     1169060.0  33.360039\n",
            "1036      TDS LANDFILL      2021-07-06     1130180.0  25.644810\n",
            "1037      TDS LANDFILL      2021-07-07     1036970.0  13.392720\n",
            "1038      TDS LANDFILL      2021-07-08     1001740.0  33.798536\n",
            "1039      TDS LANDFILL      2021-07-09        4940.0  -2.929153\n",
            "\n",
            "[161 rows x 4 columns]\n",
            "    Lokasi Pembuangan Tanggal Laporan  Beban Muatan     zscore\n",
            "773         TDS - MRF      2021-01-02         840.0  -3.548928\n",
            "774         TDS - MRF      2021-01-04      559720.0 -14.639666\n",
            "775         TDS - MRF      2021-01-05      619260.0 -12.991143\n",
            "776         TDS - MRF      2021-01-06       23020.0   1.641854\n",
            "777         TDS - MRF      2021-01-07         380.0  -1.780510\n",
            "..                ...             ...           ...        ...\n",
            "874         TDS - MRF      2021-06-29      385540.0 -17.076110\n",
            "875         TDS - MRF      2021-06-30       14020.0  -1.556580\n",
            "876         TDS - MRF      2021-07-05      294140.0  -8.837110\n",
            "877         TDS - MRF      2021-07-06      337440.0  -9.643499\n",
            "878         TDS - MRF      2021-07-07        9400.0  -2.254960\n",
            "\n",
            "[106 rows x 4 columns]\n"
          ]
        }
      ]
    },
    {
      "cell_type": "code",
      "source": [
        "from scipy.stats import ttest_ind\n",
        "\n",
        "data1 = Beban_Muatan_Landfill['Beban Muatan']\n",
        "data2 = Beban_Muatan_MRF['Beban Muatan']\n",
        "\n",
        "stat, p = ttest_ind(data1, data2)\n",
        "print('stat=%.3f, p=%.3f' % (stat, p))\n",
        "if p > 0.05:\n",
        " print('Hipotesis dapat diterima')\n",
        "else:\n",
        " print('Hipotesis tidak diterima')"
      ],
      "metadata": {
        "colab": {
          "base_uri": "https://localhost:8080/"
        },
        "id": "Ijx2xMbmmkor",
        "outputId": "c8f38401-bd9f-4c8d-888d-ae9d5d950051"
      },
      "execution_count": 101,
      "outputs": [
        {
          "output_type": "stream",
          "name": "stdout",
          "text": [
            "stat=13.282, p=0.000\n",
            "Hipotesis tidak diterima\n"
          ]
        }
      ]
    },
    {
      "cell_type": "markdown",
      "source": [
        "#### Kesimpulan\n",
        "\n",
        "Apakah nilai `Beban Muatan` pada lokasi pembuangan `TDS Landfill` sama dengan pada lokasi pembuangan `TDS MRF`?\n",
        "\n",
        "Berdasarkan hipotesis yang dilakukan, tidak sama antara nilai `Beban Muatan` pada lokasi pembuangan `TDS Landfill` dengan lokasi pembuangan `TDS MRF` yang dimana nilainya berbeda berdasarkan perhitungan jumlah beban muatan pada tiap lokasi pembuangan."
      ],
      "metadata": {
        "id": "hvhKCundqAc3"
      }
    },
    {
      "cell_type": "markdown",
      "source": [
        "# Problem 2"
      ],
      "metadata": {
        "id": "4oKcgavcdFop"
      }
    },
    {
      "cell_type": "markdown",
      "source": [
        "## Memprediksi hari berikutnya\n",
        "\n",
        "Untuk memprediksi berapa banyak load sampah dalam kg di kota Austin di hari berikutnya yaitu 10 Juli 2021, penulis menggunakan metode sederhana yaitu menggunakan rumus kecepatan\n",
        "\n",
        "![link text](https://camo.githubusercontent.com/0909b02232a5858e729b864a1d13fa0ae1766b14018441b3cf6b7e2907909af5/68747470733a2f2f6c6174657832706e672e636f6d2f706e67732f64303935623930323131336131656636386430376664373836653462653432382e706e67)\n",
        "\n",
        "dimana:\n",
        "\n",
        "`w` dianggap `Beban Muatan`\n",
        "\n",
        "`t` dianggap `Tanggal Laporan`\n",
        "\n",
        "`1` hari ini\n",
        "\n",
        "`0` hari kemarin\n",
        "\n",
        "\n",
        "\n",
        "---\n",
        "\n",
        "\n",
        "Untuk memprediksi jumlah load sampah hari berikutnya, bisa menggunakan rumus\n",
        "\n",
        "![](https://camo.githubusercontent.com/e38495e014a9dcd5509f86300e5f86d794b9fdd998487a75ac64fbd9c963490b/68747470733a2f2f6c6174657832706e672e636f6d2f706e67732f35306463363332393961313836306231306131353334366139636133613432652e706e67)\n",
        "\n",
        "dimana:\n",
        "\n",
        "`v` adalah hasil dari turunan pertama dari data `Beban Muatan` yang harus di groupby berdasarkan `Tanggal Laporan` dan diurut berdasarkan tanggal terkecil\n",
        "\n",
        "`Δt` bernilai 1 karena hanya memprediksi hari esok\n",
        "\n",
        "\n",
        "---\n",
        "Untuk menghitung turunan, sumbu x yaitu index dataframe hasil groupby jika indeksnya berupa nomor urut dari 0 hingga N-1, jika tidak gunakan `range()` dan sumbu y yaitu `Beban Muatan`\n",
        "\n",
        "Gunakan hasil turunan pertama pada baris terakhir dari data untuk digunakan sebagai `v`\n",
        "\n",
        "\n",
        "---\n",
        "\n",
        "Pertanyaannya\n",
        "1. Untuk menghitung turunan pertama dapat digunakan metode simbolik dan numerik, untuk kasus ini, teknik apa yang kamu gunakan?\n",
        "2. Apakah kamu membutuhkan fungsi matematis untuk menghitung turunannya? (ya/tidak) berikan alasanmu!\n",
        "3. Berapa load weight yang kamu perkirakan di hari esok (10 Juli 2021)?"
      ],
      "metadata": {
        "id": "46sPvfc3aflN"
      }
    },
    {
      "cell_type": "markdown",
      "source": [
        "## Loading Data"
      ],
      "metadata": {
        "id": "J5GVmCVam0nI"
      }
    },
    {
      "cell_type": "code",
      "source": [
        "import sympy as sy"
      ],
      "metadata": {
        "id": "KZv5sGqkvxTz"
      },
      "execution_count": 102,
      "outputs": []
    },
    {
      "cell_type": "markdown",
      "source": [
        "### Mengambil data csv\n",
        "\n",
        "Mengambil data csv yang sudah dilakukan cleaning"
      ],
      "metadata": {
        "id": "C6AU32vSmntA"
      }
    },
    {
      "cell_type": "code",
      "source": [
        "df_IQR2_no_outliers"
      ],
      "metadata": {
        "id": "Vzm2MoNyiaLj",
        "colab": {
          "base_uri": "https://localhost:8080/",
          "height": 424
        },
        "outputId": "a3da5a24-7258-4432-f076-686515cb5a6b"
      },
      "execution_count": 103,
      "outputs": [
        {
          "output_type": "execute_result",
          "data": {
            "text/plain": [
              "      Tanggal Laporan             Waktu Memuat    Tipe Muatan  Beban Muatan  \\\n",
              "123        2021-01-01  2021-01-01 12:00:00 UTC       SWEEPING       11300.0   \n",
              "124        2021-01-01  2021-01-01 12:00:00 UTC       SWEEPING       11300.0   \n",
              "125        2021-01-01  2021-01-01 12:00:00 UTC       SWEEPING       11300.0   \n",
              "126        2021-01-01  2021-01-01 12:00:00 UTC       SWEEPING       11300.0   \n",
              "19139      2021-01-02  2021-01-02 01:02:00 UTC  YARD TRIMMING       17660.0   \n",
              "...               ...                      ...            ...           ...   \n",
              "148        2021-07-09  2021-07-09 12:00:00 UTC       SWEEPING       11300.0   \n",
              "608        2021-07-09  2021-07-09 12:00:00 UTC         LITTER        1900.0   \n",
              "609        2021-07-09  2021-07-09 12:00:00 UTC         LITTER        3040.0   \n",
              "220        2021-07-09  2021-07-09 12:02:00 UTC          BRUSH        4160.0   \n",
              "214        2021-07-09  2021-07-09 12:39:00 UTC          BRUSH        7140.0   \n",
              "\n",
              "      Lokasi Pembuangan    zscore  \n",
              "123         ONION CREEK -0.129794  \n",
              "124         ONION CREEK -0.129794  \n",
              "125         ONION CREEK -0.129794  \n",
              "126         ONION CREEK -0.129794  \n",
              "19139      HORNSBY BEND  0.831612  \n",
              "...                 ...       ...  \n",
              "148         ONION CREEK -0.129794  \n",
              "608        TDS LANDFILL -1.550740  \n",
              "609        TDS LANDFILL -1.378413  \n",
              "220        HORNSBY BEND -1.209109  \n",
              "214        HORNSBY BEND -0.758638  \n",
              "\n",
              "[25862 rows x 6 columns]"
            ],
            "text/html": [
              "\n",
              "  <div id=\"df-826bf36c-0e5e-4e3b-9e45-4e6961709e0f\" class=\"colab-df-container\">\n",
              "    <div>\n",
              "<style scoped>\n",
              "    .dataframe tbody tr th:only-of-type {\n",
              "        vertical-align: middle;\n",
              "    }\n",
              "\n",
              "    .dataframe tbody tr th {\n",
              "        vertical-align: top;\n",
              "    }\n",
              "\n",
              "    .dataframe thead th {\n",
              "        text-align: right;\n",
              "    }\n",
              "</style>\n",
              "<table border=\"1\" class=\"dataframe\">\n",
              "  <thead>\n",
              "    <tr style=\"text-align: right;\">\n",
              "      <th></th>\n",
              "      <th>Tanggal Laporan</th>\n",
              "      <th>Waktu Memuat</th>\n",
              "      <th>Tipe Muatan</th>\n",
              "      <th>Beban Muatan</th>\n",
              "      <th>Lokasi Pembuangan</th>\n",
              "      <th>zscore</th>\n",
              "    </tr>\n",
              "  </thead>\n",
              "  <tbody>\n",
              "    <tr>\n",
              "      <th>123</th>\n",
              "      <td>2021-01-01</td>\n",
              "      <td>2021-01-01 12:00:00 UTC</td>\n",
              "      <td>SWEEPING</td>\n",
              "      <td>11300.0</td>\n",
              "      <td>ONION CREEK</td>\n",
              "      <td>-0.129794</td>\n",
              "    </tr>\n",
              "    <tr>\n",
              "      <th>124</th>\n",
              "      <td>2021-01-01</td>\n",
              "      <td>2021-01-01 12:00:00 UTC</td>\n",
              "      <td>SWEEPING</td>\n",
              "      <td>11300.0</td>\n",
              "      <td>ONION CREEK</td>\n",
              "      <td>-0.129794</td>\n",
              "    </tr>\n",
              "    <tr>\n",
              "      <th>125</th>\n",
              "      <td>2021-01-01</td>\n",
              "      <td>2021-01-01 12:00:00 UTC</td>\n",
              "      <td>SWEEPING</td>\n",
              "      <td>11300.0</td>\n",
              "      <td>ONION CREEK</td>\n",
              "      <td>-0.129794</td>\n",
              "    </tr>\n",
              "    <tr>\n",
              "      <th>126</th>\n",
              "      <td>2021-01-01</td>\n",
              "      <td>2021-01-01 12:00:00 UTC</td>\n",
              "      <td>SWEEPING</td>\n",
              "      <td>11300.0</td>\n",
              "      <td>ONION CREEK</td>\n",
              "      <td>-0.129794</td>\n",
              "    </tr>\n",
              "    <tr>\n",
              "      <th>19139</th>\n",
              "      <td>2021-01-02</td>\n",
              "      <td>2021-01-02 01:02:00 UTC</td>\n",
              "      <td>YARD TRIMMING</td>\n",
              "      <td>17660.0</td>\n",
              "      <td>HORNSBY BEND</td>\n",
              "      <td>0.831612</td>\n",
              "    </tr>\n",
              "    <tr>\n",
              "      <th>...</th>\n",
              "      <td>...</td>\n",
              "      <td>...</td>\n",
              "      <td>...</td>\n",
              "      <td>...</td>\n",
              "      <td>...</td>\n",
              "      <td>...</td>\n",
              "    </tr>\n",
              "    <tr>\n",
              "      <th>148</th>\n",
              "      <td>2021-07-09</td>\n",
              "      <td>2021-07-09 12:00:00 UTC</td>\n",
              "      <td>SWEEPING</td>\n",
              "      <td>11300.0</td>\n",
              "      <td>ONION CREEK</td>\n",
              "      <td>-0.129794</td>\n",
              "    </tr>\n",
              "    <tr>\n",
              "      <th>608</th>\n",
              "      <td>2021-07-09</td>\n",
              "      <td>2021-07-09 12:00:00 UTC</td>\n",
              "      <td>LITTER</td>\n",
              "      <td>1900.0</td>\n",
              "      <td>TDS LANDFILL</td>\n",
              "      <td>-1.550740</td>\n",
              "    </tr>\n",
              "    <tr>\n",
              "      <th>609</th>\n",
              "      <td>2021-07-09</td>\n",
              "      <td>2021-07-09 12:00:00 UTC</td>\n",
              "      <td>LITTER</td>\n",
              "      <td>3040.0</td>\n",
              "      <td>TDS LANDFILL</td>\n",
              "      <td>-1.378413</td>\n",
              "    </tr>\n",
              "    <tr>\n",
              "      <th>220</th>\n",
              "      <td>2021-07-09</td>\n",
              "      <td>2021-07-09 12:02:00 UTC</td>\n",
              "      <td>BRUSH</td>\n",
              "      <td>4160.0</td>\n",
              "      <td>HORNSBY BEND</td>\n",
              "      <td>-1.209109</td>\n",
              "    </tr>\n",
              "    <tr>\n",
              "      <th>214</th>\n",
              "      <td>2021-07-09</td>\n",
              "      <td>2021-07-09 12:39:00 UTC</td>\n",
              "      <td>BRUSH</td>\n",
              "      <td>7140.0</td>\n",
              "      <td>HORNSBY BEND</td>\n",
              "      <td>-0.758638</td>\n",
              "    </tr>\n",
              "  </tbody>\n",
              "</table>\n",
              "<p>25862 rows × 6 columns</p>\n",
              "</div>\n",
              "    <div class=\"colab-df-buttons\">\n",
              "\n",
              "  <div class=\"colab-df-container\">\n",
              "    <button class=\"colab-df-convert\" onclick=\"convertToInteractive('df-826bf36c-0e5e-4e3b-9e45-4e6961709e0f')\"\n",
              "            title=\"Convert this dataframe to an interactive table.\"\n",
              "            style=\"display:none;\">\n",
              "\n",
              "  <svg xmlns=\"http://www.w3.org/2000/svg\" height=\"24px\" viewBox=\"0 -960 960 960\">\n",
              "    <path d=\"M120-120v-720h720v720H120Zm60-500h600v-160H180v160Zm220 220h160v-160H400v160Zm0 220h160v-160H400v160ZM180-400h160v-160H180v160Zm440 0h160v-160H620v160ZM180-180h160v-160H180v160Zm440 0h160v-160H620v160Z\"/>\n",
              "  </svg>\n",
              "    </button>\n",
              "\n",
              "  <style>\n",
              "    .colab-df-container {\n",
              "      display:flex;\n",
              "      gap: 12px;\n",
              "    }\n",
              "\n",
              "    .colab-df-convert {\n",
              "      background-color: #E8F0FE;\n",
              "      border: none;\n",
              "      border-radius: 50%;\n",
              "      cursor: pointer;\n",
              "      display: none;\n",
              "      fill: #1967D2;\n",
              "      height: 32px;\n",
              "      padding: 0 0 0 0;\n",
              "      width: 32px;\n",
              "    }\n",
              "\n",
              "    .colab-df-convert:hover {\n",
              "      background-color: #E2EBFA;\n",
              "      box-shadow: 0px 1px 2px rgba(60, 64, 67, 0.3), 0px 1px 3px 1px rgba(60, 64, 67, 0.15);\n",
              "      fill: #174EA6;\n",
              "    }\n",
              "\n",
              "    .colab-df-buttons div {\n",
              "      margin-bottom: 4px;\n",
              "    }\n",
              "\n",
              "    [theme=dark] .colab-df-convert {\n",
              "      background-color: #3B4455;\n",
              "      fill: #D2E3FC;\n",
              "    }\n",
              "\n",
              "    [theme=dark] .colab-df-convert:hover {\n",
              "      background-color: #434B5C;\n",
              "      box-shadow: 0px 1px 3px 1px rgba(0, 0, 0, 0.15);\n",
              "      filter: drop-shadow(0px 1px 2px rgba(0, 0, 0, 0.3));\n",
              "      fill: #FFFFFF;\n",
              "    }\n",
              "  </style>\n",
              "\n",
              "    <script>\n",
              "      const buttonEl =\n",
              "        document.querySelector('#df-826bf36c-0e5e-4e3b-9e45-4e6961709e0f button.colab-df-convert');\n",
              "      buttonEl.style.display =\n",
              "        google.colab.kernel.accessAllowed ? 'block' : 'none';\n",
              "\n",
              "      async function convertToInteractive(key) {\n",
              "        const element = document.querySelector('#df-826bf36c-0e5e-4e3b-9e45-4e6961709e0f');\n",
              "        const dataTable =\n",
              "          await google.colab.kernel.invokeFunction('convertToInteractive',\n",
              "                                                    [key], {});\n",
              "        if (!dataTable) return;\n",
              "\n",
              "        const docLinkHtml = 'Like what you see? Visit the ' +\n",
              "          '<a target=\"_blank\" href=https://colab.research.google.com/notebooks/data_table.ipynb>data table notebook</a>'\n",
              "          + ' to learn more about interactive tables.';\n",
              "        element.innerHTML = '';\n",
              "        dataTable['output_type'] = 'display_data';\n",
              "        await google.colab.output.renderOutput(dataTable, element);\n",
              "        const docLink = document.createElement('div');\n",
              "        docLink.innerHTML = docLinkHtml;\n",
              "        element.appendChild(docLink);\n",
              "      }\n",
              "    </script>\n",
              "  </div>\n",
              "\n",
              "\n",
              "<div id=\"df-4a493046-7fd3-4086-a4e9-080690979d52\">\n",
              "  <button class=\"colab-df-quickchart\" onclick=\"quickchart('df-4a493046-7fd3-4086-a4e9-080690979d52')\"\n",
              "            title=\"Suggest charts.\"\n",
              "            style=\"display:none;\">\n",
              "\n",
              "<svg xmlns=\"http://www.w3.org/2000/svg\" height=\"24px\"viewBox=\"0 0 24 24\"\n",
              "     width=\"24px\">\n",
              "    <g>\n",
              "        <path d=\"M19 3H5c-1.1 0-2 .9-2 2v14c0 1.1.9 2 2 2h14c1.1 0 2-.9 2-2V5c0-1.1-.9-2-2-2zM9 17H7v-7h2v7zm4 0h-2V7h2v10zm4 0h-2v-4h2v4z\"/>\n",
              "    </g>\n",
              "</svg>\n",
              "  </button>\n",
              "\n",
              "<style>\n",
              "  .colab-df-quickchart {\n",
              "      --bg-color: #E8F0FE;\n",
              "      --fill-color: #1967D2;\n",
              "      --hover-bg-color: #E2EBFA;\n",
              "      --hover-fill-color: #174EA6;\n",
              "      --disabled-fill-color: #AAA;\n",
              "      --disabled-bg-color: #DDD;\n",
              "  }\n",
              "\n",
              "  [theme=dark] .colab-df-quickchart {\n",
              "      --bg-color: #3B4455;\n",
              "      --fill-color: #D2E3FC;\n",
              "      --hover-bg-color: #434B5C;\n",
              "      --hover-fill-color: #FFFFFF;\n",
              "      --disabled-bg-color: #3B4455;\n",
              "      --disabled-fill-color: #666;\n",
              "  }\n",
              "\n",
              "  .colab-df-quickchart {\n",
              "    background-color: var(--bg-color);\n",
              "    border: none;\n",
              "    border-radius: 50%;\n",
              "    cursor: pointer;\n",
              "    display: none;\n",
              "    fill: var(--fill-color);\n",
              "    height: 32px;\n",
              "    padding: 0;\n",
              "    width: 32px;\n",
              "  }\n",
              "\n",
              "  .colab-df-quickchart:hover {\n",
              "    background-color: var(--hover-bg-color);\n",
              "    box-shadow: 0 1px 2px rgba(60, 64, 67, 0.3), 0 1px 3px 1px rgba(60, 64, 67, 0.15);\n",
              "    fill: var(--button-hover-fill-color);\n",
              "  }\n",
              "\n",
              "  .colab-df-quickchart-complete:disabled,\n",
              "  .colab-df-quickchart-complete:disabled:hover {\n",
              "    background-color: var(--disabled-bg-color);\n",
              "    fill: var(--disabled-fill-color);\n",
              "    box-shadow: none;\n",
              "  }\n",
              "\n",
              "  .colab-df-spinner {\n",
              "    border: 2px solid var(--fill-color);\n",
              "    border-color: transparent;\n",
              "    border-bottom-color: var(--fill-color);\n",
              "    animation:\n",
              "      spin 1s steps(1) infinite;\n",
              "  }\n",
              "\n",
              "  @keyframes spin {\n",
              "    0% {\n",
              "      border-color: transparent;\n",
              "      border-bottom-color: var(--fill-color);\n",
              "      border-left-color: var(--fill-color);\n",
              "    }\n",
              "    20% {\n",
              "      border-color: transparent;\n",
              "      border-left-color: var(--fill-color);\n",
              "      border-top-color: var(--fill-color);\n",
              "    }\n",
              "    30% {\n",
              "      border-color: transparent;\n",
              "      border-left-color: var(--fill-color);\n",
              "      border-top-color: var(--fill-color);\n",
              "      border-right-color: var(--fill-color);\n",
              "    }\n",
              "    40% {\n",
              "      border-color: transparent;\n",
              "      border-right-color: var(--fill-color);\n",
              "      border-top-color: var(--fill-color);\n",
              "    }\n",
              "    60% {\n",
              "      border-color: transparent;\n",
              "      border-right-color: var(--fill-color);\n",
              "    }\n",
              "    80% {\n",
              "      border-color: transparent;\n",
              "      border-right-color: var(--fill-color);\n",
              "      border-bottom-color: var(--fill-color);\n",
              "    }\n",
              "    90% {\n",
              "      border-color: transparent;\n",
              "      border-bottom-color: var(--fill-color);\n",
              "    }\n",
              "  }\n",
              "</style>\n",
              "\n",
              "  <script>\n",
              "    async function quickchart(key) {\n",
              "      const quickchartButtonEl =\n",
              "        document.querySelector('#' + key + ' button');\n",
              "      quickchartButtonEl.disabled = true;  // To prevent multiple clicks.\n",
              "      quickchartButtonEl.classList.add('colab-df-spinner');\n",
              "      try {\n",
              "        const charts = await google.colab.kernel.invokeFunction(\n",
              "            'suggestCharts', [key], {});\n",
              "      } catch (error) {\n",
              "        console.error('Error during call to suggestCharts:', error);\n",
              "      }\n",
              "      quickchartButtonEl.classList.remove('colab-df-spinner');\n",
              "      quickchartButtonEl.classList.add('colab-df-quickchart-complete');\n",
              "    }\n",
              "    (() => {\n",
              "      let quickchartButtonEl =\n",
              "        document.querySelector('#df-4a493046-7fd3-4086-a4e9-080690979d52 button');\n",
              "      quickchartButtonEl.style.display =\n",
              "        google.colab.kernel.accessAllowed ? 'block' : 'none';\n",
              "    })();\n",
              "  </script>\n",
              "</div>\n",
              "    </div>\n",
              "  </div>\n"
            ]
          },
          "metadata": {},
          "execution_count": 103
        }
      ]
    },
    {
      "cell_type": "markdown",
      "source": [
        "## Perhitungan Calculus"
      ],
      "metadata": {
        "id": "cX3HRqnagSXK"
      }
    },
    {
      "cell_type": "code",
      "source": [
        "dfx = df_IQR2_no_outliers.groupby(df_IQR2_no_outliers['Tanggal Laporan']).sum().sort_values('Tanggal Laporan')\n",
        "dfx"
      ],
      "metadata": {
        "colab": {
          "base_uri": "https://localhost:8080/",
          "height": 510
        },
        "id": "d6Qo_pBa1eF9",
        "outputId": "cc892163-2182-4d24-afcb-8542ec342bec"
      },
      "execution_count": 129,
      "outputs": [
        {
          "output_type": "stream",
          "name": "stderr",
          "text": [
            "<ipython-input-129-270e3660d4f1>:1: FutureWarning: The default value of numeric_only in DataFrameGroupBy.sum is deprecated. In a future version, numeric_only will default to False. Either specify numeric_only or select only columns which should be valid for the function.\n",
            "  dfx = df_IQR2_no_outliers.groupby(df_IQR2_no_outliers['Tanggal Laporan']).sum().sort_values('Tanggal Laporan')\n"
          ]
        },
        {
          "output_type": "execute_result",
          "data": {
            "text/plain": [
              "                 Beban Muatan     zscore\n",
              "Tanggal Laporan                         \n",
              "2021-01-01            45200.0  -0.519176\n",
              "2021-01-02          2172410.0  36.156750\n",
              "2021-01-04          2861540.0  48.431094\n",
              "2021-01-05          2307960.0   7.022369\n",
              "2021-01-06          2304670.0  17.552755\n",
              "...                       ...        ...\n",
              "2021-07-05          1834950.0  18.227932\n",
              "2021-07-06          1924760.0 -10.468902\n",
              "2021-07-07          1654780.0 -21.873046\n",
              "2021-07-08          1511550.0   4.262439\n",
              "2021-07-09           176840.0 -21.054846\n",
              "\n",
              "[166 rows x 2 columns]"
            ],
            "text/html": [
              "\n",
              "  <div id=\"df-2e0c3949-518b-42e5-a3e7-24b62bd81980\" class=\"colab-df-container\">\n",
              "    <div>\n",
              "<style scoped>\n",
              "    .dataframe tbody tr th:only-of-type {\n",
              "        vertical-align: middle;\n",
              "    }\n",
              "\n",
              "    .dataframe tbody tr th {\n",
              "        vertical-align: top;\n",
              "    }\n",
              "\n",
              "    .dataframe thead th {\n",
              "        text-align: right;\n",
              "    }\n",
              "</style>\n",
              "<table border=\"1\" class=\"dataframe\">\n",
              "  <thead>\n",
              "    <tr style=\"text-align: right;\">\n",
              "      <th></th>\n",
              "      <th>Beban Muatan</th>\n",
              "      <th>zscore</th>\n",
              "    </tr>\n",
              "    <tr>\n",
              "      <th>Tanggal Laporan</th>\n",
              "      <th></th>\n",
              "      <th></th>\n",
              "    </tr>\n",
              "  </thead>\n",
              "  <tbody>\n",
              "    <tr>\n",
              "      <th>2021-01-01</th>\n",
              "      <td>45200.0</td>\n",
              "      <td>-0.519176</td>\n",
              "    </tr>\n",
              "    <tr>\n",
              "      <th>2021-01-02</th>\n",
              "      <td>2172410.0</td>\n",
              "      <td>36.156750</td>\n",
              "    </tr>\n",
              "    <tr>\n",
              "      <th>2021-01-04</th>\n",
              "      <td>2861540.0</td>\n",
              "      <td>48.431094</td>\n",
              "    </tr>\n",
              "    <tr>\n",
              "      <th>2021-01-05</th>\n",
              "      <td>2307960.0</td>\n",
              "      <td>7.022369</td>\n",
              "    </tr>\n",
              "    <tr>\n",
              "      <th>2021-01-06</th>\n",
              "      <td>2304670.0</td>\n",
              "      <td>17.552755</td>\n",
              "    </tr>\n",
              "    <tr>\n",
              "      <th>...</th>\n",
              "      <td>...</td>\n",
              "      <td>...</td>\n",
              "    </tr>\n",
              "    <tr>\n",
              "      <th>2021-07-05</th>\n",
              "      <td>1834950.0</td>\n",
              "      <td>18.227932</td>\n",
              "    </tr>\n",
              "    <tr>\n",
              "      <th>2021-07-06</th>\n",
              "      <td>1924760.0</td>\n",
              "      <td>-10.468902</td>\n",
              "    </tr>\n",
              "    <tr>\n",
              "      <th>2021-07-07</th>\n",
              "      <td>1654780.0</td>\n",
              "      <td>-21.873046</td>\n",
              "    </tr>\n",
              "    <tr>\n",
              "      <th>2021-07-08</th>\n",
              "      <td>1511550.0</td>\n",
              "      <td>4.262439</td>\n",
              "    </tr>\n",
              "    <tr>\n",
              "      <th>2021-07-09</th>\n",
              "      <td>176840.0</td>\n",
              "      <td>-21.054846</td>\n",
              "    </tr>\n",
              "  </tbody>\n",
              "</table>\n",
              "<p>166 rows × 2 columns</p>\n",
              "</div>\n",
              "    <div class=\"colab-df-buttons\">\n",
              "\n",
              "  <div class=\"colab-df-container\">\n",
              "    <button class=\"colab-df-convert\" onclick=\"convertToInteractive('df-2e0c3949-518b-42e5-a3e7-24b62bd81980')\"\n",
              "            title=\"Convert this dataframe to an interactive table.\"\n",
              "            style=\"display:none;\">\n",
              "\n",
              "  <svg xmlns=\"http://www.w3.org/2000/svg\" height=\"24px\" viewBox=\"0 -960 960 960\">\n",
              "    <path d=\"M120-120v-720h720v720H120Zm60-500h600v-160H180v160Zm220 220h160v-160H400v160Zm0 220h160v-160H400v160ZM180-400h160v-160H180v160Zm440 0h160v-160H620v160ZM180-180h160v-160H180v160Zm440 0h160v-160H620v160Z\"/>\n",
              "  </svg>\n",
              "    </button>\n",
              "\n",
              "  <style>\n",
              "    .colab-df-container {\n",
              "      display:flex;\n",
              "      gap: 12px;\n",
              "    }\n",
              "\n",
              "    .colab-df-convert {\n",
              "      background-color: #E8F0FE;\n",
              "      border: none;\n",
              "      border-radius: 50%;\n",
              "      cursor: pointer;\n",
              "      display: none;\n",
              "      fill: #1967D2;\n",
              "      height: 32px;\n",
              "      padding: 0 0 0 0;\n",
              "      width: 32px;\n",
              "    }\n",
              "\n",
              "    .colab-df-convert:hover {\n",
              "      background-color: #E2EBFA;\n",
              "      box-shadow: 0px 1px 2px rgba(60, 64, 67, 0.3), 0px 1px 3px 1px rgba(60, 64, 67, 0.15);\n",
              "      fill: #174EA6;\n",
              "    }\n",
              "\n",
              "    .colab-df-buttons div {\n",
              "      margin-bottom: 4px;\n",
              "    }\n",
              "\n",
              "    [theme=dark] .colab-df-convert {\n",
              "      background-color: #3B4455;\n",
              "      fill: #D2E3FC;\n",
              "    }\n",
              "\n",
              "    [theme=dark] .colab-df-convert:hover {\n",
              "      background-color: #434B5C;\n",
              "      box-shadow: 0px 1px 3px 1px rgba(0, 0, 0, 0.15);\n",
              "      filter: drop-shadow(0px 1px 2px rgba(0, 0, 0, 0.3));\n",
              "      fill: #FFFFFF;\n",
              "    }\n",
              "  </style>\n",
              "\n",
              "    <script>\n",
              "      const buttonEl =\n",
              "        document.querySelector('#df-2e0c3949-518b-42e5-a3e7-24b62bd81980 button.colab-df-convert');\n",
              "      buttonEl.style.display =\n",
              "        google.colab.kernel.accessAllowed ? 'block' : 'none';\n",
              "\n",
              "      async function convertToInteractive(key) {\n",
              "        const element = document.querySelector('#df-2e0c3949-518b-42e5-a3e7-24b62bd81980');\n",
              "        const dataTable =\n",
              "          await google.colab.kernel.invokeFunction('convertToInteractive',\n",
              "                                                    [key], {});\n",
              "        if (!dataTable) return;\n",
              "\n",
              "        const docLinkHtml = 'Like what you see? Visit the ' +\n",
              "          '<a target=\"_blank\" href=https://colab.research.google.com/notebooks/data_table.ipynb>data table notebook</a>'\n",
              "          + ' to learn more about interactive tables.';\n",
              "        element.innerHTML = '';\n",
              "        dataTable['output_type'] = 'display_data';\n",
              "        await google.colab.output.renderOutput(dataTable, element);\n",
              "        const docLink = document.createElement('div');\n",
              "        docLink.innerHTML = docLinkHtml;\n",
              "        element.appendChild(docLink);\n",
              "      }\n",
              "    </script>\n",
              "  </div>\n",
              "\n",
              "\n",
              "<div id=\"df-fd0a2c1c-8ee4-4ff2-97c4-7f433a1d784a\">\n",
              "  <button class=\"colab-df-quickchart\" onclick=\"quickchart('df-fd0a2c1c-8ee4-4ff2-97c4-7f433a1d784a')\"\n",
              "            title=\"Suggest charts.\"\n",
              "            style=\"display:none;\">\n",
              "\n",
              "<svg xmlns=\"http://www.w3.org/2000/svg\" height=\"24px\"viewBox=\"0 0 24 24\"\n",
              "     width=\"24px\">\n",
              "    <g>\n",
              "        <path d=\"M19 3H5c-1.1 0-2 .9-2 2v14c0 1.1.9 2 2 2h14c1.1 0 2-.9 2-2V5c0-1.1-.9-2-2-2zM9 17H7v-7h2v7zm4 0h-2V7h2v10zm4 0h-2v-4h2v4z\"/>\n",
              "    </g>\n",
              "</svg>\n",
              "  </button>\n",
              "\n",
              "<style>\n",
              "  .colab-df-quickchart {\n",
              "      --bg-color: #E8F0FE;\n",
              "      --fill-color: #1967D2;\n",
              "      --hover-bg-color: #E2EBFA;\n",
              "      --hover-fill-color: #174EA6;\n",
              "      --disabled-fill-color: #AAA;\n",
              "      --disabled-bg-color: #DDD;\n",
              "  }\n",
              "\n",
              "  [theme=dark] .colab-df-quickchart {\n",
              "      --bg-color: #3B4455;\n",
              "      --fill-color: #D2E3FC;\n",
              "      --hover-bg-color: #434B5C;\n",
              "      --hover-fill-color: #FFFFFF;\n",
              "      --disabled-bg-color: #3B4455;\n",
              "      --disabled-fill-color: #666;\n",
              "  }\n",
              "\n",
              "  .colab-df-quickchart {\n",
              "    background-color: var(--bg-color);\n",
              "    border: none;\n",
              "    border-radius: 50%;\n",
              "    cursor: pointer;\n",
              "    display: none;\n",
              "    fill: var(--fill-color);\n",
              "    height: 32px;\n",
              "    padding: 0;\n",
              "    width: 32px;\n",
              "  }\n",
              "\n",
              "  .colab-df-quickchart:hover {\n",
              "    background-color: var(--hover-bg-color);\n",
              "    box-shadow: 0 1px 2px rgba(60, 64, 67, 0.3), 0 1px 3px 1px rgba(60, 64, 67, 0.15);\n",
              "    fill: var(--button-hover-fill-color);\n",
              "  }\n",
              "\n",
              "  .colab-df-quickchart-complete:disabled,\n",
              "  .colab-df-quickchart-complete:disabled:hover {\n",
              "    background-color: var(--disabled-bg-color);\n",
              "    fill: var(--disabled-fill-color);\n",
              "    box-shadow: none;\n",
              "  }\n",
              "\n",
              "  .colab-df-spinner {\n",
              "    border: 2px solid var(--fill-color);\n",
              "    border-color: transparent;\n",
              "    border-bottom-color: var(--fill-color);\n",
              "    animation:\n",
              "      spin 1s steps(1) infinite;\n",
              "  }\n",
              "\n",
              "  @keyframes spin {\n",
              "    0% {\n",
              "      border-color: transparent;\n",
              "      border-bottom-color: var(--fill-color);\n",
              "      border-left-color: var(--fill-color);\n",
              "    }\n",
              "    20% {\n",
              "      border-color: transparent;\n",
              "      border-left-color: var(--fill-color);\n",
              "      border-top-color: var(--fill-color);\n",
              "    }\n",
              "    30% {\n",
              "      border-color: transparent;\n",
              "      border-left-color: var(--fill-color);\n",
              "      border-top-color: var(--fill-color);\n",
              "      border-right-color: var(--fill-color);\n",
              "    }\n",
              "    40% {\n",
              "      border-color: transparent;\n",
              "      border-right-color: var(--fill-color);\n",
              "      border-top-color: var(--fill-color);\n",
              "    }\n",
              "    60% {\n",
              "      border-color: transparent;\n",
              "      border-right-color: var(--fill-color);\n",
              "    }\n",
              "    80% {\n",
              "      border-color: transparent;\n",
              "      border-right-color: var(--fill-color);\n",
              "      border-bottom-color: var(--fill-color);\n",
              "    }\n",
              "    90% {\n",
              "      border-color: transparent;\n",
              "      border-bottom-color: var(--fill-color);\n",
              "    }\n",
              "  }\n",
              "</style>\n",
              "\n",
              "  <script>\n",
              "    async function quickchart(key) {\n",
              "      const quickchartButtonEl =\n",
              "        document.querySelector('#' + key + ' button');\n",
              "      quickchartButtonEl.disabled = true;  // To prevent multiple clicks.\n",
              "      quickchartButtonEl.classList.add('colab-df-spinner');\n",
              "      try {\n",
              "        const charts = await google.colab.kernel.invokeFunction(\n",
              "            'suggestCharts', [key], {});\n",
              "      } catch (error) {\n",
              "        console.error('Error during call to suggestCharts:', error);\n",
              "      }\n",
              "      quickchartButtonEl.classList.remove('colab-df-spinner');\n",
              "      quickchartButtonEl.classList.add('colab-df-quickchart-complete');\n",
              "    }\n",
              "    (() => {\n",
              "      let quickchartButtonEl =\n",
              "        document.querySelector('#df-fd0a2c1c-8ee4-4ff2-97c4-7f433a1d784a button');\n",
              "      quickchartButtonEl.style.display =\n",
              "        google.colab.kernel.accessAllowed ? 'block' : 'none';\n",
              "    })();\n",
              "  </script>\n",
              "</div>\n",
              "    </div>\n",
              "  </div>\n"
            ]
          },
          "metadata": {},
          "execution_count": 129
        }
      ]
    },
    {
      "cell_type": "markdown",
      "source": [
        "### Membuat variabel sumbu X dan Y\n",
        "\n",
        "Sumbu X = indeks\n",
        "\n",
        "Sumbu Y = beban muatan"
      ],
      "metadata": {
        "id": "TYJLpMjsIRa0"
      }
    },
    {
      "cell_type": "code",
      "source": [
        "varx = range(len(dfx)) # Sumbu X\n",
        "vary = dfx['Beban Muatan'] # Sumbu Y\n",
        "\n",
        "print (vary)\n",
        "print (varx)"
      ],
      "metadata": {
        "colab": {
          "base_uri": "https://localhost:8080/"
        },
        "id": "X3EaYiuA2lIw",
        "outputId": "18cc7346-1178-4fd6-dbc5-c5ec19f20509"
      },
      "execution_count": 130,
      "outputs": [
        {
          "output_type": "stream",
          "name": "stdout",
          "text": [
            "Tanggal Laporan\n",
            "2021-01-01      45200.0\n",
            "2021-01-02    2172410.0\n",
            "2021-01-04    2861540.0\n",
            "2021-01-05    2307960.0\n",
            "2021-01-06    2304670.0\n",
            "                ...    \n",
            "2021-07-05    1834950.0\n",
            "2021-07-06    1924760.0\n",
            "2021-07-07    1654780.0\n",
            "2021-07-08    1511550.0\n",
            "2021-07-09     176840.0\n",
            "Name: Beban Muatan, Length: 166, dtype: float64\n",
            "range(0, 166)\n"
          ]
        }
      ]
    },
    {
      "cell_type": "markdown",
      "source": [
        "## Menghitung beban"
      ],
      "metadata": {
        "id": "O_ep8l3BwOoc"
      }
    },
    {
      "cell_type": "code",
      "source": [
        "dft = np.diff(vary)/np.diff(varx)"
      ],
      "metadata": {
        "id": "2R_JO4lQwMmu"
      },
      "execution_count": 133,
      "outputs": []
    },
    {
      "cell_type": "markdown",
      "source": [
        "### Membuat nilai kecepatan"
      ],
      "metadata": {
        "id": "8G3ymTXLhFSc"
      }
    },
    {
      "cell_type": "code",
      "source": [
        "v = dft[-1]\n",
        "print (v)"
      ],
      "metadata": {
        "colab": {
          "base_uri": "https://localhost:8080/"
        },
        "id": "xYZ1IGZ-gCXF",
        "outputId": "6c586aec-9e5e-41fc-8d5e-6b1fb70cc795"
      },
      "execution_count": 135,
      "outputs": [
        {
          "output_type": "stream",
          "name": "stdout",
          "text": [
            "-1334710.0\n"
          ]
        }
      ]
    },
    {
      "cell_type": "markdown",
      "source": [
        "### Perhitungan prediksi jumlah load sampah hari esok\n",
        "\n",
        "Berdasarkan hasil perhitungan prediksi, pada tanggal 10 Juli 2021 jumlah load sampah hasilnya adalah sekitar 1157870 load sampah"
      ],
      "metadata": {
        "id": "_3bWADkjJ-9d"
      }
    },
    {
      "cell_type": "code",
      "source": [
        "W1 = abs(dfx['Beban Muatan'][-1]+v*1)\n",
        "print(W1)\n",
        "\n",
        "# W besok = W hari ini + v * Δt\n",
        "# vary [-1] = W hari ini\n",
        "# v = kecepatan\n",
        "# 1 = Δt"
      ],
      "metadata": {
        "colab": {
          "base_uri": "https://localhost:8080/"
        },
        "id": "zwatyOQZEs0C",
        "outputId": "408b439e-1c77-4112-adf0-8ccb7324879c"
      },
      "execution_count": 140,
      "outputs": [
        {
          "output_type": "stream",
          "name": "stdout",
          "text": [
            "1157870.0\n"
          ]
        }
      ]
    },
    {
      "cell_type": "markdown",
      "source": [
        "# Kesimpulan\n",
        "Data yang digunakan adalah rentang waktu 1 Januari 2021 sampai 9 Juli 2021,berdasarkan analisa data, sistem pembuangan dan pengelolaan sampah di kota Austin, dari 18 lokasi pembuangan,rata-rata pembuangan terbesar terletak di lokasi pembuangan `Westfield`, diikuti dengan `TDS Landfill`, dan rata-rata yang paling sedikit adalah pada lokasi pembuangan `Austin Iron and Metal` dengan tipe muatan paling banyak yaitu `Garbage Collections`.\n",
        "\n",
        "Pada lokasi pembuangan `TDS Landfill`, memiliki data beban muatan dengan range yang luas dan bervariasi, dengan data paling kecil 0 dan paling besar ada pada angka 245540 dan yang paling banyak adalah tipe muatan `Garbage Collections`\n",
        "\n",
        "Dari prediksi yang dilakukan, terdapat perbedaan pola pembuangan sampah perhari antara lokasi pembuangan `TDS Landfill` dengan `TDS MRF`, dan juga beban muatan pada `TDS Landfill` tidak ada kesamaan nilai antara kedua lokasi pembuangan tersebut.\n",
        "\n",
        "Berdasarkan perhitungan yang sudah dilakukan, perkiraan beban muatan pada hari esoknya atau pada tanggal 10 Juli 2021 adalah sebesar 1157870."
      ],
      "metadata": {
        "id": "qyK8rMhXhA1g"
      }
    }
  ]
}