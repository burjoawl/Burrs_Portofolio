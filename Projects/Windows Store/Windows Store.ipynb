{
  "cells": [
    {
      "attachments": {},
      "cell_type": "markdown",
      "metadata": {
        "id": "tJCedSTNbJaU"
      },
      "source": [
        "# Identifikasi Masalah"
      ]
    },
    {
      "attachments": {},
      "cell_type": "markdown",
      "metadata": {
        "id": "niGaq4aeTz8t"
      },
      "source": [
        "## Latar Belakang\n",
        "\n",
        "Windows Store merupakan platform yang menyediakan berbagai aplikasi untuk kebutuhan sistem operasi Windows. Pada platform tersebut tersedia berbagai kategori yang memudahkan untuk pencarian aplikasi, terdapat juga rating yang dapat melihat kualitas suatu aplikasi berdasarkan pengalaman beberapa user, sehingga bisa mempertimbangkan apabila ingin mencoba aplikasi tersebut.\n",
        "\n",
        "Pada penelitian ini penulis ingin mengetahui apakah terdapat hubungan antara rating dengan harga aplikasi pada platform tersebut."
      ]
    },
    {
      "attachments": {},
      "cell_type": "markdown",
      "metadata": {
        "id": "4KFhYWAWV6yK"
      },
      "source": [
        "## Topik Permasalahan\n",
        "\n",
        "Pihak Windows Store ingin menganalisis apakah harga aplikasi yang dijual berpengaruh terhadap rating aplikasi. Oleh karena itu, mereka meminta bantuan seorang data scientist untuk melakukan analisis. Pihak Windows Store juga ingin melihat apakah perbandingan antara harga dengan kepuasan user berbanding lurus atau tidak.\n"
      ]
    },
    {
      "attachments": {},
      "cell_type": "markdown",
      "metadata": {
        "id": "CWoQRfkeV51i"
      },
      "source": [
        "## Problem Statement\n",
        "\n",
        "\n",
        "Mengetahui kaitan pada Aplikasi di Windows Store antara harga dengan rating aplikasi dan jumlah user yang dipublikasikan sampai periode terakhir data tercatat\n",
        "\n",
        "SMART\n",
        "\n",
        "Specific    : Aplikasi-aplikasi yang terdapat pada Windows Store\n",
        "\n",
        "Measurable  : Jumlah rating aplikasi yang mencerminkan pengguna aplikasi pada Windows Store\n",
        "\n",
        "Achievable  : Meningkatkan kualitas Windows Store dengan memastikan rating berbanding lurus dengan harga aplikasi\n",
        "\n",
        "Relevant    : Dengan mengetahui hubungan antara rating aplikasi dengan harga kita bisa meningkatkan minat user terhadap produk berbayar Windows Store dengan mempertimbangkan produk-produk yang layak sesuai dengan harganya\n",
        "\n",
        "Time-Bound  : Meningkatkan kualitas aplikasi berbayar di Windows Store pada tahun berikutnya\n",
        "\n",
        "\n"
      ]
    },
    {
      "attachments": {},
      "cell_type": "markdown",
      "metadata": {
        "id": "zDImdZQiV74f"
      },
      "source": [
        "## Penjabaran Masalah\n",
        "\n",
        "1. Kategori apa yang memiliki banyak rating rendah?\n",
        "\n",
        "2. Apakah harga aplikasi yang tinggi sebanding dengan rating yang tinggi?\n",
        "\n",
        "3. Berapa banyak rating rendah dari setiap category?\n",
        "\n",
        "4. Kategori mana yang memiliki angka install terbanyak?\n",
        "\n",
        "5. Mengapa pihak Windows Store ingin melakukan analisis hal tersebut?\n",
        "\n",
        "6. Bagaimana pihak Windows Store mendistribusikan harga pada aplikasi?\n",
        "\n",
        "7. Hubungan apa antara rating dengan harga?"
      ]
    },
    {
      "attachments": {},
      "cell_type": "markdown",
      "metadata": {
        "id": "oWOKyui-bLhr"
      },
      "source": [
        "# Data Loading\n",
        "\n",
        "Data yang digunakan berasal dari Kaggle mengenai [Windows Store\n",
        "](https://www.kaggle.com/datasets/vishnuvarthanrao/windows-store)\n",
        "\n",
        "\n",
        "Penjelasan kolom\n",
        "- Name      : Name of the app.\n",
        "- Rating: Rating for the app.\n",
        "- No of People Rated : No of people who rated the app.\n",
        "- Category : Category of the app.\n",
        "- Date. : Date when it is posted.\n",
        "- Price. : Price of the app."
      ]
    },
    {
      "cell_type": "code",
      "execution_count": 22,
      "metadata": {
        "id": "bSdihNq7Q3eR"
      },
      "outputs": [],
      "source": [
        "# Import Library\n",
        "\n",
        "import pandas as pd\n",
        "import numpy as np\n",
        "import seaborn as sns\n",
        "from seaborn import objects as so\n",
        "from scipy import stats\n",
        "import matplotlib.pyplot as plt\n",
        "import plotly.express as px"
      ]
    },
    {
      "cell_type": "code",
      "execution_count": 23,
      "metadata": {
        "colab": {
          "base_uri": "https://localhost:8080/"
        },
        "id": "6thDzJfKW3MU",
        "outputId": "9d839ba6-6b2c-40fd-da2c-11a516faffc2"
      },
      "outputs": [
        {
          "name": "stdout",
          "output_type": "stream",
          "text": [
            "mkdir: cannot create directory ‘/root/.kaggle’: File exists\n",
            "windows-store.zip: Skipping, found more recently modified local copy (use --force to force download)\n",
            "Archive:  /content/windows-store.zip\n",
            "replace msft.csv? [y]es, [n]o, [A]ll, [N]one, [r]ename: N\n"
          ]
        }
      ],
      "source": [
        "!mkdir /root/.kaggle                                                                  # Membuat folder .kaggle di /root\n",
        "\n",
        "!cp '/content/drive/MyDrive/Colab Notebooks/kaggle.json' /root/.kaggle/kaggle.json    # Mengcopy kaggle.json ke folder /root/.kaggle\n",
        "\n",
        "!kaggle datasets download -d vishnuvarthanrao/windows-store                           # Mendonwload datasets dari kaggle\n",
        "\n",
        "!unzip '/content/windows-store.zip'                                                   # Mengekstrak datasets yang sebelumnya sudah didownload\n"
      ]
    },
    {
      "cell_type": "code",
      "execution_count": 24,
      "metadata": {
        "colab": {
          "base_uri": "https://localhost:8080/",
          "height": 424
        },
        "id": "Ko6NDn1SexkW",
        "outputId": "86575f7c-aee4-456c-dc22-2c7f8eb26121"
      },
      "outputs": [
        {
          "data": {
            "text/html": [
              "\n",
              "  <div id=\"df-0398e5c4-69c2-47c8-9f13-d35cb91cfe44\">\n",
              "    <div class=\"colab-df-container\">\n",
              "      <div>\n",
              "<style scoped>\n",
              "    .dataframe tbody tr th:only-of-type {\n",
              "        vertical-align: middle;\n",
              "    }\n",
              "\n",
              "    .dataframe tbody tr th {\n",
              "        vertical-align: top;\n",
              "    }\n",
              "\n",
              "    .dataframe thead th {\n",
              "        text-align: right;\n",
              "    }\n",
              "</style>\n",
              "<table border=\"1\" class=\"dataframe\">\n",
              "  <thead>\n",
              "    <tr style=\"text-align: right;\">\n",
              "      <th></th>\n",
              "      <th>Name</th>\n",
              "      <th>Rating</th>\n",
              "      <th>No of people Rated</th>\n",
              "      <th>Category</th>\n",
              "      <th>Date</th>\n",
              "      <th>Price</th>\n",
              "    </tr>\n",
              "  </thead>\n",
              "  <tbody>\n",
              "    <tr>\n",
              "      <th>854</th>\n",
              "      <td>HP Anywhere</td>\n",
              "      <td>4.0</td>\n",
              "      <td>263</td>\n",
              "      <td>Business</td>\n",
              "      <td>01-01-2014</td>\n",
              "      <td>Free</td>\n",
              "    </tr>\n",
              "    <tr>\n",
              "      <th>5099</th>\n",
              "      <td>Nasa Launch Schedule</td>\n",
              "      <td>5.0</td>\n",
              "      <td>183</td>\n",
              "      <td>News and Weather</td>\n",
              "      <td>01-01-2015</td>\n",
              "      <td>Free</td>\n",
              "    </tr>\n",
              "    <tr>\n",
              "      <th>2772</th>\n",
              "      <td>Prego Box</td>\n",
              "      <td>3.0</td>\n",
              "      <td>362</td>\n",
              "      <td>Health and Fitness</td>\n",
              "      <td>01-01-2015</td>\n",
              "      <td>Free</td>\n",
              "    </tr>\n",
              "    <tr>\n",
              "      <th>3368</th>\n",
              "      <td>Wicca</td>\n",
              "      <td>3.5</td>\n",
              "      <td>493</td>\n",
              "      <td>Lifestyle</td>\n",
              "      <td>01-01-2015</td>\n",
              "      <td>Free</td>\n",
              "    </tr>\n",
              "    <tr>\n",
              "      <th>4140</th>\n",
              "      <td>Random Audio</td>\n",
              "      <td>4.0</td>\n",
              "      <td>626</td>\n",
              "      <td>Music</td>\n",
              "      <td>01-01-2015</td>\n",
              "      <td>Free</td>\n",
              "    </tr>\n",
              "    <tr>\n",
              "      <th>...</th>\n",
              "      <td>...</td>\n",
              "      <td>...</td>\n",
              "      <td>...</td>\n",
              "      <td>...</td>\n",
              "      <td>...</td>\n",
              "      <td>...</td>\n",
              "    </tr>\n",
              "    <tr>\n",
              "      <th>2498</th>\n",
              "      <td>WeCanSpeak</td>\n",
              "      <td>4.5</td>\n",
              "      <td>833</td>\n",
              "      <td>Health and Fitness</td>\n",
              "      <td>31-12-2019</td>\n",
              "      <td>Free</td>\n",
              "    </tr>\n",
              "    <tr>\n",
              "      <th>5233</th>\n",
              "      <td>PDF Reader for Adobe PDF</td>\n",
              "      <td>3.0</td>\n",
              "      <td>354</td>\n",
              "      <td>Business</td>\n",
              "      <td>31-12-2019</td>\n",
              "      <td>₹ 574.00</td>\n",
              "    </tr>\n",
              "    <tr>\n",
              "      <th>2493</th>\n",
              "      <td>clinytics</td>\n",
              "      <td>5.0</td>\n",
              "      <td>364</td>\n",
              "      <td>Health and Fitness</td>\n",
              "      <td>31-12-2019</td>\n",
              "      <td>Free</td>\n",
              "    </tr>\n",
              "    <tr>\n",
              "      <th>1615</th>\n",
              "      <td>Charta</td>\n",
              "      <td>5.0</td>\n",
              "      <td>761</td>\n",
              "      <td>Developer Tools</td>\n",
              "      <td>31-12-2019</td>\n",
              "      <td>Free</td>\n",
              "    </tr>\n",
              "    <tr>\n",
              "      <th>5321</th>\n",
              "      <td>NaN</td>\n",
              "      <td>NaN</td>\n",
              "      <td>948</td>\n",
              "      <td>NaN</td>\n",
              "      <td>NaN</td>\n",
              "      <td>NaN</td>\n",
              "    </tr>\n",
              "  </tbody>\n",
              "</table>\n",
              "<p>5322 rows × 6 columns</p>\n",
              "</div>\n",
              "      <button class=\"colab-df-convert\" onclick=\"convertToInteractive('df-0398e5c4-69c2-47c8-9f13-d35cb91cfe44')\"\n",
              "              title=\"Convert this dataframe to an interactive table.\"\n",
              "              style=\"display:none;\">\n",
              "        \n",
              "  <svg xmlns=\"http://www.w3.org/2000/svg\" height=\"24px\"viewBox=\"0 0 24 24\"\n",
              "       width=\"24px\">\n",
              "    <path d=\"M0 0h24v24H0V0z\" fill=\"none\"/>\n",
              "    <path d=\"M18.56 5.44l.94 2.06.94-2.06 2.06-.94-2.06-.94-.94-2.06-.94 2.06-2.06.94zm-11 1L8.5 8.5l.94-2.06 2.06-.94-2.06-.94L8.5 2.5l-.94 2.06-2.06.94zm10 10l.94 2.06.94-2.06 2.06-.94-2.06-.94-.94-2.06-.94 2.06-2.06.94z\"/><path d=\"M17.41 7.96l-1.37-1.37c-.4-.4-.92-.59-1.43-.59-.52 0-1.04.2-1.43.59L10.3 9.45l-7.72 7.72c-.78.78-.78 2.05 0 2.83L4 21.41c.39.39.9.59 1.41.59.51 0 1.02-.2 1.41-.59l7.78-7.78 2.81-2.81c.8-.78.8-2.07 0-2.86zM5.41 20L4 18.59l7.72-7.72 1.47 1.35L5.41 20z\"/>\n",
              "  </svg>\n",
              "      </button>\n",
              "      \n",
              "  <style>\n",
              "    .colab-df-container {\n",
              "      display:flex;\n",
              "      flex-wrap:wrap;\n",
              "      gap: 12px;\n",
              "    }\n",
              "\n",
              "    .colab-df-convert {\n",
              "      background-color: #E8F0FE;\n",
              "      border: none;\n",
              "      border-radius: 50%;\n",
              "      cursor: pointer;\n",
              "      display: none;\n",
              "      fill: #1967D2;\n",
              "      height: 32px;\n",
              "      padding: 0 0 0 0;\n",
              "      width: 32px;\n",
              "    }\n",
              "\n",
              "    .colab-df-convert:hover {\n",
              "      background-color: #E2EBFA;\n",
              "      box-shadow: 0px 1px 2px rgba(60, 64, 67, 0.3), 0px 1px 3px 1px rgba(60, 64, 67, 0.15);\n",
              "      fill: #174EA6;\n",
              "    }\n",
              "\n",
              "    [theme=dark] .colab-df-convert {\n",
              "      background-color: #3B4455;\n",
              "      fill: #D2E3FC;\n",
              "    }\n",
              "\n",
              "    [theme=dark] .colab-df-convert:hover {\n",
              "      background-color: #434B5C;\n",
              "      box-shadow: 0px 1px 3px 1px rgba(0, 0, 0, 0.15);\n",
              "      filter: drop-shadow(0px 1px 2px rgba(0, 0, 0, 0.3));\n",
              "      fill: #FFFFFF;\n",
              "    }\n",
              "  </style>\n",
              "\n",
              "      <script>\n",
              "        const buttonEl =\n",
              "          document.querySelector('#df-0398e5c4-69c2-47c8-9f13-d35cb91cfe44 button.colab-df-convert');\n",
              "        buttonEl.style.display =\n",
              "          google.colab.kernel.accessAllowed ? 'block' : 'none';\n",
              "\n",
              "        async function convertToInteractive(key) {\n",
              "          const element = document.querySelector('#df-0398e5c4-69c2-47c8-9f13-d35cb91cfe44');\n",
              "          const dataTable =\n",
              "            await google.colab.kernel.invokeFunction('convertToInteractive',\n",
              "                                                     [key], {});\n",
              "          if (!dataTable) return;\n",
              "\n",
              "          const docLinkHtml = 'Like what you see? Visit the ' +\n",
              "            '<a target=\"_blank\" href=https://colab.research.google.com/notebooks/data_table.ipynb>data table notebook</a>'\n",
              "            + ' to learn more about interactive tables.';\n",
              "          element.innerHTML = '';\n",
              "          dataTable['output_type'] = 'display_data';\n",
              "          await google.colab.output.renderOutput(dataTable, element);\n",
              "          const docLink = document.createElement('div');\n",
              "          docLink.innerHTML = docLinkHtml;\n",
              "          element.appendChild(docLink);\n",
              "        }\n",
              "      </script>\n",
              "    </div>\n",
              "  </div>\n",
              "  "
            ],
            "text/plain": [
              "                          Name  Rating  No of people Rated  \\\n",
              "854                HP Anywhere     4.0                 263   \n",
              "5099      Nasa Launch Schedule     5.0                 183   \n",
              "2772                 Prego Box     3.0                 362   \n",
              "3368                     Wicca     3.5                 493   \n",
              "4140              Random Audio     4.0                 626   \n",
              "...                        ...     ...                 ...   \n",
              "2498                WeCanSpeak     4.5                 833   \n",
              "5233  PDF Reader for Adobe PDF     3.0                 354   \n",
              "2493                 clinytics     5.0                 364   \n",
              "1615                    Charta     5.0                 761   \n",
              "5321                       NaN     NaN                 948   \n",
              "\n",
              "                Category        Date     Price  \n",
              "854             Business  01-01-2014      Free  \n",
              "5099    News and Weather  01-01-2015      Free  \n",
              "2772  Health and Fitness  01-01-2015      Free  \n",
              "3368           Lifestyle  01-01-2015      Free  \n",
              "4140               Music  01-01-2015      Free  \n",
              "...                  ...         ...       ...  \n",
              "2498  Health and Fitness  31-12-2019      Free  \n",
              "5233            Business  31-12-2019  ₹ 574.00  \n",
              "2493  Health and Fitness  31-12-2019      Free  \n",
              "1615     Developer Tools  31-12-2019      Free  \n",
              "5321                 NaN         NaN       NaN  \n",
              "\n",
              "[5322 rows x 6 columns]"
            ]
          },
          "execution_count": 24,
          "metadata": {},
          "output_type": "execute_result"
        }
      ],
      "source": [
        "df = pd.read_csv ('/content/msft.csv')  # Membuat dataframe dari csv\n",
        "df.sort_values('Date', ascending=True)  # memperlihatkan data 5 teratas dan terbawah, dan diurutkan berdasarkan 'Date'"
      ]
    },
    {
      "cell_type": "code",
      "execution_count": 25,
      "metadata": {
        "colab": {
          "base_uri": "https://localhost:8080/"
        },
        "id": "E1kUVC11RQ3B",
        "outputId": "acdcdce1-3b18-416b-f9b7-4b8116e83704"
      },
      "outputs": [
        {
          "name": "stdout",
          "output_type": "stream",
          "text": [
            "<class 'pandas.core.frame.DataFrame'>\n",
            "RangeIndex: 5322 entries, 0 to 5321\n",
            "Data columns (total 6 columns):\n",
            " #   Column              Non-Null Count  Dtype  \n",
            "---  ------              --------------  -----  \n",
            " 0   Name                5321 non-null   object \n",
            " 1   Rating              5321 non-null   float64\n",
            " 2   No of people Rated  5322 non-null   int64  \n",
            " 3   Category            5321 non-null   object \n",
            " 4   Date                5321 non-null   object \n",
            " 5   Price               5321 non-null   object \n",
            "dtypes: float64(1), int64(1), object(4)\n",
            "memory usage: 249.6+ KB\n"
          ]
        }
      ],
      "source": [
        "df.info() # Melihatkan tipe kolom, agar mendeteksi adanya kesalahan, terdapat pada kolom 'Date' yang bertipe object yang seharusnya adalah datetime"
      ]
    },
    {
      "cell_type": "code",
      "execution_count": 26,
      "metadata": {
        "colab": {
          "base_uri": "https://localhost:8080/"
        },
        "id": "d1zmnvSARVJ0",
        "outputId": "ce872470-fede-4ef1-c945-d9332af3c6de"
      },
      "outputs": [
        {
          "data": {
            "text/plain": [
              "Name                  1\n",
              "Rating                1\n",
              "No of people Rated    0\n",
              "Category              1\n",
              "Date                  1\n",
              "Price                 1\n",
              "dtype: int64"
            ]
          },
          "execution_count": 26,
          "metadata": {},
          "output_type": "execute_result"
        }
      ],
      "source": [
        "df.isnull().sum() # Mengecek jumlah baris yang tidak memiliki data"
      ]
    },
    {
      "cell_type": "code",
      "execution_count": 27,
      "metadata": {
        "colab": {
          "base_uri": "https://localhost:8080/"
        },
        "id": "Sno3wVdzSmkg",
        "outputId": "cc1e3f0b-b27b-463d-86e6-49a27f2041da"
      },
      "outputs": [
        {
          "data": {
            "text/plain": [
              "Name                  0\n",
              "Rating                0\n",
              "No of people Rated    0\n",
              "Category              0\n",
              "Date                  0\n",
              "Price                 0\n",
              "dtype: int64"
            ]
          },
          "execution_count": 27,
          "metadata": {},
          "output_type": "execute_result"
        }
      ],
      "source": [
        "df = df.dropna()  # Membuang baris yg berisi null\n",
        "df.isnull().sum() # Mengecek jumlah baris null setelah dibuang"
      ]
    },
    {
      "cell_type": "code",
      "execution_count": 28,
      "metadata": {
        "colab": {
          "base_uri": "https://localhost:8080/",
          "height": 424
        },
        "id": "2om1tNEda7ld",
        "outputId": "daf95335-6292-4481-f4f2-2154a06df301"
      },
      "outputs": [
        {
          "data": {
            "text/html": [
              "\n",
              "  <div id=\"df-f367fd88-6279-4ee6-9daa-bedde6e563b2\">\n",
              "    <div class=\"colab-df-container\">\n",
              "      <div>\n",
              "<style scoped>\n",
              "    .dataframe tbody tr th:only-of-type {\n",
              "        vertical-align: middle;\n",
              "    }\n",
              "\n",
              "    .dataframe tbody tr th {\n",
              "        vertical-align: top;\n",
              "    }\n",
              "\n",
              "    .dataframe thead th {\n",
              "        text-align: right;\n",
              "    }\n",
              "</style>\n",
              "<table border=\"1\" class=\"dataframe\">\n",
              "  <thead>\n",
              "    <tr style=\"text-align: right;\">\n",
              "      <th></th>\n",
              "      <th>Name</th>\n",
              "      <th>Rating</th>\n",
              "      <th>No of people Rated</th>\n",
              "      <th>Category</th>\n",
              "      <th>Date</th>\n",
              "      <th>Price</th>\n",
              "    </tr>\n",
              "  </thead>\n",
              "  <tbody>\n",
              "    <tr>\n",
              "      <th>5166</th>\n",
              "      <td>WinRAR PC-Guide</td>\n",
              "      <td>1.0</td>\n",
              "      <td>523</td>\n",
              "      <td>Books</td>\n",
              "      <td>22-11-2019</td>\n",
              "      <td>₹ 99.00</td>\n",
              "    </tr>\n",
              "    <tr>\n",
              "      <th>5303</th>\n",
              "      <td>PairBLENow</td>\n",
              "      <td>5.0</td>\n",
              "      <td>436</td>\n",
              "      <td>Developer Tools</td>\n",
              "      <td>19-01-2017</td>\n",
              "      <td>₹ 99.00</td>\n",
              "    </tr>\n",
              "    <tr>\n",
              "      <th>5176</th>\n",
              "      <td>ccleaner user: guide</td>\n",
              "      <td>2.0</td>\n",
              "      <td>865</td>\n",
              "      <td>Books</td>\n",
              "      <td>16-12-2019</td>\n",
              "      <td>₹ 99.00</td>\n",
              "    </tr>\n",
              "    <tr>\n",
              "      <th>5194</th>\n",
              "      <td>Guide for firefox</td>\n",
              "      <td>3.5</td>\n",
              "      <td>625</td>\n",
              "      <td>Books</td>\n",
              "      <td>06-03-2020</td>\n",
              "      <td>₹ 94.00</td>\n",
              "    </tr>\n",
              "    <tr>\n",
              "      <th>5283</th>\n",
              "      <td>Bluetooth Terminal+</td>\n",
              "      <td>4.0</td>\n",
              "      <td>796</td>\n",
              "      <td>Developer Tools</td>\n",
              "      <td>09-11-2019</td>\n",
              "      <td>₹ 89.50</td>\n",
              "    </tr>\n",
              "    <tr>\n",
              "      <th>...</th>\n",
              "      <td>...</td>\n",
              "      <td>...</td>\n",
              "      <td>...</td>\n",
              "      <td>...</td>\n",
              "      <td>...</td>\n",
              "      <td>...</td>\n",
              "    </tr>\n",
              "    <tr>\n",
              "      <th>5299</th>\n",
              "      <td>Offline Documentation Browser</td>\n",
              "      <td>1.0</td>\n",
              "      <td>153</td>\n",
              "      <td>Developer Tools</td>\n",
              "      <td>13-03-2020</td>\n",
              "      <td>₹ 1,149.00</td>\n",
              "    </tr>\n",
              "    <tr>\n",
              "      <th>5180</th>\n",
              "      <td>Oxford Hachette French Dictionary</td>\n",
              "      <td>3.5</td>\n",
              "      <td>156</td>\n",
              "      <td>Books</td>\n",
              "      <td>22-07-2014</td>\n",
              "      <td>₹ 1,099.00</td>\n",
              "    </tr>\n",
              "    <tr>\n",
              "      <th>5228</th>\n",
              "      <td>PDF Reader Pro-Annotate, Edit, Convert, Fill F...</td>\n",
              "      <td>4.5</td>\n",
              "      <td>446</td>\n",
              "      <td>Business</td>\n",
              "      <td>25-11-2019</td>\n",
              "      <td>₹ 1,099.00</td>\n",
              "    </tr>\n",
              "    <tr>\n",
              "      <th>5304</th>\n",
              "      <td>SCADAvis.io Synoptic Editor</td>\n",
              "      <td>1.0</td>\n",
              "      <td>359</td>\n",
              "      <td>Developer Tools</td>\n",
              "      <td>12-07-2018</td>\n",
              "      <td>₹ 1,099.00</td>\n",
              "    </tr>\n",
              "    <tr>\n",
              "      <th>5275</th>\n",
              "      <td>Pengwin</td>\n",
              "      <td>4.0</td>\n",
              "      <td>382</td>\n",
              "      <td>Developer Tools</td>\n",
              "      <td>21-09-2018</td>\n",
              "      <td>₹ 1,099.00</td>\n",
              "    </tr>\n",
              "  </tbody>\n",
              "</table>\n",
              "<p>158 rows × 6 columns</p>\n",
              "</div>\n",
              "      <button class=\"colab-df-convert\" onclick=\"convertToInteractive('df-f367fd88-6279-4ee6-9daa-bedde6e563b2')\"\n",
              "              title=\"Convert this dataframe to an interactive table.\"\n",
              "              style=\"display:none;\">\n",
              "        \n",
              "  <svg xmlns=\"http://www.w3.org/2000/svg\" height=\"24px\"viewBox=\"0 0 24 24\"\n",
              "       width=\"24px\">\n",
              "    <path d=\"M0 0h24v24H0V0z\" fill=\"none\"/>\n",
              "    <path d=\"M18.56 5.44l.94 2.06.94-2.06 2.06-.94-2.06-.94-.94-2.06-.94 2.06-2.06.94zm-11 1L8.5 8.5l.94-2.06 2.06-.94-2.06-.94L8.5 2.5l-.94 2.06-2.06.94zm10 10l.94 2.06.94-2.06 2.06-.94-2.06-.94-.94-2.06-.94 2.06-2.06.94z\"/><path d=\"M17.41 7.96l-1.37-1.37c-.4-.4-.92-.59-1.43-.59-.52 0-1.04.2-1.43.59L10.3 9.45l-7.72 7.72c-.78.78-.78 2.05 0 2.83L4 21.41c.39.39.9.59 1.41.59.51 0 1.02-.2 1.41-.59l7.78-7.78 2.81-2.81c.8-.78.8-2.07 0-2.86zM5.41 20L4 18.59l7.72-7.72 1.47 1.35L5.41 20z\"/>\n",
              "  </svg>\n",
              "      </button>\n",
              "      \n",
              "  <style>\n",
              "    .colab-df-container {\n",
              "      display:flex;\n",
              "      flex-wrap:wrap;\n",
              "      gap: 12px;\n",
              "    }\n",
              "\n",
              "    .colab-df-convert {\n",
              "      background-color: #E8F0FE;\n",
              "      border: none;\n",
              "      border-radius: 50%;\n",
              "      cursor: pointer;\n",
              "      display: none;\n",
              "      fill: #1967D2;\n",
              "      height: 32px;\n",
              "      padding: 0 0 0 0;\n",
              "      width: 32px;\n",
              "    }\n",
              "\n",
              "    .colab-df-convert:hover {\n",
              "      background-color: #E2EBFA;\n",
              "      box-shadow: 0px 1px 2px rgba(60, 64, 67, 0.3), 0px 1px 3px 1px rgba(60, 64, 67, 0.15);\n",
              "      fill: #174EA6;\n",
              "    }\n",
              "\n",
              "    [theme=dark] .colab-df-convert {\n",
              "      background-color: #3B4455;\n",
              "      fill: #D2E3FC;\n",
              "    }\n",
              "\n",
              "    [theme=dark] .colab-df-convert:hover {\n",
              "      background-color: #434B5C;\n",
              "      box-shadow: 0px 1px 3px 1px rgba(0, 0, 0, 0.15);\n",
              "      filter: drop-shadow(0px 1px 2px rgba(0, 0, 0, 0.3));\n",
              "      fill: #FFFFFF;\n",
              "    }\n",
              "  </style>\n",
              "\n",
              "      <script>\n",
              "        const buttonEl =\n",
              "          document.querySelector('#df-f367fd88-6279-4ee6-9daa-bedde6e563b2 button.colab-df-convert');\n",
              "        buttonEl.style.display =\n",
              "          google.colab.kernel.accessAllowed ? 'block' : 'none';\n",
              "\n",
              "        async function convertToInteractive(key) {\n",
              "          const element = document.querySelector('#df-f367fd88-6279-4ee6-9daa-bedde6e563b2');\n",
              "          const dataTable =\n",
              "            await google.colab.kernel.invokeFunction('convertToInteractive',\n",
              "                                                     [key], {});\n",
              "          if (!dataTable) return;\n",
              "\n",
              "          const docLinkHtml = 'Like what you see? Visit the ' +\n",
              "            '<a target=\"_blank\" href=https://colab.research.google.com/notebooks/data_table.ipynb>data table notebook</a>'\n",
              "            + ' to learn more about interactive tables.';\n",
              "          element.innerHTML = '';\n",
              "          dataTable['output_type'] = 'display_data';\n",
              "          await google.colab.output.renderOutput(dataTable, element);\n",
              "          const docLink = document.createElement('div');\n",
              "          docLink.innerHTML = docLinkHtml;\n",
              "          element.appendChild(docLink);\n",
              "        }\n",
              "      </script>\n",
              "    </div>\n",
              "  </div>\n",
              "  "
            ],
            "text/plain": [
              "                                                   Name  Rating  \\\n",
              "5166                                    WinRAR PC-Guide     1.0   \n",
              "5303                                         PairBLENow     5.0   \n",
              "5176                               ccleaner user: guide     2.0   \n",
              "5194                                  Guide for firefox     3.5   \n",
              "5283                                Bluetooth Terminal+     4.0   \n",
              "...                                                 ...     ...   \n",
              "5299                      Offline Documentation Browser     1.0   \n",
              "5180                  Oxford Hachette French Dictionary     3.5   \n",
              "5228  PDF Reader Pro-Annotate, Edit, Convert, Fill F...     4.5   \n",
              "5304                        SCADAvis.io Synoptic Editor     1.0   \n",
              "5275                                            Pengwin     4.0   \n",
              "\n",
              "      No of people Rated         Category        Date       Price  \n",
              "5166                 523            Books  22-11-2019     ₹ 99.00  \n",
              "5303                 436  Developer Tools  19-01-2017     ₹ 99.00  \n",
              "5176                 865            Books  16-12-2019     ₹ 99.00  \n",
              "5194                 625            Books  06-03-2020     ₹ 94.00  \n",
              "5283                 796  Developer Tools  09-11-2019     ₹ 89.50  \n",
              "...                  ...              ...         ...         ...  \n",
              "5299                 153  Developer Tools  13-03-2020  ₹ 1,149.00  \n",
              "5180                 156            Books  22-07-2014  ₹ 1,099.00  \n",
              "5228                 446         Business  25-11-2019  ₹ 1,099.00  \n",
              "5304                 359  Developer Tools  12-07-2018  ₹ 1,099.00  \n",
              "5275                 382  Developer Tools  21-09-2018  ₹ 1,099.00  \n",
              "\n",
              "[158 rows x 6 columns]"
            ]
          },
          "execution_count": 28,
          "metadata": {},
          "output_type": "execute_result"
        }
      ],
      "source": [
        "df = df[df['Price'] != 'Free']                # Memfilter yang tidak Free, karena yang dianalisa hanya yang berbayar\n",
        "df.sort_values(by = 'Price', ascending=False)"
      ]
    },
    {
      "attachments": {},
      "cell_type": "markdown",
      "metadata": {
        "id": "iWCZPb-7bjI4"
      },
      "source": [
        "# Data Cleaning"
      ]
    },
    {
      "cell_type": "code",
      "execution_count": 30,
      "metadata": {
        "colab": {
          "base_uri": "https://localhost:8080/"
        },
        "id": "Vs7ykpDRYja0",
        "outputId": "dc530dc4-5a09-4232-dea1-88dd1652071a"
      },
      "outputs": [
        {
          "name": "stdout",
          "output_type": "stream",
          "text": [
            "<class 'pandas.core.frame.DataFrame'>\n",
            "Int64Index: 158 entries, 5163 to 5320\n",
            "Data columns (total 6 columns):\n",
            " #   Column              Non-Null Count  Dtype         \n",
            "---  ------              --------------  -----         \n",
            " 0   Name                158 non-null    object        \n",
            " 1   Rating              158 non-null    float64       \n",
            " 2   No of people Rated  158 non-null    int64         \n",
            " 3   Category            158 non-null    object        \n",
            " 4   Date                158 non-null    datetime64[ns]\n",
            " 5   Price               158 non-null    object        \n",
            "dtypes: datetime64[ns](1), float64(1), int64(1), object(3)\n",
            "memory usage: 8.6+ KB\n"
          ]
        }
      ],
      "source": [
        "df['Date'] = pd.to_datetime (df['Date'], format='%d-%m-%Y') # Merubah tipe kolom 'Date' dari object menjadi datetime64\n",
        "df.info()                                                   # Mengecek tipe data setelah dirubah"
      ]
    },
    {
      "cell_type": "code",
      "execution_count": 32,
      "metadata": {
        "colab": {
          "base_uri": "https://localhost:8080/",
          "height": 424
        },
        "id": "_aAp4DcU3DrW",
        "outputId": "c9b2a1be-de27-4688-e4e9-b9f3a533b36e"
      },
      "outputs": [
        {
          "data": {
            "text/html": [
              "\n",
              "  <div id=\"df-f98a8c0c-eb95-404a-a32d-1934a92e6ee1\">\n",
              "    <div class=\"colab-df-container\">\n",
              "      <div>\n",
              "<style scoped>\n",
              "    .dataframe tbody tr th:only-of-type {\n",
              "        vertical-align: middle;\n",
              "    }\n",
              "\n",
              "    .dataframe tbody tr th {\n",
              "        vertical-align: top;\n",
              "    }\n",
              "\n",
              "    .dataframe thead th {\n",
              "        text-align: right;\n",
              "    }\n",
              "</style>\n",
              "<table border=\"1\" class=\"dataframe\">\n",
              "  <thead>\n",
              "    <tr style=\"text-align: right;\">\n",
              "      <th></th>\n",
              "      <th>Name</th>\n",
              "      <th>Rating</th>\n",
              "      <th>No of people Rated</th>\n",
              "      <th>Category</th>\n",
              "      <th>Date</th>\n",
              "      <th>Price</th>\n",
              "    </tr>\n",
              "  </thead>\n",
              "  <tbody>\n",
              "    <tr>\n",
              "      <th>5179</th>\n",
              "      <td>freda+</td>\n",
              "      <td>4.5</td>\n",
              "      <td>291</td>\n",
              "      <td>Books</td>\n",
              "      <td>2011-01-21</td>\n",
              "      <td>109.0</td>\n",
              "    </tr>\n",
              "    <tr>\n",
              "      <th>5182</th>\n",
              "      <td>Merriam-Webster Dictionary Recommended by Dell</td>\n",
              "      <td>1.5</td>\n",
              "      <td>693</td>\n",
              "      <td>Books</td>\n",
              "      <td>2012-10-09</td>\n",
              "      <td>269.0</td>\n",
              "    </tr>\n",
              "    <tr>\n",
              "      <th>5200</th>\n",
              "      <td>C.B.R. - Comic Book Reader</td>\n",
              "      <td>2.0</td>\n",
              "      <td>149</td>\n",
              "      <td>Books</td>\n",
              "      <td>2013-01-11</td>\n",
              "      <td>79.0</td>\n",
              "    </tr>\n",
              "    <tr>\n",
              "      <th>5204</th>\n",
              "      <td>Chambers Thesaurus</td>\n",
              "      <td>4.5</td>\n",
              "      <td>666</td>\n",
              "      <td>Books</td>\n",
              "      <td>2013-01-30</td>\n",
              "      <td>299.0</td>\n",
              "    </tr>\n",
              "    <tr>\n",
              "      <th>5183</th>\n",
              "      <td>Oxford Advanced Learner's Dictionary, 8th edition</td>\n",
              "      <td>4.0</td>\n",
              "      <td>403</td>\n",
              "      <td>Books</td>\n",
              "      <td>2013-01-31</td>\n",
              "      <td>1624.0</td>\n",
              "    </tr>\n",
              "    <tr>\n",
              "      <th>...</th>\n",
              "      <td>...</td>\n",
              "      <td>...</td>\n",
              "      <td>...</td>\n",
              "      <td>...</td>\n",
              "      <td>...</td>\n",
              "      <td>...</td>\n",
              "    </tr>\n",
              "    <tr>\n",
              "      <th>5171</th>\n",
              "      <td>Camtasia Tutor</td>\n",
              "      <td>1.0</td>\n",
              "      <td>495</td>\n",
              "      <td>Books</td>\n",
              "      <td>2020-06-22</td>\n",
              "      <td>269.0</td>\n",
              "    </tr>\n",
              "    <tr>\n",
              "      <th>5167</th>\n",
              "      <td>Windows Movie Maker : PC Guide</td>\n",
              "      <td>1.0</td>\n",
              "      <td>515</td>\n",
              "      <td>Books</td>\n",
              "      <td>2020-06-22</td>\n",
              "      <td>144.0</td>\n",
              "    </tr>\n",
              "    <tr>\n",
              "      <th>5221</th>\n",
              "      <td>Screen Mirror to MiraCast</td>\n",
              "      <td>1.0</td>\n",
              "      <td>216</td>\n",
              "      <td>Business</td>\n",
              "      <td>2020-06-24</td>\n",
              "      <td>269.0</td>\n",
              "    </tr>\n",
              "    <tr>\n",
              "      <th>5164</th>\n",
              "      <td>Adobe Acrobat Reader DC PC Guide</td>\n",
              "      <td>2.0</td>\n",
              "      <td>163</td>\n",
              "      <td>Books</td>\n",
              "      <td>2020-06-28</td>\n",
              "      <td>144.0</td>\n",
              "    </tr>\n",
              "    <tr>\n",
              "      <th>5264</th>\n",
              "      <td>Miracast..</td>\n",
              "      <td>1.5</td>\n",
              "      <td>932</td>\n",
              "      <td>Business</td>\n",
              "      <td>2020-07-01</td>\n",
              "      <td>269.0</td>\n",
              "    </tr>\n",
              "  </tbody>\n",
              "</table>\n",
              "<p>158 rows × 6 columns</p>\n",
              "</div>\n",
              "      <button class=\"colab-df-convert\" onclick=\"convertToInteractive('df-f98a8c0c-eb95-404a-a32d-1934a92e6ee1')\"\n",
              "              title=\"Convert this dataframe to an interactive table.\"\n",
              "              style=\"display:none;\">\n",
              "        \n",
              "  <svg xmlns=\"http://www.w3.org/2000/svg\" height=\"24px\"viewBox=\"0 0 24 24\"\n",
              "       width=\"24px\">\n",
              "    <path d=\"M0 0h24v24H0V0z\" fill=\"none\"/>\n",
              "    <path d=\"M18.56 5.44l.94 2.06.94-2.06 2.06-.94-2.06-.94-.94-2.06-.94 2.06-2.06.94zm-11 1L8.5 8.5l.94-2.06 2.06-.94-2.06-.94L8.5 2.5l-.94 2.06-2.06.94zm10 10l.94 2.06.94-2.06 2.06-.94-2.06-.94-.94-2.06-.94 2.06-2.06.94z\"/><path d=\"M17.41 7.96l-1.37-1.37c-.4-.4-.92-.59-1.43-.59-.52 0-1.04.2-1.43.59L10.3 9.45l-7.72 7.72c-.78.78-.78 2.05 0 2.83L4 21.41c.39.39.9.59 1.41.59.51 0 1.02-.2 1.41-.59l7.78-7.78 2.81-2.81c.8-.78.8-2.07 0-2.86zM5.41 20L4 18.59l7.72-7.72 1.47 1.35L5.41 20z\"/>\n",
              "  </svg>\n",
              "      </button>\n",
              "      \n",
              "  <style>\n",
              "    .colab-df-container {\n",
              "      display:flex;\n",
              "      flex-wrap:wrap;\n",
              "      gap: 12px;\n",
              "    }\n",
              "\n",
              "    .colab-df-convert {\n",
              "      background-color: #E8F0FE;\n",
              "      border: none;\n",
              "      border-radius: 50%;\n",
              "      cursor: pointer;\n",
              "      display: none;\n",
              "      fill: #1967D2;\n",
              "      height: 32px;\n",
              "      padding: 0 0 0 0;\n",
              "      width: 32px;\n",
              "    }\n",
              "\n",
              "    .colab-df-convert:hover {\n",
              "      background-color: #E2EBFA;\n",
              "      box-shadow: 0px 1px 2px rgba(60, 64, 67, 0.3), 0px 1px 3px 1px rgba(60, 64, 67, 0.15);\n",
              "      fill: #174EA6;\n",
              "    }\n",
              "\n",
              "    [theme=dark] .colab-df-convert {\n",
              "      background-color: #3B4455;\n",
              "      fill: #D2E3FC;\n",
              "    }\n",
              "\n",
              "    [theme=dark] .colab-df-convert:hover {\n",
              "      background-color: #434B5C;\n",
              "      box-shadow: 0px 1px 3px 1px rgba(0, 0, 0, 0.15);\n",
              "      filter: drop-shadow(0px 1px 2px rgba(0, 0, 0, 0.3));\n",
              "      fill: #FFFFFF;\n",
              "    }\n",
              "  </style>\n",
              "\n",
              "      <script>\n",
              "        const buttonEl =\n",
              "          document.querySelector('#df-f98a8c0c-eb95-404a-a32d-1934a92e6ee1 button.colab-df-convert');\n",
              "        buttonEl.style.display =\n",
              "          google.colab.kernel.accessAllowed ? 'block' : 'none';\n",
              "\n",
              "        async function convertToInteractive(key) {\n",
              "          const element = document.querySelector('#df-f98a8c0c-eb95-404a-a32d-1934a92e6ee1');\n",
              "          const dataTable =\n",
              "            await google.colab.kernel.invokeFunction('convertToInteractive',\n",
              "                                                     [key], {});\n",
              "          if (!dataTable) return;\n",
              "\n",
              "          const docLinkHtml = 'Like what you see? Visit the ' +\n",
              "            '<a target=\"_blank\" href=https://colab.research.google.com/notebooks/data_table.ipynb>data table notebook</a>'\n",
              "            + ' to learn more about interactive tables.';\n",
              "          element.innerHTML = '';\n",
              "          dataTable['output_type'] = 'display_data';\n",
              "          await google.colab.output.renderOutput(dataTable, element);\n",
              "          const docLink = document.createElement('div');\n",
              "          docLink.innerHTML = docLinkHtml;\n",
              "          element.appendChild(docLink);\n",
              "        }\n",
              "      </script>\n",
              "    </div>\n",
              "  </div>\n",
              "  "
            ],
            "text/plain": [
              "                                                   Name  Rating  \\\n",
              "5179                                             freda+     4.5   \n",
              "5182     Merriam-Webster Dictionary Recommended by Dell     1.5   \n",
              "5200                         C.B.R. - Comic Book Reader     2.0   \n",
              "5204                                 Chambers Thesaurus     4.5   \n",
              "5183  Oxford Advanced Learner's Dictionary, 8th edition     4.0   \n",
              "...                                                 ...     ...   \n",
              "5171                                     Camtasia Tutor     1.0   \n",
              "5167                     Windows Movie Maker : PC Guide     1.0   \n",
              "5221                          Screen Mirror to MiraCast     1.0   \n",
              "5164                   Adobe Acrobat Reader DC PC Guide     2.0   \n",
              "5264                                         Miracast..     1.5   \n",
              "\n",
              "      No of people Rated  Category       Date   Price  \n",
              "5179                 291     Books 2011-01-21   109.0  \n",
              "5182                 693     Books 2012-10-09   269.0  \n",
              "5200                 149     Books 2013-01-11    79.0  \n",
              "5204                 666     Books 2013-01-30   299.0  \n",
              "5183                 403     Books 2013-01-31  1624.0  \n",
              "...                  ...       ...        ...     ...  \n",
              "5171                 495     Books 2020-06-22   269.0  \n",
              "5167                 515     Books 2020-06-22   144.0  \n",
              "5221                 216  Business 2020-06-24   269.0  \n",
              "5164                 163     Books 2020-06-28   144.0  \n",
              "5264                 932  Business 2020-07-01   269.0  \n",
              "\n",
              "[158 rows x 6 columns]"
            ]
          },
          "execution_count": 32,
          "metadata": {},
          "output_type": "execute_result"
        }
      ],
      "source": [
        "df['Price'] = df['Price'].str.replace('₹', '').str.replace(',', '').astype(float) # Menghilangkan karakter ₹ dan menghilangkan , dalam ribuan\n",
        "df['Price'] = pd.to_numeric(df['Price'])                                          # Mengubah tipe price menjadi numeric\n",
        "df.sort_values('Date')                                                            # Diurutkan berdasarkan Date"
      ]
    },
    {
      "attachments": {},
      "cell_type": "markdown",
      "metadata": {
        "id": "XvQSnhM5blYP"
      },
      "source": [
        "# Analisis dan Perhitungan"
      ]
    },
    {
      "cell_type": "code",
      "execution_count": 34,
      "metadata": {
        "colab": {
          "base_uri": "https://localhost:8080/"
        },
        "id": "mTVPnd0iaune",
        "outputId": "c56f7ddb-047d-4738-b5ca-b7b718ac38b1"
      },
      "outputs": [
        {
          "data": {
            "text/plain": [
              "array(['Books', 'Business', 'Developer Tools'], dtype=object)"
            ]
          },
          "execution_count": 34,
          "metadata": {},
          "output_type": "execute_result"
        }
      ],
      "source": [
        "df['Category'].unique() # Melihat pada kolom 'Category' memiliki data apa saja, terlihat hanya Books, Business, dan Developer Tools"
      ]
    },
    {
      "attachments": {},
      "cell_type": "markdown",
      "metadata": {
        "id": "m7MINqbI-2WU"
      },
      "source": [
        "## Penjabaran 1\n",
        "\n",
        "Kategori yang memiliki rating terendah ada pada kategori `Books` dirate sebanyak 6738, untuk `Business` sebanyak 21558, dan untuk `Developer Tools` sebanyak 4308, dapat ditarik kesimpulan bahwa pada kategori `Business` banyak aplikasi yang dinilai dengan rating rendah"
      ]
    },
    {
      "cell_type": "code",
      "execution_count": 12,
      "metadata": {
        "colab": {
          "base_uri": "https://localhost:8080/"
        },
        "id": "_CT1DO4U9sl8",
        "outputId": "b3892528-332a-4dff-e760-427ef3ad7dc0"
      },
      "outputs": [
        {
          "data": {
            "text/plain": [
              "Category         Rating\n",
              "Books            1.0        6738\n",
              "                 1.5        4891\n",
              "                 2.0        2687\n",
              "                 2.5        1105\n",
              "                 3.0        1344\n",
              "                 3.5        1332\n",
              "                 4.0        4495\n",
              "                 4.5        3401\n",
              "                 5.0        2298\n",
              "Business         1.0       21558\n",
              "                 1.5        2743\n",
              "                 2.0         383\n",
              "                 2.5         239\n",
              "                 3.0         751\n",
              "                 3.5         881\n",
              "                 4.0        1278\n",
              "                 4.5         446\n",
              "Developer Tools  1.0        4308\n",
              "                 1.5         848\n",
              "                 2.0        2186\n",
              "                 2.5        2380\n",
              "                 3.0        2589\n",
              "                 3.5        4949\n",
              "                 4.0        5215\n",
              "                 4.5        1840\n",
              "                 5.0        5497\n",
              "Name: No of people Rated, dtype: int64"
            ]
          },
          "execution_count": 12,
          "metadata": {},
          "output_type": "execute_result"
        }
      ],
      "source": [
        "df.groupby(['Category', 'Rating'])['No of people Rated'].sum()    # Melihat jumlah 'No of people Rated' pada setiap 'Rating' disemua 'Category'"
      ]
    },
    {
      "cell_type": "code",
      "execution_count": 13,
      "metadata": {
        "colab": {
          "base_uri": "https://localhost:8080/",
          "height": 466
        },
        "id": "xI1zbKzOAPM3",
        "outputId": "40e3ef58-2ef9-4dd1-9680-eafde7e253de"
      },
      "outputs": [
        {
          "data": {
            "text/plain": [
              "<Axes: xlabel='Rating', ylabel='No of people Rated'>"
            ]
          },
          "execution_count": 13,
          "metadata": {},
          "output_type": "execute_result"
        },
        {
          "data": {
            "image/png": "[encoded data removed]",
            "text/plain": [
              "<Figure size 640x480 with 1 Axes>"
            ]
          },
          "metadata": {},
          "output_type": "display_data"
        }
      ],
      "source": [
        "sns.barplot(data=df, x=\"Rating\", y=\"No of people Rated\", hue=\"Category\", estimator=sum, errorbar=None, dodge=True)  # Membuat visualisasi data antara Rating dengan No of people Rated pada setiap Category"
      ]
    },
    {
      "attachments": {},
      "cell_type": "markdown",
      "metadata": {
        "id": "zwXrnScq-3qV"
      },
      "source": [
        "## Penjabaran 2\n",
        "\n",
        "Berdasarkan hasil, terlihat bahwa masih banyak yang tidak mematok tinggi harga aplikasi, tetapi bisa terlihat juga bahwa aplikasi yang harga tinggi tersebut hanya bisa mendapatkan rating 3, sebaliknya terdapat aplikasi yang harganya tidak tinggi tapi mendapatkan rating yang maksimal."
      ]
    },
    {
      "cell_type": "code",
      "execution_count": 14,
      "metadata": {
        "colab": {
          "base_uri": "https://localhost:8080/",
          "height": 524
        },
        "id": "Szo71aYLTpgK",
        "outputId": "386c4f3b-3b19-4d5e-debf-4ad1c554a509"
      },
      "outputs": [
        {
          "data": {
            "text/plain": [
              "<seaborn.axisgrid.FacetGrid at 0x7f20e029af20>"
            ]
          },
          "execution_count": 14,
          "metadata": {},
          "output_type": "execute_result"
        },
        {
          "data": {
            "image/png": "[encoded data removed]",
            "text/plain": [
              "<Figure size 660x500 with 1 Axes>"
            ]
          },
          "metadata": {},
          "output_type": "display_data"
        }
      ],
      "source": [
        "sns.relplot(data=df, x=\"Rating\", y=\"Price\", hue=\"Category\") # Membuat visualisasi penyebaran data Rating dan Price"
      ]
    },
    {
      "attachments": {},
      "cell_type": "markdown",
      "metadata": {
        "id": "vsd1Cdey-4h5"
      },
      "source": [
        "## Penjabaran 3\n",
        "\n",
        "Terlihat bahwa pada aplikasi dengan kategori `Business` memiliki persentase terbanyak pada nilai rating 1 sebesar 66%"
      ]
    },
    {
      "cell_type": "code",
      "execution_count": 15,
      "metadata": {
        "colab": {
          "base_uri": "https://localhost:8080/",
          "height": 406
        },
        "id": "DsDeJ9uhT3lM",
        "outputId": "921547f1-e11a-41b6-83a2-47758a24b177"
      },
      "outputs": [
        {
          "data": {
            "image/png": "[encoded data removed]",
            "text/plain": [
              "<Figure size 640x480 with 1 Axes>"
            ]
          },
          "metadata": {},
          "output_type": "display_data"
        }
      ],
      "source": [
        "df_3 = df.groupby(['Category', 'Rating'],)['No of people Rated'].sum().reset_index()    # Membuat dataframe baru\n",
        "df_3 = df_3[df_3[\"Rating\"] == 1.0]                                                      # Memfilter yang rating hanya 1\n",
        "\n",
        "# Membuat visualisasi datanya\n",
        "palette_color = sns.color_palette('pastel')\n",
        "plt.pie(df_3['No of people Rated'], labels=df_3['Category'], colors=palette_color, autopct='%.0f%%', startangle=270)\n",
        "\n",
        "# Memberikan efek bolong pada tengah lingkaran\n",
        "centre_circle = plt.Circle((0, 0), 0.70, fc='white')\n",
        "fig = plt.gcf()\n",
        "fig.gca().add_artist(centre_circle)\n",
        "\n",
        "plt.show()"
      ]
    },
    {
      "attachments": {},
      "cell_type": "markdown",
      "metadata": {
        "id": "Na6-ST8i-5Qi"
      },
      "source": [
        "## Penjabaran 4\n",
        "\n",
        "Berdasarkan hasil yang telah dibuat, user yang memberikan rating user yang menginstall aplikasi tersebut, sehingga kategori yang banyak di install oleh user adalah `Developer Tools`"
      ]
    },
    {
      "cell_type": "code",
      "execution_count": 16,
      "metadata": {
        "colab": {
          "base_uri": "https://localhost:8080/",
          "height": 406
        },
        "id": "Fb3KjvVyWpLp",
        "outputId": "94e29833-733e-4a5d-d95c-b4b04bdbf58e"
      },
      "outputs": [
        {
          "data": {
            "image/png": "[encoded data removed]",
            "text/plain": [
              "<Figure size 640x480 with 1 Axes>"
            ]
          },
          "metadata": {},
          "output_type": "display_data"
        }
      ],
      "source": [
        "df_4 = df.groupby(['Category'])['No of people Rated'].sum()  # Membuat dataframe baru berdasarkan jumlah 'No of people Rated' dengan 'Category'\n",
        "\n",
        "# Membuat visualisasi data\n",
        "palette_color = sns.color_palette('muted')\n",
        "\n",
        "plt.pie(df_4, labels=df_4.index, colors=palette_color, autopct='%.0f%%', explode=[0.05, 0.1, 0.05], startangle=270)\n",
        "\n",
        "plt.show()"
      ]
    },
    {
      "attachments": {},
      "cell_type": "markdown",
      "metadata": {
        "id": "bJd4LXvF-54f"
      },
      "source": [
        "## Penjabaran 5\n",
        "\n",
        "Dari penjabaran berikut, pada kategori `Books` dan `Business` memiliki angka modus yang kecil dan pada kategori `Developer Tools` memiliki angka modus yang lumayan tinggi"
      ]
    },
    {
      "cell_type": "code",
      "execution_count": 35,
      "metadata": {
        "colab": {
          "base_uri": "https://localhost:8080/",
          "height": 143
        },
        "id": "J1TSyHSJCDKh",
        "outputId": "56ed8011-ec8a-41fa-f412-6d0af9d4fa2f"
      },
      "outputs": [
        {
          "data": {
            "text/html": [
              "\n",
              "  <div id=\"df-8cf3ef61-a711-4432-afa3-945cf15bae6a\">\n",
              "    <div class=\"colab-df-container\">\n",
              "      <div>\n",
              "<style scoped>\n",
              "    .dataframe tbody tr th:only-of-type {\n",
              "        vertical-align: middle;\n",
              "    }\n",
              "\n",
              "    .dataframe tbody tr th {\n",
              "        vertical-align: top;\n",
              "    }\n",
              "\n",
              "    .dataframe thead th {\n",
              "        text-align: right;\n",
              "    }\n",
              "</style>\n",
              "<table border=\"1\" class=\"dataframe\">\n",
              "  <thead>\n",
              "    <tr style=\"text-align: right;\">\n",
              "      <th></th>\n",
              "      <th>Category</th>\n",
              "      <th>Mean Rating</th>\n",
              "      <th>Median Rating</th>\n",
              "      <th>Modus Rating</th>\n",
              "    </tr>\n",
              "  </thead>\n",
              "  <tbody>\n",
              "    <tr>\n",
              "      <th>0</th>\n",
              "      <td>Books</td>\n",
              "      <td>2.705357</td>\n",
              "      <td>2.5</td>\n",
              "      <td>1.0</td>\n",
              "    </tr>\n",
              "    <tr>\n",
              "      <th>1</th>\n",
              "      <td>Business</td>\n",
              "      <td>1.451923</td>\n",
              "      <td>1.0</td>\n",
              "      <td>1.0</td>\n",
              "    </tr>\n",
              "    <tr>\n",
              "      <th>2</th>\n",
              "      <td>Developer Tools</td>\n",
              "      <td>3.290000</td>\n",
              "      <td>3.5</td>\n",
              "      <td>4.0</td>\n",
              "    </tr>\n",
              "  </tbody>\n",
              "</table>\n",
              "</div>\n",
              "      <button class=\"colab-df-convert\" onclick=\"convertToInteractive('df-8cf3ef61-a711-4432-afa3-945cf15bae6a')\"\n",
              "              title=\"Convert this dataframe to an interactive table.\"\n",
              "              style=\"display:none;\">\n",
              "        \n",
              "  <svg xmlns=\"http://www.w3.org/2000/svg\" height=\"24px\"viewBox=\"0 0 24 24\"\n",
              "       width=\"24px\">\n",
              "    <path d=\"M0 0h24v24H0V0z\" fill=\"none\"/>\n",
              "    <path d=\"M18.56 5.44l.94 2.06.94-2.06 2.06-.94-2.06-.94-.94-2.06-.94 2.06-2.06.94zm-11 1L8.5 8.5l.94-2.06 2.06-.94-2.06-.94L8.5 2.5l-.94 2.06-2.06.94zm10 10l.94 2.06.94-2.06 2.06-.94-2.06-.94-.94-2.06-.94 2.06-2.06.94z\"/><path d=\"M17.41 7.96l-1.37-1.37c-.4-.4-.92-.59-1.43-.59-.52 0-1.04.2-1.43.59L10.3 9.45l-7.72 7.72c-.78.78-.78 2.05 0 2.83L4 21.41c.39.39.9.59 1.41.59.51 0 1.02-.2 1.41-.59l7.78-7.78 2.81-2.81c.8-.78.8-2.07 0-2.86zM5.41 20L4 18.59l7.72-7.72 1.47 1.35L5.41 20z\"/>\n",
              "  </svg>\n",
              "      </button>\n",
              "      \n",
              "  <style>\n",
              "    .colab-df-container {\n",
              "      display:flex;\n",
              "      flex-wrap:wrap;\n",
              "      gap: 12px;\n",
              "    }\n",
              "\n",
              "    .colab-df-convert {\n",
              "      background-color: #E8F0FE;\n",
              "      border: none;\n",
              "      border-radius: 50%;\n",
              "      cursor: pointer;\n",
              "      display: none;\n",
              "      fill: #1967D2;\n",
              "      height: 32px;\n",
              "      padding: 0 0 0 0;\n",
              "      width: 32px;\n",
              "    }\n",
              "\n",
              "    .colab-df-convert:hover {\n",
              "      background-color: #E2EBFA;\n",
              "      box-shadow: 0px 1px 2px rgba(60, 64, 67, 0.3), 0px 1px 3px 1px rgba(60, 64, 67, 0.15);\n",
              "      fill: #174EA6;\n",
              "    }\n",
              "\n",
              "    [theme=dark] .colab-df-convert {\n",
              "      background-color: #3B4455;\n",
              "      fill: #D2E3FC;\n",
              "    }\n",
              "\n",
              "    [theme=dark] .colab-df-convert:hover {\n",
              "      background-color: #434B5C;\n",
              "      box-shadow: 0px 1px 3px 1px rgba(0, 0, 0, 0.15);\n",
              "      filter: drop-shadow(0px 1px 2px rgba(0, 0, 0, 0.3));\n",
              "      fill: #FFFFFF;\n",
              "    }\n",
              "  </style>\n",
              "\n",
              "      <script>\n",
              "        const buttonEl =\n",
              "          document.querySelector('#df-8cf3ef61-a711-4432-afa3-945cf15bae6a button.colab-df-convert');\n",
              "        buttonEl.style.display =\n",
              "          google.colab.kernel.accessAllowed ? 'block' : 'none';\n",
              "\n",
              "        async function convertToInteractive(key) {\n",
              "          const element = document.querySelector('#df-8cf3ef61-a711-4432-afa3-945cf15bae6a');\n",
              "          const dataTable =\n",
              "            await google.colab.kernel.invokeFunction('convertToInteractive',\n",
              "                                                     [key], {});\n",
              "          if (!dataTable) return;\n",
              "\n",
              "          const docLinkHtml = 'Like what you see? Visit the ' +\n",
              "            '<a target=\"_blank\" href=https://colab.research.google.com/notebooks/data_table.ipynb>data table notebook</a>'\n",
              "            + ' to learn more about interactive tables.';\n",
              "          element.innerHTML = '';\n",
              "          dataTable['output_type'] = 'display_data';\n",
              "          await google.colab.output.renderOutput(dataTable, element);\n",
              "          const docLink = document.createElement('div');\n",
              "          docLink.innerHTML = docLinkHtml;\n",
              "          element.appendChild(docLink);\n",
              "        }\n",
              "      </script>\n",
              "    </div>\n",
              "  </div>\n",
              "  "
            ],
            "text/plain": [
              "          Category  Mean Rating  Median Rating  Modus Rating\n",
              "0            Books     2.705357            2.5           1.0\n",
              "1         Business     1.451923            1.0           1.0\n",
              "2  Developer Tools     3.290000            3.5           4.0"
            ]
          },
          "execution_count": 35,
          "metadata": {},
          "output_type": "execute_result"
        }
      ],
      "source": [
        "# Mengulangkan pada setiap Category\n",
        "def mode(x):\n",
        "    return x.value_counts().idxmax()\n",
        "\n",
        "# Membuat dataframe untuk melihatkan Central Tendency dari setiap Category\n",
        "df_5 = df.groupby('Category')['Rating'].agg(mean='mean', median='median', mode=lambda x: x.mode().iat[0]).reset_index()\n",
        "df_5 = df_5.rename(columns={'mean':'Mean Rating', 'median':'Median Rating', 'mode':'Modus Rating'})\n",
        "df_5"
      ]
    },
    {
      "attachments": {},
      "cell_type": "markdown",
      "metadata": {
        "id": "gn3C48HU-6oE"
      },
      "source": [
        "## Penjabaran 6\n",
        "\n",
        "Berdasarkan penjabaran, banyak aplikasi yang belum berani mematok dengan harga tinggi padahal kemungkinan aplikasi tersebut dapat dijual dengan harga tinggi"
      ]
    },
    {
      "cell_type": "code",
      "execution_count": 18,
      "metadata": {
        "colab": {
          "base_uri": "https://localhost:8080/",
          "height": 466
        },
        "id": "26J5Mg5BVlRn",
        "outputId": "ceb8ac5f-5e3a-4186-e39a-7900f17d2724"
      },
      "outputs": [
        {
          "name": "stdout",
          "output_type": "stream",
          "text": [
            "Nilai Skewness : 5.43\n"
          ]
        },
        {
          "data": {
            "image/png": "[encoded data removed]",
            "text/plain": [
              "<Figure size 640x480 with 1 Axes>"
            ]
          },
          "metadata": {},
          "output_type": "display_data"
        }
      ],
      "source": [
        "print ('Nilai Skewness :', df['Price'].skew().round(decimals=2))  # Melihatkan nilai skewness dari Price\n",
        "\n",
        "sns.histplot(df['Price'], kde=True);                              # Membuat visualisasi histogram dari Price"
      ]
    },
    {
      "attachments": {},
      "cell_type": "markdown",
      "metadata": {
        "id": "q-H_uzMu0qUf"
      },
      "source": [
        "## Penjabaran 7\n",
        "- H0 : Rating tidak berpengaruh terhadap harga\n",
        "- H1 : Rating berpengaruh terhadap harga"
      ]
    },
    {
      "cell_type": "code",
      "execution_count": 19,
      "metadata": {
        "colab": {
          "base_uri": "https://localhost:8080/"
        },
        "id": "yvJPrTjd-SyZ",
        "outputId": "6569f4b0-bab0-405b-b4a0-c56f75db751b"
      },
      "outputs": [
        {
          "name": "stdout",
          "output_type": "stream",
          "text": [
            "Books : Probably independent / fail to reject H0\n",
            "Business : Probably dependent / Reject H0\n",
            "Developer Tools : Probably independent / fail to reject H0\n"
          ]
        }
      ],
      "source": [
        "from scipy.stats import pearsonr\n",
        "\n",
        "for i in df['Category'].unique():\n",
        "  df[df['Category'] == i]\n",
        "  t_stat, p_val = pearsonr(df[df['Category'] == i]['Rating'], df[df['Category'] == i]['Price'])\n",
        "\n",
        "  if p_val > 0.05:\n",
        "\t  print(i, ': Probably independent / fail to reject H0')\n",
        "  else:\n",
        "\t  print(i, ': Probably dependent / Reject H0')"
      ]
    },
    {
      "attachments": {},
      "cell_type": "markdown",
      "metadata": {
        "id": "8lQZ4_r69Umx"
      },
      "source": [
        "Berdasarkan hasil diatas, dapat ditarik kesimpulan bahwa pada kategori `Books` dan `Developer Tools` rating tidak berpengaruh terhadap harga, sedangkan untuk `Business` berpengaruh terhadap harga\n"
      ]
    },
    {
      "attachments": {},
      "cell_type": "markdown",
      "metadata": {
        "id": "a9ku9KWzbnXZ"
      },
      "source": [
        "# Kesimpulan"
      ]
    },
    {
      "attachments": {},
      "cell_type": "markdown",
      "metadata": {
        "id": "5Nho2KneYWGL"
      },
      "source": [
        "Berdasarkan hasil penjabaran-penjabaran diatas, terdapat kaitan antara harga dengan rating beserta jumlah user\n",
        "- Pada kategori `Business` yang dimana memiliki jumlah aplikasi terbanyak ratingnya dipengaruhi oleh harga aplikasi, walaupun memiliki rating rendah terbanyak dibandingkan kategori lainnya\n",
        "- Pada kategori lainnya yaitu `Developer Tools` yang terbanyak digunakan oleh user dan `Books` harga yang diberikan oleh Windows Store tidak mencerminkan rating yang artinya kualitas aplikasi tersebut masih kurang.\n",
        "\n",
        "Harga yang tinggi belum tentu mendapatkan rating yang tinggi dan juga harga yang rendah belum tentu mendapatkan rating yang rendah, sehingga harus memperhatikan faktor lainnya.\n",
        "\n",
        "\n"
      ]
    },
    {
      "cell_type": "code",
      "execution_count": 20,
      "metadata": {
        "id": "bqOHuzMmhMfB"
      },
      "outputs": [],
      "source": [
        "df.to_csv('h8dsft_Milestone1_Farhan.csv')   # Mengeksport data yang sudah dilakukan data cleaning untuk digunakan pada Tableau\n"
      ]
    }
  ],
  "metadata": {
    "colab": {
      "provenance": []
    },
    "kernelspec": {
      "display_name": "Python 3",
      "name": "python3"
    },
    "language_info": {
      "name": "python"
    }
  },
  "nbformat": 4,
  "nbformat_minor": 0
}
